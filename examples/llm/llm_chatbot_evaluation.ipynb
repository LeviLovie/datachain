{
 "cells": [
  {
   "cell_type": "markdown",
   "metadata": {},
   "source": [
    "# LLMs and RAG with DataChain"
   ]
  },
  {
   "cell_type": "markdown",
   "metadata": {},
   "source": [
    "In LLM applications nowadays, the emerging standard pattern for most use-cases is to employ a pre-trained model with an API from a 3rd party provider and to augment it with a RAG context. Naive application of \"latest and greatest\" models with no prompt engineering, testing and evaluation of RAG context can lead to needlessly expensive operational costs at best and dissapointingly poor performance at worst.\n",
    "\n",
    "Therefore, just like in machine learning training, we need to version all that data as we finetune our applications to be able to correctly evaluate the effect of any changes we apply to our models. We can experiment with the LLM choice, prompt engineering, the way we process data for our RAG context (pre-processing, embedding, ...) and so on.\n",
    "\n",
    "In this example, we will see how we can use DataChain to create such a controlled development environment and how it can help us when we evaluate any fine-tuning of our LLM applications.\n",
    "\n",
    "We will see how to use DataChain to version our RAG context datasets to preserve reproducibility of our fine-tuning experiments as the RAG context changes. We will also see how to use DataChain in the evaluation of fine-tuning by comparing two different text embedding models and saving (and versioning) the results with additional context."
   ]
  },
  {
   "cell_type": "markdown",
   "metadata": {},
   "source": [
    "## Processing a large collection of documents"
   ]
  },
  {
   "cell_type": "markdown",
   "metadata": {},
   "source": [
    "Let's say that we have a collection of relevant documents which we want to use as context in LLM queries in our chatbot application. We will be using DataChain to create, store and version vector embeddings of our documents.\n",
    "\n",
    "In this example we will be using papers from the [Neural Information Processing Systems](https://papers.neurips.cc/paper/) conference. \n",
    "\n",
    "We will proceed in the following steps:\n",
    "1. [Data ingestion with DataChain](#data-ingestion) - we will use DataChain to ingest the data, taking advantage of its lazy evaluation feature to only ingest the data we need\n",
    "1. [Data processing with the Unstructured Python library](#processing-the-documents-individually)\n",
    "1. [Scaling the data processing with DataChain](#processing-the-documents-at-scale-using-datachain-udfs)\n",
    "1. [Using Datachain to evaluate different embedding models](#evaluation)\n",
    "1. [Adding extra context by combining datasets](#adding-more-context---merging-datasets)"
   ]
  },
  {
   "cell_type": "code",
   "execution_count": 12,
   "metadata": {},
   "outputs": [],
   "source": [
    "from sqlalchemy import func\n",
    "from sqlalchemy import cast\n",
    "\n",
    "from copy import deepcopy\n",
    "from typing import Optional\n",
    "from collections.abc import Iterator\n",
    "\n",
    "from datachain.lib.dc import DataChain, C\n",
    "from datachain.lib.data_model import DataModel\n",
    "from datachain.lib.file import File\n",
    "from datachain.sql.functions.array import cosine_distance\n",
    "\n",
    "from unstructured.partition.pdf import partition_pdf\n",
    "from unstructured.chunking.title import chunk_by_title\n",
    "\n",
    "from unstructured.embed.huggingface import HuggingFaceEmbeddingConfig, HuggingFaceEmbeddingEncoder"
   ]
  },
  {
   "cell_type": "markdown",
   "metadata": {},
   "source": [
    "### Data ingestion"
   ]
  },
  {
   "cell_type": "markdown",
   "metadata": {},
   "source": [
    "We will first ingest the dataset. The data are saved on a cloud storage, so we use the `.from_storage` DataChain method. We will also use the `.filter` method to restrict ourselves only to `.pdf` files (the storage contains many other data which we do not need).\n",
    "\n",
    "Notice that:\n",
    "\n",
    "1. Since DataChain employs lazy evaluation, no data are actually loaded just yet (until we invoke an action such as showing or saving our DataChain)\n",
    "1. The previous point also means that when we filter out all non-pdf files, DataChain doesn't actually waste time loading their content only to throw them away later. This makes DataChain a lot more scalable than tools with eager evaluation.\n",
    "1. The `.from_storage` method of DataChain operates on the level of the entire bucket. This means that even if the files are stored using a complicated directory structure and potentially uploaded irregularly into this structure, we can retrieve or update our DataChain of articles with just a simple one-line command"
   ]
  },
  {
   "cell_type": "code",
   "execution_count": 13,
   "metadata": {},
   "outputs": [],
   "source": [
    "dc_papers = (\n",
    "    DataChain.from_storage(\"gs://datachain-demo/neurips\")\n",
    "    .filter(C.name.glob(\"*.pdf\"))\n",
    "    )"
   ]
  },
  {
   "cell_type": "code",
   "execution_count": 14,
   "metadata": {},
   "outputs": [
    {
     "name": "stderr",
     "output_type": "stream",
     "text": [
      "Listing gs://datachain-demo: 269955 objects [01:02, 4317.43 objects/s]\n",
      "Processed: 738 rows [00:00, 10477.28 rows/s]\n"
     ]
    },
    {
     "data": {
      "text/html": [
       "<div>\n",
       "<style scoped>\n",
       "    .dataframe tbody tr th:only-of-type {\n",
       "        vertical-align: middle;\n",
       "    }\n",
       "\n",
       "    .dataframe tbody tr th {\n",
       "        vertical-align: top;\n",
       "    }\n",
       "\n",
       "    .dataframe thead tr th {\n",
       "        text-align: left;\n",
       "    }\n",
       "</style>\n",
       "<table border=\"1\" class=\"dataframe\">\n",
       "  <thead>\n",
       "    <tr>\n",
       "      <th></th>\n",
       "      <th>file</th>\n",
       "      <th>file</th>\n",
       "      <th>file</th>\n",
       "      <th>file</th>\n",
       "      <th>file</th>\n",
       "      <th>file</th>\n",
       "      <th>file</th>\n",
       "      <th>file</th>\n",
       "      <th>file</th>\n",
       "      <th>file</th>\n",
       "    </tr>\n",
       "    <tr>\n",
       "      <th></th>\n",
       "      <th>source</th>\n",
       "      <th>parent</th>\n",
       "      <th>name</th>\n",
       "      <th>size</th>\n",
       "      <th>version</th>\n",
       "      <th>etag</th>\n",
       "      <th>is_latest</th>\n",
       "      <th>last_modified</th>\n",
       "      <th>location</th>\n",
       "      <th>vtype</th>\n",
       "    </tr>\n",
       "  </thead>\n",
       "  <tbody>\n",
       "    <tr>\n",
       "      <th>0</th>\n",
       "      <td>gs://datachain-demo</td>\n",
       "      <td>neurips/1987/file</td>\n",
       "      <td>02e74f10e0327ad868d138f2b4fdd6f0-Paper.pdf</td>\n",
       "      <td>2291566</td>\n",
       "      <td>1721047139405563</td>\n",
       "      <td>CPudi5uIqYcDEAE=</td>\n",
       "      <td>1</td>\n",
       "      <td>1970-01-01 00:00:00+00:00</td>\n",
       "      <td>None</td>\n",
       "      <td></td>\n",
       "    </tr>\n",
       "    <tr>\n",
       "      <th>1</th>\n",
       "      <td>gs://datachain-demo</td>\n",
       "      <td>neurips/1987/file</td>\n",
       "      <td>03afdbd66e7929b125f8597834fa83a4-Paper.pdf</td>\n",
       "      <td>1322648</td>\n",
       "      <td>1721047138865046</td>\n",
       "      <td>CJaf6pqIqYcDEAE=</td>\n",
       "      <td>1</td>\n",
       "      <td>1970-01-01 00:00:00+00:00</td>\n",
       "      <td>None</td>\n",
       "      <td></td>\n",
       "    </tr>\n",
       "    <tr>\n",
       "      <th>2</th>\n",
       "      <td>gs://datachain-demo</td>\n",
       "      <td>neurips/1987/file</td>\n",
       "      <td>072b030ba126b2f4b2374f342be9ed44-Paper.pdf</td>\n",
       "      <td>1220711</td>\n",
       "      <td>1721046993295769</td>\n",
       "      <td>CJmztdWHqYcDEAE=</td>\n",
       "      <td>1</td>\n",
       "      <td>1970-01-01 00:00:00+00:00</td>\n",
       "      <td>None</td>\n",
       "      <td></td>\n",
       "    </tr>\n",
       "  </tbody>\n",
       "</table>\n",
       "</div>"
      ],
      "text/plain": [
       "                  file               file  \\\n",
       "                source             parent   \n",
       "0  gs://datachain-demo  neurips/1987/file   \n",
       "1  gs://datachain-demo  neurips/1987/file   \n",
       "2  gs://datachain-demo  neurips/1987/file   \n",
       "\n",
       "                                         file     file              file  \\\n",
       "                                         name     size           version   \n",
       "0  02e74f10e0327ad868d138f2b4fdd6f0-Paper.pdf  2291566  1721047139405563   \n",
       "1  03afdbd66e7929b125f8597834fa83a4-Paper.pdf  1322648  1721047138865046   \n",
       "2  072b030ba126b2f4b2374f342be9ed44-Paper.pdf  1220711  1721046993295769   \n",
       "\n",
       "               file      file                      file     file  file  \n",
       "               etag is_latest             last_modified location vtype  \n",
       "0  CPudi5uIqYcDEAE=         1 1970-01-01 00:00:00+00:00     None        \n",
       "1  CJaf6pqIqYcDEAE=         1 1970-01-01 00:00:00+00:00     None        \n",
       "2  CJmztdWHqYcDEAE=         1 1970-01-01 00:00:00+00:00     None        "
      ]
     },
     "metadata": {},
     "output_type": "display_data"
    },
    {
     "name": "stdout",
     "output_type": "stream",
     "text": [
      "\n",
      "[Limited by 3 rows]\n"
     ]
    }
   ],
   "source": [
    "dc_papers.show(3)"
   ]
  },
  {
   "cell_type": "markdown",
   "metadata": {},
   "source": [
    "DataChain created a record for each `pdf` file in the `neurips` directory, generating a `file` signal for each file. The file signal contains subsignals with metadata about each file, like `file.name` and `file.size`. Aggregate signals like `file` that contain multiple subsignals are called features.\n",
    "\n",
    "You can use the `file` feature to not only get metadata about each file, but also to open and read the file as needed."
   ]
  },
  {
   "cell_type": "markdown",
   "metadata": {},
   "source": [
    "### Processing the documents individually"
   ]
  },
  {
   "cell_type": "markdown",
   "metadata": {},
   "source": [
    "We now want to ingest the content of the pdf files as text, divide it into chunks and vectorize those for our RAG application. We are interested in comparing two different models for embeddings. Normally, we would also do some pre-processing and cleaning of the text before vectorization, but we will skip it here for brevity.\n",
    "\n",
    "We will first do all this with an example of a single pdf using the `unstructured` Python library and then we will see how we can scale this up to the entire bucket with the help of DataChain.\n",
    "\n",
    "First, we ingest and partition the pdf file and chunk it.\n"
   ]
  },
  {
   "cell_type": "code",
   "execution_count": 15,
   "metadata": {},
   "outputs": [],
   "source": [
    "chunks = chunk_by_title(partition_pdf(filename=\"sample.pdf\"))\n"
   ]
  },
  {
   "cell_type": "markdown",
   "metadata": {},
   "source": [
    "Next, we vectorize each chunk using HuggingFace embedding encoders. Ideally, we want the smallest model possible while maintaining accuracy to increase speed and reduce costs of embeddings. We will see how embeddings from a candidate model `MODEL_NEW` differ from embeddings produced by the existing model `MODEL_OLD`."
   ]
  },
  {
   "cell_type": "code",
   "execution_count": 16,
   "metadata": {},
   "outputs": [],
   "source": [
    "MODEL_NEW = \"sentence-transformers/paraphrase-MiniLM-L6-v2\" \n",
    "MODEL_OLD = \"sentence-transformers/all-MiniLM-L6-v2\"\n",
    "\n",
    "embedding_encoder_new = HuggingFaceEmbeddingEncoder(\n",
    "     config=HuggingFaceEmbeddingConfig(model_name=MODEL_NEW, model_kwargs={\"device\":\"cuda\"}, encode_kwargs={\"normalize_embeddings\":True})\n",
    ")\n",
    "\n",
    "chunks_embedded_new = embedding_encoder_new.embed_documents(chunks)\n",
    "\n",
    "embedding_encoder_old = HuggingFaceEmbeddingEncoder(\n",
    "     config=HuggingFaceEmbeddingConfig(model_name=MODEL_OLD, model_kwargs={\"device\":\"cuda\"}, encode_kwargs={\"normalize_embeddings\":True})\n",
    ")\n",
    "\n",
    "# we need deepcopy here because unstructured creates lists of references to elements\n",
    "chunks_embedded_old = embedding_encoder_old.embed_documents(deepcopy(chunks))"
   ]
  },
  {
   "cell_type": "markdown",
   "metadata": {},
   "source": [
    "We now have our chunks vectorized and ready for comparison (e.g. with cosine similarity). However, we are missing a few ingredients:\n",
    "\n",
    "1. ***Scaling*** - we only processed a single pdf file and we had to manually specify its path. We need to find a way to process all our documents at scale instead and to save the results.\n",
    "2. ***Saving and Versioning*** - even if we only had a single or a few PDF files we would like to use in our RAG, it is a good practice to version the outputs so that we can keep track of and fine-tune our RAG application. If we simply save the current results to a bucket and overwrite it each time the source is updated, we lose this. We could version the results manually, e.g. by adding a timestamp to the blob name, but that is not very reliable and will lead to unnecessary copies of files."
   ]
  },
  {
   "cell_type": "markdown",
   "metadata": {},
   "source": [
    "### Processing the documents at scale, using DataChain UDFs"
   ]
  },
  {
   "cell_type": "markdown",
   "metadata": {},
   "source": [
    "We will now use DataChain to solve the scaling and versioning issues we outline above. We will create a DataChain user-defined function (UDF) to process all our PDF files the way we did above with a single file (without us having to manually provide file paths) and save the outputs in a Datachain.\n",
    "\n",
    "The DataChain UDF functionality will allow us to generate additonal columns in our DataChain, iterating over each of the files listed in it.\n",
    "\n",
    "We first need to define a DataModel class, which will define the types of our outputs. Inputs and outputs need to be specified like this when we use custom functinos in Datachain."
   ]
  },
  {
   "cell_type": "code",
   "execution_count": 17,
   "metadata": {},
   "outputs": [],
   "source": [
    "# Define the output as a Feature class\n",
    "class Chunk(DataModel):\n",
    "    key: str\n",
    "    text: str\n",
    "    embeddings_new: list[float]\n",
    "    embeddings_old: list[float]"
   ]
  },
  {
   "cell_type": "markdown",
   "metadata": {},
   "source": [
    "In the above we define `Chunk` by specifying the names and types of new columns on the output.\n",
    "\n",
    "We then define our processing function `pdf_chuks`:"
   ]
  },
  {
   "cell_type": "code",
   "execution_count": 18,
   "metadata": {},
   "outputs": [],
   "source": [
    "# Use signatures to define input/output types (these can be Feature or regular Python types)\n",
    "def pdf_chunks(file: File) -> Iterator[Chunk]:\n",
    "    # Ingest the file\n",
    "    with file.open() as f:\n",
    "        chunks = partition_pdf(file=f)\n",
    "\n",
    "    chunks_embedded_new = embedding_encoder_new.embed_documents(chunks)\n",
    "    chunks_embedded_old = embedding_encoder_old.embed_documents(deepcopy(chunks))\n",
    "\n",
    "    # Add new rows to DataChain\n",
    "    for chunk, chunk_orig in zip(chunks_embedded_new, chunks_embedded_old):\n",
    "        record = {}\n",
    "        record[\"key\"] = file.name.removesuffix(\"-Paper.pdf\")\n",
    "        record[\"text\"] = chunk.text\n",
    "        record[\"embeddings_new\"] = chunk.embeddings\n",
    "        record[\"embeddings_old\"] = chunk_orig.embeddings\n",
    "\n",
    "        yield Chunk(**record)"
   ]
  },
  {
   "cell_type": "markdown",
   "metadata": {},
   "source": [
    "Here, the syntax is the same as with any other Python function, except that we specify the input and output types using type hints\n",
    "\n",
    "```\n",
    "def pdf_chunks(file: File) -> Iterator[Chunk]:\n",
    "```\n",
    "Here, `file` specifies that we pass all `file` columns of the original dataset on the input and `Iterator[Chunk]` specifies that we get a bunch of `Chunk` rows on the output (from a single row of the original datachain representing a single paper we will get a new dataset with multiple rows per paper, each representing a single chunk).\n",
    "\n",
    "We then specify what each row should contain by defining the `record` dictionary and then we use `yield Chunk(**record)` to create the new rows for each input row."
   ]
  },
  {
   "cell_type": "code",
   "execution_count": 19,
   "metadata": {},
   "outputs": [
    {
     "name": "stderr",
     "output_type": "stream",
     "text": [
      "Processed: 738 rows [00:00, 10657.43 rows/s]\n",
      "Processed: 0 rows [00:00, ? rows/s]\n",
      "Processed: 2 rows [00:04,  2.17s/ rows]\n",
      "Processed: 3 rows [00:06,  2.36s/ rows]\n",
      "Processed: 4 rows [00:10,  2.80s/ rows]\n",
      "Processed: 5 rows [00:14,  3.29s/ rows]\n",
      "Processed: 6 rows [00:18,  3.37s/ rows]\n",
      "Processed: 7 rows [00:21,  3.31s/ rows]\n",
      "Processed: 8 rows [00:25,  3.44s/ rows]\n",
      "Processed: 9 rows [00:28,  3.46s/ rows]\n",
      "Processed: 10 rows [00:32,  3.45s/ rows]\n",
      "Processed: 11 rows [00:36,  3.73s/ rows]\n",
      "Processed: 12 rows [00:39,  3.62s/ rows]\n",
      "Processed: 13 rows [00:42,  3.47s/ rows]\n",
      "Processed: 14 rows [00:47,  3.68s/ rows]\n",
      "Processed: 15 rows [00:50,  3.49s/ rows]\n",
      "Processed: 16 rows [00:53,  3.41s/ rows]\n",
      "Processed: 17 rows [00:56,  3.28s/ rows]\n",
      "Processed: 18 rows [00:59,  3.22s/ rows]\n",
      "Processed: 19 rows [01:03,  3.40s/ rows]\n",
      "Processed: 20 rows [01:07,  3.53s/ rows]\n",
      "Download: 51.2MB [01:10, 766kB/s] \n",
      "Processed: 20 rows [01:11,  3.56s/ rows]\n",
      "Generated: 3767 rows [01:06, 56.25 rows/s]\n"
     ]
    },
    {
     "data": {
      "text/plain": [
       "<datachain.lib.dc.DataChain at 0x7f6c5475ed80>"
      ]
     },
     "execution_count": 19,
     "metadata": {},
     "output_type": "execute_result"
    }
   ],
   "source": [
    "dc_chunks_embeddings = (\n",
    "    dc_papers\n",
    "    .limit(20) # we limit ourselves to 20 papers here, to speed up the demo\n",
    "    .gen(document=pdf_chunks)\n",
    ")\n",
    "\n",
    "dc_chunks_embeddings.save(\"embeddings\")"
   ]
  },
  {
   "cell_type": "markdown",
   "metadata": {},
   "source": [
    "In the cell above we apply our new `pdf_chunks` function to the DataChain `dc_papers`. We do that by using the `gen` method of DataChain with `pdf_chunks`as its parameter. \n",
    "\n",
    "`DataChain.gen` is used when we have a function that creates multiple rows per single row of the original datachain (like in our examples, where each paper is split into multiple chunks)\n",
    "\n",
    "We also presisted the result by the `.save` method. This will permanently save and version the datachain as a dataset with the name `embeddings`. Whenever we call `.save(\"embeddings\")` again, a new version of this dataset will be saved automatically, so we can recall previous versions and track changes of the dataset over time."
   ]
  },
  {
   "cell_type": "markdown",
   "metadata": {},
   "source": [
    "### Evaluation"
   ]
  },
  {
   "cell_type": "markdown",
   "metadata": {},
   "source": [
    "We will now use DataChain to calculate similarity between the two alternative embeddings using a fixed test query as reference and for further evaluation we will save dataset containing the chunks where the two embeddings differ the most.\n"
   ]
  },
  {
   "cell_type": "code",
   "execution_count": 20,
   "metadata": {},
   "outputs": [],
   "source": [
    "TEST_QUERY = \"What are the most promising approaches for combining neural networks with symbolic reasoning, according to recent NeurIPS papers?\"\n",
    "\n",
    "embedded_query_new = embedding_encoder_new.embed_query(query = TEST_QUERY)\n",
    "embedded_query_old = embedding_encoder_old.embed_query(query = TEST_QUERY)"
   ]
  },
  {
   "cell_type": "markdown",
   "metadata": {},
   "source": [
    "Using the built-in DataChain function `cosine_distance` we will calculate the cosine similarities between each chunk and the test query `TEST_QUERY` and then compare the results between the two embeddings.\n",
    "\n",
    "To specify that we want to compare columns we use the `C` class from `datachain.lib.dc`. We use the `mutate` method of DataChain, which is a way to add new columns to an existing dataset.\n",
    "\n",
    "Since we saved our dataset `embeddings`, we can now load its content to datachain by the `from_dataset` method"
   ]
  },
  {
   "cell_type": "code",
   "execution_count": 29,
   "metadata": {},
   "outputs": [
    {
     "ename": "CompileError",
     "evalue": "Can't resolve label reference for ORDER BY / GROUP BY / DISTINCT etc. Textual SQL expression 'abs_difference' should be explicitly declared as text('abs_difference')",
     "output_type": "error",
     "traceback": [
      "\u001b[0;31m---------------------------------------------------------------------------\u001b[0m",
      "\u001b[0;31mKeyError\u001b[0m                                  Traceback (most recent call last)",
      "File \u001b[0;32m~/Repos/datachain/.venv/lib64/python3.12/site-packages/sqlalchemy/sql/compiler.py:2497\u001b[0m, in \u001b[0;36mSQLCompiler.visit_textual_label_reference\u001b[0;34m(self, element, within_columns_clause, **kwargs)\u001b[0m\n\u001b[1;32m   2496\u001b[0m \u001b[38;5;28;01mif\u001b[39;00m within_columns_clause:\n\u001b[0;32m-> 2497\u001b[0m     col \u001b[38;5;241m=\u001b[39m \u001b[43monly_froms\u001b[49m\u001b[43m[\u001b[49m\u001b[43melement\u001b[49m\u001b[38;5;241;43m.\u001b[39;49m\u001b[43melement\u001b[49m\u001b[43m]\u001b[49m\n\u001b[1;32m   2498\u001b[0m \u001b[38;5;28;01melse\u001b[39;00m:\n",
      "\u001b[0;31mKeyError\u001b[0m: 'abs_difference'",
      "\nThe above exception was the direct cause of the following exception:\n",
      "\u001b[0;31mCompileError\u001b[0m                              Traceback (most recent call last)",
      "Cell \u001b[0;32mIn[29], line 17\u001b[0m\n\u001b[1;32m      1\u001b[0m \u001b[38;5;28;01mfrom\u001b[39;00m \u001b[38;5;21;01mdatachain\u001b[39;00m\u001b[38;5;21;01m.\u001b[39;00m\u001b[38;5;21;01msql\u001b[39;00m\u001b[38;5;21;01m.\u001b[39;00m\u001b[38;5;21;01mtypes\u001b[39;00m \u001b[38;5;28;01mimport\u001b[39;00m Float\n\u001b[1;32m      2\u001b[0m \u001b[38;5;28;01mfrom\u001b[39;00m \u001b[38;5;21;01msqlalchemy\u001b[39;00m \u001b[38;5;28;01mimport\u001b[39;00m cast\n\u001b[1;32m      6\u001b[0m embeddings_differences \u001b[38;5;241m=\u001b[39m (\n\u001b[1;32m      7\u001b[0m     \u001b[43mDataChain\u001b[49m\n\u001b[1;32m      8\u001b[0m \u001b[43m    \u001b[49m\u001b[38;5;241;43m.\u001b[39;49m\u001b[43mfrom_dataset\u001b[49m\u001b[43m(\u001b[49m\u001b[38;5;124;43m\"\u001b[39;49m\u001b[38;5;124;43membeddings\u001b[39;49m\u001b[38;5;124;43m\"\u001b[39;49m\u001b[43m)\u001b[49m\n\u001b[1;32m      9\u001b[0m \u001b[43m    \u001b[49m\u001b[38;5;241;43m.\u001b[39;49m\u001b[43mmutate\u001b[49m\u001b[43m(\u001b[49m\n\u001b[1;32m     10\u001b[0m \u001b[43m        \u001b[49m\u001b[43mquery_sim_new\u001b[49m\u001b[43m \u001b[49m\u001b[38;5;241;43m=\u001b[39;49m\u001b[43m \u001b[49m\u001b[38;5;241;43m1\u001b[39;49m\u001b[43m \u001b[49m\u001b[38;5;241;43m-\u001b[39;49m\u001b[43m \u001b[49m\u001b[43mcosine_distance\u001b[49m\u001b[43m(\u001b[49m\u001b[43mC\u001b[49m\u001b[38;5;241;43m.\u001b[39;49m\u001b[43mdocument\u001b[49m\u001b[38;5;241;43m.\u001b[39;49m\u001b[43membeddings_new\u001b[49m\u001b[43m,\u001b[49m\u001b[43m \u001b[49m\u001b[43membedded_query_new\u001b[49m\u001b[43m)\u001b[49m\u001b[43m,\u001b[49m\n\u001b[1;32m     11\u001b[0m \u001b[43m        \u001b[49m\u001b[43mquery_sim_old\u001b[49m\u001b[43m \u001b[49m\u001b[38;5;241;43m=\u001b[39;49m\u001b[43m \u001b[49m\u001b[38;5;241;43m1\u001b[39;49m\u001b[43m \u001b[49m\u001b[38;5;241;43m-\u001b[39;49m\u001b[43m \u001b[49m\u001b[43mcosine_distance\u001b[49m\u001b[43m(\u001b[49m\u001b[43mC\u001b[49m\u001b[38;5;241;43m.\u001b[39;49m\u001b[43mdocument\u001b[49m\u001b[38;5;241;43m.\u001b[39;49m\u001b[43membeddings_old\u001b[49m\u001b[43m,\u001b[49m\u001b[43m \u001b[49m\u001b[43membedded_query_old\u001b[49m\u001b[43m)\u001b[49m\u001b[43m,\u001b[49m\n\u001b[1;32m     12\u001b[0m \u001b[43m        \u001b[49m\u001b[43m)\u001b[49m\n\u001b[1;32m     13\u001b[0m \u001b[43m    \u001b[49m\u001b[38;5;241;43m.\u001b[39;49m\u001b[43mmutate\u001b[49m\u001b[43m(\u001b[49m\u001b[43mabs_difference\u001b[49m\u001b[43m \u001b[49m\u001b[38;5;241;43m=\u001b[39;49m\u001b[43m \u001b[49m\u001b[43mcast\u001b[49m\u001b[43m(\u001b[49m\u001b[43mfunc\u001b[49m\u001b[38;5;241;43m.\u001b[39;49m\u001b[43mabs\u001b[49m\u001b[43m(\u001b[49m\u001b[43mC\u001b[49m\u001b[38;5;241;43m.\u001b[39;49m\u001b[43mquery_sim_old\u001b[49m\u001b[43m \u001b[49m\u001b[38;5;241;43m-\u001b[39;49m\u001b[43m \u001b[49m\u001b[43mC\u001b[49m\u001b[38;5;241;43m.\u001b[39;49m\u001b[43mquery_sim_new\u001b[49m\u001b[43m)\u001b[49m\u001b[43m,\u001b[49m\u001b[43m \u001b[49m\u001b[43mFloat\u001b[49m\u001b[43m)\u001b[49m\u001b[43m)\u001b[49m\n\u001b[1;32m     14\u001b[0m \u001b[43m    \u001b[49m\u001b[38;5;241;43m.\u001b[39;49m\u001b[43mfilter\u001b[49m\u001b[43m(\u001b[49m\u001b[43mC\u001b[49m\u001b[38;5;241;43m.\u001b[39;49m\u001b[43mabs_difference\u001b[49m\u001b[43m \u001b[49m\u001b[38;5;241;43m>\u001b[39;49m\u001b[43m \u001b[49m\u001b[38;5;241;43m0.1\u001b[39;49m\u001b[43m)\u001b[49m\n\u001b[1;32m     15\u001b[0m \u001b[43m    \u001b[49m\u001b[38;5;241;43m.\u001b[39;49m\u001b[43morder_by\u001b[49m\u001b[43m(\u001b[49m\u001b[38;5;124;43m\"\u001b[39;49m\u001b[38;5;124;43mabs_difference\u001b[39;49m\u001b[38;5;124;43m\"\u001b[39;49m\u001b[43m,\u001b[49m\u001b[43m \u001b[49m\u001b[43mdescending\u001b[49m\u001b[38;5;241;43m=\u001b[39;49m\u001b[38;5;28;43;01mTrue\u001b[39;49;00m\u001b[43m)\u001b[49m\n\u001b[1;32m     16\u001b[0m \u001b[43m    \u001b[49m\u001b[38;5;66;43;03m# .to_pandas()\u001b[39;49;00m\n\u001b[0;32m---> 17\u001b[0m \u001b[43m    \u001b[49m\u001b[38;5;241;43m.\u001b[39;49m\u001b[43msave\u001b[49m\u001b[43m(\u001b[49m\u001b[38;5;124;43m\"\u001b[39;49m\u001b[38;5;124;43membeddings-differences\u001b[39;49m\u001b[38;5;124;43m\"\u001b[39;49m\u001b[43m)\u001b[49m\n\u001b[1;32m     18\u001b[0m )\n",
      "File \u001b[0;32m~/Repos/datachain/.venv/lib64/python3.12/site-packages/datachain/lib/dc.py:483\u001b[0m, in \u001b[0;36mDataChain.save\u001b[0;34m(self, name, version)\u001b[0m\n\u001b[1;32m    475\u001b[0m \u001b[38;5;250m\u001b[39m\u001b[38;5;124;03m\"\"\"Save to a Dataset. It returns the chain itself.\u001b[39;00m\n\u001b[1;32m    476\u001b[0m \n\u001b[1;32m    477\u001b[0m \u001b[38;5;124;03mParameters:\u001b[39;00m\n\u001b[0;32m   (...)\u001b[0m\n\u001b[1;32m    480\u001b[0m \u001b[38;5;124;03m    version : version of a dataset. Default - the last version that exist.\u001b[39;00m\n\u001b[1;32m    481\u001b[0m \u001b[38;5;124;03m\"\"\"\u001b[39;00m\n\u001b[1;32m    482\u001b[0m schema \u001b[38;5;241m=\u001b[39m \u001b[38;5;28mself\u001b[39m\u001b[38;5;241m.\u001b[39msignals_schema\u001b[38;5;241m.\u001b[39mclone_without_sys_signals()\u001b[38;5;241m.\u001b[39mserialize()\n\u001b[0;32m--> 483\u001b[0m \u001b[38;5;28;01mreturn\u001b[39;00m \u001b[38;5;28;43msuper\u001b[39;49m\u001b[43m(\u001b[49m\u001b[43m)\u001b[49m\u001b[38;5;241;43m.\u001b[39;49m\u001b[43msave\u001b[49m\u001b[43m(\u001b[49m\u001b[43mname\u001b[49m\u001b[38;5;241;43m=\u001b[39;49m\u001b[43mname\u001b[49m\u001b[43m,\u001b[49m\u001b[43m \u001b[49m\u001b[43mversion\u001b[49m\u001b[38;5;241;43m=\u001b[39;49m\u001b[43mversion\u001b[49m\u001b[43m,\u001b[49m\u001b[43m \u001b[49m\u001b[43mfeature_schema\u001b[49m\u001b[38;5;241;43m=\u001b[39;49m\u001b[43mschema\u001b[49m\u001b[43m)\u001b[49m\n",
      "File \u001b[0;32m~/Repos/datachain/.venv/lib64/python3.12/site-packages/datachain/query/dataset.py:1681\u001b[0m, in \u001b[0;36mDatasetQuery.save\u001b[0;34m(self, name, version, feature_schema, **kwargs)\u001b[0m\n\u001b[1;32m   1679\u001b[0m cols \u001b[38;5;241m=\u001b[39m \u001b[38;5;28mtuple\u001b[39m(c\u001b[38;5;241m.\u001b[39mname \u001b[38;5;28;01mfor\u001b[39;00m c \u001b[38;5;129;01min\u001b[39;00m q\u001b[38;5;241m.\u001b[39mcolumns)\n\u001b[1;32m   1680\u001b[0m insert_q \u001b[38;5;241m=\u001b[39m sqlalchemy\u001b[38;5;241m.\u001b[39minsert(dr\u001b[38;5;241m.\u001b[39mget_table())\u001b[38;5;241m.\u001b[39mfrom_select(cols, q)\n\u001b[0;32m-> 1681\u001b[0m \u001b[38;5;28;43mself\u001b[39;49m\u001b[38;5;241;43m.\u001b[39;49m\u001b[43mcatalog\u001b[49m\u001b[38;5;241;43m.\u001b[39;49m\u001b[43mwarehouse\u001b[49m\u001b[38;5;241;43m.\u001b[39;49m\u001b[43mdb\u001b[49m\u001b[38;5;241;43m.\u001b[39;49m\u001b[43mexecute\u001b[49m\u001b[43m(\u001b[49m\u001b[43minsert_q\u001b[49m\u001b[43m,\u001b[49m\u001b[43m \u001b[49m\u001b[38;5;241;43m*\u001b[39;49m\u001b[38;5;241;43m*\u001b[39;49m\u001b[43mkwargs\u001b[49m\u001b[43m)\u001b[49m\n\u001b[1;32m   1682\u001b[0m \u001b[38;5;28mself\u001b[39m\u001b[38;5;241m.\u001b[39mcatalog\u001b[38;5;241m.\u001b[39mmetastore\u001b[38;5;241m.\u001b[39mupdate_dataset_status(\n\u001b[1;32m   1683\u001b[0m     dataset, DatasetStatus\u001b[38;5;241m.\u001b[39mCOMPLETE, version\u001b[38;5;241m=\u001b[39mversion\n\u001b[1;32m   1684\u001b[0m )\n\u001b[1;32m   1685\u001b[0m \u001b[38;5;28mself\u001b[39m\u001b[38;5;241m.\u001b[39mcatalog\u001b[38;5;241m.\u001b[39mupdate_dataset_version_with_warehouse_info(dataset, version)\n",
      "File \u001b[0;32m~/Repos/datachain/.venv/lib64/python3.12/site-packages/datachain/data_storage/sqlite.py:73\u001b[0m, in \u001b[0;36mretry_sqlite_locks.<locals>.wrapper\u001b[0;34m(*args, **kwargs)\u001b[0m\n\u001b[1;32m     71\u001b[0m \u001b[38;5;28;01mfor\u001b[39;00m retry_count \u001b[38;5;129;01min\u001b[39;00m \u001b[38;5;28mrange\u001b[39m(RETRY_MAX_TIMES):\n\u001b[1;32m     72\u001b[0m     \u001b[38;5;28;01mtry\u001b[39;00m:\n\u001b[0;32m---> 73\u001b[0m         \u001b[38;5;28;01mreturn\u001b[39;00m \u001b[43mfunc\u001b[49m\u001b[43m(\u001b[49m\u001b[38;5;241;43m*\u001b[39;49m\u001b[43margs\u001b[49m\u001b[43m,\u001b[49m\u001b[43m \u001b[49m\u001b[38;5;241;43m*\u001b[39;49m\u001b[38;5;241;43m*\u001b[39;49m\u001b[43mkwargs\u001b[49m\u001b[43m)\u001b[49m\n\u001b[1;32m     74\u001b[0m     \u001b[38;5;28;01mexcept\u001b[39;00m sqlite3\u001b[38;5;241m.\u001b[39mOperationalError \u001b[38;5;28;01mas\u001b[39;00m operror:\n\u001b[1;32m     75\u001b[0m         exc \u001b[38;5;241m=\u001b[39m operror\n",
      "File \u001b[0;32m~/Repos/datachain/.venv/lib64/python3.12/site-packages/datachain/data_storage/sqlite.py:152\u001b[0m, in \u001b[0;36mSQLiteDatabaseEngine.execute\u001b[0;34m(self, query, cursor, conn)\u001b[0m\n\u001b[1;32m    150\u001b[0m     result \u001b[38;5;241m=\u001b[39m conn\u001b[38;5;241m.\u001b[39mexecute(\u001b[38;5;241m*\u001b[39m\u001b[38;5;28mself\u001b[39m\u001b[38;5;241m.\u001b[39mcompile_to_args(query))\n\u001b[1;32m    151\u001b[0m \u001b[38;5;28;01melse\u001b[39;00m:\n\u001b[0;32m--> 152\u001b[0m     result \u001b[38;5;241m=\u001b[39m \u001b[38;5;28mself\u001b[39m\u001b[38;5;241m.\u001b[39mdb\u001b[38;5;241m.\u001b[39mexecute(\u001b[38;5;241m*\u001b[39m\u001b[38;5;28;43mself\u001b[39;49m\u001b[38;5;241;43m.\u001b[39;49m\u001b[43mcompile_to_args\u001b[49m\u001b[43m(\u001b[49m\u001b[43mquery\u001b[49m\u001b[43m)\u001b[49m)\n\u001b[1;32m    153\u001b[0m \u001b[38;5;28;01mif\u001b[39;00m \u001b[38;5;28misinstance\u001b[39m(query, CreateTable) \u001b[38;5;129;01mand\u001b[39;00m query\u001b[38;5;241m.\u001b[39melement\u001b[38;5;241m.\u001b[39mindexes:\n\u001b[1;32m    154\u001b[0m     \u001b[38;5;28;01mfor\u001b[39;00m index \u001b[38;5;129;01min\u001b[39;00m query\u001b[38;5;241m.\u001b[39melement\u001b[38;5;241m.\u001b[39mindexes:\n",
      "File \u001b[0;32m~/Repos/datachain/.venv/lib64/python3.12/site-packages/datachain/data_storage/db_engine.py:64\u001b[0m, in \u001b[0;36mDatabaseEngine.compile_to_args\u001b[0;34m(cls, statement, **kwargs)\u001b[0m\n\u001b[1;32m     54\u001b[0m \u001b[38;5;129m@classmethod\u001b[39m\n\u001b[1;32m     55\u001b[0m \u001b[38;5;28;01mdef\u001b[39;00m \u001b[38;5;21mcompile_to_args\u001b[39m(\n\u001b[1;32m     56\u001b[0m     \u001b[38;5;28mcls\u001b[39m, statement: \u001b[38;5;124m\"\u001b[39m\u001b[38;5;124mClauseElement\u001b[39m\u001b[38;5;124m\"\u001b[39m, \u001b[38;5;241m*\u001b[39m\u001b[38;5;241m*\u001b[39mkwargs\n\u001b[1;32m     57\u001b[0m ) \u001b[38;5;241m-\u001b[39m\u001b[38;5;241m>\u001b[39m Union[\u001b[38;5;28mtuple\u001b[39m[\u001b[38;5;28mstr\u001b[39m], \u001b[38;5;28mtuple\u001b[39m[\u001b[38;5;28mstr\u001b[39m, \u001b[38;5;28mdict\u001b[39m[\u001b[38;5;28mstr\u001b[39m, Any]]]:\n\u001b[1;32m     58\u001b[0m \u001b[38;5;250m    \u001b[39m\u001b[38;5;124;03m\"\"\"\u001b[39;00m\n\u001b[1;32m     59\u001b[0m \u001b[38;5;124;03m    Compile a sqlalchemy query or ddl object to an args tuple.\u001b[39;00m\n\u001b[1;32m     60\u001b[0m \n\u001b[1;32m     61\u001b[0m \u001b[38;5;124;03m    This tuple is formatted specifically for calling\u001b[39;00m\n\u001b[1;32m     62\u001b[0m \u001b[38;5;124;03m    `cursor.execute(*args)` according to the python DB-API.\u001b[39;00m\n\u001b[1;32m     63\u001b[0m \u001b[38;5;124;03m    \"\"\"\u001b[39;00m\n\u001b[0;32m---> 64\u001b[0m     result \u001b[38;5;241m=\u001b[39m \u001b[38;5;28;43mcls\u001b[39;49m\u001b[38;5;241;43m.\u001b[39;49m\u001b[43mcompile\u001b[49m\u001b[43m(\u001b[49m\u001b[43mstatement\u001b[49m\u001b[43m,\u001b[49m\u001b[43m \u001b[49m\u001b[38;5;241;43m*\u001b[39;49m\u001b[38;5;241;43m*\u001b[39;49m\u001b[43mkwargs\u001b[49m\u001b[43m)\u001b[49m\n\u001b[1;32m     65\u001b[0m     params \u001b[38;5;241m=\u001b[39m result\u001b[38;5;241m.\u001b[39mparams\n\u001b[1;32m     66\u001b[0m     \u001b[38;5;28;01mif\u001b[39;00m params \u001b[38;5;129;01mis\u001b[39;00m \u001b[38;5;28;01mNone\u001b[39;00m:\n",
      "File \u001b[0;32m~/Repos/datachain/.venv/lib64/python3.12/site-packages/datachain/data_storage/db_engine.py:52\u001b[0m, in \u001b[0;36mDatabaseEngine.compile\u001b[0;34m(cls, statement, **kwargs)\u001b[0m\n\u001b[1;32m     47\u001b[0m     kwargs[\u001b[38;5;124m\"\u001b[39m\u001b[38;5;124mcompile_kwargs\u001b[39m\u001b[38;5;124m\"\u001b[39m] \u001b[38;5;241m=\u001b[39m {\n\u001b[1;32m     48\u001b[0m         \u001b[38;5;241m*\u001b[39m\u001b[38;5;241m*\u001b[39mkwargs\u001b[38;5;241m.\u001b[39mpop(\u001b[38;5;124m\"\u001b[39m\u001b[38;5;124mcompile_kwargs\u001b[39m\u001b[38;5;124m\"\u001b[39m, {}),\n\u001b[1;32m     49\u001b[0m         \u001b[38;5;124m\"\u001b[39m\u001b[38;5;124mrender_postcompile\u001b[39m\u001b[38;5;124m\"\u001b[39m: \u001b[38;5;28;01mTrue\u001b[39;00m,\n\u001b[1;32m     50\u001b[0m     }\n\u001b[1;32m     51\u001b[0m     kwargs \u001b[38;5;241m=\u001b[39m {\u001b[38;5;124m\"\u001b[39m\u001b[38;5;124mlinting\u001b[39m\u001b[38;5;124m\"\u001b[39m: FROM_LINTING} \u001b[38;5;241m|\u001b[39m kwargs\n\u001b[0;32m---> 52\u001b[0m \u001b[38;5;28;01mreturn\u001b[39;00m \u001b[43mstatement\u001b[49m\u001b[38;5;241;43m.\u001b[39;49m\u001b[43mcompile\u001b[49m\u001b[43m(\u001b[49m\u001b[43mdialect\u001b[49m\u001b[38;5;241;43m=\u001b[39;49m\u001b[38;5;28;43mcls\u001b[39;49m\u001b[38;5;241;43m.\u001b[39;49m\u001b[43mdialect\u001b[49m\u001b[43m,\u001b[49m\u001b[43m \u001b[49m\u001b[38;5;241;43m*\u001b[39;49m\u001b[38;5;241;43m*\u001b[39;49m\u001b[43mkwargs\u001b[49m\u001b[43m)\u001b[49m\n",
      "File \u001b[0;32m~/Repos/datachain/.venv/lib64/python3.12/site-packages/sqlalchemy/sql/elements.py:308\u001b[0m, in \u001b[0;36mCompilerElement.compile\u001b[0;34m(self, bind, dialect, **kw)\u001b[0m\n\u001b[1;32m    303\u001b[0m         url \u001b[38;5;241m=\u001b[39m util\u001b[38;5;241m.\u001b[39mpreloaded\u001b[38;5;241m.\u001b[39mengine_url\n\u001b[1;32m    304\u001b[0m         dialect \u001b[38;5;241m=\u001b[39m url\u001b[38;5;241m.\u001b[39mURL\u001b[38;5;241m.\u001b[39mcreate(\n\u001b[1;32m    305\u001b[0m             \u001b[38;5;28mself\u001b[39m\u001b[38;5;241m.\u001b[39mstringify_dialect\n\u001b[1;32m    306\u001b[0m         )\u001b[38;5;241m.\u001b[39mget_dialect()()\n\u001b[0;32m--> 308\u001b[0m \u001b[38;5;28;01mreturn\u001b[39;00m \u001b[38;5;28;43mself\u001b[39;49m\u001b[38;5;241;43m.\u001b[39;49m\u001b[43m_compiler\u001b[49m\u001b[43m(\u001b[49m\u001b[43mdialect\u001b[49m\u001b[43m,\u001b[49m\u001b[43m \u001b[49m\u001b[38;5;241;43m*\u001b[39;49m\u001b[38;5;241;43m*\u001b[39;49m\u001b[43mkw\u001b[49m\u001b[43m)\u001b[49m\n",
      "File \u001b[0;32m~/Repos/datachain/.venv/lib64/python3.12/site-packages/sqlalchemy/sql/elements.py:316\u001b[0m, in \u001b[0;36mCompilerElement._compiler\u001b[0;34m(self, dialect, **kw)\u001b[0m\n\u001b[1;32m    314\u001b[0m \u001b[38;5;28;01mif\u001b[39;00m TYPE_CHECKING:\n\u001b[1;32m    315\u001b[0m     \u001b[38;5;28;01massert\u001b[39;00m \u001b[38;5;28misinstance\u001b[39m(\u001b[38;5;28mself\u001b[39m, ClauseElement)\n\u001b[0;32m--> 316\u001b[0m \u001b[38;5;28;01mreturn\u001b[39;00m \u001b[43mdialect\u001b[49m\u001b[38;5;241;43m.\u001b[39;49m\u001b[43mstatement_compiler\u001b[49m\u001b[43m(\u001b[49m\u001b[43mdialect\u001b[49m\u001b[43m,\u001b[49m\u001b[43m \u001b[49m\u001b[38;5;28;43mself\u001b[39;49m\u001b[43m,\u001b[49m\u001b[43m \u001b[49m\u001b[38;5;241;43m*\u001b[39;49m\u001b[38;5;241;43m*\u001b[39;49m\u001b[43mkw\u001b[49m\u001b[43m)\u001b[49m\n",
      "File \u001b[0;32m~/Repos/datachain/.venv/lib64/python3.12/site-packages/sqlalchemy/sql/compiler.py:1429\u001b[0m, in \u001b[0;36mSQLCompiler.__init__\u001b[0;34m(self, dialect, statement, cache_key, column_keys, for_executemany, linting, _supporting_against, **kwargs)\u001b[0m\n\u001b[1;32m   1426\u001b[0m \u001b[38;5;28mself\u001b[39m\u001b[38;5;241m.\u001b[39mtruncated_names: Dict[Tuple[\u001b[38;5;28mstr\u001b[39m, \u001b[38;5;28mstr\u001b[39m], \u001b[38;5;28mstr\u001b[39m] \u001b[38;5;241m=\u001b[39m {}\n\u001b[1;32m   1427\u001b[0m \u001b[38;5;28mself\u001b[39m\u001b[38;5;241m.\u001b[39m_truncated_counters: Dict[\u001b[38;5;28mstr\u001b[39m, \u001b[38;5;28mint\u001b[39m] \u001b[38;5;241m=\u001b[39m {}\n\u001b[0;32m-> 1429\u001b[0m \u001b[43mCompiled\u001b[49m\u001b[38;5;241;43m.\u001b[39;49m\u001b[38;5;21;43m__init__\u001b[39;49m\u001b[43m(\u001b[49m\u001b[38;5;28;43mself\u001b[39;49m\u001b[43m,\u001b[49m\u001b[43m \u001b[49m\u001b[43mdialect\u001b[49m\u001b[43m,\u001b[49m\u001b[43m \u001b[49m\u001b[43mstatement\u001b[49m\u001b[43m,\u001b[49m\u001b[43m \u001b[49m\u001b[38;5;241;43m*\u001b[39;49m\u001b[38;5;241;43m*\u001b[39;49m\u001b[43mkwargs\u001b[49m\u001b[43m)\u001b[49m\n\u001b[1;32m   1431\u001b[0m \u001b[38;5;28;01mif\u001b[39;00m \u001b[38;5;28mself\u001b[39m\u001b[38;5;241m.\u001b[39misinsert \u001b[38;5;129;01mor\u001b[39;00m \u001b[38;5;28mself\u001b[39m\u001b[38;5;241m.\u001b[39misupdate \u001b[38;5;129;01mor\u001b[39;00m \u001b[38;5;28mself\u001b[39m\u001b[38;5;241m.\u001b[39misdelete:\n\u001b[1;32m   1432\u001b[0m     \u001b[38;5;28;01mif\u001b[39;00m TYPE_CHECKING:\n",
      "File \u001b[0;32m~/Repos/datachain/.venv/lib64/python3.12/site-packages/sqlalchemy/sql/compiler.py:870\u001b[0m, in \u001b[0;36mCompiled.__init__\u001b[0;34m(self, dialect, statement, schema_translate_map, render_schema_translate, compile_kwargs)\u001b[0m\n\u001b[1;32m    868\u001b[0m         \u001b[38;5;28;01massert\u001b[39;00m \u001b[38;5;28misinstance\u001b[39m(statement, Executable)\n\u001b[1;32m    869\u001b[0m     \u001b[38;5;28mself\u001b[39m\u001b[38;5;241m.\u001b[39mexecution_options \u001b[38;5;241m=\u001b[39m statement\u001b[38;5;241m.\u001b[39m_execution_options\n\u001b[0;32m--> 870\u001b[0m \u001b[38;5;28mself\u001b[39m\u001b[38;5;241m.\u001b[39mstring \u001b[38;5;241m=\u001b[39m \u001b[38;5;28;43mself\u001b[39;49m\u001b[38;5;241;43m.\u001b[39;49m\u001b[43mprocess\u001b[49m\u001b[43m(\u001b[49m\u001b[38;5;28;43mself\u001b[39;49m\u001b[38;5;241;43m.\u001b[39;49m\u001b[43mstatement\u001b[49m\u001b[43m,\u001b[49m\u001b[43m \u001b[49m\u001b[38;5;241;43m*\u001b[39;49m\u001b[38;5;241;43m*\u001b[39;49m\u001b[43mcompile_kwargs\u001b[49m\u001b[43m)\u001b[49m\n\u001b[1;32m    872\u001b[0m \u001b[38;5;28;01mif\u001b[39;00m render_schema_translate:\n\u001b[1;32m    873\u001b[0m     \u001b[38;5;28mself\u001b[39m\u001b[38;5;241m.\u001b[39mstring \u001b[38;5;241m=\u001b[39m \u001b[38;5;28mself\u001b[39m\u001b[38;5;241m.\u001b[39mpreparer\u001b[38;5;241m.\u001b[39m_render_schema_translates(\n\u001b[1;32m    874\u001b[0m         \u001b[38;5;28mself\u001b[39m\u001b[38;5;241m.\u001b[39mstring, schema_translate_map\n\u001b[1;32m    875\u001b[0m     )\n",
      "File \u001b[0;32m~/Repos/datachain/.venv/lib64/python3.12/site-packages/sqlalchemy/sql/compiler.py:915\u001b[0m, in \u001b[0;36mCompiled.process\u001b[0;34m(self, obj, **kwargs)\u001b[0m\n\u001b[1;32m    914\u001b[0m \u001b[38;5;28;01mdef\u001b[39;00m \u001b[38;5;21mprocess\u001b[39m(\u001b[38;5;28mself\u001b[39m, obj: Visitable, \u001b[38;5;241m*\u001b[39m\u001b[38;5;241m*\u001b[39mkwargs: Any) \u001b[38;5;241m-\u001b[39m\u001b[38;5;241m>\u001b[39m \u001b[38;5;28mstr\u001b[39m:\n\u001b[0;32m--> 915\u001b[0m     \u001b[38;5;28;01mreturn\u001b[39;00m \u001b[43mobj\u001b[49m\u001b[38;5;241;43m.\u001b[39;49m\u001b[43m_compiler_dispatch\u001b[49m\u001b[43m(\u001b[49m\u001b[38;5;28;43mself\u001b[39;49m\u001b[43m,\u001b[49m\u001b[43m \u001b[49m\u001b[38;5;241;43m*\u001b[39;49m\u001b[38;5;241;43m*\u001b[39;49m\u001b[43mkwargs\u001b[49m\u001b[43m)\u001b[49m\n",
      "File \u001b[0;32m~/Repos/datachain/.venv/lib64/python3.12/site-packages/sqlalchemy/sql/visitors.py:141\u001b[0m, in \u001b[0;36mVisitable._generate_compiler_dispatch.<locals>._compiler_dispatch\u001b[0;34m(self, visitor, **kw)\u001b[0m\n\u001b[1;32m    139\u001b[0m     \u001b[38;5;28;01mreturn\u001b[39;00m visitor\u001b[38;5;241m.\u001b[39mvisit_unsupported_compilation(\u001b[38;5;28mself\u001b[39m, err, \u001b[38;5;241m*\u001b[39m\u001b[38;5;241m*\u001b[39mkw)  \u001b[38;5;66;03m# type: ignore  # noqa: E501\u001b[39;00m\n\u001b[1;32m    140\u001b[0m \u001b[38;5;28;01melse\u001b[39;00m:\n\u001b[0;32m--> 141\u001b[0m     \u001b[38;5;28;01mreturn\u001b[39;00m \u001b[43mmeth\u001b[49m\u001b[43m(\u001b[49m\u001b[38;5;28;43mself\u001b[39;49m\u001b[43m,\u001b[49m\u001b[43m \u001b[49m\u001b[38;5;241;43m*\u001b[39;49m\u001b[38;5;241;43m*\u001b[39;49m\u001b[43mkw\u001b[49m\u001b[43m)\u001b[49m\n",
      "File \u001b[0;32m~/Repos/datachain/.venv/lib64/python3.12/site-packages/sqlalchemy/sql/compiler.py:5949\u001b[0m, in \u001b[0;36mSQLCompiler.visit_insert\u001b[0;34m(self, insert_stmt, visited_bindparam, visiting_cte, **kw)\u001b[0m\n\u001b[1;32m   5945\u001b[0m     returning_clause \u001b[38;5;241m=\u001b[39m \u001b[38;5;28;01mNone\u001b[39;00m\n\u001b[1;32m   5947\u001b[0m \u001b[38;5;28;01mif\u001b[39;00m insert_stmt\u001b[38;5;241m.\u001b[39mselect \u001b[38;5;129;01mis\u001b[39;00m \u001b[38;5;129;01mnot\u001b[39;00m \u001b[38;5;28;01mNone\u001b[39;00m:\n\u001b[1;32m   5948\u001b[0m     \u001b[38;5;66;03m# placed here by crud.py\u001b[39;00m\n\u001b[0;32m-> 5949\u001b[0m     select_text \u001b[38;5;241m=\u001b[39m \u001b[38;5;28;43mself\u001b[39;49m\u001b[38;5;241;43m.\u001b[39;49m\u001b[43mprocess\u001b[49m\u001b[43m(\u001b[49m\n\u001b[1;32m   5950\u001b[0m \u001b[43m        \u001b[49m\u001b[38;5;28;43mself\u001b[39;49m\u001b[38;5;241;43m.\u001b[39;49m\u001b[43mstack\u001b[49m\u001b[43m[\u001b[49m\u001b[38;5;241;43m-\u001b[39;49m\u001b[38;5;241;43m1\u001b[39;49m\u001b[43m]\u001b[49m\u001b[43m[\u001b[49m\u001b[38;5;124;43m\"\u001b[39;49m\u001b[38;5;124;43minsert_from_select\u001b[39;49m\u001b[38;5;124;43m\"\u001b[39;49m\u001b[43m]\u001b[49m\u001b[43m,\u001b[49m\u001b[43m \u001b[49m\u001b[43minsert_into\u001b[49m\u001b[38;5;241;43m=\u001b[39;49m\u001b[38;5;28;43;01mTrue\u001b[39;49;00m\u001b[43m,\u001b[49m\u001b[43m \u001b[49m\u001b[38;5;241;43m*\u001b[39;49m\u001b[38;5;241;43m*\u001b[39;49m\u001b[43mkw\u001b[49m\n\u001b[1;32m   5951\u001b[0m \u001b[43m    \u001b[49m\u001b[43m)\u001b[49m\n\u001b[1;32m   5953\u001b[0m     \u001b[38;5;28;01mif\u001b[39;00m \u001b[38;5;28mself\u001b[39m\u001b[38;5;241m.\u001b[39mctes \u001b[38;5;129;01mand\u001b[39;00m \u001b[38;5;28mself\u001b[39m\u001b[38;5;241m.\u001b[39mdialect\u001b[38;5;241m.\u001b[39mcte_follows_insert:\n\u001b[1;32m   5954\u001b[0m         nesting_level \u001b[38;5;241m=\u001b[39m \u001b[38;5;28mlen\u001b[39m(\u001b[38;5;28mself\u001b[39m\u001b[38;5;241m.\u001b[39mstack) \u001b[38;5;28;01mif\u001b[39;00m \u001b[38;5;129;01mnot\u001b[39;00m toplevel \u001b[38;5;28;01melse\u001b[39;00m \u001b[38;5;28;01mNone\u001b[39;00m\n",
      "File \u001b[0;32m~/Repos/datachain/.venv/lib64/python3.12/site-packages/sqlalchemy/sql/compiler.py:915\u001b[0m, in \u001b[0;36mCompiled.process\u001b[0;34m(self, obj, **kwargs)\u001b[0m\n\u001b[1;32m    914\u001b[0m \u001b[38;5;28;01mdef\u001b[39;00m \u001b[38;5;21mprocess\u001b[39m(\u001b[38;5;28mself\u001b[39m, obj: Visitable, \u001b[38;5;241m*\u001b[39m\u001b[38;5;241m*\u001b[39mkwargs: Any) \u001b[38;5;241m-\u001b[39m\u001b[38;5;241m>\u001b[39m \u001b[38;5;28mstr\u001b[39m:\n\u001b[0;32m--> 915\u001b[0m     \u001b[38;5;28;01mreturn\u001b[39;00m \u001b[43mobj\u001b[49m\u001b[38;5;241;43m.\u001b[39;49m\u001b[43m_compiler_dispatch\u001b[49m\u001b[43m(\u001b[49m\u001b[38;5;28;43mself\u001b[39;49m\u001b[43m,\u001b[49m\u001b[43m \u001b[49m\u001b[38;5;241;43m*\u001b[39;49m\u001b[38;5;241;43m*\u001b[39;49m\u001b[43mkwargs\u001b[49m\u001b[43m)\u001b[49m\n",
      "File \u001b[0;32m~/Repos/datachain/.venv/lib64/python3.12/site-packages/sqlalchemy/sql/visitors.py:141\u001b[0m, in \u001b[0;36mVisitable._generate_compiler_dispatch.<locals>._compiler_dispatch\u001b[0;34m(self, visitor, **kw)\u001b[0m\n\u001b[1;32m    139\u001b[0m     \u001b[38;5;28;01mreturn\u001b[39;00m visitor\u001b[38;5;241m.\u001b[39mvisit_unsupported_compilation(\u001b[38;5;28mself\u001b[39m, err, \u001b[38;5;241m*\u001b[39m\u001b[38;5;241m*\u001b[39mkw)  \u001b[38;5;66;03m# type: ignore  # noqa: E501\u001b[39;00m\n\u001b[1;32m    140\u001b[0m \u001b[38;5;28;01melse\u001b[39;00m:\n\u001b[0;32m--> 141\u001b[0m     \u001b[38;5;28;01mreturn\u001b[39;00m \u001b[43mmeth\u001b[49m\u001b[43m(\u001b[49m\u001b[38;5;28;43mself\u001b[39;49m\u001b[43m,\u001b[49m\u001b[43m \u001b[49m\u001b[38;5;241;43m*\u001b[39;49m\u001b[38;5;241;43m*\u001b[39;49m\u001b[43mkw\u001b[49m\u001b[43m)\u001b[49m\n",
      "File \u001b[0;32m~/Repos/datachain/.venv/lib64/python3.12/site-packages/sqlalchemy/sql/compiler.py:4765\u001b[0m, in \u001b[0;36mSQLCompiler.visit_select\u001b[0;34m(self, select_stmt, asfrom, insert_into, fromhints, compound_index, select_wraps_for, lateral, from_linter, **kwargs)\u001b[0m\n\u001b[1;32m   4760\u001b[0m text \u001b[38;5;241m+\u001b[39m\u001b[38;5;241m=\u001b[39m \u001b[38;5;28mself\u001b[39m\u001b[38;5;241m.\u001b[39mget_select_precolumns(select_stmt, \u001b[38;5;241m*\u001b[39m\u001b[38;5;241m*\u001b[39mkwargs)\n\u001b[1;32m   4761\u001b[0m \u001b[38;5;66;03m# the actual list of columns to print in the SELECT column list.\u001b[39;00m\n\u001b[1;32m   4762\u001b[0m inner_columns \u001b[38;5;241m=\u001b[39m [\n\u001b[1;32m   4763\u001b[0m     c\n\u001b[1;32m   4764\u001b[0m     \u001b[38;5;28;01mfor\u001b[39;00m c \u001b[38;5;129;01min\u001b[39;00m [\n\u001b[0;32m-> 4765\u001b[0m         \u001b[38;5;28;43mself\u001b[39;49m\u001b[38;5;241;43m.\u001b[39;49m\u001b[43m_label_select_column\u001b[49m\u001b[43m(\u001b[49m\n\u001b[1;32m   4766\u001b[0m \u001b[43m            \u001b[49m\u001b[43mselect_stmt\u001b[49m\u001b[43m,\u001b[49m\n\u001b[1;32m   4767\u001b[0m \u001b[43m            \u001b[49m\u001b[43mcolumn\u001b[49m\u001b[43m,\u001b[49m\n\u001b[1;32m   4768\u001b[0m \u001b[43m            \u001b[49m\u001b[43mpopulate_result_map\u001b[49m\u001b[43m,\u001b[49m\n\u001b[1;32m   4769\u001b[0m \u001b[43m            \u001b[49m\u001b[43masfrom\u001b[49m\u001b[43m,\u001b[49m\n\u001b[1;32m   4770\u001b[0m \u001b[43m            \u001b[49m\u001b[43mcolumn_clause_args\u001b[49m\u001b[43m,\u001b[49m\n\u001b[1;32m   4771\u001b[0m \u001b[43m            \u001b[49m\u001b[43mname\u001b[49m\u001b[38;5;241;43m=\u001b[39;49m\u001b[43mname\u001b[49m\u001b[43m,\u001b[49m\n\u001b[1;32m   4772\u001b[0m \u001b[43m            \u001b[49m\u001b[43mproxy_name\u001b[49m\u001b[38;5;241;43m=\u001b[39;49m\u001b[43mproxy_name\u001b[49m\u001b[43m,\u001b[49m\n\u001b[1;32m   4773\u001b[0m \u001b[43m            \u001b[49m\u001b[43mfallback_label_name\u001b[49m\u001b[38;5;241;43m=\u001b[39;49m\u001b[43mfallback_label_name\u001b[49m\u001b[43m,\u001b[49m\n\u001b[1;32m   4774\u001b[0m \u001b[43m            \u001b[49m\u001b[43mcolumn_is_repeated\u001b[49m\u001b[38;5;241;43m=\u001b[39;49m\u001b[43mrepeated\u001b[49m\u001b[43m,\u001b[49m\n\u001b[1;32m   4775\u001b[0m \u001b[43m            \u001b[49m\u001b[43mneed_column_expressions\u001b[49m\u001b[38;5;241;43m=\u001b[39;49m\u001b[43mneed_column_expressions\u001b[49m\u001b[43m,\u001b[49m\n\u001b[1;32m   4776\u001b[0m \u001b[43m        \u001b[49m\u001b[43m)\u001b[49m\n\u001b[1;32m   4777\u001b[0m         \u001b[38;5;28;01mfor\u001b[39;00m (\n\u001b[1;32m   4778\u001b[0m             name,\n\u001b[1;32m   4779\u001b[0m             proxy_name,\n\u001b[1;32m   4780\u001b[0m             fallback_label_name,\n\u001b[1;32m   4781\u001b[0m             column,\n\u001b[1;32m   4782\u001b[0m             repeated,\n\u001b[1;32m   4783\u001b[0m         ) \u001b[38;5;129;01min\u001b[39;00m compile_state\u001b[38;5;241m.\u001b[39mcolumns_plus_names\n\u001b[1;32m   4784\u001b[0m     ]\n\u001b[1;32m   4785\u001b[0m     \u001b[38;5;28;01mif\u001b[39;00m c \u001b[38;5;129;01mis\u001b[39;00m \u001b[38;5;129;01mnot\u001b[39;00m \u001b[38;5;28;01mNone\u001b[39;00m\n\u001b[1;32m   4786\u001b[0m ]\n\u001b[1;32m   4788\u001b[0m \u001b[38;5;28;01mif\u001b[39;00m populate_result_map \u001b[38;5;129;01mand\u001b[39;00m select_wraps_for \u001b[38;5;129;01mis\u001b[39;00m \u001b[38;5;129;01mnot\u001b[39;00m \u001b[38;5;28;01mNone\u001b[39;00m:\n\u001b[1;32m   4789\u001b[0m     \u001b[38;5;66;03m# if this select was generated from translate_select,\u001b[39;00m\n\u001b[1;32m   4790\u001b[0m     \u001b[38;5;66;03m# rewrite the targeted columns in the result map\u001b[39;00m\n\u001b[1;32m   4792\u001b[0m     translate \u001b[38;5;241m=\u001b[39m \u001b[38;5;28mdict\u001b[39m(\n\u001b[1;32m   4793\u001b[0m         \u001b[38;5;28mzip\u001b[39m(\n\u001b[1;32m   4794\u001b[0m             [\n\u001b[0;32m   (...)\u001b[0m\n\u001b[1;32m   4814\u001b[0m         )\n\u001b[1;32m   4815\u001b[0m     )\n",
      "File \u001b[0;32m~/Repos/datachain/.venv/lib64/python3.12/site-packages/sqlalchemy/sql/compiler.py:4590\u001b[0m, in \u001b[0;36mSQLCompiler._label_select_column\u001b[0;34m(self, select, column, populate_result_map, asfrom, column_clause_args, name, proxy_name, fallback_label_name, within_columns_clause, column_is_repeated, need_column_expressions, include_table)\u001b[0m\n\u001b[1;32m   4583\u001b[0m         result_expr \u001b[38;5;241m=\u001b[39m col_expr\n\u001b[1;32m   4585\u001b[0m column_clause_args\u001b[38;5;241m.\u001b[39mupdate(\n\u001b[1;32m   4586\u001b[0m     within_columns_clause\u001b[38;5;241m=\u001b[39mwithin_columns_clause,\n\u001b[1;32m   4587\u001b[0m     add_to_result_map\u001b[38;5;241m=\u001b[39madd_to_result_map,\n\u001b[1;32m   4588\u001b[0m     include_table\u001b[38;5;241m=\u001b[39minclude_table,\n\u001b[1;32m   4589\u001b[0m )\n\u001b[0;32m-> 4590\u001b[0m \u001b[38;5;28;01mreturn\u001b[39;00m \u001b[43mresult_expr\u001b[49m\u001b[38;5;241;43m.\u001b[39;49m\u001b[43m_compiler_dispatch\u001b[49m\u001b[43m(\u001b[49m\u001b[38;5;28;43mself\u001b[39;49m\u001b[43m,\u001b[49m\u001b[43m \u001b[49m\u001b[38;5;241;43m*\u001b[39;49m\u001b[38;5;241;43m*\u001b[39;49m\u001b[43mcolumn_clause_args\u001b[49m\u001b[43m)\u001b[49m\n",
      "File \u001b[0;32m~/Repos/datachain/.venv/lib64/python3.12/site-packages/sqlalchemy/sql/visitors.py:141\u001b[0m, in \u001b[0;36mVisitable._generate_compiler_dispatch.<locals>._compiler_dispatch\u001b[0;34m(self, visitor, **kw)\u001b[0m\n\u001b[1;32m    139\u001b[0m     \u001b[38;5;28;01mreturn\u001b[39;00m visitor\u001b[38;5;241m.\u001b[39mvisit_unsupported_compilation(\u001b[38;5;28mself\u001b[39m, err, \u001b[38;5;241m*\u001b[39m\u001b[38;5;241m*\u001b[39mkw)  \u001b[38;5;66;03m# type: ignore  # noqa: E501\u001b[39;00m\n\u001b[1;32m    140\u001b[0m \u001b[38;5;28;01melse\u001b[39;00m:\n\u001b[0;32m--> 141\u001b[0m     \u001b[38;5;28;01mreturn\u001b[39;00m \u001b[43mmeth\u001b[49m\u001b[43m(\u001b[49m\u001b[38;5;28;43mself\u001b[39;49m\u001b[43m,\u001b[49m\u001b[43m \u001b[49m\u001b[38;5;241;43m*\u001b[39;49m\u001b[38;5;241;43m*\u001b[39;49m\u001b[43mkw\u001b[49m\u001b[43m)\u001b[49m\n",
      "File \u001b[0;32m~/Repos/datachain/.venv/lib64/python3.12/site-packages/sqlalchemy/sql/compiler.py:2549\u001b[0m, in \u001b[0;36mSQLCompiler.visit_label\u001b[0;34m(self, label, add_to_result_map, within_label_clause, within_columns_clause, render_label_as_label, result_map_targets, **kw)\u001b[0m\n\u001b[1;32m   2541\u001b[0m     \u001b[38;5;28;01mif\u001b[39;00m add_to_result_map \u001b[38;5;129;01mis\u001b[39;00m \u001b[38;5;129;01mnot\u001b[39;00m \u001b[38;5;28;01mNone\u001b[39;00m:\n\u001b[1;32m   2542\u001b[0m         add_to_result_map(\n\u001b[1;32m   2543\u001b[0m             labelname,\n\u001b[1;32m   2544\u001b[0m             label\u001b[38;5;241m.\u001b[39mname,\n\u001b[1;32m   2545\u001b[0m             (label, labelname) \u001b[38;5;241m+\u001b[39m label\u001b[38;5;241m.\u001b[39m_alt_names \u001b[38;5;241m+\u001b[39m result_map_targets,\n\u001b[1;32m   2546\u001b[0m             label\u001b[38;5;241m.\u001b[39mtype,\n\u001b[1;32m   2547\u001b[0m         )\n\u001b[1;32m   2548\u001b[0m     \u001b[38;5;28;01mreturn\u001b[39;00m (\n\u001b[0;32m-> 2549\u001b[0m         \u001b[43mlabel\u001b[49m\u001b[38;5;241;43m.\u001b[39;49m\u001b[43melement\u001b[49m\u001b[38;5;241;43m.\u001b[39;49m\u001b[43m_compiler_dispatch\u001b[49m\u001b[43m(\u001b[49m\n\u001b[1;32m   2550\u001b[0m \u001b[43m            \u001b[49m\u001b[38;5;28;43mself\u001b[39;49m\u001b[43m,\u001b[49m\n\u001b[1;32m   2551\u001b[0m \u001b[43m            \u001b[49m\u001b[43mwithin_columns_clause\u001b[49m\u001b[38;5;241;43m=\u001b[39;49m\u001b[38;5;28;43;01mTrue\u001b[39;49;00m\u001b[43m,\u001b[49m\n\u001b[1;32m   2552\u001b[0m \u001b[43m            \u001b[49m\u001b[43mwithin_label_clause\u001b[49m\u001b[38;5;241;43m=\u001b[39;49m\u001b[38;5;28;43;01mTrue\u001b[39;49;00m\u001b[43m,\u001b[49m\n\u001b[1;32m   2553\u001b[0m \u001b[43m            \u001b[49m\u001b[38;5;241;43m*\u001b[39;49m\u001b[38;5;241;43m*\u001b[39;49m\u001b[43mkw\u001b[49m\u001b[43m,\u001b[49m\n\u001b[1;32m   2554\u001b[0m \u001b[43m        \u001b[49m\u001b[43m)\u001b[49m\n\u001b[1;32m   2555\u001b[0m         \u001b[38;5;241m+\u001b[39m OPERATORS[operators\u001b[38;5;241m.\u001b[39mas_]\n\u001b[1;32m   2556\u001b[0m         \u001b[38;5;241m+\u001b[39m \u001b[38;5;28mself\u001b[39m\u001b[38;5;241m.\u001b[39mpreparer\u001b[38;5;241m.\u001b[39mformat_label(label, labelname)\n\u001b[1;32m   2557\u001b[0m     )\n\u001b[1;32m   2558\u001b[0m \u001b[38;5;28;01melif\u001b[39;00m render_label_only:\n\u001b[1;32m   2559\u001b[0m     \u001b[38;5;28;01mreturn\u001b[39;00m \u001b[38;5;28mself\u001b[39m\u001b[38;5;241m.\u001b[39mpreparer\u001b[38;5;241m.\u001b[39mformat_label(label, labelname)\n",
      "File \u001b[0;32m~/Repos/datachain/.venv/lib64/python3.12/site-packages/sqlalchemy/sql/visitors.py:141\u001b[0m, in \u001b[0;36mVisitable._generate_compiler_dispatch.<locals>._compiler_dispatch\u001b[0;34m(self, visitor, **kw)\u001b[0m\n\u001b[1;32m    139\u001b[0m     \u001b[38;5;28;01mreturn\u001b[39;00m visitor\u001b[38;5;241m.\u001b[39mvisit_unsupported_compilation(\u001b[38;5;28mself\u001b[39m, err, \u001b[38;5;241m*\u001b[39m\u001b[38;5;241m*\u001b[39mkw)  \u001b[38;5;66;03m# type: ignore  # noqa: E501\u001b[39;00m\n\u001b[1;32m    140\u001b[0m \u001b[38;5;28;01melse\u001b[39;00m:\n\u001b[0;32m--> 141\u001b[0m     \u001b[38;5;28;01mreturn\u001b[39;00m \u001b[43mmeth\u001b[49m\u001b[43m(\u001b[49m\u001b[38;5;28;43mself\u001b[39;49m\u001b[43m,\u001b[49m\u001b[43m \u001b[49m\u001b[38;5;241;43m*\u001b[39;49m\u001b[38;5;241;43m*\u001b[39;49m\u001b[43mkw\u001b[49m\u001b[43m)\u001b[49m\n",
      "File \u001b[0;32m~/Repos/datachain/.venv/lib64/python3.12/site-packages/sqlalchemy/sql/compiler.py:2897\u001b[0m, in \u001b[0;36mSQLCompiler.visit_over\u001b[0;34m(self, over, **kwargs)\u001b[0m\n\u001b[1;32m   2889\u001b[0m \u001b[38;5;28;01melse\u001b[39;00m:\n\u001b[1;32m   2890\u001b[0m     range_ \u001b[38;5;241m=\u001b[39m \u001b[38;5;28;01mNone\u001b[39;00m\n\u001b[1;32m   2892\u001b[0m \u001b[38;5;28;01mreturn\u001b[39;00m \u001b[38;5;124m\"\u001b[39m\u001b[38;5;132;01m%s\u001b[39;00m\u001b[38;5;124m OVER (\u001b[39m\u001b[38;5;132;01m%s\u001b[39;00m\u001b[38;5;124m)\u001b[39m\u001b[38;5;124m\"\u001b[39m \u001b[38;5;241m%\u001b[39m (\n\u001b[1;32m   2893\u001b[0m     text,\n\u001b[1;32m   2894\u001b[0m     \u001b[38;5;124m\"\u001b[39m\u001b[38;5;124m \u001b[39m\u001b[38;5;124m\"\u001b[39m\u001b[38;5;241m.\u001b[39mjoin(\n\u001b[1;32m   2895\u001b[0m         [\n\u001b[1;32m   2896\u001b[0m             \u001b[38;5;124m\"\u001b[39m\u001b[38;5;132;01m%s\u001b[39;00m\u001b[38;5;124m BY \u001b[39m\u001b[38;5;132;01m%s\u001b[39;00m\u001b[38;5;124m\"\u001b[39m\n\u001b[0;32m-> 2897\u001b[0m             \u001b[38;5;241m%\u001b[39m (word, \u001b[43mclause\u001b[49m\u001b[38;5;241;43m.\u001b[39;49m\u001b[43m_compiler_dispatch\u001b[49m\u001b[43m(\u001b[49m\u001b[38;5;28;43mself\u001b[39;49m\u001b[43m,\u001b[49m\u001b[43m \u001b[49m\u001b[38;5;241;43m*\u001b[39;49m\u001b[38;5;241;43m*\u001b[39;49m\u001b[43mkwargs\u001b[49m\u001b[43m)\u001b[49m)\n\u001b[1;32m   2898\u001b[0m             \u001b[38;5;28;01mfor\u001b[39;00m word, clause \u001b[38;5;129;01min\u001b[39;00m (\n\u001b[1;32m   2899\u001b[0m                 (\u001b[38;5;124m\"\u001b[39m\u001b[38;5;124mPARTITION\u001b[39m\u001b[38;5;124m\"\u001b[39m, over\u001b[38;5;241m.\u001b[39mpartition_by),\n\u001b[1;32m   2900\u001b[0m                 (\u001b[38;5;124m\"\u001b[39m\u001b[38;5;124mORDER\u001b[39m\u001b[38;5;124m\"\u001b[39m, over\u001b[38;5;241m.\u001b[39morder_by),\n\u001b[1;32m   2901\u001b[0m             )\n\u001b[1;32m   2902\u001b[0m             \u001b[38;5;28;01mif\u001b[39;00m clause \u001b[38;5;129;01mis\u001b[39;00m \u001b[38;5;129;01mnot\u001b[39;00m \u001b[38;5;28;01mNone\u001b[39;00m \u001b[38;5;129;01mand\u001b[39;00m \u001b[38;5;28mlen\u001b[39m(clause)\n\u001b[1;32m   2903\u001b[0m         ]\n\u001b[1;32m   2904\u001b[0m         \u001b[38;5;241m+\u001b[39m ([range_] \u001b[38;5;28;01mif\u001b[39;00m range_ \u001b[38;5;28;01melse\u001b[39;00m [])\n\u001b[1;32m   2905\u001b[0m     ),\n\u001b[1;32m   2906\u001b[0m )\n",
      "File \u001b[0;32m~/Repos/datachain/.venv/lib64/python3.12/site-packages/sqlalchemy/sql/visitors.py:141\u001b[0m, in \u001b[0;36mVisitable._generate_compiler_dispatch.<locals>._compiler_dispatch\u001b[0;34m(self, visitor, **kw)\u001b[0m\n\u001b[1;32m    139\u001b[0m     \u001b[38;5;28;01mreturn\u001b[39;00m visitor\u001b[38;5;241m.\u001b[39mvisit_unsupported_compilation(\u001b[38;5;28mself\u001b[39m, err, \u001b[38;5;241m*\u001b[39m\u001b[38;5;241m*\u001b[39mkw)  \u001b[38;5;66;03m# type: ignore  # noqa: E501\u001b[39;00m\n\u001b[1;32m    140\u001b[0m \u001b[38;5;28;01melse\u001b[39;00m:\n\u001b[0;32m--> 141\u001b[0m     \u001b[38;5;28;01mreturn\u001b[39;00m \u001b[43mmeth\u001b[49m\u001b[43m(\u001b[49m\u001b[38;5;28;43mself\u001b[39;49m\u001b[43m,\u001b[49m\u001b[43m \u001b[49m\u001b[38;5;241;43m*\u001b[39;49m\u001b[38;5;241;43m*\u001b[39;49m\u001b[43mkw\u001b[49m\u001b[43m)\u001b[49m\n",
      "File \u001b[0;32m~/Repos/datachain/.venv/lib64/python3.12/site-packages/sqlalchemy/sql/compiler.py:2785\u001b[0m, in \u001b[0;36mSQLCompiler.visit_clauselist\u001b[0;34m(self, clauselist, **kw)\u001b[0m\n\u001b[1;32m   2782\u001b[0m \u001b[38;5;28;01melse\u001b[39;00m:\n\u001b[1;32m   2783\u001b[0m     sep \u001b[38;5;241m=\u001b[39m OPERATORS[clauselist\u001b[38;5;241m.\u001b[39moperator]\n\u001b[0;32m-> 2785\u001b[0m \u001b[38;5;28;01mreturn\u001b[39;00m \u001b[38;5;28;43mself\u001b[39;49m\u001b[38;5;241;43m.\u001b[39;49m\u001b[43m_generate_delimited_list\u001b[49m\u001b[43m(\u001b[49m\u001b[43mclauselist\u001b[49m\u001b[38;5;241;43m.\u001b[39;49m\u001b[43mclauses\u001b[49m\u001b[43m,\u001b[49m\u001b[43m \u001b[49m\u001b[43msep\u001b[49m\u001b[43m,\u001b[49m\u001b[43m \u001b[49m\u001b[38;5;241;43m*\u001b[39;49m\u001b[38;5;241;43m*\u001b[39;49m\u001b[43mkw\u001b[49m\u001b[43m)\u001b[49m\n",
      "File \u001b[0;32m~/Repos/datachain/.venv/lib64/python3.12/site-packages/sqlalchemy/sql/compiler.py:2752\u001b[0m, in \u001b[0;36mSQLCompiler._generate_delimited_list\u001b[0;34m(self, elements, separator, **kw)\u001b[0m\n\u001b[1;32m   2751\u001b[0m \u001b[38;5;28;01mdef\u001b[39;00m \u001b[38;5;21m_generate_delimited_list\u001b[39m(\u001b[38;5;28mself\u001b[39m, elements, separator, \u001b[38;5;241m*\u001b[39m\u001b[38;5;241m*\u001b[39mkw):\n\u001b[0;32m-> 2752\u001b[0m     \u001b[38;5;28;01mreturn\u001b[39;00m \u001b[43mseparator\u001b[49m\u001b[38;5;241;43m.\u001b[39;49m\u001b[43mjoin\u001b[49m\u001b[43m(\u001b[49m\n\u001b[1;32m   2753\u001b[0m \u001b[43m        \u001b[49m\u001b[43ms\u001b[49m\n\u001b[1;32m   2754\u001b[0m \u001b[43m        \u001b[49m\u001b[38;5;28;43;01mfor\u001b[39;49;00m\u001b[43m \u001b[49m\u001b[43ms\u001b[49m\u001b[43m \u001b[49m\u001b[38;5;129;43;01min\u001b[39;49;00m\u001b[43m \u001b[49m\u001b[43m(\u001b[49m\u001b[43mc\u001b[49m\u001b[38;5;241;43m.\u001b[39;49m\u001b[43m_compiler_dispatch\u001b[49m\u001b[43m(\u001b[49m\u001b[38;5;28;43mself\u001b[39;49m\u001b[43m,\u001b[49m\u001b[43m \u001b[49m\u001b[38;5;241;43m*\u001b[39;49m\u001b[38;5;241;43m*\u001b[39;49m\u001b[43mkw\u001b[49m\u001b[43m)\u001b[49m\u001b[43m \u001b[49m\u001b[38;5;28;43;01mfor\u001b[39;49;00m\u001b[43m \u001b[49m\u001b[43mc\u001b[49m\u001b[43m \u001b[49m\u001b[38;5;129;43;01min\u001b[39;49;00m\u001b[43m \u001b[49m\u001b[43melements\u001b[49m\u001b[43m)\u001b[49m\n\u001b[1;32m   2755\u001b[0m \u001b[43m        \u001b[49m\u001b[38;5;28;43;01mif\u001b[39;49;00m\u001b[43m \u001b[49m\u001b[43ms\u001b[49m\n\u001b[1;32m   2756\u001b[0m \u001b[43m    \u001b[49m\u001b[43m)\u001b[49m\n",
      "File \u001b[0;32m~/Repos/datachain/.venv/lib64/python3.12/site-packages/sqlalchemy/sql/compiler.py:2752\u001b[0m, in \u001b[0;36m<genexpr>\u001b[0;34m(.0)\u001b[0m\n\u001b[1;32m   2751\u001b[0m \u001b[38;5;28;01mdef\u001b[39;00m \u001b[38;5;21m_generate_delimited_list\u001b[39m(\u001b[38;5;28mself\u001b[39m, elements, separator, \u001b[38;5;241m*\u001b[39m\u001b[38;5;241m*\u001b[39mkw):\n\u001b[0;32m-> 2752\u001b[0m     \u001b[38;5;28;01mreturn\u001b[39;00m separator\u001b[38;5;241m.\u001b[39mjoin\u001b[43m(\u001b[49m\n\u001b[1;32m   2753\u001b[0m \u001b[43m        \u001b[49m\u001b[43ms\u001b[49m\n\u001b[1;32m   2754\u001b[0m \u001b[43m        \u001b[49m\u001b[38;5;28;43;01mfor\u001b[39;49;00m\u001b[43m \u001b[49m\u001b[43ms\u001b[49m\u001b[43m \u001b[49m\u001b[38;5;129;43;01min\u001b[39;49;00m\u001b[43m \u001b[49m\u001b[43m(\u001b[49m\u001b[43mc\u001b[49m\u001b[38;5;241;43m.\u001b[39;49m\u001b[43m_compiler_dispatch\u001b[49m\u001b[43m(\u001b[49m\u001b[38;5;28;43mself\u001b[39;49m\u001b[43m,\u001b[49m\u001b[43m \u001b[49m\u001b[38;5;241;43m*\u001b[39;49m\u001b[38;5;241;43m*\u001b[39;49m\u001b[43mkw\u001b[49m\u001b[43m)\u001b[49m\u001b[43m \u001b[49m\u001b[38;5;28;43;01mfor\u001b[39;49;00m\u001b[43m \u001b[49m\u001b[43mc\u001b[49m\u001b[43m \u001b[49m\u001b[38;5;129;43;01min\u001b[39;49;00m\u001b[43m \u001b[49m\u001b[43melements\u001b[49m\u001b[43m)\u001b[49m\n\u001b[1;32m   2755\u001b[0m \u001b[43m        \u001b[49m\u001b[38;5;28;43;01mif\u001b[39;49;00m\u001b[43m \u001b[49m\u001b[43ms\u001b[49m\n\u001b[1;32m   2756\u001b[0m \u001b[43m    \u001b[49m\u001b[43m)\u001b[49m\n",
      "File \u001b[0;32m~/Repos/datachain/.venv/lib64/python3.12/site-packages/sqlalchemy/sql/compiler.py:2754\u001b[0m, in \u001b[0;36m<genexpr>\u001b[0;34m(.0)\u001b[0m\n\u001b[1;32m   2751\u001b[0m \u001b[38;5;28;01mdef\u001b[39;00m \u001b[38;5;21m_generate_delimited_list\u001b[39m(\u001b[38;5;28mself\u001b[39m, elements, separator, \u001b[38;5;241m*\u001b[39m\u001b[38;5;241m*\u001b[39mkw):\n\u001b[1;32m   2752\u001b[0m     \u001b[38;5;28;01mreturn\u001b[39;00m separator\u001b[38;5;241m.\u001b[39mjoin(\n\u001b[1;32m   2753\u001b[0m         s\n\u001b[0;32m-> 2754\u001b[0m         \u001b[38;5;28;01mfor\u001b[39;00m s \u001b[38;5;129;01min\u001b[39;00m (\u001b[43mc\u001b[49m\u001b[38;5;241;43m.\u001b[39;49m\u001b[43m_compiler_dispatch\u001b[49m\u001b[43m(\u001b[49m\u001b[38;5;28;43mself\u001b[39;49m\u001b[43m,\u001b[49m\u001b[43m \u001b[49m\u001b[38;5;241;43m*\u001b[39;49m\u001b[38;5;241;43m*\u001b[39;49m\u001b[43mkw\u001b[49m\u001b[43m)\u001b[49m \u001b[38;5;28;01mfor\u001b[39;00m c \u001b[38;5;129;01min\u001b[39;00m elements)\n\u001b[1;32m   2755\u001b[0m         \u001b[38;5;28;01mif\u001b[39;00m s\n\u001b[1;32m   2756\u001b[0m     )\n",
      "File \u001b[0;32m~/Repos/datachain/.venv/lib64/python3.12/site-packages/sqlalchemy/sql/visitors.py:141\u001b[0m, in \u001b[0;36mVisitable._generate_compiler_dispatch.<locals>._compiler_dispatch\u001b[0;34m(self, visitor, **kw)\u001b[0m\n\u001b[1;32m    139\u001b[0m     \u001b[38;5;28;01mreturn\u001b[39;00m visitor\u001b[38;5;241m.\u001b[39mvisit_unsupported_compilation(\u001b[38;5;28mself\u001b[39m, err, \u001b[38;5;241m*\u001b[39m\u001b[38;5;241m*\u001b[39mkw)  \u001b[38;5;66;03m# type: ignore  # noqa: E501\u001b[39;00m\n\u001b[1;32m    140\u001b[0m \u001b[38;5;28;01melse\u001b[39;00m:\n\u001b[0;32m--> 141\u001b[0m     \u001b[38;5;28;01mreturn\u001b[39;00m \u001b[43mmeth\u001b[49m\u001b[43m(\u001b[49m\u001b[38;5;28;43mself\u001b[39;49m\u001b[43m,\u001b[49m\u001b[43m \u001b[49m\u001b[38;5;241;43m*\u001b[39;49m\u001b[38;5;241;43m*\u001b[39;49m\u001b[43mkw\u001b[49m\u001b[43m)\u001b[49m\n",
      "File \u001b[0;32m~/Repos/datachain/.venv/lib64/python3.12/site-packages/sqlalchemy/sql/compiler.py:3099\u001b[0m, in \u001b[0;36mSQLCompiler.visit_unary\u001b[0;34m(self, unary, add_to_result_map, result_map_targets, **kw)\u001b[0m\n\u001b[1;32m   3097\u001b[0m         \u001b[38;5;28;01mreturn\u001b[39;00m disp(unary, unary\u001b[38;5;241m.\u001b[39mmodifier, \u001b[38;5;241m*\u001b[39m\u001b[38;5;241m*\u001b[39mkw)\n\u001b[1;32m   3098\u001b[0m     \u001b[38;5;28;01melse\u001b[39;00m:\n\u001b[0;32m-> 3099\u001b[0m         \u001b[38;5;28;01mreturn\u001b[39;00m \u001b[38;5;28;43mself\u001b[39;49m\u001b[38;5;241;43m.\u001b[39;49m\u001b[43m_generate_generic_unary_modifier\u001b[49m\u001b[43m(\u001b[49m\n\u001b[1;32m   3100\u001b[0m \u001b[43m            \u001b[49m\u001b[43munary\u001b[49m\u001b[43m,\u001b[49m\u001b[43m \u001b[49m\u001b[43mOPERATORS\u001b[49m\u001b[43m[\u001b[49m\u001b[43munary\u001b[49m\u001b[38;5;241;43m.\u001b[39;49m\u001b[43mmodifier\u001b[49m\u001b[43m]\u001b[49m\u001b[43m,\u001b[49m\u001b[43m \u001b[49m\u001b[38;5;241;43m*\u001b[39;49m\u001b[38;5;241;43m*\u001b[39;49m\u001b[43mkw\u001b[49m\n\u001b[1;32m   3101\u001b[0m \u001b[43m        \u001b[49m\u001b[43m)\u001b[49m\n\u001b[1;32m   3102\u001b[0m \u001b[38;5;28;01melse\u001b[39;00m:\n\u001b[1;32m   3103\u001b[0m     \u001b[38;5;28;01mraise\u001b[39;00m exc\u001b[38;5;241m.\u001b[39mCompileError(\n\u001b[1;32m   3104\u001b[0m         \u001b[38;5;124m\"\u001b[39m\u001b[38;5;124mUnary expression has no operator or modifier\u001b[39m\u001b[38;5;124m\"\u001b[39m\n\u001b[1;32m   3105\u001b[0m     )\n",
      "File \u001b[0;32m~/Repos/datachain/.venv/lib64/python3.12/site-packages/sqlalchemy/sql/compiler.py:3475\u001b[0m, in \u001b[0;36mSQLCompiler._generate_generic_unary_modifier\u001b[0;34m(self, unary, opstring, **kw)\u001b[0m\n\u001b[1;32m   3474\u001b[0m \u001b[38;5;28;01mdef\u001b[39;00m \u001b[38;5;21m_generate_generic_unary_modifier\u001b[39m(\u001b[38;5;28mself\u001b[39m, unary, opstring, \u001b[38;5;241m*\u001b[39m\u001b[38;5;241m*\u001b[39mkw):\n\u001b[0;32m-> 3475\u001b[0m     \u001b[38;5;28;01mreturn\u001b[39;00m \u001b[43munary\u001b[49m\u001b[38;5;241;43m.\u001b[39;49m\u001b[43melement\u001b[49m\u001b[38;5;241;43m.\u001b[39;49m\u001b[43m_compiler_dispatch\u001b[49m\u001b[43m(\u001b[49m\u001b[38;5;28;43mself\u001b[39;49m\u001b[43m,\u001b[49m\u001b[43m \u001b[49m\u001b[38;5;241;43m*\u001b[39;49m\u001b[38;5;241;43m*\u001b[39;49m\u001b[43mkw\u001b[49m\u001b[43m)\u001b[49m \u001b[38;5;241m+\u001b[39m opstring\n",
      "File \u001b[0;32m~/Repos/datachain/.venv/lib64/python3.12/site-packages/sqlalchemy/sql/visitors.py:141\u001b[0m, in \u001b[0;36mVisitable._generate_compiler_dispatch.<locals>._compiler_dispatch\u001b[0;34m(self, visitor, **kw)\u001b[0m\n\u001b[1;32m    139\u001b[0m     \u001b[38;5;28;01mreturn\u001b[39;00m visitor\u001b[38;5;241m.\u001b[39mvisit_unsupported_compilation(\u001b[38;5;28mself\u001b[39m, err, \u001b[38;5;241m*\u001b[39m\u001b[38;5;241m*\u001b[39mkw)  \u001b[38;5;66;03m# type: ignore  # noqa: E501\u001b[39;00m\n\u001b[1;32m    140\u001b[0m \u001b[38;5;28;01melse\u001b[39;00m:\n\u001b[0;32m--> 141\u001b[0m     \u001b[38;5;28;01mreturn\u001b[39;00m \u001b[43mmeth\u001b[49m\u001b[43m(\u001b[49m\u001b[38;5;28;43mself\u001b[39;49m\u001b[43m,\u001b[49m\u001b[43m \u001b[49m\u001b[38;5;241;43m*\u001b[39;49m\u001b[38;5;241;43m*\u001b[39;49m\u001b[43mkw\u001b[49m\u001b[43m)\u001b[49m\n",
      "File \u001b[0;32m~/Repos/datachain/.venv/lib64/python3.12/site-packages/sqlalchemy/sql/compiler.py:2501\u001b[0m, in \u001b[0;36mSQLCompiler.visit_textual_label_reference\u001b[0;34m(self, element, within_columns_clause, **kwargs)\u001b[0m\n\u001b[1;32m   2499\u001b[0m         col \u001b[38;5;241m=\u001b[39m with_cols[element\u001b[38;5;241m.\u001b[39melement]\n\u001b[1;32m   2500\u001b[0m \u001b[38;5;28;01mexcept\u001b[39;00m \u001b[38;5;167;01mKeyError\u001b[39;00m \u001b[38;5;28;01mas\u001b[39;00m err:\n\u001b[0;32m-> 2501\u001b[0m     \u001b[43mcoercions\u001b[49m\u001b[38;5;241;43m.\u001b[39;49m\u001b[43m_no_text_coercion\u001b[49m\u001b[43m(\u001b[49m\n\u001b[1;32m   2502\u001b[0m \u001b[43m        \u001b[49m\u001b[43melement\u001b[49m\u001b[38;5;241;43m.\u001b[39;49m\u001b[43melement\u001b[49m\u001b[43m,\u001b[49m\n\u001b[1;32m   2503\u001b[0m \u001b[43m        \u001b[49m\u001b[43mextra\u001b[49m\u001b[38;5;241;43m=\u001b[39;49m\u001b[43m(\u001b[49m\n\u001b[1;32m   2504\u001b[0m \u001b[43m            \u001b[49m\u001b[38;5;124;43m\"\u001b[39;49m\u001b[38;5;124;43mCan\u001b[39;49m\u001b[38;5;124;43m'\u001b[39;49m\u001b[38;5;124;43mt resolve label reference for ORDER BY / \u001b[39;49m\u001b[38;5;124;43m\"\u001b[39;49m\n\u001b[1;32m   2505\u001b[0m \u001b[43m            \u001b[49m\u001b[38;5;124;43m\"\u001b[39;49m\u001b[38;5;124;43mGROUP BY / DISTINCT etc.\u001b[39;49m\u001b[38;5;124;43m\"\u001b[39;49m\n\u001b[1;32m   2506\u001b[0m \u001b[43m        \u001b[49m\u001b[43m)\u001b[49m\u001b[43m,\u001b[49m\n\u001b[1;32m   2507\u001b[0m \u001b[43m        \u001b[49m\u001b[43mexc_cls\u001b[49m\u001b[38;5;241;43m=\u001b[39;49m\u001b[43mexc\u001b[49m\u001b[38;5;241;43m.\u001b[39;49m\u001b[43mCompileError\u001b[49m\u001b[43m,\u001b[49m\n\u001b[1;32m   2508\u001b[0m \u001b[43m        \u001b[49m\u001b[43merr\u001b[49m\u001b[38;5;241;43m=\u001b[39;49m\u001b[43merr\u001b[49m\u001b[43m,\u001b[49m\n\u001b[1;32m   2509\u001b[0m \u001b[43m    \u001b[49m\u001b[43m)\u001b[49m\n\u001b[1;32m   2510\u001b[0m \u001b[38;5;28;01melse\u001b[39;00m:\n\u001b[1;32m   2511\u001b[0m     kwargs[\u001b[38;5;124m\"\u001b[39m\u001b[38;5;124mrender_label_as_label\u001b[39m\u001b[38;5;124m\"\u001b[39m] \u001b[38;5;241m=\u001b[39m col\n",
      "File \u001b[0;32m~/Repos/datachain/.venv/lib64/python3.12/site-packages/sqlalchemy/sql/coercions.py:584\u001b[0m, in \u001b[0;36m_no_text_coercion\u001b[0;34m(element, argname, exc_cls, extra, err)\u001b[0m\n\u001b[1;32m    577\u001b[0m \u001b[38;5;28;01mdef\u001b[39;00m \u001b[38;5;21m_no_text_coercion\u001b[39m(\n\u001b[1;32m    578\u001b[0m     element: Any,\n\u001b[1;32m    579\u001b[0m     argname: Optional[\u001b[38;5;28mstr\u001b[39m] \u001b[38;5;241m=\u001b[39m \u001b[38;5;28;01mNone\u001b[39;00m,\n\u001b[0;32m   (...)\u001b[0m\n\u001b[1;32m    582\u001b[0m     err: Optional[\u001b[38;5;167;01mException\u001b[39;00m] \u001b[38;5;241m=\u001b[39m \u001b[38;5;28;01mNone\u001b[39;00m,\n\u001b[1;32m    583\u001b[0m ) \u001b[38;5;241m-\u001b[39m\u001b[38;5;241m>\u001b[39m NoReturn:\n\u001b[0;32m--> 584\u001b[0m     \u001b[38;5;28;01mraise\u001b[39;00m exc_cls(\n\u001b[1;32m    585\u001b[0m         \u001b[38;5;124m\"\u001b[39m\u001b[38;5;132;01m%(extra)s\u001b[39;00m\u001b[38;5;124mTextual SQL expression \u001b[39m\u001b[38;5;132;01m%(expr)r\u001b[39;00m\u001b[38;5;124m \u001b[39m\u001b[38;5;132;01m%(argname)s\u001b[39;00m\u001b[38;5;124mshould be \u001b[39m\u001b[38;5;124m\"\u001b[39m\n\u001b[1;32m    586\u001b[0m         \u001b[38;5;124m\"\u001b[39m\u001b[38;5;124mexplicitly declared as text(\u001b[39m\u001b[38;5;132;01m%(expr)r\u001b[39;00m\u001b[38;5;124m)\u001b[39m\u001b[38;5;124m\"\u001b[39m\n\u001b[1;32m    587\u001b[0m         \u001b[38;5;241m%\u001b[39m {\n\u001b[1;32m    588\u001b[0m             \u001b[38;5;124m\"\u001b[39m\u001b[38;5;124mexpr\u001b[39m\u001b[38;5;124m\"\u001b[39m: util\u001b[38;5;241m.\u001b[39mellipses_string(element),\n\u001b[1;32m    589\u001b[0m             \u001b[38;5;124m\"\u001b[39m\u001b[38;5;124margname\u001b[39m\u001b[38;5;124m\"\u001b[39m: \u001b[38;5;124m\"\u001b[39m\u001b[38;5;124mfor argument \u001b[39m\u001b[38;5;132;01m%s\u001b[39;00m\u001b[38;5;124m\"\u001b[39m \u001b[38;5;241m%\u001b[39m (argname,) \u001b[38;5;28;01mif\u001b[39;00m argname \u001b[38;5;28;01melse\u001b[39;00m \u001b[38;5;124m\"\u001b[39m\u001b[38;5;124m\"\u001b[39m,\n\u001b[1;32m    590\u001b[0m             \u001b[38;5;124m\"\u001b[39m\u001b[38;5;124mextra\u001b[39m\u001b[38;5;124m\"\u001b[39m: \u001b[38;5;124m\"\u001b[39m\u001b[38;5;132;01m%s\u001b[39;00m\u001b[38;5;124m \u001b[39m\u001b[38;5;124m\"\u001b[39m \u001b[38;5;241m%\u001b[39m extra \u001b[38;5;28;01mif\u001b[39;00m extra \u001b[38;5;28;01melse\u001b[39;00m \u001b[38;5;124m\"\u001b[39m\u001b[38;5;124m\"\u001b[39m,\n\u001b[1;32m    591\u001b[0m         }\n\u001b[1;32m    592\u001b[0m     ) \u001b[38;5;28;01mfrom\u001b[39;00m \u001b[38;5;21;01merr\u001b[39;00m\n",
      "\u001b[0;31mCompileError\u001b[0m: Can't resolve label reference for ORDER BY / GROUP BY / DISTINCT etc. Textual SQL expression 'abs_difference' should be explicitly declared as text('abs_difference')"
     ]
    }
   ],
   "source": [
    "from datachain.sql.types import Float\n",
    "from sqlalchemy import cast\n",
    "\n",
    "\n",
    "\n",
    "embeddings_differences = (\n",
    "    DataChain\n",
    "    .from_dataset(\"embeddings\")\n",
    "    .mutate(\n",
    "        query_sim_new = 1 - cosine_distance(C.document.embeddings_new, embedded_query_new),\n",
    "        query_sim_old = 1 - cosine_distance(C.document.embeddings_old, embedded_query_old),\n",
    "        )\n",
    "    .mutate(abs_difference = cast(func.abs(C.query_sim_old - C.query_sim_new), Float))\n",
    "    .filter(C.abs_difference > 0.1)\n",
    "    .order_by(\"abs_difference\", descending=True)\n",
    "    .save(\"embeddings-differences\")\n",
    ")\n",
    "\n"
   ]
  },
  {
   "cell_type": "code",
   "execution_count": 28,
   "metadata": {},
   "outputs": [
    {
     "data": {
      "text/html": [
       "<div>\n",
       "<style scoped>\n",
       "    .dataframe tbody tr th:only-of-type {\n",
       "        vertical-align: middle;\n",
       "    }\n",
       "\n",
       "    .dataframe tbody tr th {\n",
       "        vertical-align: top;\n",
       "    }\n",
       "\n",
       "    .dataframe thead tr th {\n",
       "        text-align: left;\n",
       "    }\n",
       "</style>\n",
       "<table border=\"1\" class=\"dataframe\">\n",
       "  <thead>\n",
       "    <tr>\n",
       "      <th></th>\n",
       "      <th>document</th>\n",
       "      <th>document</th>\n",
       "      <th>document</th>\n",
       "      <th>document</th>\n",
       "      <th>query_sim_new</th>\n",
       "      <th>query_sim_old</th>\n",
       "      <th>abs_difference</th>\n",
       "    </tr>\n",
       "    <tr>\n",
       "      <th></th>\n",
       "      <th>key</th>\n",
       "      <th>text</th>\n",
       "      <th>embeddings_new</th>\n",
       "      <th>embeddings_old</th>\n",
       "      <th></th>\n",
       "      <th></th>\n",
       "      <th></th>\n",
       "    </tr>\n",
       "  </thead>\n",
       "  <tbody>\n",
       "    <tr>\n",
       "      <th>0</th>\n",
       "      <td>02e74f10e0327ad868d138f2b4fdd6f0</td>\n",
       "      <td>BIT - SERIAL NEURAL NETWORKS</td>\n",
       "      <td>[-0.030196942389011383, -0.06633897870779037, ...</td>\n",
       "      <td>[-0.07493580877780914, 0.012978934682905674, 0...</td>\n",
       "      <td>0.533119</td>\n",
       "      <td>0.381494</td>\n",
       "      <td>0.151625</td>\n",
       "    </tr>\n",
       "    <tr>\n",
       "      <th>1</th>\n",
       "      <td>02e74f10e0327ad868d138f2b4fdd6f0</td>\n",
       "      <td>1. INTRODUCTION The functions a synthetic neur...</td>\n",
       "      <td>[-0.1375100016593933, -0.0450475737452507, 0.0...</td>\n",
       "      <td>[-0.06053103134036064, -0.09561526775360107, 0...</td>\n",
       "      <td>0.607742</td>\n",
       "      <td>0.416236</td>\n",
       "      <td>0.191506</td>\n",
       "    </tr>\n",
       "    <tr>\n",
       "      <th>2</th>\n",
       "      <td>02e74f10e0327ad868d138f2b4fdd6f0</td>\n",
       "      <td>••••</td>\n",
       "      <td>[-0.026564784348011017, 0.012484120205044746, ...</td>\n",
       "      <td>[-0.03220053017139435, 0.09041707962751389, 0....</td>\n",
       "      <td>0.245366</td>\n",
       "      <td>0.082317</td>\n",
       "      <td>0.163049</td>\n",
       "    </tr>\n",
       "    <tr>\n",
       "      <th>3</th>\n",
       "      <td>02e74f10e0327ad868d138f2b4fdd6f0</td>\n",
       "      <td>2. DESIGNING A NEURAL NETWORK IN VLSI There ar...</td>\n",
       "      <td>[-0.09300360083580017, -0.01789306104183197, -...</td>\n",
       "      <td>[-0.07049044966697693, 0.012674105353653431, -...</td>\n",
       "      <td>0.535564</td>\n",
       "      <td>0.375011</td>\n",
       "      <td>0.160554</td>\n",
       "    </tr>\n",
       "    <tr>\n",
       "      <th>4</th>\n",
       "      <td>02e74f10e0327ad868d138f2b4fdd6f0</td>\n",
       "      <td>schematically in figure 1. Neurons are represe...</td>\n",
       "      <td>[-0.05692463740706444, -0.13023889064788818, -...</td>\n",
       "      <td>[-0.042826421558856964, -0.048659197986125946,...</td>\n",
       "      <td>0.443504</td>\n",
       "      <td>0.340629</td>\n",
       "      <td>0.102876</td>\n",
       "    </tr>\n",
       "    <tr>\n",
       "      <th>5</th>\n",
       "      <td>02e74f10e0327ad868d138f2b4fdd6f0</td>\n",
       "      <td>This type of architecture has many attractions...</td>\n",
       "      <td>[-0.1290586143732071, 0.0022016428411006927, -...</td>\n",
       "      <td>[-0.05126562714576721, -0.04263382777571678, -...</td>\n",
       "      <td>0.483902</td>\n",
       "      <td>0.345337</td>\n",
       "      <td>0.138565</td>\n",
       "    </tr>\n",
       "    <tr>\n",
       "      <th>6</th>\n",
       "      <td>02e74f10e0327ad868d138f2b4fdd6f0</td>\n",
       "      <td>. • •</td>\n",
       "      <td>[-0.0232548750936985, 0.02289084531366825, 0.0...</td>\n",
       "      <td>[-0.10351596772670746, 0.07053536921739578, 0....</td>\n",
       "      <td>0.208397</td>\n",
       "      <td>0.096746</td>\n",
       "      <td>0.111652</td>\n",
       "    </tr>\n",
       "    <tr>\n",
       "      <th>7</th>\n",
       "      <td>02e74f10e0327ad868d138f2b4fdd6f0</td>\n",
       "      <td>XT ••</td>\n",
       "      <td>[-0.0971812754869461, 0.03636486455798149, 0.0...</td>\n",
       "      <td>[-0.06501650810241699, 0.05148424953222275, 0....</td>\n",
       "      <td>0.277578</td>\n",
       "      <td>0.029010</td>\n",
       "      <td>0.248568</td>\n",
       "    </tr>\n",
       "    <tr>\n",
       "      <th>8</th>\n",
       "      <td>02e74f10e0327ad868d138f2b4fdd6f0</td>\n",
       "      <td>thus forms a switched \"ring - oscillator\". H t...</td>\n",
       "      <td>[-0.06609629839658737, -0.08229639381170273, -...</td>\n",
       "      <td>[-0.02229445055127144, -0.07022479176521301, -...</td>\n",
       "      <td>0.330555</td>\n",
       "      <td>0.112269</td>\n",
       "      <td>0.218287</td>\n",
       "    </tr>\n",
       "    <tr>\n",
       "      <th>9</th>\n",
       "      <td>02e74f10e0327ad868d138f2b4fdd6f0</td>\n",
       "      <td>3. A 5 - STATE BIT - SERIAL NEURAL NETWORK</td>\n",
       "      <td>[0.0179599542170763, -0.08856730908155441, -0....</td>\n",
       "      <td>[-0.061569567769765854, -0.03807055950164795, ...</td>\n",
       "      <td>0.488823</td>\n",
       "      <td>0.320944</td>\n",
       "      <td>0.167879</td>\n",
       "    </tr>\n",
       "    <tr>\n",
       "      <th>10</th>\n",
       "      <td>02e74f10e0327ad868d138f2b4fdd6f0</td>\n",
       "      <td>s·</td>\n",
       "      <td>[-0.04331357032060623, 0.020509829744696617, 0...</td>\n",
       "      <td>[0.018423866480588913, -0.0060643297620117664,...</td>\n",
       "      <td>0.185698</td>\n",
       "      <td>0.021032</td>\n",
       "      <td>0.164667</td>\n",
       "    </tr>\n",
       "    <tr>\n",
       "      <th>11</th>\n",
       "      <td>02e74f10e0327ad868d138f2b4fdd6f0</td>\n",
       "      <td>\"Sharper\"</td>\n",
       "      <td>[-0.025067711248993874, -0.05687279999256134, ...</td>\n",
       "      <td>[-0.027879023924469948, -0.05721931904554367, ...</td>\n",
       "      <td>0.270038</td>\n",
       "      <td>0.020465</td>\n",
       "      <td>0.249573</td>\n",
       "    </tr>\n",
       "    <tr>\n",
       "      <th>12</th>\n",
       "      <td>02e74f10e0327ad868d138f2b4fdd6f0</td>\n",
       "      <td>\"Smoother\"</td>\n",
       "      <td>[-0.017590656876564026, -0.02750868909060955, ...</td>\n",
       "      <td>[-0.12565429508686066, -0.038701072335243225, ...</td>\n",
       "      <td>0.142603</td>\n",
       "      <td>-0.027015</td>\n",
       "      <td>0.169618</td>\n",
       "    </tr>\n",
       "    <tr>\n",
       "      <th>13</th>\n",
       "      <td>02e74f10e0327ad868d138f2b4fdd6f0</td>\n",
       "      <td>v,</td>\n",
       "      <td>[-0.014158559963107109, 0.05126439034938812, 0...</td>\n",
       "      <td>[0.012929379940032959, 0.06693925708532333, -0...</td>\n",
       "      <td>0.189344</td>\n",
       "      <td>0.044745</td>\n",
       "      <td>0.144599</td>\n",
       "    </tr>\n",
       "    <tr>\n",
       "      <th>14</th>\n",
       "      <td>02e74f10e0327ad868d138f2b4fdd6f0</td>\n",
       "      <td>v,</td>\n",
       "      <td>[-0.014158559963107109, 0.05126439034938812, 0...</td>\n",
       "      <td>[0.012929379940032959, 0.06693925708532333, -0...</td>\n",
       "      <td>0.189344</td>\n",
       "      <td>0.044745</td>\n",
       "      <td>0.144599</td>\n",
       "    </tr>\n",
       "    <tr>\n",
       "      <th>15</th>\n",
       "      <td>02e74f10e0327ad868d138f2b4fdd6f0</td>\n",
       "      <td>8 bits to allow for word growth in the running...</td>\n",
       "      <td>[-0.00941613968461752, -0.0840260311961174, -0...</td>\n",
       "      <td>[0.03620617464184761, -0.018486442044377327, -...</td>\n",
       "      <td>0.328390</td>\n",
       "      <td>0.190593</td>\n",
       "      <td>0.137797</td>\n",
       "    </tr>\n",
       "    <tr>\n",
       "      <th>16</th>\n",
       "      <td>02e74f10e0327ad868d138f2b4fdd6f0</td>\n",
       "      <td>Subtract</td>\n",
       "      <td>[-0.0796712189912796, 0.05782950669527054, 0.0...</td>\n",
       "      <td>[-0.01631167344748974, 0.12614113092422485, 0....</td>\n",
       "      <td>0.201153</td>\n",
       "      <td>0.058449</td>\n",
       "      <td>0.142704</td>\n",
       "    </tr>\n",
       "    <tr>\n",
       "      <th>17</th>\n",
       "      <td>02e74f10e0327ad868d138f2b4fdd6f0</td>\n",
       "      <td>Figure S. The synaptic operator with a 5 - sta...</td>\n",
       "      <td>[0.0292194914072752, -0.10358624905347824, 0.0...</td>\n",
       "      <td>[-0.08604525029659271, -0.07324904203414917, 0...</td>\n",
       "      <td>0.184348</td>\n",
       "      <td>0.309267</td>\n",
       "      <td>0.124919</td>\n",
       "    </tr>\n",
       "    <tr>\n",
       "      <th>18</th>\n",
       "      <td>02e74f10e0327ad868d138f2b4fdd6f0</td>\n",
       "      <td>does not alter the running summation. The fina...</td>\n",
       "      <td>[-0.025484487414360046, -0.0356123261153698, 0...</td>\n",
       "      <td>[-0.08778031170368195, -0.09773284941911697, 0...</td>\n",
       "      <td>0.355955</td>\n",
       "      <td>0.166512</td>\n",
       "      <td>0.189443</td>\n",
       "    </tr>\n",
       "    <tr>\n",
       "      <th>19</th>\n",
       "      <td>02e74f10e0327ad868d138f2b4fdd6f0</td>\n",
       "      <td>which is determined by the size of the synapti...</td>\n",
       "      <td>[-0.09796855598688126, 0.04271940141916275, -0...</td>\n",
       "      <td>[-0.031198125332593918, -0.10487168282270432, ...</td>\n",
       "      <td>0.278365</td>\n",
       "      <td>0.154128</td>\n",
       "      <td>0.124237</td>\n",
       "    </tr>\n",
       "  </tbody>\n",
       "</table>\n",
       "</div>"
      ],
      "text/plain": [
       "                            document  \\\n",
       "                                 key   \n",
       "0   02e74f10e0327ad868d138f2b4fdd6f0   \n",
       "1   02e74f10e0327ad868d138f2b4fdd6f0   \n",
       "2   02e74f10e0327ad868d138f2b4fdd6f0   \n",
       "3   02e74f10e0327ad868d138f2b4fdd6f0   \n",
       "4   02e74f10e0327ad868d138f2b4fdd6f0   \n",
       "5   02e74f10e0327ad868d138f2b4fdd6f0   \n",
       "6   02e74f10e0327ad868d138f2b4fdd6f0   \n",
       "7   02e74f10e0327ad868d138f2b4fdd6f0   \n",
       "8   02e74f10e0327ad868d138f2b4fdd6f0   \n",
       "9   02e74f10e0327ad868d138f2b4fdd6f0   \n",
       "10  02e74f10e0327ad868d138f2b4fdd6f0   \n",
       "11  02e74f10e0327ad868d138f2b4fdd6f0   \n",
       "12  02e74f10e0327ad868d138f2b4fdd6f0   \n",
       "13  02e74f10e0327ad868d138f2b4fdd6f0   \n",
       "14  02e74f10e0327ad868d138f2b4fdd6f0   \n",
       "15  02e74f10e0327ad868d138f2b4fdd6f0   \n",
       "16  02e74f10e0327ad868d138f2b4fdd6f0   \n",
       "17  02e74f10e0327ad868d138f2b4fdd6f0   \n",
       "18  02e74f10e0327ad868d138f2b4fdd6f0   \n",
       "19  02e74f10e0327ad868d138f2b4fdd6f0   \n",
       "\n",
       "                                             document  \\\n",
       "                                                 text   \n",
       "0                        BIT - SERIAL NEURAL NETWORKS   \n",
       "1   1. INTRODUCTION The functions a synthetic neur...   \n",
       "2                                                ••••   \n",
       "3   2. DESIGNING A NEURAL NETWORK IN VLSI There ar...   \n",
       "4   schematically in figure 1. Neurons are represe...   \n",
       "5   This type of architecture has many attractions...   \n",
       "6                                               . • •   \n",
       "7                                               XT ••   \n",
       "8   thus forms a switched \"ring - oscillator\". H t...   \n",
       "9          3. A 5 - STATE BIT - SERIAL NEURAL NETWORK   \n",
       "10                                                 s·   \n",
       "11                                          \"Sharper\"   \n",
       "12                                         \"Smoother\"   \n",
       "13                                                 v,   \n",
       "14                                                 v,   \n",
       "15  8 bits to allow for word growth in the running...   \n",
       "16                                           Subtract   \n",
       "17  Figure S. The synaptic operator with a 5 - sta...   \n",
       "18  does not alter the running summation. The fina...   \n",
       "19  which is determined by the size of the synapti...   \n",
       "\n",
       "                                             document  \\\n",
       "                                       embeddings_new   \n",
       "0   [-0.030196942389011383, -0.06633897870779037, ...   \n",
       "1   [-0.1375100016593933, -0.0450475737452507, 0.0...   \n",
       "2   [-0.026564784348011017, 0.012484120205044746, ...   \n",
       "3   [-0.09300360083580017, -0.01789306104183197, -...   \n",
       "4   [-0.05692463740706444, -0.13023889064788818, -...   \n",
       "5   [-0.1290586143732071, 0.0022016428411006927, -...   \n",
       "6   [-0.0232548750936985, 0.02289084531366825, 0.0...   \n",
       "7   [-0.0971812754869461, 0.03636486455798149, 0.0...   \n",
       "8   [-0.06609629839658737, -0.08229639381170273, -...   \n",
       "9   [0.0179599542170763, -0.08856730908155441, -0....   \n",
       "10  [-0.04331357032060623, 0.020509829744696617, 0...   \n",
       "11  [-0.025067711248993874, -0.05687279999256134, ...   \n",
       "12  [-0.017590656876564026, -0.02750868909060955, ...   \n",
       "13  [-0.014158559963107109, 0.05126439034938812, 0...   \n",
       "14  [-0.014158559963107109, 0.05126439034938812, 0...   \n",
       "15  [-0.00941613968461752, -0.0840260311961174, -0...   \n",
       "16  [-0.0796712189912796, 0.05782950669527054, 0.0...   \n",
       "17  [0.0292194914072752, -0.10358624905347824, 0.0...   \n",
       "18  [-0.025484487414360046, -0.0356123261153698, 0...   \n",
       "19  [-0.09796855598688126, 0.04271940141916275, -0...   \n",
       "\n",
       "                                             document query_sim_new  \\\n",
       "                                       embeddings_old                 \n",
       "0   [-0.07493580877780914, 0.012978934682905674, 0...      0.533119   \n",
       "1   [-0.06053103134036064, -0.09561526775360107, 0...      0.607742   \n",
       "2   [-0.03220053017139435, 0.09041707962751389, 0....      0.245366   \n",
       "3   [-0.07049044966697693, 0.012674105353653431, -...      0.535564   \n",
       "4   [-0.042826421558856964, -0.048659197986125946,...      0.443504   \n",
       "5   [-0.05126562714576721, -0.04263382777571678, -...      0.483902   \n",
       "6   [-0.10351596772670746, 0.07053536921739578, 0....      0.208397   \n",
       "7   [-0.06501650810241699, 0.05148424953222275, 0....      0.277578   \n",
       "8   [-0.02229445055127144, -0.07022479176521301, -...      0.330555   \n",
       "9   [-0.061569567769765854, -0.03807055950164795, ...      0.488823   \n",
       "10  [0.018423866480588913, -0.0060643297620117664,...      0.185698   \n",
       "11  [-0.027879023924469948, -0.05721931904554367, ...      0.270038   \n",
       "12  [-0.12565429508686066, -0.038701072335243225, ...      0.142603   \n",
       "13  [0.012929379940032959, 0.06693925708532333, -0...      0.189344   \n",
       "14  [0.012929379940032959, 0.06693925708532333, -0...      0.189344   \n",
       "15  [0.03620617464184761, -0.018486442044377327, -...      0.328390   \n",
       "16  [-0.01631167344748974, 0.12614113092422485, 0....      0.201153   \n",
       "17  [-0.08604525029659271, -0.07324904203414917, 0...      0.184348   \n",
       "18  [-0.08778031170368195, -0.09773284941911697, 0...      0.355955   \n",
       "19  [-0.031198125332593918, -0.10487168282270432, ...      0.278365   \n",
       "\n",
       "   query_sim_old abs_difference  \n",
       "                                 \n",
       "0       0.381494       0.151625  \n",
       "1       0.416236       0.191506  \n",
       "2       0.082317       0.163049  \n",
       "3       0.375011       0.160554  \n",
       "4       0.340629       0.102876  \n",
       "5       0.345337       0.138565  \n",
       "6       0.096746       0.111652  \n",
       "7       0.029010       0.248568  \n",
       "8       0.112269       0.218287  \n",
       "9       0.320944       0.167879  \n",
       "10      0.021032       0.164667  \n",
       "11      0.020465       0.249573  \n",
       "12     -0.027015       0.169618  \n",
       "13      0.044745       0.144599  \n",
       "14      0.044745       0.144599  \n",
       "15      0.190593       0.137797  \n",
       "16      0.058449       0.142704  \n",
       "17      0.309267       0.124919  \n",
       "18      0.166512       0.189443  \n",
       "19      0.154128       0.124237  "
      ]
     },
     "metadata": {},
     "output_type": "display_data"
    },
    {
     "name": "stdout",
     "output_type": "stream",
     "text": [
      "\n",
      "[Limited by 20 rows]\n"
     ]
    }
   ],
   "source": [
    "embeddings_differences.show(20)"
   ]
  },
  {
   "cell_type": "markdown",
   "metadata": {},
   "source": [
    "We have now solved our scalability issues. When using `DataChain` locally, our computation will still be restricted to a simgle machine but for larger datasets you can use the SaaS version of DataChain available through our DVC Studio which comes with automatic computation cluster management, a graphical user interface and additional ML and data versioning features.\n",
    "\n",
    "We have also solved our versioning needs and we can track the differences between embeddings over time and use that to choose the best embedding for our use-case."
   ]
  },
  {
   "cell_type": "markdown",
   "metadata": {},
   "source": [
    "### Adding more context - merging datasets"
   ]
  },
  {
   "cell_type": "markdown",
   "metadata": {},
   "source": [
    "In our example bucket, we have not only the `pdf` files themselves but also additinal metadata stored as JSON files. We will now see how we can use Datachain to add the information about authors and the paper title to our `embeddings-differences` dataset which can help us with our evaluation."
   ]
  },
  {
   "cell_type": "code",
   "execution_count": 72,
   "metadata": {},
   "outputs": [
    {
     "data": {
      "text/plain": [
       "[{'given_name': 'Alan', 'family_name': 'Murray', 'institution': None},\n",
       " {'given_name': 'Anthony', 'family_name': 'Smith', 'institution': None},\n",
       " {'given_name': 'Zoe', 'family_name': 'Butler', 'institution': None}]"
      ]
     },
     "execution_count": 72,
     "metadata": {},
     "output_type": "execute_result"
    }
   ],
   "source": [
    "import json\n",
    "meta = json.load(open(\"sample.json\"))\n",
    "meta[\"authors\"]"
   ]
  },
  {
   "cell_type": "markdown",
   "metadata": {},
   "source": [
    "As we can see, the metadata contains information about the authors of the paper as a list of dictionaries with each author's name ane institution. Some values can be also be empty. Just as above we create a `DataModel` class to specify the outputs, keeping the name of the file as a key which we will use to join with the previous dataset.\n",
    "\n",
    "Then we create a function to parse all this information and create a new dataset. We will now only create a single row per original dataset, so we use `return` instead of yield (and there is no need for the `Iterator` class)"
   ]
  },
  {
   "cell_type": "code",
   "execution_count": 32,
   "metadata": {},
   "outputs": [],
   "source": [
    "# Define the output as a Feature class\n",
    "class Metadata(DataModel):\n",
    "    key: str\n",
    "    title: str\n",
    "    authors: list[dict[str, Optional[str]]]\n",
    "\n",
    "\n",
    "# Use signatures to define input/output types (these can be Feature or regular Python types)\n",
    "def extract_metadata(file: File) -> Metadata:\n",
    "    import json\n",
    "    # Ingest the file\n",
    "    metadata = json.loads(file.read())\n",
    "\n",
    "    record = dict()\n",
    "    record[\"key\"] = file.name.removesuffix(\"Metadata.json\")+\"Paper.pdf\"\n",
    "    record[\"title\"] = metadata[\"title\"]\n",
    "    record[\"authors\"] = metadata[\"authors\"]\n",
    "\n",
    "    return Metadata(**record)"
   ]
  },
  {
   "cell_type": "markdown",
   "metadata": {},
   "source": [
    "We now apply the `extract_metadata` function as we did with `pdf_chunks` above, except that we use the `.map` method of DataChain which is employed when there is a 1:1 correspondence between the number of rows of the orignal and the new dataset."
   ]
  },
  {
   "cell_type": "code",
   "execution_count": 33,
   "metadata": {},
   "outputs": [
    {
     "name": "stderr",
     "output_type": "stream",
     "text": [
      "Processed: 738 rows [00:00, 27033.32 rows/s]\n",
      "Download: 4.01MB [01:25, 49.0kB/s]\n",
      "Processed: 184 rows [01:25,  2.15 rows/s]\n"
     ]
    },
    {
     "data": {
      "text/html": [
       "<div>\n",
       "<style scoped>\n",
       "    .dataframe tbody tr th:only-of-type {\n",
       "        vertical-align: middle;\n",
       "    }\n",
       "\n",
       "    .dataframe tbody tr th {\n",
       "        vertical-align: top;\n",
       "    }\n",
       "\n",
       "    .dataframe thead tr th {\n",
       "        text-align: left;\n",
       "    }\n",
       "</style>\n",
       "<table border=\"1\" class=\"dataframe\">\n",
       "  <thead>\n",
       "    <tr>\n",
       "      <th></th>\n",
       "      <th>document</th>\n",
       "      <th>document</th>\n",
       "      <th>document</th>\n",
       "    </tr>\n",
       "    <tr>\n",
       "      <th></th>\n",
       "      <th>key</th>\n",
       "      <th>title</th>\n",
       "      <th>authors</th>\n",
       "    </tr>\n",
       "  </thead>\n",
       "  <tbody>\n",
       "    <tr>\n",
       "      <th>0</th>\n",
       "      <td>02e74f10e0327ad868d138f2b4fdd6f0-Paper.pdf</td>\n",
       "      <td>Bit-Serial Neural Networks</td>\n",
       "      <td>[{'given_name': 'Alan', 'family_name': 'Murray...</td>\n",
       "    </tr>\n",
       "    <tr>\n",
       "      <th>1</th>\n",
       "      <td>03afdbd66e7929b125f8597834fa83a4-Paper.pdf</td>\n",
       "      <td>Connectivity Versus Entropy</td>\n",
       "      <td>[{'given_name': 'Yaser', 'family_name': 'Abu-M...</td>\n",
       "    </tr>\n",
       "    <tr>\n",
       "      <th>2</th>\n",
       "      <td>072b030ba126b2f4b2374f342be9ed44-Paper.pdf</td>\n",
       "      <td>The Hopfield Model with Multi-Level Neurons</td>\n",
       "      <td>[{'given_name': 'Michael', 'family_name': 'Fle...</td>\n",
       "    </tr>\n",
       "  </tbody>\n",
       "</table>\n",
       "</div>"
      ],
      "text/plain": [
       "                                     document  \\\n",
       "                                          key   \n",
       "0  02e74f10e0327ad868d138f2b4fdd6f0-Paper.pdf   \n",
       "1  03afdbd66e7929b125f8597834fa83a4-Paper.pdf   \n",
       "2  072b030ba126b2f4b2374f342be9ed44-Paper.pdf   \n",
       "\n",
       "                                      document  \\\n",
       "                                         title   \n",
       "0                   Bit-Serial Neural Networks   \n",
       "1                  Connectivity Versus Entropy   \n",
       "2  The Hopfield Model with Multi-Level Neurons   \n",
       "\n",
       "                                            document  \n",
       "                                             authors  \n",
       "0  [{'given_name': 'Alan', 'family_name': 'Murray...  \n",
       "1  [{'given_name': 'Yaser', 'family_name': 'Abu-M...  \n",
       "2  [{'given_name': 'Michael', 'family_name': 'Fle...  "
      ]
     },
     "metadata": {},
     "output_type": "display_data"
    },
    {
     "name": "stdout",
     "output_type": "stream",
     "text": [
      "\n",
      "[Limited by 3 rows]\n"
     ]
    }
   ],
   "source": [
    "dc_meta = (\n",
    "    DataChain.from_storage(\"gs://datachain-demo/neurips\")\n",
    "    .filter(C.name.glob(\"*Metadata.json\"))\n",
    "    )\n",
    "\n",
    "(\n",
    "    dc_meta.\n",
    "    map(document=extract_metadata)\n",
    "    .select(\n",
    "        \"document.key\",\n",
    "        \"document.title\",\n",
    "        \"document.authors\",\n",
    "    )\n",
    "    .show(3)\n",
    ")"
   ]
  },
  {
   "cell_type": "markdown",
   "metadata": {},
   "source": [
    "Finally we will merge the two datasets using the DataChain `.merge` method."
   ]
  },
  {
   "cell_type": "code",
   "execution_count": 37,
   "metadata": {},
   "outputs": [
    {
     "name": "stderr",
     "output_type": "stream",
     "text": [
      "Processed: 738 rows [00:00, 13187.78 rows/s]\n"
     ]
    },
    {
     "ename": "ValueError",
     "evalue": "Column document__key was not found in right part of the join",
     "output_type": "error",
     "traceback": [
      "\u001b[0;31m---------------------------------------------------------------------------\u001b[0m",
      "\u001b[0;31mValueError\u001b[0m                                Traceback (most recent call last)",
      "Cell \u001b[0;32mIn[37], line 1\u001b[0m\n\u001b[0;32m----> 1\u001b[0m \u001b[43mDataChain\u001b[49m\u001b[38;5;241;43m.\u001b[39;49m\u001b[43mfrom_dataset\u001b[49m\u001b[43m(\u001b[49m\u001b[38;5;124;43m\"\u001b[39;49m\u001b[38;5;124;43membeddings-differences\u001b[39;49m\u001b[38;5;124;43m\"\u001b[39;49m\u001b[43m)\u001b[49m\u001b[38;5;241;43m.\u001b[39;49m\u001b[43mmerge\u001b[49m\u001b[43m(\u001b[49m\u001b[43mdc_meta\u001b[49m\u001b[43m,\u001b[49m\u001b[43m \u001b[49m\u001b[43mon\u001b[49m\u001b[38;5;241;43m=\u001b[39;49m\u001b[38;5;124;43m\"\u001b[39;49m\u001b[38;5;124;43mdocument.key\u001b[39;49m\u001b[38;5;124;43m\"\u001b[39;49m\u001b[43m)\u001b[49m\u001b[38;5;241;43m.\u001b[39;49m\u001b[43mshow\u001b[49m\u001b[43m(\u001b[49m\u001b[38;5;241;43m20\u001b[39;49m\u001b[43m)\u001b[49m\n",
      "File \u001b[0;32m~/Repos/datachain/.venv/lib64/python3.12/site-packages/datachain/lib/dc.py:1019\u001b[0m, in \u001b[0;36mDataChain.show\u001b[0;34m(self, limit, flatten, transpose, truncate)\u001b[0m\n\u001b[1;32m   1010\u001b[0m \u001b[38;5;250m\u001b[39m\u001b[38;5;124;03m\"\"\"Show a preview of the chain results.\u001b[39;00m\n\u001b[1;32m   1011\u001b[0m \n\u001b[1;32m   1012\u001b[0m \u001b[38;5;124;03mParameters:\u001b[39;00m\n\u001b[0;32m   (...)\u001b[0m\n\u001b[1;32m   1016\u001b[0m \u001b[38;5;124;03m    truncate : Whether or not to truncate the contents of columns.\u001b[39;00m\n\u001b[1;32m   1017\u001b[0m \u001b[38;5;124;03m\"\"\"\u001b[39;00m\n\u001b[1;32m   1018\u001b[0m dc \u001b[38;5;241m=\u001b[39m \u001b[38;5;28mself\u001b[39m\u001b[38;5;241m.\u001b[39mlimit(limit) \u001b[38;5;28;01mif\u001b[39;00m limit \u001b[38;5;241m>\u001b[39m \u001b[38;5;241m0\u001b[39m \u001b[38;5;28;01melse\u001b[39;00m \u001b[38;5;28mself\u001b[39m\n\u001b[0;32m-> 1019\u001b[0m df \u001b[38;5;241m=\u001b[39m \u001b[43mdc\u001b[49m\u001b[38;5;241;43m.\u001b[39;49m\u001b[43mto_pandas\u001b[49m\u001b[43m(\u001b[49m\u001b[43mflatten\u001b[49m\u001b[43m)\u001b[49m\n\u001b[1;32m   1020\u001b[0m \u001b[38;5;28;01mif\u001b[39;00m transpose:\n\u001b[1;32m   1021\u001b[0m     df \u001b[38;5;241m=\u001b[39m df\u001b[38;5;241m.\u001b[39mT\n",
      "File \u001b[0;32m~/Repos/datachain/.venv/lib64/python3.12/site-packages/datachain/lib/dc.py:999\u001b[0m, in \u001b[0;36mDataChain.to_pandas\u001b[0;34m(self, flatten)\u001b[0m\n\u001b[1;32m    996\u001b[0m         df\u001b[38;5;241m.\u001b[39mcolumns \u001b[38;5;241m=\u001b[39m [\u001b[38;5;124m\"\u001b[39m\u001b[38;5;124m.\u001b[39m\u001b[38;5;124m\"\u001b[39m\u001b[38;5;241m.\u001b[39mjoin(\u001b[38;5;28mfilter\u001b[39m(\u001b[38;5;28;01mNone\u001b[39;00m, header)) \u001b[38;5;28;01mfor\u001b[39;00m header \u001b[38;5;129;01min\u001b[39;00m headers]\n\u001b[1;32m    997\u001b[0m     \u001b[38;5;28;01mreturn\u001b[39;00m df\n\u001b[0;32m--> 999\u001b[0m transposed_result \u001b[38;5;241m=\u001b[39m \u001b[38;5;28mlist\u001b[39m(\u001b[38;5;28mmap\u001b[39m(\u001b[38;5;28mlist\u001b[39m, \u001b[38;5;28mzip\u001b[39m(\u001b[38;5;241m*\u001b[39m\u001b[38;5;28;43mself\u001b[39;49m\u001b[38;5;241;43m.\u001b[39;49m\u001b[43mresults\u001b[49m\u001b[43m(\u001b[49m\u001b[43m)\u001b[49m)))\n\u001b[1;32m   1000\u001b[0m data \u001b[38;5;241m=\u001b[39m {\u001b[38;5;28mtuple\u001b[39m(n): val \u001b[38;5;28;01mfor\u001b[39;00m n, val \u001b[38;5;129;01min\u001b[39;00m \u001b[38;5;28mzip\u001b[39m(headers, transposed_result)}\n\u001b[1;32m   1001\u001b[0m \u001b[38;5;28;01mreturn\u001b[39;00m pd\u001b[38;5;241m.\u001b[39mDataFrame(data)\n",
      "File \u001b[0;32m~/Repos/datachain/.venv/lib64/python3.12/site-packages/datachain/lib/dc.py:753\u001b[0m, in \u001b[0;36mDataChain.results\u001b[0;34m(self, row_factory, **kwargs)\u001b[0m\n\u001b[1;32m    752\u001b[0m \u001b[38;5;28;01mdef\u001b[39;00m \u001b[38;5;21mresults\u001b[39m(\u001b[38;5;28mself\u001b[39m, row_factory\u001b[38;5;241m=\u001b[39m\u001b[38;5;28;01mNone\u001b[39;00m, \u001b[38;5;241m*\u001b[39m\u001b[38;5;241m*\u001b[39mkwargs):  \u001b[38;5;66;03m# noqa: D102\u001b[39;00m\n\u001b[0;32m--> 753\u001b[0m     \u001b[38;5;28;01mreturn\u001b[39;00m \u001b[38;5;28;43mlist\u001b[39;49m\u001b[43m(\u001b[49m\u001b[38;5;28;43mself\u001b[39;49m\u001b[38;5;241;43m.\u001b[39;49m\u001b[43miterate_flatten\u001b[49m\u001b[43m(\u001b[49m\u001b[43mrow_factory\u001b[49m\u001b[38;5;241;43m=\u001b[39;49m\u001b[43mrow_factory\u001b[49m\u001b[43m)\u001b[49m\u001b[43m)\u001b[49m\n",
      "File \u001b[0;32m~/Repos/datachain/.venv/lib64/python3.12/site-packages/datachain/lib/dc.py:739\u001b[0m, in \u001b[0;36mDataChain.iterate_flatten\u001b[0;34m(self, row_factory)\u001b[0m\n\u001b[1;32m    737\u001b[0m \u001b[38;5;28;01mdef\u001b[39;00m \u001b[38;5;21miterate_flatten\u001b[39m(\u001b[38;5;28mself\u001b[39m, row_factory\u001b[38;5;241m=\u001b[39m\u001b[38;5;28;01mNone\u001b[39;00m):  \u001b[38;5;66;03m# noqa: D102\u001b[39;00m\n\u001b[1;32m    738\u001b[0m     db_signals \u001b[38;5;241m=\u001b[39m \u001b[38;5;28mself\u001b[39m\u001b[38;5;241m.\u001b[39m_effective_signals_schema\u001b[38;5;241m.\u001b[39mdb_signals()\n\u001b[0;32m--> 739\u001b[0m \u001b[43m    \u001b[49m\u001b[38;5;28;43;01mwith\u001b[39;49;00m\u001b[43m \u001b[49m\u001b[38;5;28;43msuper\u001b[39;49m\u001b[43m(\u001b[49m\u001b[43m)\u001b[49m\u001b[38;5;241;43m.\u001b[39;49m\u001b[43mselect\u001b[49m\u001b[43m(\u001b[49m\u001b[38;5;241;43m*\u001b[39;49m\u001b[43mdb_signals\u001b[49m\u001b[43m)\u001b[49m\u001b[38;5;241;43m.\u001b[39;49m\u001b[43mas_iterable\u001b[49m\u001b[43m(\u001b[49m\u001b[43m)\u001b[49m\u001b[43m \u001b[49m\u001b[38;5;28;43;01mas\u001b[39;49;00m\u001b[43m \u001b[49m\u001b[43mrows\u001b[49m\u001b[43m:\u001b[49m\n\u001b[1;32m    740\u001b[0m \u001b[43m        \u001b[49m\u001b[38;5;28;43;01mif\u001b[39;49;00m\u001b[43m \u001b[49m\u001b[43mrow_factory\u001b[49m\u001b[43m:\u001b[49m\n\u001b[1;32m    741\u001b[0m \u001b[43m            \u001b[49m\u001b[43mrows\u001b[49m\u001b[43m \u001b[49m\u001b[38;5;241;43m=\u001b[39;49m\u001b[43m \u001b[49m\u001b[43m(\u001b[49m\u001b[43mrow_factory\u001b[49m\u001b[43m(\u001b[49m\u001b[43mdb_signals\u001b[49m\u001b[43m,\u001b[49m\u001b[43m \u001b[49m\u001b[43mr\u001b[49m\u001b[43m)\u001b[49m\u001b[43m \u001b[49m\u001b[38;5;28;43;01mfor\u001b[39;49;00m\u001b[43m \u001b[49m\u001b[43mr\u001b[49m\u001b[43m \u001b[49m\u001b[38;5;129;43;01min\u001b[39;49;00m\u001b[43m \u001b[49m\u001b[43mrows\u001b[49m\u001b[43m)\u001b[49m\n",
      "File \u001b[0;32m/usr/lib64/python3.12/contextlib.py:137\u001b[0m, in \u001b[0;36m_GeneratorContextManager.__enter__\u001b[0;34m(self)\u001b[0m\n\u001b[1;32m    135\u001b[0m \u001b[38;5;28;01mdel\u001b[39;00m \u001b[38;5;28mself\u001b[39m\u001b[38;5;241m.\u001b[39margs, \u001b[38;5;28mself\u001b[39m\u001b[38;5;241m.\u001b[39mkwds, \u001b[38;5;28mself\u001b[39m\u001b[38;5;241m.\u001b[39mfunc\n\u001b[1;32m    136\u001b[0m \u001b[38;5;28;01mtry\u001b[39;00m:\n\u001b[0;32m--> 137\u001b[0m     \u001b[38;5;28;01mreturn\u001b[39;00m \u001b[38;5;28;43mnext\u001b[39;49m\u001b[43m(\u001b[49m\u001b[38;5;28;43mself\u001b[39;49m\u001b[38;5;241;43m.\u001b[39;49m\u001b[43mgen\u001b[49m\u001b[43m)\u001b[49m\n\u001b[1;32m    138\u001b[0m \u001b[38;5;28;01mexcept\u001b[39;00m \u001b[38;5;167;01mStopIteration\u001b[39;00m:\n\u001b[1;32m    139\u001b[0m     \u001b[38;5;28;01mraise\u001b[39;00m \u001b[38;5;167;01mRuntimeError\u001b[39;00m(\u001b[38;5;124m\"\u001b[39m\u001b[38;5;124mgenerator didn\u001b[39m\u001b[38;5;124m'\u001b[39m\u001b[38;5;124mt yield\u001b[39m\u001b[38;5;124m\"\u001b[39m) \u001b[38;5;28;01mfrom\u001b[39;00m \u001b[38;5;28;01mNone\u001b[39;00m\n",
      "File \u001b[0;32m~/Repos/datachain/.venv/lib64/python3.12/site-packages/datachain/query/dataset.py:1254\u001b[0m, in \u001b[0;36mDatasetQuery.as_iterable\u001b[0;34m(self, **kwargs)\u001b[0m\n\u001b[1;32m   1251\u001b[0m \u001b[38;5;129m@contextlib\u001b[39m\u001b[38;5;241m.\u001b[39mcontextmanager\n\u001b[1;32m   1252\u001b[0m \u001b[38;5;28;01mdef\u001b[39;00m \u001b[38;5;21mas_iterable\u001b[39m(\u001b[38;5;28mself\u001b[39m, \u001b[38;5;241m*\u001b[39m\u001b[38;5;241m*\u001b[39mkwargs) \u001b[38;5;241m-\u001b[39m\u001b[38;5;241m>\u001b[39m Iterator[ResultIter]:\n\u001b[1;32m   1253\u001b[0m     \u001b[38;5;28;01mtry\u001b[39;00m:\n\u001b[0;32m-> 1254\u001b[0m         query \u001b[38;5;241m=\u001b[39m \u001b[38;5;28;43mself\u001b[39;49m\u001b[38;5;241;43m.\u001b[39;49m\u001b[43mapply_steps\u001b[49m\u001b[43m(\u001b[49m\u001b[43m)\u001b[49m\u001b[38;5;241m.\u001b[39mselect()\n\u001b[1;32m   1255\u001b[0m         selected_columns \u001b[38;5;241m=\u001b[39m [c\u001b[38;5;241m.\u001b[39mname \u001b[38;5;28;01mfor\u001b[39;00m c \u001b[38;5;129;01min\u001b[39;00m query\u001b[38;5;241m.\u001b[39mcolumns]\n\u001b[1;32m   1256\u001b[0m         \u001b[38;5;28;01myield\u001b[39;00m ResultIter(\n\u001b[1;32m   1257\u001b[0m             \u001b[38;5;28mself\u001b[39m\u001b[38;5;241m.\u001b[39mcatalog\u001b[38;5;241m.\u001b[39mwarehouse\u001b[38;5;241m.\u001b[39mdataset_rows_select(query, \u001b[38;5;241m*\u001b[39m\u001b[38;5;241m*\u001b[39mkwargs),\n\u001b[1;32m   1258\u001b[0m             selected_columns,\n\u001b[1;32m   1259\u001b[0m         )\n",
      "File \u001b[0;32m~/Repos/datachain/.venv/lib64/python3.12/site-packages/datachain/query/dataset.py:1194\u001b[0m, in \u001b[0;36mDatasetQuery.apply_steps\u001b[0;34m(self)\u001b[0m\n\u001b[1;32m   1191\u001b[0m         group_by \u001b[38;5;241m=\u001b[39m step\n\u001b[1;32m   1192\u001b[0m         \u001b[38;5;28;01mcontinue\u001b[39;00m\n\u001b[0;32m-> 1194\u001b[0m     result \u001b[38;5;241m=\u001b[39m \u001b[43mstep\u001b[49m\u001b[38;5;241;43m.\u001b[39;49m\u001b[43mapply\u001b[49m\u001b[43m(\u001b[49m\n\u001b[1;32m   1195\u001b[0m \u001b[43m        \u001b[49m\u001b[43mresult\u001b[49m\u001b[38;5;241;43m.\u001b[39;49m\u001b[43mquery_generator\u001b[49m\u001b[43m,\u001b[49m\u001b[43m \u001b[49m\u001b[38;5;28;43mself\u001b[39;49m\u001b[38;5;241;43m.\u001b[39;49m\u001b[43mtemp_table_names\u001b[49m\n\u001b[1;32m   1196\u001b[0m \u001b[43m    \u001b[49m\u001b[43m)\u001b[49m  \u001b[38;5;66;03m# a chain of steps linked by results\u001b[39;00m\n\u001b[1;32m   1197\u001b[0m     \u001b[38;5;28mself\u001b[39m\u001b[38;5;241m.\u001b[39mdependencies\u001b[38;5;241m.\u001b[39mupdate(result\u001b[38;5;241m.\u001b[39mdependencies)\n\u001b[1;32m   1199\u001b[0m \u001b[38;5;28;01mif\u001b[39;00m group_by:\n",
      "File \u001b[0;32m~/Repos/datachain/.venv/lib64/python3.12/site-packages/datachain/query/dataset.py:993\u001b[0m, in \u001b[0;36mSQLJoin.apply\u001b[0;34m(self, query_generator, temp_tables)\u001b[0m\n\u001b[1;32m    990\u001b[0m     \u001b[38;5;28;01mraise\u001b[39;00m \u001b[38;5;167;01mValueError\u001b[39;00m(\u001b[38;5;124m\"\u001b[39m\u001b[38;5;124mMissing predicates\u001b[39m\u001b[38;5;124m\"\u001b[39m)\n\u001b[1;32m    992\u001b[0m join_expression \u001b[38;5;241m=\u001b[39m sqlalchemy\u001b[38;5;241m.\u001b[39mand_(\u001b[38;5;241m*\u001b[39mexpressions)\n\u001b[0;32m--> 993\u001b[0m \u001b[38;5;28;43mself\u001b[39;49m\u001b[38;5;241;43m.\u001b[39;49m\u001b[43mvalidate_expression\u001b[49m\u001b[43m(\u001b[49m\u001b[43mjoin_expression\u001b[49m\u001b[43m,\u001b[49m\u001b[43m \u001b[49m\u001b[43mq1\u001b[49m\u001b[43m,\u001b[49m\u001b[43m \u001b[49m\u001b[43mq2\u001b[49m\u001b[43m)\u001b[49m\n\u001b[1;32m    995\u001b[0m \u001b[38;5;28;01mdef\u001b[39;00m \u001b[38;5;21mq\u001b[39m(\u001b[38;5;241m*\u001b[39mcolumns):\n\u001b[1;32m    996\u001b[0m     join_query \u001b[38;5;241m=\u001b[39m sqlalchemy\u001b[38;5;241m.\u001b[39mjoin(\n\u001b[1;32m    997\u001b[0m         q1,\n\u001b[1;32m    998\u001b[0m         q2,\n\u001b[1;32m    999\u001b[0m         join_expression,\n\u001b[1;32m   1000\u001b[0m         isouter\u001b[38;5;241m=\u001b[39m\u001b[38;5;129;01mnot\u001b[39;00m \u001b[38;5;28mself\u001b[39m\u001b[38;5;241m.\u001b[39minner,\n\u001b[1;32m   1001\u001b[0m     )\n",
      "File \u001b[0;32m~/Repos/datachain/.venv/lib64/python3.12/site-packages/datachain/query/dataset.py:940\u001b[0m, in \u001b[0;36mSQLJoin.validate_expression\u001b[0;34m(self, exp, q1, q2)\u001b[0m\n\u001b[1;32m    935\u001b[0m     \u001b[38;5;28;01mraise\u001b[39;00m \u001b[38;5;167;01mValueError\u001b[39;00m(\n\u001b[1;32m    936\u001b[0m         \u001b[38;5;124mf\u001b[39m\u001b[38;5;124m\"\u001b[39m\u001b[38;5;124mColumn \u001b[39m\u001b[38;5;132;01m{\u001b[39;00mc\u001b[38;5;241m.\u001b[39mname\u001b[38;5;132;01m}\u001b[39;00m\u001b[38;5;124m was not found in left part of the join\u001b[39m\u001b[38;5;124m\"\u001b[39m\n\u001b[1;32m    937\u001b[0m     )\n\u001b[1;32m    939\u001b[0m \u001b[38;5;28;01mif\u001b[39;00m c\u001b[38;5;241m.\u001b[39mtable\u001b[38;5;241m.\u001b[39mname \u001b[38;5;241m==\u001b[39m q2\u001b[38;5;241m.\u001b[39mname \u001b[38;5;129;01mand\u001b[39;00m q2_c \u001b[38;5;129;01mis\u001b[39;00m \u001b[38;5;28;01mNone\u001b[39;00m:\n\u001b[0;32m--> 940\u001b[0m     \u001b[38;5;28;01mraise\u001b[39;00m \u001b[38;5;167;01mValueError\u001b[39;00m(\n\u001b[1;32m    941\u001b[0m         \u001b[38;5;124mf\u001b[39m\u001b[38;5;124m\"\u001b[39m\u001b[38;5;124mColumn \u001b[39m\u001b[38;5;132;01m{\u001b[39;00mc\u001b[38;5;241m.\u001b[39mname\u001b[38;5;132;01m}\u001b[39;00m\u001b[38;5;124m was not found in right part of the join\u001b[39m\u001b[38;5;124m\"\u001b[39m\n\u001b[1;32m    942\u001b[0m     )\n\u001b[1;32m    943\u001b[0m \u001b[38;5;28;01mif\u001b[39;00m c\u001b[38;5;241m.\u001b[39mtable\u001b[38;5;241m.\u001b[39mname \u001b[38;5;129;01mnot\u001b[39;00m \u001b[38;5;129;01min\u001b[39;00m [q1\u001b[38;5;241m.\u001b[39mname, q2\u001b[38;5;241m.\u001b[39mname]:\n\u001b[1;32m    944\u001b[0m     \u001b[38;5;28;01mraise\u001b[39;00m \u001b[38;5;167;01mValueError\u001b[39;00m(\n\u001b[1;32m    945\u001b[0m         \u001b[38;5;124mf\u001b[39m\u001b[38;5;124m\"\u001b[39m\u001b[38;5;124mColumn \u001b[39m\u001b[38;5;132;01m{\u001b[39;00mc\u001b[38;5;241m.\u001b[39mname\u001b[38;5;132;01m}\u001b[39;00m\u001b[38;5;124m was not found in left or right\u001b[39m\u001b[38;5;124m\"\u001b[39m\n\u001b[1;32m    946\u001b[0m         \u001b[38;5;124m\"\u001b[39m\u001b[38;5;124m part of the join\u001b[39m\u001b[38;5;124m\"\u001b[39m\n\u001b[1;32m    947\u001b[0m     )\n",
      "\u001b[0;31mValueError\u001b[0m: Column document__key was not found in right part of the join"
     ]
    }
   ],
   "source": [
    "DataChain.from_dataset(\"embeddings-differences\").merge(dc_meta, on=\"document.key\").show(20)"
   ]
  }
 ],
 "metadata": {
  "kernelspec": {
   "display_name": ".venv",
   "language": "python",
   "name": "python3"
  },
  "language_info": {
   "codemirror_mode": {
    "name": "ipython",
    "version": 3
   },
   "file_extension": ".py",
   "mimetype": "text/x-python",
   "name": "python",
   "nbconvert_exporter": "python",
   "pygments_lexer": "ipython3",
   "version": "3.12.4"
  }
 },
 "nbformat": 4,
 "nbformat_minor": 2
}
