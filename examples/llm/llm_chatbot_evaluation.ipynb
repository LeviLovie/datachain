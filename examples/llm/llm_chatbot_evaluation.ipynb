{
 "cells": [
  {
   "cell_type": "markdown",
   "metadata": {},
   "source": [
    "# LLMs and RAG with DataChain"
   ]
  },
  {
   "cell_type": "markdown",
   "metadata": {},
   "source": [
    "In LLM applications nowadays, the emerging standard pattern for most use-cases is to employ a pre-trained model with an API from a 3rd party provider and to augment it with a RAG context. On one hand, this means there is not much actual machine learning going on on the user's end. On the other hand naive application of \"latest and greatest\" models with no prompt engineering, testing and evaluation of RAG context can lead to needlessly expensive operational costs at best and dissapointingly poor performance at worst.\n",
    "\n",
    "Therefore, even if there is no machine learning involved, there is still a lot of fine tuning we need to do and a lot of that involves large datasets (such as histories of chatbot conversations or large collections of company documents). Just like with ML training, we need to version all that data as we finetune our applications to be able to correctly evaluate the effect of any changes we apply to our models. We can experiment with the LLM choice, prompt engineering, the way we process data for our RAG context (pre-processing, embedding, ...) and so on.\n",
    "\n",
    "In this example, we will see how we can use DataChain to create such a controlled development environment and how it can help us when we evaluate any fine-tuning of our LLM applications.\n",
    "\n",
    "We will see how to use DataChain to version our RAG context datasets to preserve reproducibility of our fine-tuning experiments as the RAG context changes. We will also see how to use DataChain in the evaluation of fine-tuning by comparing two different text embedding models and saving (and versioning) the results with additional context."
   ]
  },
  {
   "cell_type": "markdown",
   "metadata": {},
   "source": [
    "## Processing a large collection of documents"
   ]
  },
  {
   "cell_type": "markdown",
   "metadata": {},
   "source": [
    "Let's say that we have a collection of relevant documents which we want to use as context in LLM queries in our chatbot application. We will be using DataChain to create, store and version vector embeddings of our documents.\n",
    "\n",
    "In this example we will be using papers from the [Neural Information Processing Systems](https://papers.neurips.cc/paper/) conference. \n",
    "\n",
    "We will proceed in the following steps:\n",
    "1. [Data ingestion with DataChain](#data-ingestion) - we will use DataChain to ingest the data, taking advantage of its lazy evaluation feature to only ingest the data we need\n",
    "1. [Data processing with the Unstructured Python library](#processing-the-documents-individually)\n",
    "1. [Scaling the data processing with DataChain](#processing-the-documents-at-scale-using-datachain-udfs)\n",
    "1. [Using Datachain to evaluate different embedding models](#evaluation)\n",
    "1. [Adding extra context by combining datasets](#adding-more-context---merging-datasets)"
   ]
  },
  {
   "cell_type": "code",
   "execution_count": 1,
   "metadata": {},
   "outputs": [],
   "source": [
    "from typing import Optional\n",
    "from collections.abc import Iterator\n",
    "\n",
    "from datachain.lib.dc import DataChain, C\n",
    "from datachain.lib.data_model import DataModel\n",
    "from datachain.lib.file import File\n",
    "from datachain.sql.functions.array import cosine_distance, euclidean_distance\n",
    "\n",
    "from unstructured.partition.pdf import partition_pdf\n",
    "from unstructured.chunking.title import chunk_by_title\n",
    "\n",
    "from unstructured.embed.huggingface import HuggingFaceEmbeddingConfig, HuggingFaceEmbeddingEncoder"
   ]
  },
  {
   "cell_type": "markdown",
   "metadata": {},
   "source": [
    "### Data ingestion"
   ]
  },
  {
   "cell_type": "markdown",
   "metadata": {},
   "source": [
    "We will first ingest the dataset. The data are saved on a cloud storage, so we use the `.from_storage` DataChain method. We will also use the `.filter` method to restrict ourselves only to `.pdf` files (the storage contains many other data which we do not need).\n",
    "\n",
    "Notice that:\n",
    "\n",
    "1. Since DataChain employs lazy evaluation, no data are actually loaded just yet (until we invoke an action such as showing or saving our DataChain)\n",
    "1. The previous point also means that when we filter out all non-pdf files, DataChain doesn't actually waste time loading their content only to throw them away later. This makes DataChain a lot more scalable than tools with eager evaluation.\n",
    "1. The `.from_storage` method of DataChain operates on the level of the entire bucket. This means that even if the files are stored using a complicated directory structure and potentially uploaded irregularly into this structure, we can retrieve or update our DataChain of articles with just a simple one-line command"
   ]
  },
  {
   "cell_type": "code",
   "execution_count": 2,
   "metadata": {},
   "outputs": [],
   "source": [
    "dc_papers = (\n",
    "    DataChain.from_storage(\"gs://datachain-demo/neurips\")\n",
    "    .filter(C.name.glob(\"*.pdf\"))\n",
    "    )"
   ]
  },
  {
   "cell_type": "code",
   "execution_count": 3,
   "metadata": {},
   "outputs": [
    {
     "name": "stderr",
     "output_type": "stream",
     "text": [
      "Listing gs://datachain-demo: 51067 objects [00:11, 4520.78 objects/s]\n",
      "Processed: 738 rows [00:00, 18103.43 rows/s]\n"
     ]
    },
    {
     "data": {
      "text/html": [
       "<div>\n",
       "<style scoped>\n",
       "    .dataframe tbody tr th:only-of-type {\n",
       "        vertical-align: middle;\n",
       "    }\n",
       "\n",
       "    .dataframe tbody tr th {\n",
       "        vertical-align: top;\n",
       "    }\n",
       "\n",
       "    .dataframe thead tr th {\n",
       "        text-align: left;\n",
       "    }\n",
       "</style>\n",
       "<table border=\"1\" class=\"dataframe\">\n",
       "  <thead>\n",
       "    <tr>\n",
       "      <th></th>\n",
       "      <th>source</th>\n",
       "      <th>parent</th>\n",
       "      <th>name</th>\n",
       "      <th>version</th>\n",
       "      <th>etag</th>\n",
       "      <th>size</th>\n",
       "      <th>vtype</th>\n",
       "      <th>location</th>\n",
       "      <th>file</th>\n",
       "      <th>file</th>\n",
       "      <th>file</th>\n",
       "      <th>file</th>\n",
       "      <th>file</th>\n",
       "      <th>file</th>\n",
       "      <th>file</th>\n",
       "      <th>file</th>\n",
       "      <th>file</th>\n",
       "      <th>file</th>\n",
       "    </tr>\n",
       "    <tr>\n",
       "      <th></th>\n",
       "      <th></th>\n",
       "      <th></th>\n",
       "      <th></th>\n",
       "      <th></th>\n",
       "      <th></th>\n",
       "      <th></th>\n",
       "      <th></th>\n",
       "      <th></th>\n",
       "      <th>source</th>\n",
       "      <th>parent</th>\n",
       "      <th>name</th>\n",
       "      <th>size</th>\n",
       "      <th>version</th>\n",
       "      <th>etag</th>\n",
       "      <th>is_latest</th>\n",
       "      <th>last_modified</th>\n",
       "      <th>location</th>\n",
       "      <th>vtype</th>\n",
       "    </tr>\n",
       "  </thead>\n",
       "  <tbody>\n",
       "    <tr>\n",
       "      <th>0</th>\n",
       "      <td>gs://datachain-demo</td>\n",
       "      <td>neurips/1987/file</td>\n",
       "      <td>02e74f10e0327ad868d138f2b4fdd6f0-Paper.pdf</td>\n",
       "      <td>1721047139405563</td>\n",
       "      <td>CPudi5uIqYcDEAE=</td>\n",
       "      <td>2291566</td>\n",
       "      <td></td>\n",
       "      <td>None</td>\n",
       "      <td>gs://datachain-demo</td>\n",
       "      <td>neurips/1987/file</td>\n",
       "      <td>02e74f10e0327ad868d138f2b4fdd6f0-Paper.pdf</td>\n",
       "      <td>2291566</td>\n",
       "      <td>1721047139405563</td>\n",
       "      <td>CPudi5uIqYcDEAE=</td>\n",
       "      <td>1</td>\n",
       "      <td>1970-01-01 00:00:00+00:00</td>\n",
       "      <td>None</td>\n",
       "      <td></td>\n",
       "    </tr>\n",
       "    <tr>\n",
       "      <th>1</th>\n",
       "      <td>gs://datachain-demo</td>\n",
       "      <td>neurips/1987/file</td>\n",
       "      <td>03afdbd66e7929b125f8597834fa83a4-Paper.pdf</td>\n",
       "      <td>1721047138865046</td>\n",
       "      <td>CJaf6pqIqYcDEAE=</td>\n",
       "      <td>1322648</td>\n",
       "      <td></td>\n",
       "      <td>None</td>\n",
       "      <td>gs://datachain-demo</td>\n",
       "      <td>neurips/1987/file</td>\n",
       "      <td>03afdbd66e7929b125f8597834fa83a4-Paper.pdf</td>\n",
       "      <td>1322648</td>\n",
       "      <td>1721047138865046</td>\n",
       "      <td>CJaf6pqIqYcDEAE=</td>\n",
       "      <td>1</td>\n",
       "      <td>1970-01-01 00:00:00+00:00</td>\n",
       "      <td>None</td>\n",
       "      <td></td>\n",
       "    </tr>\n",
       "    <tr>\n",
       "      <th>2</th>\n",
       "      <td>gs://datachain-demo</td>\n",
       "      <td>neurips/1987/file</td>\n",
       "      <td>072b030ba126b2f4b2374f342be9ed44-Paper.pdf</td>\n",
       "      <td>1721046993295769</td>\n",
       "      <td>CJmztdWHqYcDEAE=</td>\n",
       "      <td>1220711</td>\n",
       "      <td></td>\n",
       "      <td>None</td>\n",
       "      <td>gs://datachain-demo</td>\n",
       "      <td>neurips/1987/file</td>\n",
       "      <td>072b030ba126b2f4b2374f342be9ed44-Paper.pdf</td>\n",
       "      <td>1220711</td>\n",
       "      <td>1721046993295769</td>\n",
       "      <td>CJmztdWHqYcDEAE=</td>\n",
       "      <td>1</td>\n",
       "      <td>1970-01-01 00:00:00+00:00</td>\n",
       "      <td>None</td>\n",
       "      <td></td>\n",
       "    </tr>\n",
       "  </tbody>\n",
       "</table>\n",
       "</div>"
      ],
      "text/plain": [
       "                source             parent  \\\n",
       "                                            \n",
       "0  gs://datachain-demo  neurips/1987/file   \n",
       "1  gs://datachain-demo  neurips/1987/file   \n",
       "2  gs://datachain-demo  neurips/1987/file   \n",
       "\n",
       "                                         name           version  \\\n",
       "                                                                  \n",
       "0  02e74f10e0327ad868d138f2b4fdd6f0-Paper.pdf  1721047139405563   \n",
       "1  03afdbd66e7929b125f8597834fa83a4-Paper.pdf  1721047138865046   \n",
       "2  072b030ba126b2f4b2374f342be9ed44-Paper.pdf  1721046993295769   \n",
       "\n",
       "               etag     size vtype location                 file  \\\n",
       "                                                          source   \n",
       "0  CPudi5uIqYcDEAE=  2291566           None  gs://datachain-demo   \n",
       "1  CJaf6pqIqYcDEAE=  1322648           None  gs://datachain-demo   \n",
       "2  CJmztdWHqYcDEAE=  1220711           None  gs://datachain-demo   \n",
       "\n",
       "                file                                        file     file  \\\n",
       "              parent                                        name     size   \n",
       "0  neurips/1987/file  02e74f10e0327ad868d138f2b4fdd6f0-Paper.pdf  2291566   \n",
       "1  neurips/1987/file  03afdbd66e7929b125f8597834fa83a4-Paper.pdf  1322648   \n",
       "2  neurips/1987/file  072b030ba126b2f4b2374f342be9ed44-Paper.pdf  1220711   \n",
       "\n",
       "               file              file      file                      file  \\\n",
       "            version              etag is_latest             last_modified   \n",
       "0  1721047139405563  CPudi5uIqYcDEAE=         1 1970-01-01 00:00:00+00:00   \n",
       "1  1721047138865046  CJaf6pqIqYcDEAE=         1 1970-01-01 00:00:00+00:00   \n",
       "2  1721046993295769  CJmztdWHqYcDEAE=         1 1970-01-01 00:00:00+00:00   \n",
       "\n",
       "      file  file  \n",
       "  location vtype  \n",
       "0     None        \n",
       "1     None        \n",
       "2     None        "
      ]
     },
     "metadata": {},
     "output_type": "display_data"
    },
    {
     "name": "stdout",
     "output_type": "stream",
     "text": [
      "\n",
      "[Limited by 3 rows]\n"
     ]
    }
   ],
   "source": [
    "dc_papers.show(3)"
   ]
  },
  {
   "cell_type": "markdown",
   "metadata": {},
   "source": [
    "DataChain created a record for each `pdf` file in the `neurips` directory, generating a `file` signal for each file. The file signal contains subsignals with metadata about each file, like `file.name` and `file.size`. Aggregate signals like `file` that contain multiple subsignals are called features.\n",
    "\n",
    "You can use the `file` feature to not only get metadata about each file, but also to open and read the file as needed."
   ]
  },
  {
   "cell_type": "markdown",
   "metadata": {},
   "source": [
    "### Processing the documents individually"
   ]
  },
  {
   "cell_type": "markdown",
   "metadata": {},
   "source": [
    "We now want to ingest the content of the pdf files as text, divide it into chunks and vectorize those for our RAG application. We are interested in comparing two different models for embeddings. Normally, we would also do some pre-processing and cleaning of the text before vectorization, but we will skip it here for brevity.\n",
    "\n",
    "We will first do all this with an example of a single pdf using the `unstructured` Python library and then we will see how we can scale this up to the entire bucket with the help of DataChain.\n",
    "\n",
    "First, we ingest and partition the pdf file and chunk it.\n"
   ]
  },
  {
   "cell_type": "code",
   "execution_count": 4,
   "metadata": {},
   "outputs": [],
   "source": [
    "chunks = chunk_by_title(partition_pdf(filename=\"sample.pdf\"))"
   ]
  },
  {
   "cell_type": "markdown",
   "metadata": {},
   "source": [
    "Next, we vectorize each chunk using HuggingFace embedding encoders"
   ]
  },
  {
   "cell_type": "code",
   "execution_count": 5,
   "metadata": {},
   "outputs": [
    {
     "name": "stderr",
     "output_type": "stream",
     "text": [
      "/home/tibor/Repos/datachain/.venv/lib64/python3.12/site-packages/langchain_core/_api/deprecation.py:139: LangChainDeprecationWarning: The class `HuggingFaceEmbeddings` was deprecated in LangChain 0.2.2 and will be removed in 0.3.0. An updated version of the class exists in the langchain-huggingface package and should be used instead. To use it run `pip install -U langchain-huggingface` and import as `from langchain_huggingface import HuggingFaceEmbeddings`.\n",
      "  warn_deprecated(\n"
     ]
    }
   ],
   "source": [
    "# Define embedding encoder\n",
    "\n",
    "embedding_encoder = HuggingFaceEmbeddingEncoder(\n",
    "     config=HuggingFaceEmbeddingConfig()\n",
    ")\n",
    "\n",
    "embedding_encoder_alt = HuggingFaceEmbeddingEncoder(\n",
    "     config=HuggingFaceEmbeddingConfig(model_name='intfloat/e5-small-v2')\n",
    ")\n",
    "\n",
    "chunks_embedded = embedding_encoder.embed_documents(chunks)\n",
    "chunks_embedded_alt = embedding_encoder_alt.embed_documents(chunks)"
   ]
  },
  {
   "cell_type": "markdown",
   "metadata": {},
   "source": [
    "We now have our chunks vectorized and ready for comparison (e.g. with cosine similarity). However, we are missing a few ingredients:\n",
    "\n",
    "1. ***Scaling*** - we only processed a single pdf file and we had to manually specify its path. We need to find a way to process all our documents at scale instead and to save the results.\n",
    "2. ***Saving and Versioning*** - even if we only had a single or a few PDF files we would like to use in our RAG, it is a good practice to version the outputs so that we can keep track of and fine-tune our RAG application. If we simply save the current results to a bucket and overwrite it each time the source is updated, we lose this. We could version the results manually, e.g. by adding a timestamp to the blob name, but that is not very reliable and will lead to unnecessary copies of files."
   ]
  },
  {
   "cell_type": "markdown",
   "metadata": {},
   "source": [
    "### Processing the documents at scale, using DataChain UDFs"
   ]
  },
  {
   "cell_type": "markdown",
   "metadata": {},
   "source": [
    "We will now use DataChain to solve the scaling and versioning issues we outline above. We will create a DataChain user-defined function (UDF) to process all our PDF files the way we did above with a single file (without us having to manually provide file paths) and save the outputs in a Datachain.\n",
    "\n",
    "The DataChain UDF functionality will allow us to generate additonal columns in our DataChain, iterating over each of the files listed in it.\n",
    "\n",
    "We first need to define a DataModel class, which will define the types of our outputs. Inputs and outputs need to be specified like this when we use custom functinos in Datachain."
   ]
  },
  {
   "cell_type": "code",
   "execution_count": 6,
   "metadata": {},
   "outputs": [],
   "source": [
    "# Define the output as a Feature class\n",
    "class Chunk(DataModel):\n",
    "    key: str\n",
    "    text: str\n",
    "    embeddings: list[float]\n",
    "    embeddings_alt: list[float]"
   ]
  },
  {
   "cell_type": "markdown",
   "metadata": {},
   "source": [
    "In the above we define `Chunk` by specifying the names and types of new columns on the output.\n",
    "\n",
    "We then define our processing function `pdf_chuks`:"
   ]
  },
  {
   "cell_type": "code",
   "execution_count": 7,
   "metadata": {},
   "outputs": [],
   "source": [
    "# Use signatures to define input/output types (these can be Feature or regular Python types)\n",
    "def pdf_chunks(file: File) -> Iterator[Chunk]:\n",
    "    # Ingest the file\n",
    "    with file.open() as f:\n",
    "        chunks = chunk_by_title(partition_pdf(file=f))\n",
    "\n",
    "    chunks_embedded = embedding_encoder.embed_documents(chunks)\n",
    "    chunks_embedded_alt = embedding_encoder_alt.embed_documents(chunks)\n",
    "\n",
    "    # Add new rows to DataChain\n",
    "    for chunk, chunk_alt in zip(chunks_embedded, chunks_embedded_alt):\n",
    "        record = {}\n",
    "        record[\"key\"] = file.name.removesuffix(\"-Paper.pdf\")\n",
    "        record[\"text\"] = chunk.text\n",
    "        record[\"embeddings\"] = chunk.embeddings\n",
    "        record[\"embeddings_alt\"] = chunk_alt.embeddings\n",
    "\n",
    "        yield Chunk(**record)"
   ]
  },
  {
   "cell_type": "markdown",
   "metadata": {},
   "source": [
    "Here, the syntax is the same as with any other Python function, except that we specify the input and output types using type hints\n",
    "\n",
    "```\n",
    "def pdf_chunks(file: File) -> Iterator[Chunk]:\n",
    "```\n",
    "Here, `file` specifies that we pass all `file` columns of the original dataset on the input and `Iterator[Chunk]` specifies that we get a bunch of `Chunk` rows on the output (from a single row of the original datachain representing a single paper we will get a new dataset with multiple rows per paper, each representing a single chunk).\n",
    "\n",
    "We then specify what each row should contain by defining the `record` dictionary and then we use `yield Chunk(**record)` to create the new rows for each input row."
   ]
  },
  {
   "cell_type": "code",
   "execution_count": 9,
   "metadata": {},
   "outputs": [
    {
     "name": "stderr",
     "output_type": "stream",
     "text": [
      "Processed: 738 rows [00:00, 25915.26 rows/s]\n",
      "Processed: 0 rows [00:00, ? rows/s]\n",
      "Processed: 2 rows [00:03,  2.00s/ rows]\n",
      "Processed: 3 rows [00:07,  2.64s/ rows]\n",
      "Processed: 4 rows [00:11,  3.16s/ rows]\n",
      "Processed: 5 rows [00:17,  3.98s/ rows]\n",
      "Processed: 6 rows [00:21,  4.17s/ rows]\n",
      "Processed: 7 rows [00:25,  3.93s/ rows]\n",
      "Processed: 8 rows [00:28,  3.90s/ rows]\n",
      "Processed: 9 rows [00:34,  4.28s/ rows]\n",
      "Processed: 10 rows [00:38,  4.45s/ rows]\n",
      "Processed: 11 rows [00:46,  5.37s/ rows]\n",
      "Processed: 12 rows [00:50,  5.11s/ rows]\n",
      "Processed: 13 rows [00:54,  4.64s/ rows]\n",
      "Processed: 14 rows [00:58,  4.60s/ rows]\n",
      "Processed: 15 rows [01:01,  4.09s/ rows]\n",
      "Processed: 16 rows [01:06,  4.36s/ rows]\n",
      "Processed: 17 rows [01:10,  4.11s/ rows]\n",
      "Processed: 18 rows [01:13,  3.95s/ rows]\n",
      "Processed: 19 rows [01:19,  4.32s/ rows]\n",
      "Processed: 20 rows [01:24,  4.64s/ rows]\n",
      "Download: 51.2MB [01:28, 610kB/s]\n",
      "Processed: 20 rows [01:28,  4.43s/ rows]\n",
      "Generated: 1346 rows [01:24, 15.90 rows/s]\n"
     ]
    },
    {
     "data": {
      "text/plain": [
       "<datachain.lib.dc.DataChain at 0x7f8a23ec78c0>"
      ]
     },
     "execution_count": 9,
     "metadata": {},
     "output_type": "execute_result"
    }
   ],
   "source": [
    "dc_chunks_embeddings = (\n",
    "    dc_papers\n",
    "    .limit(20) # we limit ourselves to 20 papers here, to speed up the demo\n",
    "    .gen(document=pdf_chunks)\n",
    ")\n",
    "\n",
    "dc_chunks_embeddings.save()"
   ]
  },
  {
   "cell_type": "markdown",
   "metadata": {},
   "source": [
    "In the cell above we apply our new `pdf_chunks` function to the DataChain `dc_papers`. We do that by using the `gen` method of DataChain with `pdf_chunks`as its parameter. \n",
    "\n",
    "`DataChain.gen` is used when we have a function that creates multiple rows per single row of the original datachain (like in our examples, where each paper is split into multiple chunks)\n",
    "\n",
    "We also presisted the result by the `.save` method."
   ]
  },
  {
   "cell_type": "markdown",
   "metadata": {},
   "source": [
    "### Evaluation"
   ]
  },
  {
   "cell_type": "markdown",
   "metadata": {},
   "source": [
    "We will now use DataChain to calculate the similarity between the two alternative embeddings of each chunk and for further evaluation we will save dataset containing the chunks that differ the most between the two embeddings.\n",
    "\n"
   ]
  },
  {
   "cell_type": "code",
   "execution_count": 10,
   "metadata": {},
   "outputs": [
    {
     "name": "stderr",
     "output_type": "stream",
     "text": [
      "Processed: 738 rows [00:00, 26388.72 rows/s]\n",
      "Processed: 0 rows [00:00, ? rows/s]\n",
      "Processed: 2 rows [00:04,  2.22s/ rows]\n",
      "Processed: 3 rows [00:08,  2.94s/ rows]\n",
      "Processed: 4 rows [00:11,  3.05s/ rows]\n",
      "Processed: 5 rows [00:16,  3.80s/ rows]\n",
      "Processed: 6 rows [00:20,  3.89s/ rows]\n",
      "Processed: 7 rows [00:23,  3.59s/ rows]\n",
      "Processed: 8 rows [00:28,  3.87s/ rows]\n",
      "Processed: 9 rows [00:33,  4.15s/ rows]\n",
      "Processed: 10 rows [00:36,  4.04s/ rows]\n",
      "Processed: 11 rows [00:43,  4.95s/ rows]\n",
      "Processed: 12 rows [00:48,  4.75s/ rows]\n",
      "Processed: 13 rows [00:51,  4.36s/ rows]\n",
      "Processed: 14 rows [00:56,  4.62s/ rows]\n",
      "Processed: 15 rows [01:00,  4.23s/ rows]\n",
      "Processed: 16 rows [01:05,  4.50s/ rows]\n",
      "Processed: 17 rows [01:08,  4.20s/ rows]\n",
      "Processed: 18 rows [01:12,  3.90s/ rows]\n",
      "Processed: 19 rows [01:17,  4.39s/ rows]\n",
      "Processed: 20 rows [01:22,  4.60s/ rows]\n",
      "Download: 51.2MB [01:26, 617kB/s]\n",
      "Processed: 20 rows [01:27,  4.38s/ rows]\n",
      "Generated: 1346 rows [01:23, 16.19 rows/s]\n"
     ]
    },
    {
     "ename": "SignalSchemaError",
     "evalue": "cannot deserialize 'document.embeddings': unknown type 'List'. Try to add it with `ModelStore.add(List)`.",
     "output_type": "error",
     "traceback": [
      "\u001b[0;31m---------------------------------------------------------------------------\u001b[0m",
      "\u001b[0;31mSignalSchemaError\u001b[0m                         Traceback (most recent call last)",
      "Cell \u001b[0;32mIn[10], line 11\u001b[0m\n\u001b[1;32m      1\u001b[0m \u001b[38;5;66;03m# Calculate similarity\u001b[39;00m\n\u001b[1;32m      3\u001b[0m (\n\u001b[1;32m      4\u001b[0m     \u001b[43mdc_chunks_embeddings\u001b[49m\n\u001b[1;32m      5\u001b[0m \u001b[43m    \u001b[49m\u001b[38;5;241;43m.\u001b[39;49m\u001b[43mselect\u001b[49m\u001b[43m(\u001b[49m\u001b[38;5;124;43m\"\u001b[39;49m\u001b[38;5;124;43mdocument.text\u001b[39;49m\u001b[38;5;124;43m\"\u001b[39;49m\u001b[43m,\u001b[49m\u001b[43m \u001b[49m\u001b[38;5;124;43m\"\u001b[39;49m\u001b[38;5;124;43mdocument.embeddings\u001b[39;49m\u001b[38;5;124;43m\"\u001b[39;49m\u001b[43m,\u001b[49m\u001b[43m \u001b[49m\u001b[38;5;124;43m\"\u001b[39;49m\u001b[38;5;124;43mdocument.embeddings_alt\u001b[39;49m\u001b[38;5;124;43m\"\u001b[39;49m\u001b[43m,\u001b[49m\u001b[43m \u001b[49m\u001b[38;5;124;43m\"\u001b[39;49m\u001b[38;5;124;43mdocument.key\u001b[39;49m\u001b[38;5;124;43m\"\u001b[39;49m\u001b[43m)\u001b[49m\n\u001b[1;32m      6\u001b[0m \u001b[43m    \u001b[49m\u001b[38;5;241;43m.\u001b[39;49m\u001b[43mmutate\u001b[49m\u001b[43m(\u001b[49m\n\u001b[1;32m      7\u001b[0m \u001b[43m        \u001b[49m\u001b[43mcos_dist\u001b[49m\u001b[38;5;241;43m=\u001b[39;49m\u001b[43mcosine_distance\u001b[49m\u001b[43m(\u001b[49m\u001b[43mC\u001b[49m\u001b[43m(\u001b[49m\u001b[38;5;124;43m\"\u001b[39;49m\u001b[38;5;124;43mdocument.embeddings\u001b[39;49m\u001b[38;5;124;43m\"\u001b[39;49m\u001b[43m)\u001b[49m\u001b[43m,\u001b[49m\u001b[43m \u001b[49m\u001b[43mC\u001b[49m\u001b[43m(\u001b[49m\u001b[38;5;124;43m\"\u001b[39;49m\u001b[38;5;124;43mdocument.embeddings_alt\u001b[39;49m\u001b[38;5;124;43m\"\u001b[39;49m\u001b[43m)\u001b[49m\u001b[43m)\u001b[49m\u001b[43m,\u001b[49m\n\u001b[1;32m      8\u001b[0m \u001b[43m        \u001b[49m\u001b[43meucl_dist\u001b[49m\u001b[38;5;241;43m=\u001b[39;49m\u001b[43meuclidean_distance\u001b[49m\u001b[43m(\u001b[49m\u001b[43mC\u001b[49m\u001b[43m(\u001b[49m\u001b[38;5;124;43m\"\u001b[39;49m\u001b[38;5;124;43mdocument.embeddings\u001b[39;49m\u001b[38;5;124;43m\"\u001b[39;49m\u001b[43m)\u001b[49m\u001b[43m,\u001b[49m\u001b[43m \u001b[49m\u001b[43mC\u001b[49m\u001b[43m(\u001b[49m\u001b[38;5;124;43m\"\u001b[39;49m\u001b[38;5;124;43mdocument.embeddings_alt\u001b[39;49m\u001b[38;5;124;43m\"\u001b[39;49m\u001b[43m)\u001b[49m\u001b[43m)\u001b[49m\u001b[43m,\u001b[49m\n\u001b[1;32m      9\u001b[0m \u001b[43m    \u001b[49m\u001b[43m)\u001b[49m\n\u001b[1;32m     10\u001b[0m \u001b[43m    \u001b[49m\u001b[38;5;241;43m.\u001b[39;49m\u001b[43mfilter\u001b[49m\u001b[43m(\u001b[49m\u001b[43mC\u001b[49m\u001b[43m(\u001b[49m\u001b[38;5;124;43m\"\u001b[39;49m\u001b[38;5;124;43mcos_dist\u001b[39;49m\u001b[38;5;124;43m\"\u001b[39;49m\u001b[43m)\u001b[49m\u001b[43m \u001b[49m\u001b[38;5;241;43m>\u001b[39;49m\u001b[43m \u001b[49m\u001b[38;5;241;43m0.1\u001b[39;49m\u001b[43m)\u001b[49m\n\u001b[0;32m---> 11\u001b[0m \u001b[43m    \u001b[49m\u001b[38;5;241;43m.\u001b[39;49m\u001b[43msave\u001b[49m\u001b[43m(\u001b[49m\u001b[38;5;124;43m\"\u001b[39;49m\u001b[38;5;124;43membeddings-differences\u001b[39;49m\u001b[38;5;124;43m\"\u001b[39;49m\u001b[43m)\u001b[49m\n\u001b[1;32m     12\u001b[0m )\n",
      "File \u001b[0;32m~/Repos/datachain/.venv/lib64/python3.12/site-packages/datachain/lib/dc.py:376\u001b[0m, in \u001b[0;36mDataChain.save\u001b[0;34m(self, name, version)\u001b[0m\n\u001b[1;32m    374\u001b[0m schema \u001b[38;5;241m=\u001b[39m \u001b[38;5;28mself\u001b[39m\u001b[38;5;241m.\u001b[39msignals_schema\u001b[38;5;241m.\u001b[39mserialize()\n\u001b[1;32m    375\u001b[0m schema\u001b[38;5;241m.\u001b[39mpop(\u001b[38;5;124m\"\u001b[39m\u001b[38;5;124msys\u001b[39m\u001b[38;5;124m\"\u001b[39m, \u001b[38;5;28;01mNone\u001b[39;00m)\n\u001b[0;32m--> 376\u001b[0m \u001b[38;5;28;01mreturn\u001b[39;00m \u001b[38;5;28;43msuper\u001b[39;49m\u001b[43m(\u001b[49m\u001b[43m)\u001b[49m\u001b[38;5;241;43m.\u001b[39;49m\u001b[43msave\u001b[49m\u001b[43m(\u001b[49m\u001b[43mname\u001b[49m\u001b[38;5;241;43m=\u001b[39;49m\u001b[43mname\u001b[49m\u001b[43m,\u001b[49m\u001b[43m \u001b[49m\u001b[43mversion\u001b[49m\u001b[38;5;241;43m=\u001b[39;49m\u001b[43mversion\u001b[49m\u001b[43m,\u001b[49m\u001b[43m \u001b[49m\u001b[43mfeature_schema\u001b[49m\u001b[38;5;241;43m=\u001b[39;49m\u001b[43mschema\u001b[49m\u001b[43m)\u001b[49m\n",
      "File \u001b[0;32m~/Repos/datachain/.venv/lib64/python3.12/site-packages/datachain/query/dataset.py:1667\u001b[0m, in \u001b[0;36mDatasetQuery.save\u001b[0;34m(self, name, version, feature_schema, **kwargs)\u001b[0m\n\u001b[1;32m   1665\u001b[0m \u001b[38;5;28;01mfinally\u001b[39;00m:\n\u001b[1;32m   1666\u001b[0m     \u001b[38;5;28mself\u001b[39m\u001b[38;5;241m.\u001b[39mcleanup()\n\u001b[0;32m-> 1667\u001b[0m \u001b[38;5;28;01mreturn\u001b[39;00m \u001b[38;5;28;43mself\u001b[39;49m\u001b[38;5;241;43m.\u001b[39;49m\u001b[38;5;18;43m__class__\u001b[39;49m\u001b[43m(\u001b[49m\u001b[43mname\u001b[49m\u001b[38;5;241;43m=\u001b[39;49m\u001b[43mname\u001b[49m\u001b[43m,\u001b[49m\u001b[43m \u001b[49m\u001b[43mversion\u001b[49m\u001b[38;5;241;43m=\u001b[39;49m\u001b[43mversion\u001b[49m\u001b[43m,\u001b[49m\u001b[43m \u001b[49m\u001b[43mcatalog\u001b[49m\u001b[38;5;241;43m=\u001b[39;49m\u001b[38;5;28;43mself\u001b[39;49m\u001b[38;5;241;43m.\u001b[39;49m\u001b[43mcatalog\u001b[49m\u001b[43m)\u001b[49m\n",
      "File \u001b[0;32m~/Repos/datachain/.venv/lib64/python3.12/site-packages/datachain/lib/dc.py:152\u001b[0m, in \u001b[0;36mDataChain.__init__\u001b[0;34m(self, *args, **kwargs)\u001b[0m\n\u001b[1;32m    149\u001b[0m \u001b[38;5;28mself\u001b[39m\u001b[38;5;241m.\u001b[39m_setup \u001b[38;5;241m=\u001b[39m {}\n\u001b[1;32m    151\u001b[0m \u001b[38;5;28;01mif\u001b[39;00m \u001b[38;5;28mself\u001b[39m\u001b[38;5;241m.\u001b[39mfeature_schema:\n\u001b[0;32m--> 152\u001b[0m     \u001b[38;5;28mself\u001b[39m\u001b[38;5;241m.\u001b[39msignals_schema \u001b[38;5;241m=\u001b[39m \u001b[43mSignalSchema\u001b[49m\u001b[38;5;241;43m.\u001b[39;49m\u001b[43mdeserialize\u001b[49m\u001b[43m(\u001b[49m\u001b[38;5;28;43mself\u001b[39;49m\u001b[38;5;241;43m.\u001b[39;49m\u001b[43mfeature_schema\u001b[49m\u001b[43m)\u001b[49m\n\u001b[1;32m    153\u001b[0m \u001b[38;5;28;01melse\u001b[39;00m:\n\u001b[1;32m    154\u001b[0m     \u001b[38;5;28mself\u001b[39m\u001b[38;5;241m.\u001b[39msignals_schema \u001b[38;5;241m=\u001b[39m SignalSchema\u001b[38;5;241m.\u001b[39mfrom_column_types(\u001b[38;5;28mself\u001b[39m\u001b[38;5;241m.\u001b[39mcolumn_types)\n",
      "File \u001b[0;32m~/Repos/datachain/.venv/lib64/python3.12/site-packages/datachain/lib/signal_schema.py:144\u001b[0m, in \u001b[0;36mSignalSchema.deserialize\u001b[0;34m(schema)\u001b[0m\n\u001b[1;32m    141\u001b[0m         fr \u001b[38;5;241m=\u001b[39m ModelStore\u001b[38;5;241m.\u001b[39mget(type_name, version)\n\u001b[1;32m    143\u001b[0m         \u001b[38;5;28;01mif\u001b[39;00m \u001b[38;5;129;01mnot\u001b[39;00m fr:\n\u001b[0;32m--> 144\u001b[0m             \u001b[38;5;28;01mraise\u001b[39;00m SignalSchemaError(\n\u001b[1;32m    145\u001b[0m                 \u001b[38;5;124mf\u001b[39m\u001b[38;5;124m\"\u001b[39m\u001b[38;5;124mcannot deserialize \u001b[39m\u001b[38;5;124m'\u001b[39m\u001b[38;5;132;01m{\u001b[39;00msignal\u001b[38;5;132;01m}\u001b[39;00m\u001b[38;5;124m'\u001b[39m\u001b[38;5;124m: \u001b[39m\u001b[38;5;124m\"\u001b[39m\n\u001b[1;32m    146\u001b[0m                 \u001b[38;5;124mf\u001b[39m\u001b[38;5;124m\"\u001b[39m\u001b[38;5;124munknown type \u001b[39m\u001b[38;5;124m'\u001b[39m\u001b[38;5;132;01m{\u001b[39;00mtype_name\u001b[38;5;132;01m}\u001b[39;00m\u001b[38;5;124m'\u001b[39m\u001b[38;5;124m.\u001b[39m\u001b[38;5;124m\"\u001b[39m\n\u001b[1;32m    147\u001b[0m                 \u001b[38;5;124mf\u001b[39m\u001b[38;5;124m\"\u001b[39m\u001b[38;5;124m Try to add it with `ModelStore.add(\u001b[39m\u001b[38;5;132;01m{\u001b[39;00mtype_name\u001b[38;5;132;01m}\u001b[39;00m\u001b[38;5;124m)`.\u001b[39m\u001b[38;5;124m\"\u001b[39m\n\u001b[1;32m    148\u001b[0m             )\n\u001b[1;32m    149\u001b[0m \u001b[38;5;28;01mexcept\u001b[39;00m \u001b[38;5;167;01mTypeError\u001b[39;00m \u001b[38;5;28;01mas\u001b[39;00m err:\n\u001b[1;32m    150\u001b[0m     \u001b[38;5;28;01mraise\u001b[39;00m SignalSchemaError(\n\u001b[1;32m    151\u001b[0m         \u001b[38;5;124mf\u001b[39m\u001b[38;5;124m\"\u001b[39m\u001b[38;5;124mcannot deserialize \u001b[39m\u001b[38;5;124m'\u001b[39m\u001b[38;5;132;01m{\u001b[39;00msignal\u001b[38;5;132;01m}\u001b[39;00m\u001b[38;5;124m'\u001b[39m\u001b[38;5;124m: \u001b[39m\u001b[38;5;132;01m{\u001b[39;00merr\u001b[38;5;132;01m}\u001b[39;00m\u001b[38;5;124m\"\u001b[39m\n\u001b[1;32m    152\u001b[0m     ) \u001b[38;5;28;01mfrom\u001b[39;00m \u001b[38;5;21;01merr\u001b[39;00m\n",
      "\u001b[0;31mSignalSchemaError\u001b[0m: cannot deserialize 'document.embeddings': unknown type 'List'. Try to add it with `ModelStore.add(List)`."
     ]
    }
   ],
   "source": [
    "# Calculate similarity\n",
    "\n",
    "(\n",
    "    dc_chunks_embeddings\n",
    "    .select(\"document.text\", \"document.embeddings\", \"document.embeddings_alt\", \"document.key\")\n",
    "    .mutate(\n",
    "        cos_dist=cosine_distance(C(\"document.embeddings\"), C(\"document.embeddings_alt\")),\n",
    "        eucl_dist=euclidean_distance(C(\"document.embeddings\"), C(\"document.embeddings_alt\")),\n",
    "    )\n",
    "    .filter(C(\"cos_dist\") > 0.1)\n",
    "    .save(\"embeddings-differences\")\n",
    ")"
   ]
  },
  {
   "cell_type": "markdown",
   "metadata": {},
   "source": [
    "In the above, we use the `cosine_distance` and `euclidean_distance` Datachain built-in functions to calculate the similarity between the two embeddings for each chunk. To specify that we want to compare columns we use the `C` class from `datachain.lib.dc`.\n",
    "\n",
    "We use the `mutate` method of datachain, which is a way to add new columns to an existing dataset.\n",
    "\n",
    "Finally we use the `.save` method once again, but this time with a specific name. This will permanently save and version the datachain as a dataset with the name `embeddings-differences`. Whenever we call `.save(\"embeddings-differences\")` again, a new version of this dataset will be saved automatically, so we can recall previous versions and track changes of the dataset over time."
   ]
  },
  {
   "cell_type": "code",
   "execution_count": null,
   "metadata": {},
   "outputs": [],
   "source": [
    "DataChain.from_dataset(\"embeddings-differences\").order_by(C.cos_dist).show(20)"
   ]
  },
  {
   "cell_type": "markdown",
   "metadata": {},
   "source": [
    "Since we saved our dataset `embeddings-differences` we can now load its content to datachain by the `from_dataset` method. In the above we see the 20 chunks which differ the most between our two embeddings."
   ]
  },
  {
   "cell_type": "markdown",
   "metadata": {},
   "source": [
    "We have now solved our scalability issues. When using `DataChain` locally, our computation will still be restricted to a simgle machine but for larger datasets you can use the SaaS version of DataChain available through our DVC Studio which comes with automatic computation cluster management, a graphical user interface and additional ML and data versioning features.\n",
    "\n",
    "We have also solved our versioning needs and we can track the differences between embeddings over time and use that to choose the best embedding for our use-case."
   ]
  },
  {
   "cell_type": "markdown",
   "metadata": {},
   "source": [
    "### Adding more context - merging datasets"
   ]
  },
  {
   "cell_type": "markdown",
   "metadata": {},
   "source": [
    "In our example bucket, we have not only the `pdf` files themselves but also additinal metadata stored as JSON files. We will now see how we can use Datachain to add the information about authors and the paper title to our `embeddings-differences` dataset which can help us with our evaluation."
   ]
  },
  {
   "cell_type": "code",
   "execution_count": 23,
   "metadata": {},
   "outputs": [
    {
     "data": {
      "text/plain": [
       "[{'given_name': 'Alan', 'family_name': 'Murray', 'institution': None},\n",
       " {'given_name': 'Anthony', 'family_name': 'Smith', 'institution': None},\n",
       " {'given_name': 'Zoe', 'family_name': 'Butler', 'institution': None}]"
      ]
     },
     "execution_count": 23,
     "metadata": {},
     "output_type": "execute_result"
    }
   ],
   "source": [
    "import json\n",
    "meta = json.load(open(\"sample.json\"))\n",
    "meta[\"authors\"]"
   ]
  },
  {
   "cell_type": "markdown",
   "metadata": {},
   "source": [
    "As we can see, the metadata contains information about the authors of the paper as a list of dictionaries with each author's name ane institution. Some values can be also be empty. Just as above we create a `DataModel` class to specify the outputs, keeping the name of the file as a key which we will use to join with the previous dataset.\n",
    "\n",
    "Then we create a function to parse all this information and create a new dataset. We will now only create a single row per original dataset, so we use `return` instead of yield (and there is no need for the `Iterator` class)"
   ]
  },
  {
   "cell_type": "code",
   "execution_count": 7,
   "metadata": {},
   "outputs": [],
   "source": [
    "# Define the output as a Feature class\n",
    "class Metadata(DataModel):\n",
    "    key: str\n",
    "    title: str\n",
    "    authors: list[dict[str, Optional[str]]]\n",
    "\n",
    "\n",
    "# Use signatures to define input/output types (these can be Feature or regular Python types)\n",
    "def extract_metadata(file: File) -> Metadata:\n",
    "    import json\n",
    "    # Ingest the file\n",
    "    metadata = json.loads(file.get_value())\n",
    "\n",
    "    record = dict()\n",
    "    record[\"filename\"] = file.name.removesuffix(\"Metadata.json\")+\"Paper.pdf\"\n",
    "    record[\"title\"] = metadata[\"title\"]\n",
    "    record[\"authors\"] = metadata[\"authors\"]\n",
    "\n",
    "    return Metadata(**record)"
   ]
  },
  {
   "cell_type": "markdown",
   "metadata": {},
   "source": [
    "We now apply the `extract_metadata` function as we did with `pdf_chunks` above, except that we use the `.map` method of DataChain which is employed when there is a 1:1 correspondence between the number of rows of the orignal and the new dataset."
   ]
  },
  {
   "cell_type": "code",
   "execution_count": 8,
   "metadata": {},
   "outputs": [
    {
     "name": "stderr",
     "output_type": "stream",
     "text": [
      "Processed: 738 rows [00:00, 13196.05 rows/s]\n",
      "Download: 4.01MB [01:40, 42.0kB/s]\n",
      "Processed: 184 rows [01:40,  1.84 rows/s]\n"
     ]
    },
    {
     "data": {
      "text/html": [
       "<div>\n",
       "<style scoped>\n",
       "    .dataframe tbody tr th:only-of-type {\n",
       "        vertical-align: middle;\n",
       "    }\n",
       "\n",
       "    .dataframe tbody tr th {\n",
       "        vertical-align: top;\n",
       "    }\n",
       "\n",
       "    .dataframe thead th {\n",
       "        text-align: right;\n",
       "    }\n",
       "</style>\n",
       "<table border=\"1\" class=\"dataframe\">\n",
       "  <thead>\n",
       "    <tr style=\"text-align: right;\">\n",
       "      <th></th>\n",
       "      <th>document.key</th>\n",
       "      <th>document.title</th>\n",
       "      <th>document.authors</th>\n",
       "    </tr>\n",
       "  </thead>\n",
       "  <tbody>\n",
       "    <tr>\n",
       "      <th>0</th>\n",
       "      <td>02e74f10e0327ad868d138f2b4fdd6f0</td>\n",
       "      <td>Bit-Serial Neural Networks</td>\n",
       "      <td>[{'given_name': 'Alan', 'family_name': 'Murray...</td>\n",
       "    </tr>\n",
       "    <tr>\n",
       "      <th>1</th>\n",
       "      <td>03afdbd66e7929b125f8597834fa83a4</td>\n",
       "      <td>Connectivity Versus Entropy</td>\n",
       "      <td>[{'given_name': 'Yaser', 'family_name': 'Abu-M...</td>\n",
       "    </tr>\n",
       "    <tr>\n",
       "      <th>2</th>\n",
       "      <td>072b030ba126b2f4b2374f342be9ed44</td>\n",
       "      <td>The Hopfield Model with Multi-Level Neurons</td>\n",
       "      <td>[{'given_name': 'Michael', 'family_name': 'Fle...</td>\n",
       "    </tr>\n",
       "  </tbody>\n",
       "</table>\n",
       "</div>"
      ],
      "text/plain": [
       "                       document.key  \\\n",
       "0  02e74f10e0327ad868d138f2b4fdd6f0   \n",
       "1  03afdbd66e7929b125f8597834fa83a4   \n",
       "2  072b030ba126b2f4b2374f342be9ed44   \n",
       "\n",
       "                                document.title  \\\n",
       "0                   Bit-Serial Neural Networks   \n",
       "1                  Connectivity Versus Entropy   \n",
       "2  The Hopfield Model with Multi-Level Neurons   \n",
       "\n",
       "                                    document.authors  \n",
       "0  [{'given_name': 'Alan', 'family_name': 'Murray...  \n",
       "1  [{'given_name': 'Yaser', 'family_name': 'Abu-M...  \n",
       "2  [{'given_name': 'Michael', 'family_name': 'Fle...  "
      ]
     },
     "metadata": {},
     "output_type": "display_data"
    },
    {
     "name": "stdout",
     "output_type": "stream",
     "text": [
      "[limited by 3 objects]\n"
     ]
    }
   ],
   "source": [
    "dc_meta = (\n",
    "    DataChain.from_storage(\"gs://datachain-demo/neurips\")\n",
    "    .filter(C.name.glob(\"*Metadata.json\"))\n",
    "    )\n",
    "\n",
    "(\n",
    "    dc_meta.\n",
    "    map(document=extract_metadata)\n",
    "    .select(\n",
    "        \"document.key\",\n",
    "        \"document.title\",\n",
    "        \"document.authors\",\n",
    "    )\n",
    "    .show(3)\n",
    ")"
   ]
  },
  {
   "cell_type": "markdown",
   "metadata": {},
   "source": [
    "Finally we will merge the two datasets using the DataChain `.merge` method."
   ]
  },
  {
   "cell_type": "code",
   "execution_count": null,
   "metadata": {},
   "outputs": [],
   "source": [
    "DataChain.from_dataset(\"embeddings-differences\").merge(dc_meta, on=\"key\").show(20)"
   ]
  }
 ],
 "metadata": {
  "kernelspec": {
   "display_name": ".venv",
   "language": "python",
   "name": "python3"
  },
  "language_info": {
   "codemirror_mode": {
    "name": "ipython",
    "version": 3
   },
   "file_extension": ".py",
   "mimetype": "text/x-python",
   "name": "python",
   "nbconvert_exporter": "python",
   "pygments_lexer": "ipython3",
   "version": "3.12.4"
  }
 },
 "nbformat": 4,
 "nbformat_minor": 2
}
