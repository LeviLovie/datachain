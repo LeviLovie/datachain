{
 "cells": [
  {
   "cell_type": "markdown",
   "metadata": {},
   "source": [
    "# LLMs and RAG with DataChain"
   ]
  },
  {
   "cell_type": "markdown",
   "metadata": {},
   "source": [
    "In LLM applications nowadays, the emerging standard pattern for most use-cases is to employ a pre-trained model with an API from a 3rd party provider and to augment it with a RAG context. Naive application of \"latest and greatest\" models with no prompt engineering, testing and evaluation of RAG context can lead to needlessly expensive operational costs at best and dissapointingly poor performance at worst.\n",
    "\n",
    "Therefore, just like in machine learning training, we need to version all that data as we finetune our applications to be able to correctly evaluate the effect of any changes we apply to our models. We can experiment with the LLM choice, prompt engineering, the way we process data for our RAG context (pre-processing, embedding, ...) and so on.\n",
    "\n",
    "In this example, we will see how we can use DataChain to create such a controlled development environment and how it can help us when we evaluate any fine-tuning of our LLM applications.\n",
    "\n",
    "We will see how to use DataChain to version our RAG context datasets to preserve reproducibility of our fine-tuning experiments as the RAG context changes. We will also see how to use DataChain in the evaluation of fine-tuning by comparing two different text embedding models and saving (and versioning) the results with additional context."
   ]
  },
  {
   "cell_type": "markdown",
   "metadata": {},
   "source": [
    "## Processing a large collection of documents"
   ]
  },
  {
   "cell_type": "markdown",
   "metadata": {},
   "source": [
    "Let's say that we have a collection of relevant documents which we want to use as context in LLM queries in our chatbot application. We will be using DataChain to create, store and version vector embeddings of our documents.\n",
    "\n",
    "In this example we will be using papers from the [Neural Information Processing Systems](https://papers.neurips.cc/paper/) conference. \n",
    "\n",
    "We will proceed in the following steps:\n",
    "1. [Data ingestion with DataChain](#data-ingestion) - we will use DataChain to ingest the data, taking advantage of its lazy evaluation feature to only ingest the data we need\n",
    "1. [Data processing with the Unstructured Python library](#processing-the-documents-individually)\n",
    "1. [Scaling the data processing with DataChain](#processing-the-documents-at-scale-using-datachain-udfs)\n",
    "1. [Using Datachain to evaluate different embedding models](#evaluation)\n",
    "1. [Adding extra context by combining datasets](#adding-more-context---merging-datasets)"
   ]
  },
  {
   "cell_type": "code",
   "execution_count": 52,
   "metadata": {},
   "outputs": [],
   "source": [
    "from sqlalchemy import func\n",
    "from copy import deepcopy\n",
    "from typing import Optional\n",
    "from collections.abc import Iterator\n",
    "\n",
    "from datachain.lib.dc import DataChain, C\n",
    "from datachain.lib.data_model import DataModel\n",
    "from datachain.lib.file import File\n",
    "from datachain.sql.functions.array import cosine_distance\n",
    "\n",
    "from unstructured.partition.pdf import partition_pdf\n",
    "from unstructured.chunking.title import chunk_by_title\n",
    "\n",
    "from unstructured.embed.huggingface import HuggingFaceEmbeddingConfig, HuggingFaceEmbeddingEncoder"
   ]
  },
  {
   "cell_type": "markdown",
   "metadata": {},
   "source": [
    "### Data ingestion"
   ]
  },
  {
   "cell_type": "markdown",
   "metadata": {},
   "source": [
    "We will first ingest the dataset. The data are saved on a cloud storage, so we use the `.from_storage` DataChain method. We will also use the `.filter` method to restrict ourselves only to `.pdf` files (the storage contains many other data which we do not need).\n",
    "\n",
    "Notice that:\n",
    "\n",
    "1. Since DataChain employs lazy evaluation, no data are actually loaded just yet (until we invoke an action such as showing or saving our DataChain)\n",
    "1. The previous point also means that when we filter out all non-pdf files, DataChain doesn't actually waste time loading their content only to throw them away later. This makes DataChain a lot more scalable than tools with eager evaluation.\n",
    "1. The `.from_storage` method of DataChain operates on the level of the entire bucket. This means that even if the files are stored using a complicated directory structure and potentially uploaded irregularly into this structure, we can retrieve or update our DataChain of articles with just a simple one-line command"
   ]
  },
  {
   "cell_type": "code",
   "execution_count": 53,
   "metadata": {},
   "outputs": [],
   "source": [
    "dc_papers = (\n",
    "    DataChain.from_storage(\"gs://datachain-demo/neurips\")\n",
    "    .filter(C.name.glob(\"*.pdf\"))\n",
    "    )"
   ]
  },
  {
   "cell_type": "code",
   "execution_count": 54,
   "metadata": {},
   "outputs": [
    {
     "name": "stderr",
     "output_type": "stream",
     "text": [
      "Listing gs://datachain-demo: 269955 objects [01:05, 4115.03 objects/s]\n",
      "Processed: 738 rows [00:00, 5643.55 rows/s]\n"
     ]
    },
    {
     "data": {
      "text/html": [
       "<div>\n",
       "<style scoped>\n",
       "    .dataframe tbody tr th:only-of-type {\n",
       "        vertical-align: middle;\n",
       "    }\n",
       "\n",
       "    .dataframe tbody tr th {\n",
       "        vertical-align: top;\n",
       "    }\n",
       "\n",
       "    .dataframe thead tr th {\n",
       "        text-align: left;\n",
       "    }\n",
       "</style>\n",
       "<table border=\"1\" class=\"dataframe\">\n",
       "  <thead>\n",
       "    <tr>\n",
       "      <th></th>\n",
       "      <th>file</th>\n",
       "      <th>file</th>\n",
       "      <th>file</th>\n",
       "      <th>file</th>\n",
       "      <th>file</th>\n",
       "      <th>file</th>\n",
       "      <th>file</th>\n",
       "      <th>file</th>\n",
       "      <th>file</th>\n",
       "      <th>file</th>\n",
       "    </tr>\n",
       "    <tr>\n",
       "      <th></th>\n",
       "      <th>source</th>\n",
       "      <th>parent</th>\n",
       "      <th>name</th>\n",
       "      <th>size</th>\n",
       "      <th>version</th>\n",
       "      <th>etag</th>\n",
       "      <th>is_latest</th>\n",
       "      <th>last_modified</th>\n",
       "      <th>location</th>\n",
       "      <th>vtype</th>\n",
       "    </tr>\n",
       "  </thead>\n",
       "  <tbody>\n",
       "    <tr>\n",
       "      <th>0</th>\n",
       "      <td>gs://datachain-demo</td>\n",
       "      <td>neurips/1987/file</td>\n",
       "      <td>02e74f10e0327ad868d138f2b4fdd6f0-Paper.pdf</td>\n",
       "      <td>2291566</td>\n",
       "      <td>1721047139405563</td>\n",
       "      <td>CPudi5uIqYcDEAE=</td>\n",
       "      <td>1</td>\n",
       "      <td>1970-01-01 00:00:00+00:00</td>\n",
       "      <td>None</td>\n",
       "      <td></td>\n",
       "    </tr>\n",
       "    <tr>\n",
       "      <th>1</th>\n",
       "      <td>gs://datachain-demo</td>\n",
       "      <td>neurips/1987/file</td>\n",
       "      <td>03afdbd66e7929b125f8597834fa83a4-Paper.pdf</td>\n",
       "      <td>1322648</td>\n",
       "      <td>1721047138865046</td>\n",
       "      <td>CJaf6pqIqYcDEAE=</td>\n",
       "      <td>1</td>\n",
       "      <td>1970-01-01 00:00:00+00:00</td>\n",
       "      <td>None</td>\n",
       "      <td></td>\n",
       "    </tr>\n",
       "    <tr>\n",
       "      <th>2</th>\n",
       "      <td>gs://datachain-demo</td>\n",
       "      <td>neurips/1987/file</td>\n",
       "      <td>072b030ba126b2f4b2374f342be9ed44-Paper.pdf</td>\n",
       "      <td>1220711</td>\n",
       "      <td>1721046993295769</td>\n",
       "      <td>CJmztdWHqYcDEAE=</td>\n",
       "      <td>1</td>\n",
       "      <td>1970-01-01 00:00:00+00:00</td>\n",
       "      <td>None</td>\n",
       "      <td></td>\n",
       "    </tr>\n",
       "  </tbody>\n",
       "</table>\n",
       "</div>"
      ],
      "text/plain": [
       "                  file               file  \\\n",
       "                source             parent   \n",
       "0  gs://datachain-demo  neurips/1987/file   \n",
       "1  gs://datachain-demo  neurips/1987/file   \n",
       "2  gs://datachain-demo  neurips/1987/file   \n",
       "\n",
       "                                         file     file              file  \\\n",
       "                                         name     size           version   \n",
       "0  02e74f10e0327ad868d138f2b4fdd6f0-Paper.pdf  2291566  1721047139405563   \n",
       "1  03afdbd66e7929b125f8597834fa83a4-Paper.pdf  1322648  1721047138865046   \n",
       "2  072b030ba126b2f4b2374f342be9ed44-Paper.pdf  1220711  1721046993295769   \n",
       "\n",
       "               file      file                      file     file  file  \n",
       "               etag is_latest             last_modified location vtype  \n",
       "0  CPudi5uIqYcDEAE=         1 1970-01-01 00:00:00+00:00     None        \n",
       "1  CJaf6pqIqYcDEAE=         1 1970-01-01 00:00:00+00:00     None        \n",
       "2  CJmztdWHqYcDEAE=         1 1970-01-01 00:00:00+00:00     None        "
      ]
     },
     "metadata": {},
     "output_type": "display_data"
    },
    {
     "name": "stdout",
     "output_type": "stream",
     "text": [
      "\n",
      "[Limited by 3 rows]\n"
     ]
    }
   ],
   "source": [
    "dc_papers.show(3)"
   ]
  },
  {
   "cell_type": "markdown",
   "metadata": {},
   "source": [
    "DataChain created a record for each `pdf` file in the `neurips` directory, generating a `file` signal for each file. The file signal contains subsignals with metadata about each file, like `file.name` and `file.size`. Aggregate signals like `file` that contain multiple subsignals are called features.\n",
    "\n",
    "You can use the `file` feature to not only get metadata about each file, but also to open and read the file as needed."
   ]
  },
  {
   "cell_type": "markdown",
   "metadata": {},
   "source": [
    "### Processing the documents individually"
   ]
  },
  {
   "cell_type": "markdown",
   "metadata": {},
   "source": [
    "We now want to ingest the content of the pdf files as text, divide it into chunks and vectorize those for our RAG application. We are interested in comparing two different models for embeddings. Normally, we would also do some pre-processing and cleaning of the text before vectorization, but we will skip it here for brevity.\n",
    "\n",
    "We will first do all this with an example of a single pdf using the `unstructured` Python library and then we will see how we can scale this up to the entire bucket with the help of DataChain.\n",
    "\n",
    "First, we ingest and partition the pdf file and chunk it.\n"
   ]
  },
  {
   "cell_type": "code",
   "execution_count": 55,
   "metadata": {},
   "outputs": [],
   "source": [
    "chunks = chunk_by_title(partition_pdf(filename=\"sample.pdf\"))\n"
   ]
  },
  {
   "cell_type": "markdown",
   "metadata": {},
   "source": [
    "Next, we vectorize each chunk using HuggingFace embedding encoders. Ideally, we want the smallest model possible while maintaining accuracy to increase speed and reduce costs of embeddings. We will see how embeddings from a candidate model `MODEL_NEW` differ from embeddings produced by the existing model `MODEL_OLD`."
   ]
  },
  {
   "cell_type": "code",
   "execution_count": 56,
   "metadata": {},
   "outputs": [],
   "source": [
    "MODEL_NEW = \"sentence-transformers/paraphrase-MiniLM-L6-v2\" \n",
    "MODEL_OLD = \"sentence-transformers/all-MiniLM-L6-v2\"\n",
    "\n",
    "embedding_encoder_new = HuggingFaceEmbeddingEncoder(\n",
    "     config=HuggingFaceEmbeddingConfig(model_name=MODEL_NEW, model_kwargs={\"device\":\"cuda\"}, encode_kwargs={\"normalize_embeddings\":True})\n",
    ")\n",
    "\n",
    "chunks_embedded_new = embedding_encoder_new.embed_documents(chunks)\n",
    "\n",
    "embedding_encoder_old = HuggingFaceEmbeddingEncoder(\n",
    "     config=HuggingFaceEmbeddingConfig(model_name=MODEL_OLD, model_kwargs={\"device\":\"cuda\"}, encode_kwargs={\"normalize_embeddings\":True})\n",
    ")\n",
    "\n",
    "# we need deepcopy here because unstructured creates lists of references to elements\n",
    "chunks_embedded_old = embedding_encoder_old.embed_documents(deepcopy(chunks))"
   ]
  },
  {
   "cell_type": "markdown",
   "metadata": {},
   "source": [
    "We now have our chunks vectorized and ready for comparison (e.g. with cosine similarity). However, we are missing a few ingredients:\n",
    "\n",
    "1. ***Scaling*** - we only processed a single pdf file and we had to manually specify its path. We need to find a way to process all our documents at scale instead and to save the results.\n",
    "2. ***Saving and Versioning*** - even if we only had a single or a few PDF files we would like to use in our RAG, it is a good practice to version the outputs so that we can keep track of and fine-tune our RAG application. If we simply save the current results to a bucket and overwrite it each time the source is updated, we lose this. We could version the results manually, e.g. by adding a timestamp to the blob name, but that is not very reliable and will lead to unnecessary copies of files."
   ]
  },
  {
   "cell_type": "markdown",
   "metadata": {},
   "source": [
    "### Processing the documents at scale, using DataChain UDFs"
   ]
  },
  {
   "cell_type": "markdown",
   "metadata": {},
   "source": [
    "We will now use DataChain to solve the scaling and versioning issues we outline above. We will create a DataChain user-defined function (UDF) to process all our PDF files the way we did above with a single file (without us having to manually provide file paths) and save the outputs in a Datachain.\n",
    "\n",
    "The DataChain UDF functionality will allow us to generate additonal columns in our DataChain, iterating over each of the files listed in it.\n",
    "\n",
    "We first need to define a DataModel class, which will define the types of our outputs. Inputs and outputs need to be specified like this when we use custom functinos in Datachain."
   ]
  },
  {
   "cell_type": "code",
   "execution_count": 57,
   "metadata": {},
   "outputs": [],
   "source": [
    "# Define the output as a Feature class\n",
    "class Chunk(DataModel):\n",
    "    key: str\n",
    "    text: str\n",
    "    embeddings_new: list[float]\n",
    "    embeddings_old: list[float]"
   ]
  },
  {
   "cell_type": "markdown",
   "metadata": {},
   "source": [
    "In the above we define `Chunk` by specifying the names and types of new columns on the output.\n",
    "\n",
    "We then define our processing function `pdf_chuks`:"
   ]
  },
  {
   "cell_type": "code",
   "execution_count": 58,
   "metadata": {},
   "outputs": [],
   "source": [
    "# Use signatures to define input/output types (these can be Feature or regular Python types)\n",
    "def pdf_chunks(file: File) -> Iterator[Chunk]:\n",
    "    # Ingest the file\n",
    "    with file.open() as f:\n",
    "        chunks = partition_pdf(file=f)\n",
    "\n",
    "    chunks_embedded_new = embedding_encoder_new.embed_documents(chunks)\n",
    "    chunks_embedded_old = embedding_encoder_old.embed_documents(deepcopy(chunks))\n",
    "\n",
    "    # Add new rows to DataChain\n",
    "    for chunk, chunk_orig in zip(chunks_embedded_new, chunks_embedded_old):\n",
    "        record = {}\n",
    "        record[\"key\"] = file.name.removesuffix(\"-Paper.pdf\")\n",
    "        record[\"text\"] = chunk.text\n",
    "        record[\"embeddings_new\"] = chunk.embeddings\n",
    "        record[\"embeddings_old\"] = chunk_orig.embeddings\n",
    "\n",
    "        yield Chunk(**record)"
   ]
  },
  {
   "cell_type": "markdown",
   "metadata": {},
   "source": [
    "Here, the syntax is the same as with any other Python function, except that we specify the input and output types using type hints\n",
    "\n",
    "```\n",
    "def pdf_chunks(file: File) -> Iterator[Chunk]:\n",
    "```\n",
    "Here, `file` specifies that we pass all `file` columns of the original dataset on the input and `Iterator[Chunk]` specifies that we get a bunch of `Chunk` rows on the output (from a single row of the original datachain representing a single paper we will get a new dataset with multiple rows per paper, each representing a single chunk).\n",
    "\n",
    "We then specify what each row should contain by defining the `record` dictionary and then we use `yield Chunk(**record)` to create the new rows for each input row."
   ]
  },
  {
   "cell_type": "code",
   "execution_count": 59,
   "metadata": {},
   "outputs": [
    {
     "name": "stderr",
     "output_type": "stream",
     "text": [
      "Processed: 738 rows [00:00, 7932.83 rows/s]\n",
      "Processed: 0 rows [00:00, ? rows/s]\n",
      "Processed: 2 rows [00:04,  2.04s/ rows]\n",
      "Processed: 3 rows [00:07,  2.52s/ rows]\n",
      "\u001b[A\n",
      "\u001b[A\n",
      "Processed: 4 rows [00:11,  3.03s/ rows]\n",
      "Processed: 5 rows [00:15,  3.49s/ rows]\n",
      "Processed: 6 rows [00:19,  3.55s/ rows]\n",
      "\u001b[A\n",
      "Processed: 7 rows [00:22,  3.42s/ rows]\n",
      "Processed: 8 rows [00:26,  3.51s/ rows]\n",
      "\u001b[A\n",
      "Processed: 9 rows [00:30,  3.80s/ rows]\n",
      "Processed: 10 rows [00:33,  3.67s/ rows]\n",
      "\u001b[A\n",
      "Processed: 11 rows [00:38,  4.10s/ rows]\n",
      "Processed: 12 rows [00:42,  3.92s/ rows]\n",
      "Processed: 13 rows [00:46,  3.84s/ rows]\n",
      "\u001b[A\n",
      "Processed: 14 rows [00:50,  4.11s/ rows]\n",
      "Processed: 15 rows [00:53,  3.66s/ rows]\n",
      "Processed: 16 rows [00:57,  3.67s/ rows]\n",
      "Processed: 17 rows [01:00,  3.65s/ rows]\n",
      "Processed: 18 rows [01:03,  3.53s/ rows]\n",
      "\u001b[A\n",
      "\u001b[A\n",
      "Processed: 19 rows [01:08,  3.70s/ rows]\n",
      "Processed: 20 rows [01:11,  3.60s/ rows]\n",
      "Download: 51.2MB [01:16, 698kB/s] \n",
      "Processed: 20 rows [01:17,  3.87s/ rows]\n",
      "Generated: 3767 rows [01:13, 51.37 rows/s]\n"
     ]
    },
    {
     "data": {
      "text/plain": [
       "<datachain.lib.dc.DataChain at 0x7f799bdc1400>"
      ]
     },
     "execution_count": 59,
     "metadata": {},
     "output_type": "execute_result"
    }
   ],
   "source": [
    "dc_chunks_embeddings = (\n",
    "    dc_papers\n",
    "    .limit(20) # we limit ourselves to 20 papers here, to speed up the demo\n",
    "    .gen(document=pdf_chunks)\n",
    ")\n",
    "\n",
    "dc_chunks_embeddings.save(\"embeddings\")"
   ]
  },
  {
   "cell_type": "markdown",
   "metadata": {},
   "source": [
    "In the cell above we apply our new `pdf_chunks` function to the DataChain `dc_papers`. We do that by using the `gen` method of DataChain with `pdf_chunks`as its parameter. \n",
    "\n",
    "`DataChain.gen` is used when we have a function that creates multiple rows per single row of the original datachain (like in our examples, where each paper is split into multiple chunks)\n",
    "\n",
    "We also presisted the result by the `.save` method. This will permanently save and version the datachain as a dataset with the name `embeddings`. Whenever we call `.save(\"embeddings\")` again, a new version of this dataset will be saved automatically, so we can recall previous versions and track changes of the dataset over time."
   ]
  },
  {
   "cell_type": "markdown",
   "metadata": {},
   "source": [
    "### Evaluation"
   ]
  },
  {
   "cell_type": "markdown",
   "metadata": {},
   "source": [
    "We will now use DataChain to calculate similarity between the two alternative embeddings using a fixed test query as reference and for further evaluation we will save dataset containing the chunks where the two embeddings differ the most.\n"
   ]
  },
  {
   "cell_type": "code",
   "execution_count": 60,
   "metadata": {},
   "outputs": [],
   "source": [
    "TEST_QUERY = \"What are the most promising approaches for combining neural networks with symbolic reasoning, according to recent NeurIPS papers?\"\n",
    "\n",
    "embedded_query_new = embedding_encoder_new.embed_query(query = TEST_QUERY)\n",
    "embedded_query_old = embedding_encoder_old.embed_query(query = TEST_QUERY)"
   ]
  },
  {
   "cell_type": "markdown",
   "metadata": {},
   "source": [
    "Using the built-in DataChain function `cosine_distance` we will calculate the cosine similarities between each chunk and the test query `TEST_QUERY` and then compare the results between the two embeddings.\n",
    "\n",
    "To specify that we want to compare columns we use the `C` class from `datachain.lib.dc`. We use the `mutate` method of DataChain, which is a way to add new columns to an existing dataset.\n",
    "\n",
    "Since we saved our dataset `embeddings`, we can now load its content to datachain by the `from_dataset` method"
   ]
  },
  {
   "cell_type": "code",
   "execution_count": 70,
   "metadata": {},
   "outputs": [],
   "source": [
    "embeddings_differences = (\n",
    "    DataChain\n",
    "    .from_dataset(\"embeddings\")\n",
    "    .mutate(\n",
    "        query_sim_new = 1 - cosine_distance(C.document.embeddings_new, embedded_query_new),\n",
    "        query_sim_old = 1 - cosine_distance(C.document.embeddings_old, embedded_query_old),\n",
    "        )\n",
    "    .mutate(abs_difference = func.abs(C.query_sim_old - C.query_sim_new))\n",
    "    .filter(C.abs_difference > 0.1)\n",
    "    .order_by(\"abs_difference\", descending=True)\n",
    "    # .to_pandas()\n",
    "    .save(\"embeddings-differences\")\n",
    ")\n",
    "\n"
   ]
  },
  {
   "cell_type": "code",
   "execution_count": 71,
   "metadata": {},
   "outputs": [
    {
     "data": {
      "text/html": [
       "<div>\n",
       "<style scoped>\n",
       "    .dataframe tbody tr th:only-of-type {\n",
       "        vertical-align: middle;\n",
       "    }\n",
       "\n",
       "    .dataframe tbody tr th {\n",
       "        vertical-align: top;\n",
       "    }\n",
       "\n",
       "    .dataframe thead tr th {\n",
       "        text-align: left;\n",
       "    }\n",
       "</style>\n",
       "<table border=\"1\" class=\"dataframe\">\n",
       "  <thead>\n",
       "    <tr>\n",
       "      <th></th>\n",
       "      <th>document</th>\n",
       "      <th>document</th>\n",
       "      <th>document</th>\n",
       "      <th>document</th>\n",
       "      <th>query_sim_new</th>\n",
       "      <th>query_sim_old</th>\n",
       "      <th>abs_difference</th>\n",
       "    </tr>\n",
       "    <tr>\n",
       "      <th></th>\n",
       "      <th>key</th>\n",
       "      <th>text</th>\n",
       "      <th>embeddings_new</th>\n",
       "      <th>embeddings_old</th>\n",
       "      <th></th>\n",
       "      <th></th>\n",
       "      <th></th>\n",
       "    </tr>\n",
       "  </thead>\n",
       "  <tbody>\n",
       "    <tr>\n",
       "      <th>0</th>\n",
       "      <td>072b030ba126b2f4b2374f342be9ed44</td>\n",
       "      <td>definition of information capacity for neural ...</td>\n",
       "      <td>[-0.0007434347062371671, -0.033391062170267105...</td>\n",
       "      <td>[-0.03748973831534386, -0.07128849625587463, -...</td>\n",
       "      <td>0.599372</td>\n",
       "      <td>0.232001</td>\n",
       "      <td>0.367372</td>\n",
       "    </tr>\n",
       "    <tr>\n",
       "      <th>1</th>\n",
       "      <td>32bb90e8976aab5298d5da10fe66f21d</td>\n",
       "      <td>value a unit takes on after probing becomes de...</td>\n",
       "      <td>[-0.029339516535401344, -0.008152814581990242,...</td>\n",
       "      <td>[-0.04788150265812874, -0.016090208664536476, ...</td>\n",
       "      <td>0.341957</td>\n",
       "      <td>-0.018574</td>\n",
       "      <td>0.360531</td>\n",
       "    </tr>\n",
       "    <tr>\n",
       "      <th>2</th>\n",
       "      <td>03afdbd66e7929b125f8597834fa83a4</td>\n",
       "      <td>We expand E (d(vt, V2)) as follows</td>\n",
       "      <td>[0.019277652725577354, 0.005147224757820368, 0...</td>\n",
       "      <td>[0.026867331936955452, 0.1133461445569992, 0.1...</td>\n",
       "      <td>0.307695</td>\n",
       "      <td>-0.025924</td>\n",
       "      <td>0.333619</td>\n",
       "    </tr>\n",
       "    <tr>\n",
       "      <th>3</th>\n",
       "      <td>19ca14e7ea6328a42e0eb13d585e4c22</td>\n",
       "      <td>Following the method of analysis advanced in6 ...</td>\n",
       "      <td>[-0.1627332717180252, -0.020131690427660942, -...</td>\n",
       "      <td>[-0.05186143517494202, 0.01539693120867014, -0...</td>\n",
       "      <td>0.282878</td>\n",
       "      <td>-0.025713</td>\n",
       "      <td>0.308591</td>\n",
       "    </tr>\n",
       "    <tr>\n",
       "      <th>4</th>\n",
       "      <td>03afdbd66e7929b125f8597834fa83a4</td>\n",
       "      <td>Substituting this estimate in the expression f...</td>\n",
       "      <td>[-0.009833479300141335, 0.04947531223297119, 0...</td>\n",
       "      <td>[0.008176444098353386, 0.11296440660953522, 0....</td>\n",
       "      <td>0.252918</td>\n",
       "      <td>-0.054933</td>\n",
       "      <td>0.307851</td>\n",
       "    </tr>\n",
       "    <tr>\n",
       "      <th>5</th>\n",
       "      <td>072b030ba126b2f4b2374f342be9ed44</td>\n",
       "      <td>E(X) =- - ~ ~ W··X·X· + ~ t·X· I</td>\n",
       "      <td>[0.03537482023239136, 0.012042378075420856, 0....</td>\n",
       "      <td>[-0.021044446155428886, 0.04361243546009064, 0...</td>\n",
       "      <td>0.247662</td>\n",
       "      <td>-0.058594</td>\n",
       "      <td>0.306256</td>\n",
       "    </tr>\n",
       "    <tr>\n",
       "      <th>6</th>\n",
       "      <td>03afdbd66e7929b125f8597834fa83a4</td>\n",
       "      <td>To evaluate E(ln - h2- K I), we estimate the v...</td>\n",
       "      <td>[-0.015968868508934975, -0.04030385613441467, ...</td>\n",
       "      <td>[0.032369714230298996, 0.041351232677698135, 0...</td>\n",
       "      <td>0.222286</td>\n",
       "      <td>-0.081749</td>\n",
       "      <td>0.304036</td>\n",
       "    </tr>\n",
       "    <tr>\n",
       "      <th>7</th>\n",
       "      <td>1f0e3dad99908345f7439f8ffabdffc4</td>\n",
       "      <td>[3] Brody D.A., IEEE Trans. vBME-32, n2, pl06-...</td>\n",
       "      <td>[-0.1226053535938263, 0.07194244116544724, -0....</td>\n",
       "      <td>[-0.11780540645122528, -0.06241508573293686, -...</td>\n",
       "      <td>0.043594</td>\n",
       "      <td>0.339062</td>\n",
       "      <td>0.295468</td>\n",
       "    </tr>\n",
       "    <tr>\n",
       "      <th>8</th>\n",
       "      <td>14bfa6bb14875e45bba028a21ed38046</td>\n",
       "      <td>We have studied the behaviour of the above mod...</td>\n",
       "      <td>[-0.09533101320266724, 0.04399219900369644, 0....</td>\n",
       "      <td>[-0.0024363314732909203, -0.033086422830820084...</td>\n",
       "      <td>0.342260</td>\n",
       "      <td>0.047467</td>\n",
       "      <td>0.294794</td>\n",
       "    </tr>\n",
       "    <tr>\n",
       "      <th>9</th>\n",
       "      <td>072b030ba126b2f4b2374f342be9ed44</td>\n",
       "      <td>The asymptotic capacity of the above network i...</td>\n",
       "      <td>[-0.013820679858326912, -0.008421104401350021,...</td>\n",
       "      <td>[0.01676095463335514, -0.029143471270799637, -...</td>\n",
       "      <td>0.321460</td>\n",
       "      <td>0.028589</td>\n",
       "      <td>0.292870</td>\n",
       "    </tr>\n",
       "    <tr>\n",
       "      <th>10</th>\n",
       "      <td>1f0e3dad99908345f7439f8ffabdffc4</td>\n",
       "      <td>this imply faster settling time for method V\"t?</td>\n",
       "      <td>[0.007205287925899029, 0.014997398480772972, -...</td>\n",
       "      <td>[-0.052239593118429184, -0.007410300895571709,...</td>\n",
       "      <td>0.278517</td>\n",
       "      <td>-0.003472</td>\n",
       "      <td>0.281988</td>\n",
       "    </tr>\n",
       "    <tr>\n",
       "      <th>11</th>\n",
       "      <td>182be0c5cdcd5072bb1864cdee4d3d6e</td>\n",
       "      <td>The basis of the second heuristic is the conje...</td>\n",
       "      <td>[-0.0438699871301651, 0.011099177412688732, -0...</td>\n",
       "      <td>[-0.03329235687851906, 0.00850678700953722, 0....</td>\n",
       "      <td>0.332217</td>\n",
       "      <td>0.055260</td>\n",
       "      <td>0.276957</td>\n",
       "    </tr>\n",
       "    <tr>\n",
       "      <th>12</th>\n",
       "      <td>3416a75f4cea9109507cacd8e2f2aefc</td>\n",
       "      <td>2.1 Neural Network Model</td>\n",
       "      <td>[-0.025577422231435776, -0.040469374507665634,...</td>\n",
       "      <td>[-0.036114152520895004, -0.13928966224193573, ...</td>\n",
       "      <td>0.591121</td>\n",
       "      <td>0.315003</td>\n",
       "      <td>0.276118</td>\n",
       "    </tr>\n",
       "    <tr>\n",
       "      <th>13</th>\n",
       "      <td>34173cb38f07f89ddbebc2ac9128303f</td>\n",
       "      <td>test set Ga.mmontool</td>\n",
       "      <td>[-0.09633463621139526, -0.020939188078045845, ...</td>\n",
       "      <td>[-0.09075044095516205, -0.01197083480656147, -...</td>\n",
       "      <td>0.218268</td>\n",
       "      <td>-0.057480</td>\n",
       "      <td>0.275748</td>\n",
       "    </tr>\n",
       "    <tr>\n",
       "      <th>14</th>\n",
       "      <td>072b030ba126b2f4b2374f342be9ed44</td>\n",
       "      <td>where G (X) is a piecewise linear convex U fun...</td>\n",
       "      <td>[-0.06223059073090553, -0.019817590713500977, ...</td>\n",
       "      <td>[-0.07482347637414932, 0.016536176204681396, 0...</td>\n",
       "      <td>0.261437</td>\n",
       "      <td>-0.013927</td>\n",
       "      <td>0.275363</td>\n",
       "    </tr>\n",
       "    <tr>\n",
       "      <th>15</th>\n",
       "      <td>14bfa6bb14875e45bba028a21ed38046</td>\n",
       "      <td>Simulations and numerical solutions of the que...</td>\n",
       "      <td>[-0.1224786564707756, 0.057144828140735626, -0...</td>\n",
       "      <td>[-0.0232269074767828, -0.007866530679166317, -...</td>\n",
       "      <td>0.320294</td>\n",
       "      <td>0.045741</td>\n",
       "      <td>0.274553</td>\n",
       "    </tr>\n",
       "    <tr>\n",
       "      <th>16</th>\n",
       "      <td>093f65e080a295f8076b1c5722a46aa2</td>\n",
       "      <td>O(t + P) = f (11(t), 12(t - A) ... lm(t - mA))</td>\n",
       "      <td>[-0.06239400804042816, 0.061337027698755264, 0...</td>\n",
       "      <td>[0.03684811294078827, 0.06664925813674927, -0....</td>\n",
       "      <td>0.225188</td>\n",
       "      <td>-0.048949</td>\n",
       "      <td>0.274137</td>\n",
       "    </tr>\n",
       "    <tr>\n",
       "      <th>17</th>\n",
       "      <td>2838023a778dfaecdc212708f721b788</td>\n",
       "      <td>slow thres holding &amp; feedback</td>\n",
       "      <td>[-0.0040869880467653275, -0.0453563928604126, ...</td>\n",
       "      <td>[-0.015175594948232174, -0.03998769447207451, ...</td>\n",
       "      <td>0.225822</td>\n",
       "      <td>-0.048008</td>\n",
       "      <td>0.273830</td>\n",
       "    </tr>\n",
       "    <tr>\n",
       "      <th>18</th>\n",
       "      <td>2a38a4a9316c49e5a833517c45d31070</td>\n",
       "      <td>o ci ,-----------------------------~</td>\n",
       "      <td>[-0.07671135663986206, 0.015895981341600418, -...</td>\n",
       "      <td>[-0.040290918201208115, 0.024624446406960487, ...</td>\n",
       "      <td>0.226811</td>\n",
       "      <td>-0.044542</td>\n",
       "      <td>0.271354</td>\n",
       "    </tr>\n",
       "    <tr>\n",
       "      <th>19</th>\n",
       "      <td>14bfa6bb14875e45bba028a21ed38046</td>\n",
       "      <td>At the edges of the grid, circular connections...</td>\n",
       "      <td>[-0.08128111809492111, -0.06440790742635727, 0...</td>\n",
       "      <td>[-0.038967594504356384, -4.5817527279723436e-0...</td>\n",
       "      <td>0.337720</td>\n",
       "      <td>0.070004</td>\n",
       "      <td>0.267716</td>\n",
       "    </tr>\n",
       "  </tbody>\n",
       "</table>\n",
       "</div>"
      ],
      "text/plain": [
       "                            document  \\\n",
       "                                 key   \n",
       "0   072b030ba126b2f4b2374f342be9ed44   \n",
       "1   32bb90e8976aab5298d5da10fe66f21d   \n",
       "2   03afdbd66e7929b125f8597834fa83a4   \n",
       "3   19ca14e7ea6328a42e0eb13d585e4c22   \n",
       "4   03afdbd66e7929b125f8597834fa83a4   \n",
       "5   072b030ba126b2f4b2374f342be9ed44   \n",
       "6   03afdbd66e7929b125f8597834fa83a4   \n",
       "7   1f0e3dad99908345f7439f8ffabdffc4   \n",
       "8   14bfa6bb14875e45bba028a21ed38046   \n",
       "9   072b030ba126b2f4b2374f342be9ed44   \n",
       "10  1f0e3dad99908345f7439f8ffabdffc4   \n",
       "11  182be0c5cdcd5072bb1864cdee4d3d6e   \n",
       "12  3416a75f4cea9109507cacd8e2f2aefc   \n",
       "13  34173cb38f07f89ddbebc2ac9128303f   \n",
       "14  072b030ba126b2f4b2374f342be9ed44   \n",
       "15  14bfa6bb14875e45bba028a21ed38046   \n",
       "16  093f65e080a295f8076b1c5722a46aa2   \n",
       "17  2838023a778dfaecdc212708f721b788   \n",
       "18  2a38a4a9316c49e5a833517c45d31070   \n",
       "19  14bfa6bb14875e45bba028a21ed38046   \n",
       "\n",
       "                                             document  \\\n",
       "                                                 text   \n",
       "0   definition of information capacity for neural ...   \n",
       "1   value a unit takes on after probing becomes de...   \n",
       "2                  We expand E (d(vt, V2)) as follows   \n",
       "3   Following the method of analysis advanced in6 ...   \n",
       "4   Substituting this estimate in the expression f...   \n",
       "5                    E(X) =- - ~ ~ W··X·X· + ~ t·X· I   \n",
       "6   To evaluate E(ln - h2- K I), we estimate the v...   \n",
       "7   [3] Brody D.A., IEEE Trans. vBME-32, n2, pl06-...   \n",
       "8   We have studied the behaviour of the above mod...   \n",
       "9   The asymptotic capacity of the above network i...   \n",
       "10    this imply faster settling time for method V\"t?   \n",
       "11  The basis of the second heuristic is the conje...   \n",
       "12                           2.1 Neural Network Model   \n",
       "13                               test set Ga.mmontool   \n",
       "14  where G (X) is a piecewise linear convex U fun...   \n",
       "15  Simulations and numerical solutions of the que...   \n",
       "16     O(t + P) = f (11(t), 12(t - A) ... lm(t - mA))   \n",
       "17                      slow thres holding & feedback   \n",
       "18               o ci ,-----------------------------~   \n",
       "19  At the edges of the grid, circular connections...   \n",
       "\n",
       "                                             document  \\\n",
       "                                       embeddings_new   \n",
       "0   [-0.0007434347062371671, -0.033391062170267105...   \n",
       "1   [-0.029339516535401344, -0.008152814581990242,...   \n",
       "2   [0.019277652725577354, 0.005147224757820368, 0...   \n",
       "3   [-0.1627332717180252, -0.020131690427660942, -...   \n",
       "4   [-0.009833479300141335, 0.04947531223297119, 0...   \n",
       "5   [0.03537482023239136, 0.012042378075420856, 0....   \n",
       "6   [-0.015968868508934975, -0.04030385613441467, ...   \n",
       "7   [-0.1226053535938263, 0.07194244116544724, -0....   \n",
       "8   [-0.09533101320266724, 0.04399219900369644, 0....   \n",
       "9   [-0.013820679858326912, -0.008421104401350021,...   \n",
       "10  [0.007205287925899029, 0.014997398480772972, -...   \n",
       "11  [-0.0438699871301651, 0.011099177412688732, -0...   \n",
       "12  [-0.025577422231435776, -0.040469374507665634,...   \n",
       "13  [-0.09633463621139526, -0.020939188078045845, ...   \n",
       "14  [-0.06223059073090553, -0.019817590713500977, ...   \n",
       "15  [-0.1224786564707756, 0.057144828140735626, -0...   \n",
       "16  [-0.06239400804042816, 0.061337027698755264, 0...   \n",
       "17  [-0.0040869880467653275, -0.0453563928604126, ...   \n",
       "18  [-0.07671135663986206, 0.015895981341600418, -...   \n",
       "19  [-0.08128111809492111, -0.06440790742635727, 0...   \n",
       "\n",
       "                                             document query_sim_new  \\\n",
       "                                       embeddings_old                 \n",
       "0   [-0.03748973831534386, -0.07128849625587463, -...      0.599372   \n",
       "1   [-0.04788150265812874, -0.016090208664536476, ...      0.341957   \n",
       "2   [0.026867331936955452, 0.1133461445569992, 0.1...      0.307695   \n",
       "3   [-0.05186143517494202, 0.01539693120867014, -0...      0.282878   \n",
       "4   [0.008176444098353386, 0.11296440660953522, 0....      0.252918   \n",
       "5   [-0.021044446155428886, 0.04361243546009064, 0...      0.247662   \n",
       "6   [0.032369714230298996, 0.041351232677698135, 0...      0.222286   \n",
       "7   [-0.11780540645122528, -0.06241508573293686, -...      0.043594   \n",
       "8   [-0.0024363314732909203, -0.033086422830820084...      0.342260   \n",
       "9   [0.01676095463335514, -0.029143471270799637, -...      0.321460   \n",
       "10  [-0.052239593118429184, -0.007410300895571709,...      0.278517   \n",
       "11  [-0.03329235687851906, 0.00850678700953722, 0....      0.332217   \n",
       "12  [-0.036114152520895004, -0.13928966224193573, ...      0.591121   \n",
       "13  [-0.09075044095516205, -0.01197083480656147, -...      0.218268   \n",
       "14  [-0.07482347637414932, 0.016536176204681396, 0...      0.261437   \n",
       "15  [-0.0232269074767828, -0.007866530679166317, -...      0.320294   \n",
       "16  [0.03684811294078827, 0.06664925813674927, -0....      0.225188   \n",
       "17  [-0.015175594948232174, -0.03998769447207451, ...      0.225822   \n",
       "18  [-0.040290918201208115, 0.024624446406960487, ...      0.226811   \n",
       "19  [-0.038967594504356384, -4.5817527279723436e-0...      0.337720   \n",
       "\n",
       "   query_sim_old abs_difference  \n",
       "                                 \n",
       "0       0.232001       0.367372  \n",
       "1      -0.018574       0.360531  \n",
       "2      -0.025924       0.333619  \n",
       "3      -0.025713       0.308591  \n",
       "4      -0.054933       0.307851  \n",
       "5      -0.058594       0.306256  \n",
       "6      -0.081749       0.304036  \n",
       "7       0.339062       0.295468  \n",
       "8       0.047467       0.294794  \n",
       "9       0.028589       0.292870  \n",
       "10     -0.003472       0.281988  \n",
       "11      0.055260       0.276957  \n",
       "12      0.315003       0.276118  \n",
       "13     -0.057480       0.275748  \n",
       "14     -0.013927       0.275363  \n",
       "15      0.045741       0.274553  \n",
       "16     -0.048949       0.274137  \n",
       "17     -0.048008       0.273830  \n",
       "18     -0.044542       0.271354  \n",
       "19      0.070004       0.267716  "
      ]
     },
     "metadata": {},
     "output_type": "display_data"
    },
    {
     "name": "stdout",
     "output_type": "stream",
     "text": [
      "\n",
      "[Limited by 20 rows]\n"
     ]
    }
   ],
   "source": [
    "embeddings_differences.show(20)"
   ]
  },
  {
   "cell_type": "markdown",
   "metadata": {},
   "source": [
    "We have now solved our scalability issues. When using `DataChain` locally, our computation will still be restricted to a simgle machine but for larger datasets you can use the SaaS version of DataChain available through our DVC Studio which comes with automatic computation cluster management, a graphical user interface and additional ML and data versioning features.\n",
    "\n",
    "We have also solved our versioning needs and we can track the differences between embeddings over time and use that to choose the best embedding for our use-case."
   ]
  },
  {
   "cell_type": "markdown",
   "metadata": {},
   "source": [
    "### Adding more context - merging datasets"
   ]
  },
  {
   "cell_type": "markdown",
   "metadata": {},
   "source": [
    "In our example bucket, we have not only the `pdf` files themselves but also additinal metadata stored as JSON files. We will now see how we can use Datachain to add the information about authors and the paper title to our `embeddings-differences` dataset which can help us with our evaluation."
   ]
  },
  {
   "cell_type": "code",
   "execution_count": 72,
   "metadata": {},
   "outputs": [
    {
     "data": {
      "text/plain": [
       "[{'given_name': 'Alan', 'family_name': 'Murray', 'institution': None},\n",
       " {'given_name': 'Anthony', 'family_name': 'Smith', 'institution': None},\n",
       " {'given_name': 'Zoe', 'family_name': 'Butler', 'institution': None}]"
      ]
     },
     "execution_count": 72,
     "metadata": {},
     "output_type": "execute_result"
    }
   ],
   "source": [
    "import json\n",
    "meta = json.load(open(\"sample.json\"))\n",
    "meta[\"authors\"]"
   ]
  },
  {
   "cell_type": "markdown",
   "metadata": {},
   "source": [
    "As we can see, the metadata contains information about the authors of the paper as a list of dictionaries with each author's name ane institution. Some values can be also be empty. Just as above we create a `DataModel` class to specify the outputs, keeping the name of the file as a key which we will use to join with the previous dataset.\n",
    "\n",
    "Then we create a function to parse all this information and create a new dataset. We will now only create a single row per original dataset, so we use `return` instead of yield (and there is no need for the `Iterator` class)"
   ]
  },
  {
   "cell_type": "code",
   "execution_count": 77,
   "metadata": {},
   "outputs": [],
   "source": [
    "# Define the output as a Feature class\n",
    "class Metadata(DataModel):\n",
    "    key: str\n",
    "    title: str\n",
    "    authors: list[dict[str, Optional[str]]]\n",
    "\n",
    "\n",
    "# Use signatures to define input/output types (these can be Feature or regular Python types)\n",
    "def extract_metadata(file: File) -> Metadata:\n",
    "    import json\n",
    "    # Ingest the file\n",
    "    metadata = json.loads(file.get_value())\n",
    "\n",
    "    record = dict()\n",
    "    record[\"key\"] = file.name.removesuffix(\"Metadata.json\")+\"Paper.pdf\"\n",
    "    record[\"title\"] = metadata[\"title\"]\n",
    "    record[\"authors\"] = metadata[\"authors\"]\n",
    "\n",
    "    return Metadata(**record)"
   ]
  },
  {
   "cell_type": "markdown",
   "metadata": {},
   "source": [
    "We now apply the `extract_metadata` function as we did with `pdf_chunks` above, except that we use the `.map` method of DataChain which is employed when there is a 1:1 correspondence between the number of rows of the orignal and the new dataset."
   ]
  },
  {
   "cell_type": "code",
   "execution_count": 78,
   "metadata": {},
   "outputs": [
    {
     "name": "stderr",
     "output_type": "stream",
     "text": [
      "Processed: 738 rows [00:00, 18654.38 rows/s]"
     ]
    },
    {
     "name": "stdout",
     "output_type": "stream",
     "text": [
      "============== Error in user code: 'Mapper' ==============\n",
      "==========================================================\n"
     ]
    },
    {
     "name": "stderr",
     "output_type": "stream",
     "text": [
      "\n",
      "Traceback (most recent call last):\n",
      "  File \"/home/tibor/Repos/datachain/.venv/lib64/python3.12/site-packages/datachain/lib/udf.py\", line 156, in process\n",
      "    return self._func(*args, **kwargs)\n",
      "           ^^^^^^^^^^^^^^^^^^^^^^^^^^^\n",
      "  File \"/tmp/ipykernel_141998/3647522884.py\", line 12, in extract_metadata\n",
      "    metadata = json.loads(file.get_value())\n",
      "                          ^^^^^^^^^^^^^^\n",
      "  File \"/home/tibor/Repos/datachain/.venv/lib64/python3.12/site-packages/pydantic/main.py\", line 828, in __getattr__\n",
      "    raise AttributeError(f'{type(self).__name__!r} object has no attribute {item!r}')\n",
      "AttributeError: 'File' object has no attribute 'get_value'. Did you mean: '_get_value'?\n"
     ]
    },
    {
     "ename": "DataChainError",
     "evalue": "Error in user code in class 'Mapper': 'File' object has no attribute 'get_value'",
     "output_type": "error",
     "traceback": [
      "\u001b[0;31m---------------------------------------------------------------------------\u001b[0m",
      "\u001b[0;31mDataChainError\u001b[0m                            Traceback (most recent call last)",
      "Cell \u001b[0;32mIn[78], line 14\u001b[0m\n\u001b[1;32m      1\u001b[0m dc_meta \u001b[38;5;241m=\u001b[39m (\n\u001b[1;32m      2\u001b[0m     DataChain\u001b[38;5;241m.\u001b[39mfrom_storage(\u001b[38;5;124m\"\u001b[39m\u001b[38;5;124mgs://datachain-demo/neurips\u001b[39m\u001b[38;5;124m\"\u001b[39m)\n\u001b[1;32m      3\u001b[0m     \u001b[38;5;241m.\u001b[39mfilter(C\u001b[38;5;241m.\u001b[39mname\u001b[38;5;241m.\u001b[39mglob(\u001b[38;5;124m\"\u001b[39m\u001b[38;5;124m*Metadata.json\u001b[39m\u001b[38;5;124m\"\u001b[39m))\n\u001b[1;32m      4\u001b[0m     )\n\u001b[1;32m      6\u001b[0m (\n\u001b[1;32m      7\u001b[0m     \u001b[43mdc_meta\u001b[49m\u001b[38;5;241;43m.\u001b[39;49m\n\u001b[1;32m      8\u001b[0m \u001b[43m    \u001b[49m\u001b[38;5;28;43mmap\u001b[39;49m\u001b[43m(\u001b[49m\u001b[43mdocument\u001b[49m\u001b[38;5;241;43m=\u001b[39;49m\u001b[43mextract_metadata\u001b[49m\u001b[43m)\u001b[49m\n\u001b[1;32m      9\u001b[0m \u001b[43m    \u001b[49m\u001b[38;5;241;43m.\u001b[39;49m\u001b[43mselect\u001b[49m\u001b[43m(\u001b[49m\n\u001b[1;32m     10\u001b[0m \u001b[43m        \u001b[49m\u001b[38;5;124;43m\"\u001b[39;49m\u001b[38;5;124;43mdocument.key\u001b[39;49m\u001b[38;5;124;43m\"\u001b[39;49m\u001b[43m,\u001b[49m\n\u001b[1;32m     11\u001b[0m \u001b[43m        \u001b[49m\u001b[38;5;124;43m\"\u001b[39;49m\u001b[38;5;124;43mdocument.title\u001b[39;49m\u001b[38;5;124;43m\"\u001b[39;49m\u001b[43m,\u001b[49m\n\u001b[1;32m     12\u001b[0m \u001b[43m        \u001b[49m\u001b[38;5;124;43m\"\u001b[39;49m\u001b[38;5;124;43mdocument.authors\u001b[39;49m\u001b[38;5;124;43m\"\u001b[39;49m\u001b[43m,\u001b[49m\n\u001b[1;32m     13\u001b[0m \u001b[43m    \u001b[49m\u001b[43m)\u001b[49m\n\u001b[0;32m---> 14\u001b[0m \u001b[43m    \u001b[49m\u001b[38;5;241;43m.\u001b[39;49m\u001b[43mshow\u001b[49m\u001b[43m(\u001b[49m\u001b[38;5;241;43m3\u001b[39;49m\u001b[43m)\u001b[49m\n\u001b[1;32m     15\u001b[0m )\n",
      "File \u001b[0;32m~/Repos/datachain/.venv/lib64/python3.12/site-packages/datachain/lib/dc.py:1019\u001b[0m, in \u001b[0;36mDataChain.show\u001b[0;34m(self, limit, flatten, transpose, truncate)\u001b[0m\n\u001b[1;32m   1010\u001b[0m \u001b[38;5;250m\u001b[39m\u001b[38;5;124;03m\"\"\"Show a preview of the chain results.\u001b[39;00m\n\u001b[1;32m   1011\u001b[0m \n\u001b[1;32m   1012\u001b[0m \u001b[38;5;124;03mParameters:\u001b[39;00m\n\u001b[0;32m   (...)\u001b[0m\n\u001b[1;32m   1016\u001b[0m \u001b[38;5;124;03m    truncate : Whether or not to truncate the contents of columns.\u001b[39;00m\n\u001b[1;32m   1017\u001b[0m \u001b[38;5;124;03m\"\"\"\u001b[39;00m\n\u001b[1;32m   1018\u001b[0m dc \u001b[38;5;241m=\u001b[39m \u001b[38;5;28mself\u001b[39m\u001b[38;5;241m.\u001b[39mlimit(limit) \u001b[38;5;28;01mif\u001b[39;00m limit \u001b[38;5;241m>\u001b[39m \u001b[38;5;241m0\u001b[39m \u001b[38;5;28;01melse\u001b[39;00m \u001b[38;5;28mself\u001b[39m\n\u001b[0;32m-> 1019\u001b[0m df \u001b[38;5;241m=\u001b[39m \u001b[43mdc\u001b[49m\u001b[38;5;241;43m.\u001b[39;49m\u001b[43mto_pandas\u001b[49m\u001b[43m(\u001b[49m\u001b[43mflatten\u001b[49m\u001b[43m)\u001b[49m\n\u001b[1;32m   1020\u001b[0m \u001b[38;5;28;01mif\u001b[39;00m transpose:\n\u001b[1;32m   1021\u001b[0m     df \u001b[38;5;241m=\u001b[39m df\u001b[38;5;241m.\u001b[39mT\n",
      "File \u001b[0;32m~/Repos/datachain/.venv/lib64/python3.12/site-packages/datachain/lib/dc.py:999\u001b[0m, in \u001b[0;36mDataChain.to_pandas\u001b[0;34m(self, flatten)\u001b[0m\n\u001b[1;32m    996\u001b[0m         df\u001b[38;5;241m.\u001b[39mcolumns \u001b[38;5;241m=\u001b[39m [\u001b[38;5;124m\"\u001b[39m\u001b[38;5;124m.\u001b[39m\u001b[38;5;124m\"\u001b[39m\u001b[38;5;241m.\u001b[39mjoin(\u001b[38;5;28mfilter\u001b[39m(\u001b[38;5;28;01mNone\u001b[39;00m, header)) \u001b[38;5;28;01mfor\u001b[39;00m header \u001b[38;5;129;01min\u001b[39;00m headers]\n\u001b[1;32m    997\u001b[0m     \u001b[38;5;28;01mreturn\u001b[39;00m df\n\u001b[0;32m--> 999\u001b[0m transposed_result \u001b[38;5;241m=\u001b[39m \u001b[38;5;28mlist\u001b[39m(\u001b[38;5;28mmap\u001b[39m(\u001b[38;5;28mlist\u001b[39m, \u001b[38;5;28mzip\u001b[39m(\u001b[38;5;241m*\u001b[39m\u001b[38;5;28;43mself\u001b[39;49m\u001b[38;5;241;43m.\u001b[39;49m\u001b[43mresults\u001b[49m\u001b[43m(\u001b[49m\u001b[43m)\u001b[49m)))\n\u001b[1;32m   1000\u001b[0m data \u001b[38;5;241m=\u001b[39m {\u001b[38;5;28mtuple\u001b[39m(n): val \u001b[38;5;28;01mfor\u001b[39;00m n, val \u001b[38;5;129;01min\u001b[39;00m \u001b[38;5;28mzip\u001b[39m(headers, transposed_result)}\n\u001b[1;32m   1001\u001b[0m \u001b[38;5;28;01mreturn\u001b[39;00m pd\u001b[38;5;241m.\u001b[39mDataFrame(data)\n",
      "File \u001b[0;32m~/Repos/datachain/.venv/lib64/python3.12/site-packages/datachain/lib/dc.py:753\u001b[0m, in \u001b[0;36mDataChain.results\u001b[0;34m(self, row_factory, **kwargs)\u001b[0m\n\u001b[1;32m    752\u001b[0m \u001b[38;5;28;01mdef\u001b[39;00m \u001b[38;5;21mresults\u001b[39m(\u001b[38;5;28mself\u001b[39m, row_factory\u001b[38;5;241m=\u001b[39m\u001b[38;5;28;01mNone\u001b[39;00m, \u001b[38;5;241m*\u001b[39m\u001b[38;5;241m*\u001b[39mkwargs):  \u001b[38;5;66;03m# noqa: D102\u001b[39;00m\n\u001b[0;32m--> 753\u001b[0m     \u001b[38;5;28;01mreturn\u001b[39;00m \u001b[38;5;28;43mlist\u001b[39;49m\u001b[43m(\u001b[49m\u001b[38;5;28;43mself\u001b[39;49m\u001b[38;5;241;43m.\u001b[39;49m\u001b[43miterate_flatten\u001b[49m\u001b[43m(\u001b[49m\u001b[43mrow_factory\u001b[49m\u001b[38;5;241;43m=\u001b[39;49m\u001b[43mrow_factory\u001b[49m\u001b[43m)\u001b[49m\u001b[43m)\u001b[49m\n",
      "File \u001b[0;32m~/Repos/datachain/.venv/lib64/python3.12/site-packages/datachain/lib/dc.py:739\u001b[0m, in \u001b[0;36mDataChain.iterate_flatten\u001b[0;34m(self, row_factory)\u001b[0m\n\u001b[1;32m    737\u001b[0m \u001b[38;5;28;01mdef\u001b[39;00m \u001b[38;5;21miterate_flatten\u001b[39m(\u001b[38;5;28mself\u001b[39m, row_factory\u001b[38;5;241m=\u001b[39m\u001b[38;5;28;01mNone\u001b[39;00m):  \u001b[38;5;66;03m# noqa: D102\u001b[39;00m\n\u001b[1;32m    738\u001b[0m     db_signals \u001b[38;5;241m=\u001b[39m \u001b[38;5;28mself\u001b[39m\u001b[38;5;241m.\u001b[39m_effective_signals_schema\u001b[38;5;241m.\u001b[39mdb_signals()\n\u001b[0;32m--> 739\u001b[0m \u001b[43m    \u001b[49m\u001b[38;5;28;43;01mwith\u001b[39;49;00m\u001b[43m \u001b[49m\u001b[38;5;28;43msuper\u001b[39;49m\u001b[43m(\u001b[49m\u001b[43m)\u001b[49m\u001b[38;5;241;43m.\u001b[39;49m\u001b[43mselect\u001b[49m\u001b[43m(\u001b[49m\u001b[38;5;241;43m*\u001b[39;49m\u001b[43mdb_signals\u001b[49m\u001b[43m)\u001b[49m\u001b[38;5;241;43m.\u001b[39;49m\u001b[43mas_iterable\u001b[49m\u001b[43m(\u001b[49m\u001b[43m)\u001b[49m\u001b[43m \u001b[49m\u001b[38;5;28;43;01mas\u001b[39;49;00m\u001b[43m \u001b[49m\u001b[43mrows\u001b[49m\u001b[43m:\u001b[49m\n\u001b[1;32m    740\u001b[0m \u001b[43m        \u001b[49m\u001b[38;5;28;43;01mif\u001b[39;49;00m\u001b[43m \u001b[49m\u001b[43mrow_factory\u001b[49m\u001b[43m:\u001b[49m\n\u001b[1;32m    741\u001b[0m \u001b[43m            \u001b[49m\u001b[43mrows\u001b[49m\u001b[43m \u001b[49m\u001b[38;5;241;43m=\u001b[39;49m\u001b[43m \u001b[49m\u001b[43m(\u001b[49m\u001b[43mrow_factory\u001b[49m\u001b[43m(\u001b[49m\u001b[43mdb_signals\u001b[49m\u001b[43m,\u001b[49m\u001b[43m \u001b[49m\u001b[43mr\u001b[49m\u001b[43m)\u001b[49m\u001b[43m \u001b[49m\u001b[38;5;28;43;01mfor\u001b[39;49;00m\u001b[43m \u001b[49m\u001b[43mr\u001b[49m\u001b[43m \u001b[49m\u001b[38;5;129;43;01min\u001b[39;49;00m\u001b[43m \u001b[49m\u001b[43mrows\u001b[49m\u001b[43m)\u001b[49m\n",
      "File \u001b[0;32m/usr/lib64/python3.12/contextlib.py:137\u001b[0m, in \u001b[0;36m_GeneratorContextManager.__enter__\u001b[0;34m(self)\u001b[0m\n\u001b[1;32m    135\u001b[0m \u001b[38;5;28;01mdel\u001b[39;00m \u001b[38;5;28mself\u001b[39m\u001b[38;5;241m.\u001b[39margs, \u001b[38;5;28mself\u001b[39m\u001b[38;5;241m.\u001b[39mkwds, \u001b[38;5;28mself\u001b[39m\u001b[38;5;241m.\u001b[39mfunc\n\u001b[1;32m    136\u001b[0m \u001b[38;5;28;01mtry\u001b[39;00m:\n\u001b[0;32m--> 137\u001b[0m     \u001b[38;5;28;01mreturn\u001b[39;00m \u001b[38;5;28;43mnext\u001b[39;49m\u001b[43m(\u001b[49m\u001b[38;5;28;43mself\u001b[39;49m\u001b[38;5;241;43m.\u001b[39;49m\u001b[43mgen\u001b[49m\u001b[43m)\u001b[49m\n\u001b[1;32m    138\u001b[0m \u001b[38;5;28;01mexcept\u001b[39;00m \u001b[38;5;167;01mStopIteration\u001b[39;00m:\n\u001b[1;32m    139\u001b[0m     \u001b[38;5;28;01mraise\u001b[39;00m \u001b[38;5;167;01mRuntimeError\u001b[39;00m(\u001b[38;5;124m\"\u001b[39m\u001b[38;5;124mgenerator didn\u001b[39m\u001b[38;5;124m'\u001b[39m\u001b[38;5;124mt yield\u001b[39m\u001b[38;5;124m\"\u001b[39m) \u001b[38;5;28;01mfrom\u001b[39;00m \u001b[38;5;28;01mNone\u001b[39;00m\n",
      "File \u001b[0;32m~/Repos/datachain/.venv/lib64/python3.12/site-packages/datachain/query/dataset.py:1254\u001b[0m, in \u001b[0;36mDatasetQuery.as_iterable\u001b[0;34m(self, **kwargs)\u001b[0m\n\u001b[1;32m   1251\u001b[0m \u001b[38;5;129m@contextlib\u001b[39m\u001b[38;5;241m.\u001b[39mcontextmanager\n\u001b[1;32m   1252\u001b[0m \u001b[38;5;28;01mdef\u001b[39;00m \u001b[38;5;21mas_iterable\u001b[39m(\u001b[38;5;28mself\u001b[39m, \u001b[38;5;241m*\u001b[39m\u001b[38;5;241m*\u001b[39mkwargs) \u001b[38;5;241m-\u001b[39m\u001b[38;5;241m>\u001b[39m Iterator[ResultIter]:\n\u001b[1;32m   1253\u001b[0m     \u001b[38;5;28;01mtry\u001b[39;00m:\n\u001b[0;32m-> 1254\u001b[0m         query \u001b[38;5;241m=\u001b[39m \u001b[38;5;28;43mself\u001b[39;49m\u001b[38;5;241;43m.\u001b[39;49m\u001b[43mapply_steps\u001b[49m\u001b[43m(\u001b[49m\u001b[43m)\u001b[49m\u001b[38;5;241m.\u001b[39mselect()\n\u001b[1;32m   1255\u001b[0m         selected_columns \u001b[38;5;241m=\u001b[39m [c\u001b[38;5;241m.\u001b[39mname \u001b[38;5;28;01mfor\u001b[39;00m c \u001b[38;5;129;01min\u001b[39;00m query\u001b[38;5;241m.\u001b[39mcolumns]\n\u001b[1;32m   1256\u001b[0m         \u001b[38;5;28;01myield\u001b[39;00m ResultIter(\n\u001b[1;32m   1257\u001b[0m             \u001b[38;5;28mself\u001b[39m\u001b[38;5;241m.\u001b[39mcatalog\u001b[38;5;241m.\u001b[39mwarehouse\u001b[38;5;241m.\u001b[39mdataset_rows_select(query, \u001b[38;5;241m*\u001b[39m\u001b[38;5;241m*\u001b[39mkwargs),\n\u001b[1;32m   1258\u001b[0m             selected_columns,\n\u001b[1;32m   1259\u001b[0m         )\n",
      "File \u001b[0;32m~/Repos/datachain/.venv/lib64/python3.12/site-packages/datachain/query/dataset.py:1194\u001b[0m, in \u001b[0;36mDatasetQuery.apply_steps\u001b[0;34m(self)\u001b[0m\n\u001b[1;32m   1191\u001b[0m         group_by \u001b[38;5;241m=\u001b[39m step\n\u001b[1;32m   1192\u001b[0m         \u001b[38;5;28;01mcontinue\u001b[39;00m\n\u001b[0;32m-> 1194\u001b[0m     result \u001b[38;5;241m=\u001b[39m \u001b[43mstep\u001b[49m\u001b[38;5;241;43m.\u001b[39;49m\u001b[43mapply\u001b[49m\u001b[43m(\u001b[49m\n\u001b[1;32m   1195\u001b[0m \u001b[43m        \u001b[49m\u001b[43mresult\u001b[49m\u001b[38;5;241;43m.\u001b[39;49m\u001b[43mquery_generator\u001b[49m\u001b[43m,\u001b[49m\u001b[43m \u001b[49m\u001b[38;5;28;43mself\u001b[39;49m\u001b[38;5;241;43m.\u001b[39;49m\u001b[43mtemp_table_names\u001b[49m\n\u001b[1;32m   1196\u001b[0m \u001b[43m    \u001b[49m\u001b[43m)\u001b[49m  \u001b[38;5;66;03m# a chain of steps linked by results\u001b[39;00m\n\u001b[1;32m   1197\u001b[0m     \u001b[38;5;28mself\u001b[39m\u001b[38;5;241m.\u001b[39mdependencies\u001b[38;5;241m.\u001b[39mupdate(result\u001b[38;5;241m.\u001b[39mdependencies)\n\u001b[1;32m   1199\u001b[0m \u001b[38;5;28;01mif\u001b[39;00m group_by:\n",
      "File \u001b[0;32m~/Repos/datachain/.venv/lib64/python3.12/site-packages/datachain/query/dataset.py:631\u001b[0m, in \u001b[0;36mUDFStep.apply\u001b[0;34m(self, query_generator, temp_tables)\u001b[0m\n\u001b[1;32m    629\u001b[0m udf_table \u001b[38;5;241m=\u001b[39m \u001b[38;5;28mself\u001b[39m\u001b[38;5;241m.\u001b[39mcreate_udf_table(_query)\n\u001b[1;32m    630\u001b[0m temp_tables\u001b[38;5;241m.\u001b[39mappend(udf_table\u001b[38;5;241m.\u001b[39mname)\n\u001b[0;32m--> 631\u001b[0m \u001b[38;5;28;43mself\u001b[39;49m\u001b[38;5;241;43m.\u001b[39;49m\u001b[43mpopulate_udf_table\u001b[49m\u001b[43m(\u001b[49m\u001b[43mudf_table\u001b[49m\u001b[43m,\u001b[49m\u001b[43m \u001b[49m\u001b[43mquery\u001b[49m\u001b[43m)\u001b[49m\n\u001b[1;32m    632\u001b[0m q, cols \u001b[38;5;241m=\u001b[39m \u001b[38;5;28mself\u001b[39m\u001b[38;5;241m.\u001b[39mcreate_result_query(udf_table, query)\n\u001b[1;32m    634\u001b[0m \u001b[38;5;28;01mreturn\u001b[39;00m step_result(q, cols)\n",
      "File \u001b[0;32m~/Repos/datachain/.venv/lib64/python3.12/site-packages/datachain/query/dataset.py:549\u001b[0m, in \u001b[0;36mUDFStep.populate_udf_table\u001b[0;34m(self, udf_table, query)\u001b[0m\n\u001b[1;32m    540\u001b[0m \u001b[38;5;28;01mtry\u001b[39;00m:\n\u001b[1;32m    541\u001b[0m     udf_results \u001b[38;5;241m=\u001b[39m udf\u001b[38;5;241m.\u001b[39mrun(\n\u001b[1;32m    542\u001b[0m         udf_inputs,\n\u001b[1;32m    543\u001b[0m         \u001b[38;5;28mself\u001b[39m\u001b[38;5;241m.\u001b[39mcatalog,\n\u001b[0;32m   (...)\u001b[0m\n\u001b[1;32m    547\u001b[0m         processed_cb,\n\u001b[1;32m    548\u001b[0m     )\n\u001b[0;32m--> 549\u001b[0m     \u001b[43mprocess_udf_outputs\u001b[49m\u001b[43m(\u001b[49m\n\u001b[1;32m    550\u001b[0m \u001b[43m        \u001b[49m\u001b[43mwarehouse\u001b[49m\u001b[43m,\u001b[49m\n\u001b[1;32m    551\u001b[0m \u001b[43m        \u001b[49m\u001b[43mudf_table\u001b[49m\u001b[43m,\u001b[49m\n\u001b[1;32m    552\u001b[0m \u001b[43m        \u001b[49m\u001b[43mudf_results\u001b[49m\u001b[43m,\u001b[49m\n\u001b[1;32m    553\u001b[0m \u001b[43m        \u001b[49m\u001b[43mudf\u001b[49m\u001b[43m,\u001b[49m\n\u001b[1;32m    554\u001b[0m \u001b[43m        \u001b[49m\u001b[43mcb\u001b[49m\u001b[38;5;241;43m=\u001b[39;49m\u001b[43mgenerated_cb\u001b[49m\u001b[43m,\u001b[49m\n\u001b[1;32m    555\u001b[0m \u001b[43m    \u001b[49m\u001b[43m)\u001b[49m\n\u001b[1;32m    556\u001b[0m \u001b[38;5;28;01mfinally\u001b[39;00m:\n\u001b[1;32m    557\u001b[0m     download_cb\u001b[38;5;241m.\u001b[39mclose()\n",
      "File \u001b[0;32m~/Repos/datachain/.venv/lib64/python3.12/site-packages/datachain/query/dataset.py:396\u001b[0m, in \u001b[0;36mprocess_udf_outputs\u001b[0;34m(warehouse, udf_table, udf_results, udf, batch_size, cb)\u001b[0m\n\u001b[1;32m    393\u001b[0m \u001b[38;5;66;03m# Optimization: Compute row types once, rather than for every row.\u001b[39;00m\n\u001b[1;32m    394\u001b[0m udf_col_types \u001b[38;5;241m=\u001b[39m get_udf_col_types(warehouse, udf)\n\u001b[0;32m--> 396\u001b[0m \u001b[43m\u001b[49m\u001b[38;5;28;43;01mfor\u001b[39;49;00m\u001b[43m \u001b[49m\u001b[43mudf_output\u001b[49m\u001b[43m \u001b[49m\u001b[38;5;129;43;01min\u001b[39;49;00m\u001b[43m \u001b[49m\u001b[43mudf_results\u001b[49m\u001b[43m:\u001b[49m\n\u001b[1;32m    397\u001b[0m \u001b[43m    \u001b[49m\u001b[38;5;28;43;01mif\u001b[39;49;00m\u001b[43m \u001b[49m\u001b[38;5;129;43;01mnot\u001b[39;49;00m\u001b[43m \u001b[49m\u001b[43mudf_output\u001b[49m\u001b[43m:\u001b[49m\n\u001b[1;32m    398\u001b[0m \u001b[43m        \u001b[49m\u001b[38;5;28;43;01mcontinue\u001b[39;49;00m\n",
      "File \u001b[0;32m~/Repos/datachain/.venv/lib64/python3.12/site-packages/datachain/lib/udf.py:58\u001b[0m, in \u001b[0;36mUDFAdapter.run\u001b[0;34m(self, udf_inputs, catalog, is_generator, cache, download_cb, processed_cb)\u001b[0m\n\u001b[1;32m     56\u001b[0m \u001b[38;5;28;01mfor\u001b[39;00m batch \u001b[38;5;129;01min\u001b[39;00m udf_inputs:\n\u001b[1;32m     57\u001b[0m     n_rows \u001b[38;5;241m=\u001b[39m \u001b[38;5;28mlen\u001b[39m(batch\u001b[38;5;241m.\u001b[39mrows) \u001b[38;5;28;01mif\u001b[39;00m \u001b[38;5;28misinstance\u001b[39m(batch, RowBatch) \u001b[38;5;28;01melse\u001b[39;00m \u001b[38;5;241m1\u001b[39m\n\u001b[0;32m---> 58\u001b[0m     output \u001b[38;5;241m=\u001b[39m \u001b[38;5;28;43mself\u001b[39;49m\u001b[38;5;241;43m.\u001b[39;49m\u001b[43mrun_once\u001b[49m\u001b[43m(\u001b[49m\u001b[43mcatalog\u001b[49m\u001b[43m,\u001b[49m\u001b[43m \u001b[49m\u001b[43mbatch\u001b[49m\u001b[43m,\u001b[49m\u001b[43m \u001b[49m\u001b[43mis_generator\u001b[49m\u001b[43m,\u001b[49m\u001b[43m \u001b[49m\u001b[43mcache\u001b[49m\u001b[43m,\u001b[49m\u001b[43m \u001b[49m\u001b[43mcb\u001b[49m\u001b[38;5;241;43m=\u001b[39;49m\u001b[43mdownload_cb\u001b[49m\u001b[43m)\u001b[49m\n\u001b[1;32m     59\u001b[0m     processed_cb\u001b[38;5;241m.\u001b[39mrelative_update(n_rows)\n\u001b[1;32m     60\u001b[0m     \u001b[38;5;28;01myield\u001b[39;00m output\n",
      "File \u001b[0;32m~/Repos/datachain/.venv/lib64/python3.12/site-packages/datachain/lib/udf.py:82\u001b[0m, in \u001b[0;36mUDFAdapter.run_once\u001b[0;34m(self, catalog, arg, is_generator, cache, cb)\u001b[0m\n\u001b[1;32m     80\u001b[0m \u001b[38;5;28;01mif\u001b[39;00m \u001b[38;5;28misinstance\u001b[39m(arg, RowDict):\n\u001b[1;32m     81\u001b[0m     udf_inputs \u001b[38;5;241m=\u001b[39m \u001b[38;5;28mself\u001b[39m\u001b[38;5;241m.\u001b[39mbind_parameters(catalog, arg, cache\u001b[38;5;241m=\u001b[39mcache, cb\u001b[38;5;241m=\u001b[39mcb)\n\u001b[0;32m---> 82\u001b[0m     udf_outputs \u001b[38;5;241m=\u001b[39m \u001b[38;5;28;43mself\u001b[39;49m\u001b[38;5;241;43m.\u001b[39;49m\u001b[43minner\u001b[49m\u001b[43m(\u001b[49m\u001b[38;5;241;43m*\u001b[39;49m\u001b[43mudf_inputs\u001b[49m\u001b[43m,\u001b[49m\u001b[43m \u001b[49m\u001b[43mcache\u001b[49m\u001b[38;5;241;43m=\u001b[39;49m\u001b[43mcache\u001b[49m\u001b[43m,\u001b[49m\u001b[43m \u001b[49m\u001b[43mdownload_cb\u001b[49m\u001b[38;5;241;43m=\u001b[39;49m\u001b[43mcb\u001b[49m\u001b[43m)\u001b[49m\n\u001b[1;32m     83\u001b[0m     \u001b[38;5;28;01mif\u001b[39;00m \u001b[38;5;129;01mnot\u001b[39;00m is_generator:\n\u001b[1;32m     84\u001b[0m         \u001b[38;5;66;03m# udf_outputs is generator already if is_generator=True\u001b[39;00m\n\u001b[1;32m     85\u001b[0m         udf_outputs \u001b[38;5;241m=\u001b[39m [udf_outputs]\n",
      "File \u001b[0;32m~/Repos/datachain/.venv/lib64/python3.12/site-packages/datachain/lib/udf.py:234\u001b[0m, in \u001b[0;36mUDFBase.__call__\u001b[0;34m(self, cache, download_cb, *rows)\u001b[0m\n\u001b[1;32m    231\u001b[0m \u001b[38;5;28;01mif\u001b[39;00m \u001b[38;5;129;01mnot\u001b[39;00m \u001b[38;5;28mself\u001b[39m\u001b[38;5;241m.\u001b[39mis_input_batched:\n\u001b[1;32m    232\u001b[0m     objs \u001b[38;5;241m=\u001b[39m objs[\u001b[38;5;241m0\u001b[39m]\n\u001b[0;32m--> 234\u001b[0m result_objs \u001b[38;5;241m=\u001b[39m \u001b[38;5;28;43mself\u001b[39;49m\u001b[38;5;241;43m.\u001b[39;49m\u001b[43mprocess_safe\u001b[49m\u001b[43m(\u001b[49m\u001b[43mobjs\u001b[49m\u001b[43m)\u001b[49m\n\u001b[1;32m    236\u001b[0m \u001b[38;5;28;01mif\u001b[39;00m \u001b[38;5;129;01mnot\u001b[39;00m \u001b[38;5;28mself\u001b[39m\u001b[38;5;241m.\u001b[39mis_output_batched:\n\u001b[1;32m    237\u001b[0m     result_objs \u001b[38;5;241m=\u001b[39m [result_objs]\n",
      "File \u001b[0;32m~/Repos/datachain/.venv/lib64/python3.12/site-packages/datachain/lib/udf.py:323\u001b[0m, in \u001b[0;36mUDFBase.process_safe\u001b[0;34m(self, obj_rows)\u001b[0m\n\u001b[1;32m    321\u001b[0m     traceback\u001b[38;5;241m.\u001b[39mprint_exception(exc_type, exc_value, exc_traceback\u001b[38;5;241m.\u001b[39mtb_next)\n\u001b[1;32m    322\u001b[0m     \u001b[38;5;28mprint\u001b[39m(\u001b[38;5;124m\"\u001b[39m\u001b[38;5;124m=\u001b[39m\u001b[38;5;124m\"\u001b[39m \u001b[38;5;241m*\u001b[39m \u001b[38;5;28mlen\u001b[39m(msg))\n\u001b[0;32m--> 323\u001b[0m     \u001b[38;5;28;01mraise\u001b[39;00m DataChainError(\n\u001b[1;32m    324\u001b[0m         \u001b[38;5;124mf\u001b[39m\u001b[38;5;124m\"\u001b[39m\u001b[38;5;124mError in user code in class \u001b[39m\u001b[38;5;124m'\u001b[39m\u001b[38;5;132;01m{\u001b[39;00m\u001b[38;5;28mself\u001b[39m\u001b[38;5;241m.\u001b[39mname\u001b[38;5;132;01m}\u001b[39;00m\u001b[38;5;124m'\u001b[39m\u001b[38;5;124m: \u001b[39m\u001b[38;5;132;01m{\u001b[39;00me\u001b[38;5;132;01m!s}\u001b[39;00m\u001b[38;5;124m\"\u001b[39m\n\u001b[1;32m    325\u001b[0m     ) \u001b[38;5;28;01mfrom\u001b[39;00m \u001b[38;5;28;01mNone\u001b[39;00m\n\u001b[1;32m    326\u001b[0m \u001b[38;5;28;01mreturn\u001b[39;00m result_objs\n",
      "\u001b[0;31mDataChainError\u001b[0m: Error in user code in class 'Mapper': 'File' object has no attribute 'get_value'"
     ]
    }
   ],
   "source": [
    "dc_meta = (\n",
    "    DataChain.from_storage(\"gs://datachain-demo/neurips\")\n",
    "    .filter(C.name.glob(\"*Metadata.json\"))\n",
    "    )\n",
    "\n",
    "(\n",
    "    dc_meta.\n",
    "    map(document=extract_metadata)\n",
    "    .select(\n",
    "        \"document.key\",\n",
    "        \"document.title\",\n",
    "        \"document.authors\",\n",
    "    )\n",
    "    .show(3)\n",
    ")"
   ]
  },
  {
   "cell_type": "markdown",
   "metadata": {},
   "source": [
    "Finally we will merge the two datasets using the DataChain `.merge` method."
   ]
  },
  {
   "cell_type": "code",
   "execution_count": null,
   "metadata": {},
   "outputs": [],
   "source": [
    "DataChain.from_dataset(\"embeddings-differences\").merge(dc_meta, on=\"key\").show(20)"
   ]
  }
 ],
 "metadata": {
  "kernelspec": {
   "display_name": ".venv",
   "language": "python",
   "name": "python3"
  },
  "language_info": {
   "codemirror_mode": {
    "name": "ipython",
    "version": 3
   },
   "file_extension": ".py",
   "mimetype": "text/x-python",
   "name": "python",
   "nbconvert_exporter": "python",
   "pygments_lexer": "ipython3",
   "version": "3.12.4"
  }
 },
 "nbformat": 4,
 "nbformat_minor": 2
}
