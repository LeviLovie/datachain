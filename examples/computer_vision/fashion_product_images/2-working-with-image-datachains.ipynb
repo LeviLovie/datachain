{
 "cells": [
  {
   "cell_type": "markdown",
   "id": "d47ef272-a467-451d-8e34-a1b5fbb29d49",
   "metadata": {
    "papermill": {
     "duration": 0.010008,
     "end_time": "2024-07-26T13:02:35.733601",
     "exception": false,
     "start_time": "2024-07-26T13:02:35.723593",
     "status": "completed"
    },
    "tags": []
   },
   "source": [
    "<img src=\"static/images/datachain-logo.png\" alt=\"Dataset\" style=\"width: 200px;\"/>\n",
    "\n",
    "# 🖼 Working with Image DataChains\n",
    "\n",
    "Welcome to our second tutorial, in which we dive into managing and optimizing image datasets with **[Datachain](https://github.com/iterative/datachain)**! Enhance your skills in handling complex image data, from filtering to minimizing redundancy.\n",
    "\n",
    "## 📋 Agenda\n",
    "1. **Filtering & Sorting** - Refine your datasets to get exactly what you need.\n",
    "2. **Adding Annotations (Signals)** - Enrich your data with meaningful attributes.\n",
    "3. **Creating and Versioning Datasets** - Manage changes and maintain historical versions of your datasets.\n",
    "4. **Similarity Search** - Discover and analyze similar images within your dataset.\n",
    "5. **Minimizing Redundant Images** - Optimize your storage and processing by reducing duplicates.\n",
    "\n",
    "## 🛠 Prerequisites\n",
    "Before diving in, make sure you’re set up:\n",
    "- **[Datachain](https://github.com/iterative/datachain)** is installed in your environment (follow the instructions in `examples/fashion-product-images/README.md`)\n",
    "- The necessary dependencies installed, including PyTorch and the required libraries (see `requirements.txt`).\n",
    "- **Dataset Preparation:** The `fashion-product-images` should already be created. If this is your first time, please start with `1-quick-start.ipynb` to get up to speed.\n",
    "\n",
    "This tutorial is designed to be straightforward and practical, allowing you to apply these concepts directly to your projects. Let’s optimize how you manage image datasets and push the boundaries of what you can achieve with DataChain!"
   ]
  },
  {
   "cell_type": "markdown",
   "id": "f93e0212-b46b-41a8-b5b7-07513db1a413",
   "metadata": {
    "papermill": {
     "duration": 0.007037,
     "end_time": "2024-07-26T13:02:35.748143",
     "exception": false,
     "start_time": "2024-07-26T13:02:35.741106",
     "status": "completed"
    },
    "tags": []
   },
   "source": [
    "# 📚 Core Concepts & Execution Workflow\n",
    "\n",
    "**AI 🔗 DataChain - a data structure for batch data processing and evaluation**\n",
    "- It represents a sequence of data manipulation steps such as reading data from\n",
    "storages, running AI or LLM models or calling external services API to validate or\n",
    "enrich data.\n",
    "\n",
    "<img src=\"static/images/core-concepts.png\" alt=\"Dataset\" style=\"width: 800px;\"/>\n",
    "\n",
    "| Concept                  | Description |\n",
    "|--------------------------|-------------|\n",
    "| **DataChain SaaS / Studio** | Highly performant Unstructured Intelligence Platform for enterprises to automate ETL pipelines and boost collaboration and scalability. Provides UI to manage datasets, edit scripts, and execute compute jobs. |\n",
    "| **DataChain Library**    | DataChain Library  provides a data frame-like interface that can automatically reference data stored as files (text, images, video) locally or in the cloud. |\n",
    "| **DataChain**             | DataChain object is a data structure for batch data processing and evaluation. <ul><li>**Object** represents a file in a simple case but can be a virtual “file” or a part of a file.</li><li>**Signal** or **Column** is an object’s attribute.</li><li>**Row** is a set of signals for a given object.</li><li>**Dataset version** is an immutable set of objects with signals / columns</li><li>**Dataset operations**: updating dataset and querying dataset.</li></ul> |\n",
    "| **Query**                | Query is a way to get a dataset from another dataset as a subset of its objects and signals. Query can create new signals but only trivial one that can be computed in DB. |\n",
    "| **Processor**            | The processor creates a dataset from another dataset by extending the set of signals or generating new objects. |\n"
   ]
  },
  {
   "cell_type": "code",
   "execution_count": 1,
   "id": "74f03f34-ae13-4289-951d-555f7d14d3f3",
   "metadata": {
    "execution": {
     "iopub.execute_input": "2024-07-26T13:02:35.761774Z",
     "iopub.status.busy": "2024-07-26T13:02:35.761503Z",
     "iopub.status.idle": "2024-07-26T13:02:36.230756Z",
     "shell.execute_reply": "2024-07-26T13:02:36.230372Z"
    },
    "papermill": {
     "duration": 0.477425,
     "end_time": "2024-07-26T13:02:36.231935",
     "exception": false,
     "start_time": "2024-07-26T13:02:35.754510",
     "status": "completed"
    },
    "scrolled": true,
    "tags": []
   },
   "outputs": [],
   "source": [
    "%load_ext autoreload\n",
    "%autoreload 2\n",
    "\n",
    "import os\n",
    "import numpy as np\n",
    "\n",
    "from datachain import DataChain, C"
   ]
  },
  {
   "cell_type": "markdown",
   "id": "b439c177-646f-4f32-9d3c-8af033d1648a",
   "metadata": {
    "papermill": {
     "duration": 0.005053,
     "end_time": "2024-07-26T13:02:36.242336",
     "exception": false,
     "start_time": "2024-07-26T13:02:36.237283",
     "status": "completed"
    },
    "tags": []
   },
   "source": [
    "# 🔍 Basic Operations: Selecting, Filtering, Ordering, Grouping\n",
    "\n",
    "<img src=\"static/images/basic-operations.png\" alt=\"Dataset\" style=\"width: 600px;\"/>\n",
    "\n",
    "Explore essential operations to manipulate and manage your datasets effectively. This section will guide you through the fundamental techniques of selecting, filtering, ordering, grouping, annotating, and version management.\n",
    "\n",
    "📋 Key Operations\n",
    "1. Connecting to a Dataset\n",
    "2. Filtering & Sorting\n",
    "3. Adding Annotations (Signals)\n",
    "4. Saving and Versioning\n",
    "5. Deleting Dataset Versions"
   ]
  },
  {
   "cell_type": "markdown",
   "id": "38fb449c-5842-4c2c-99d8-1ebd23595ea8",
   "metadata": {
    "papermill": {
     "duration": 0.004834,
     "end_time": "2024-07-26T13:02:36.251979",
     "exception": false,
     "start_time": "2024-07-26T13:02:36.247145",
     "status": "completed"
    },
    "tags": []
   },
   "source": [
    "## Create a DataChain"
   ]
  },
  {
   "cell_type": "code",
   "execution_count": 2,
   "id": "002bba93-992a-43ff-8983-db58169d0238",
   "metadata": {
    "execution": {
     "iopub.execute_input": "2024-07-26T13:02:36.262318Z",
     "iopub.status.busy": "2024-07-26T13:02:36.262050Z",
     "iopub.status.idle": "2024-07-26T13:02:36.296429Z",
     "shell.execute_reply": "2024-07-26T13:02:36.296168Z"
    },
    "papermill": {
     "duration": 0.040724,
     "end_time": "2024-07-26T13:02:36.297381",
     "exception": false,
     "start_time": "2024-07-26T13:02:36.256657",
     "status": "completed"
    },
    "scrolled": true,
    "tags": []
   },
   "outputs": [
    {
     "data": {
      "text/html": [
       "<div>\n",
       "<style scoped>\n",
       "    .dataframe tbody tr th:only-of-type {\n",
       "        vertical-align: middle;\n",
       "    }\n",
       "\n",
       "    .dataframe tbody tr th {\n",
       "        vertical-align: top;\n",
       "    }\n",
       "\n",
       "    .dataframe thead tr th {\n",
       "        text-align: left;\n",
       "    }\n",
       "</style>\n",
       "<table border=\"1\" class=\"dataframe\">\n",
       "  <thead>\n",
       "    <tr>\n",
       "      <th></th>\n",
       "      <th>file</th>\n",
       "      <th>file</th>\n",
       "      <th>file</th>\n",
       "      <th>file</th>\n",
       "      <th>file</th>\n",
       "      <th>file</th>\n",
       "      <th>file</th>\n",
       "      <th>file</th>\n",
       "      <th>file</th>\n",
       "      <th>file</th>\n",
       "      <th>gender</th>\n",
       "      <th>mastercategory</th>\n",
       "      <th>subcategory</th>\n",
       "      <th>articletype</th>\n",
       "      <th>basecolour</th>\n",
       "      <th>season</th>\n",
       "      <th>year</th>\n",
       "      <th>usage</th>\n",
       "      <th>productdisplayname</th>\n",
       "      <th>filename</th>\n",
       "    </tr>\n",
       "    <tr>\n",
       "      <th></th>\n",
       "      <th>source</th>\n",
       "      <th>parent</th>\n",
       "      <th>name</th>\n",
       "      <th>size</th>\n",
       "      <th>version</th>\n",
       "      <th>etag</th>\n",
       "      <th>is_latest</th>\n",
       "      <th>last_modified</th>\n",
       "      <th>location</th>\n",
       "      <th>vtype</th>\n",
       "      <th></th>\n",
       "      <th></th>\n",
       "      <th></th>\n",
       "      <th></th>\n",
       "      <th></th>\n",
       "      <th></th>\n",
       "      <th></th>\n",
       "      <th></th>\n",
       "      <th></th>\n",
       "      <th></th>\n",
       "    </tr>\n",
       "  </thead>\n",
       "  <tbody>\n",
       "    <tr>\n",
       "      <th>0</th>\n",
       "      <td>gs://datachain-demo</td>\n",
       "      <td>fashion-product-images/images</td>\n",
       "      <td>10000.jpg</td>\n",
       "      <td>1030</td>\n",
       "      <td>1719489653370876</td>\n",
       "      <td>CPzf74/e+4YDEAE=</td>\n",
       "      <td>1</td>\n",
       "      <td>2024-06-27 12:00:53.421000+00:00</td>\n",
       "      <td>None</td>\n",
       "      <td></td>\n",
       "      <td>Women</td>\n",
       "      <td>Apparel</td>\n",
       "      <td>Bottomwear</td>\n",
       "      <td>Skirts</td>\n",
       "      <td>White</td>\n",
       "      <td>Summer</td>\n",
       "      <td>2011.0</td>\n",
       "      <td>Casual</td>\n",
       "      <td>Palm Tree Girls Sp Jace Sko White Skirts</td>\n",
       "      <td>10000.jpg</td>\n",
       "    </tr>\n",
       "    <tr>\n",
       "      <th>1</th>\n",
       "      <td>gs://datachain-demo</td>\n",
       "      <td>fashion-product-images/images</td>\n",
       "      <td>10001.jpg</td>\n",
       "      <td>1210</td>\n",
       "      <td>1719489640006438</td>\n",
       "      <td>CKaGwIne+4YDEAE=</td>\n",
       "      <td>1</td>\n",
       "      <td>2024-06-27 12:00:40.056000+00:00</td>\n",
       "      <td>None</td>\n",
       "      <td></td>\n",
       "      <td>Women</td>\n",
       "      <td>Apparel</td>\n",
       "      <td>Bottomwear</td>\n",
       "      <td>Skirts</td>\n",
       "      <td>Blue</td>\n",
       "      <td>Summer</td>\n",
       "      <td>2011.0</td>\n",
       "      <td>Casual</td>\n",
       "      <td>Palm Tree Kids Girls Sp Jema Skt Blue Skirts</td>\n",
       "      <td>10001.jpg</td>\n",
       "    </tr>\n",
       "    <tr>\n",
       "      <th>2</th>\n",
       "      <td>gs://datachain-demo</td>\n",
       "      <td>fashion-product-images/images</td>\n",
       "      <td>10002.jpg</td>\n",
       "      <td>807</td>\n",
       "      <td>1719489670015780</td>\n",
       "      <td>CKTW55fe+4YDEAE=</td>\n",
       "      <td>1</td>\n",
       "      <td>2024-06-27 12:01:10.067000+00:00</td>\n",
       "      <td>None</td>\n",
       "      <td></td>\n",
       "      <td>Women</td>\n",
       "      <td>Apparel</td>\n",
       "      <td>Bottomwear</td>\n",
       "      <td>Skirts</td>\n",
       "      <td>Blue</td>\n",
       "      <td>Summer</td>\n",
       "      <td>2011.0</td>\n",
       "      <td>Casual</td>\n",
       "      <td>Palm Tree Kids Sp Jema Skt Blue Skirts</td>\n",
       "      <td>10002.jpg</td>\n",
       "    </tr>\n",
       "  </tbody>\n",
       "</table>\n",
       "</div>"
      ],
      "text/plain": [
       "                  file                           file       file  file  \\\n",
       "                source                         parent       name  size   \n",
       "0  gs://datachain-demo  fashion-product-images/images  10000.jpg  1030   \n",
       "1  gs://datachain-demo  fashion-product-images/images  10001.jpg  1210   \n",
       "2  gs://datachain-demo  fashion-product-images/images  10002.jpg   807   \n",
       "\n",
       "               file              file      file  \\\n",
       "            version              etag is_latest   \n",
       "0  1719489653370876  CPzf74/e+4YDEAE=         1   \n",
       "1  1719489640006438  CKaGwIne+4YDEAE=         1   \n",
       "2  1719489670015780  CKTW55fe+4YDEAE=         1   \n",
       "\n",
       "                              file     file  file gender mastercategory  \\\n",
       "                     last_modified location vtype                         \n",
       "0 2024-06-27 12:00:53.421000+00:00     None        Women        Apparel   \n",
       "1 2024-06-27 12:00:40.056000+00:00     None        Women        Apparel   \n",
       "2 2024-06-27 12:01:10.067000+00:00     None        Women        Apparel   \n",
       "\n",
       "  subcategory articletype basecolour  season    year   usage  \\\n",
       "                                                               \n",
       "0  Bottomwear      Skirts      White  Summer  2011.0  Casual   \n",
       "1  Bottomwear      Skirts       Blue  Summer  2011.0  Casual   \n",
       "2  Bottomwear      Skirts       Blue  Summer  2011.0  Casual   \n",
       "\n",
       "                             productdisplayname   filename  \n",
       "                                                            \n",
       "0      Palm Tree Girls Sp Jace Sko White Skirts  10000.jpg  \n",
       "1  Palm Tree Kids Girls Sp Jema Skt Blue Skirts  10001.jpg  \n",
       "2        Palm Tree Kids Sp Jema Skt Blue Skirts  10002.jpg  "
      ]
     },
     "metadata": {},
     "output_type": "display_data"
    },
    {
     "name": "stdout",
     "output_type": "stream",
     "text": [
      "\n",
      "[Limited by 3 rows]\n"
     ]
    }
   ],
   "source": [
    "dc = (\n",
    "    DataChain.from_dataset(\"fashion-product-images\")\n",
    ")\n",
    "\n",
    "dc.show(3)"
   ]
  },
  {
   "cell_type": "markdown",
   "id": "1c920bf9-e3fa-4b40-8c45-b53f8105ecbd",
   "metadata": {
    "execution": {
     "iopub.execute_input": "2024-05-23T18:23:37.839668Z",
     "iopub.status.busy": "2024-05-23T18:23:37.839204Z",
     "iopub.status.idle": "2024-05-23T18:23:37.842849Z",
     "shell.execute_reply": "2024-05-23T18:23:37.842299Z",
     "shell.execute_reply.started": "2024-05-23T18:23:37.839639Z"
    },
    "papermill": {
     "duration": 0.005055,
     "end_time": "2024-07-26T13:02:36.307678",
     "exception": false,
     "start_time": "2024-07-26T13:02:36.302623",
     "status": "completed"
    },
    "scrolled": true,
    "tags": []
   },
   "source": [
    "## Filtering & Sorting"
   ]
  },
  {
   "cell_type": "markdown",
   "id": "3dc2a69c-ddbb-4e99-8bd8-182aa4463d32",
   "metadata": {
    "papermill": {
     "duration": 0.005024,
     "end_time": "2024-07-26T13:02:36.317916",
     "exception": false,
     "start_time": "2024-07-26T13:02:36.312892",
     "status": "completed"
    },
    "tags": []
   },
   "source": [
    "Assume you want to track the evolution of product images over time, or to compare the front-facing images for different products. \n",
    "\n",
    "- Select specific columns: `usage`, `season`, `year`, `gender`, `mastercategory`, `subcategory`, `articletype`, `basecolour`, `productdisplayname`\n",
    "- Filter to keep only `Casual` products for the `Summer` season\n",
    "- Sort the data by `year` in ascending order: `order_by(\"year)`\n",
    "- Group the data by `gender`: `group_by('gender')`\n",
    "- Convert the grouped data to a Pandas DataFrame: `to_pandas()`\n"
   ]
  },
  {
   "cell_type": "code",
   "execution_count": 3,
   "id": "e8f1d24b-55b0-4394-848d-89b7ec8332a7",
   "metadata": {
    "execution": {
     "iopub.execute_input": "2024-07-26T13:02:36.328572Z",
     "iopub.status.busy": "2024-07-26T13:02:36.328470Z",
     "iopub.status.idle": "2024-07-26T13:02:36.357521Z",
     "shell.execute_reply": "2024-07-26T13:02:36.357252Z"
    },
    "papermill": {
     "duration": 0.035599,
     "end_time": "2024-07-26T13:02:36.358476",
     "exception": false,
     "start_time": "2024-07-26T13:02:36.322877",
     "status": "completed"
    },
    "scrolled": true,
    "tags": []
   },
   "outputs": [
    {
     "data": {
      "text/html": [
       "<div>\n",
       "<style scoped>\n",
       "    .dataframe tbody tr th:only-of-type {\n",
       "        vertical-align: middle;\n",
       "    }\n",
       "\n",
       "    .dataframe tbody tr th {\n",
       "        vertical-align: top;\n",
       "    }\n",
       "\n",
       "    .dataframe thead tr th {\n",
       "        text-align: left;\n",
       "    }\n",
       "</style>\n",
       "<table border=\"1\" class=\"dataframe\">\n",
       "  <thead>\n",
       "    <tr>\n",
       "      <th></th>\n",
       "      <th>file</th>\n",
       "      <th>file</th>\n",
       "      <th>usage</th>\n",
       "      <th>season</th>\n",
       "      <th>year</th>\n",
       "      <th>gender</th>\n",
       "      <th>mastercategory</th>\n",
       "      <th>subcategory</th>\n",
       "      <th>articletype</th>\n",
       "      <th>basecolour</th>\n",
       "      <th>productdisplayname</th>\n",
       "    </tr>\n",
       "    <tr>\n",
       "      <th></th>\n",
       "      <th>parent</th>\n",
       "      <th>name</th>\n",
       "      <th></th>\n",
       "      <th></th>\n",
       "      <th></th>\n",
       "      <th></th>\n",
       "      <th></th>\n",
       "      <th></th>\n",
       "      <th></th>\n",
       "      <th></th>\n",
       "      <th></th>\n",
       "    </tr>\n",
       "  </thead>\n",
       "  <tbody>\n",
       "    <tr>\n",
       "      <th>0</th>\n",
       "      <td>fashion-product-images/images</td>\n",
       "      <td>37341.jpg</td>\n",
       "      <td>Casual</td>\n",
       "      <td>Spring</td>\n",
       "      <td>2008.0</td>\n",
       "      <td>Boys</td>\n",
       "      <td>Apparel</td>\n",
       "      <td>Topwear</td>\n",
       "      <td>Tshirts</td>\n",
       "      <td>Orange</td>\n",
       "      <td>U.S. Polo Assn. Kids Boys Orange T-shirt</td>\n",
       "    </tr>\n",
       "    <tr>\n",
       "      <th>1</th>\n",
       "      <td>fashion-product-images/images</td>\n",
       "      <td>35531.jpg</td>\n",
       "      <td>Casual</td>\n",
       "      <td>Winter</td>\n",
       "      <td>2008.0</td>\n",
       "      <td>Girls</td>\n",
       "      <td>Footwear</td>\n",
       "      <td>Shoes</td>\n",
       "      <td>Casual Shoes</td>\n",
       "      <td>Red</td>\n",
       "      <td>Enroute Teens Girls Red Ballet Flats</td>\n",
       "    </tr>\n",
       "    <tr>\n",
       "      <th>2</th>\n",
       "      <td>fashion-product-images/images</td>\n",
       "      <td>36329.jpg</td>\n",
       "      <td>Casual</td>\n",
       "      <td>Spring</td>\n",
       "      <td>2007.0</td>\n",
       "      <td>Men</td>\n",
       "      <td>Footwear</td>\n",
       "      <td>Shoes</td>\n",
       "      <td>Casual Shoes</td>\n",
       "      <td>Purple</td>\n",
       "      <td>Newfeel Men Purple Casual Shoes</td>\n",
       "    </tr>\n",
       "    <tr>\n",
       "      <th>3</th>\n",
       "      <td>fashion-product-images/images</td>\n",
       "      <td>19497.jpg</td>\n",
       "      <td>Casual</td>\n",
       "      <td>Fall</td>\n",
       "      <td>2009.0</td>\n",
       "      <td>Unisex</td>\n",
       "      <td>Accessories</td>\n",
       "      <td>Socks</td>\n",
       "      <td>Socks</td>\n",
       "      <td>White</td>\n",
       "      <td>Puma Kids Unisex Foundation Pack of 3 Crew Socks</td>\n",
       "    </tr>\n",
       "    <tr>\n",
       "      <th>4</th>\n",
       "      <td>fashion-product-images/images</td>\n",
       "      <td>2625.jpg</td>\n",
       "      <td>Casual</td>\n",
       "      <td>Fall</td>\n",
       "      <td>2009.0</td>\n",
       "      <td>Women</td>\n",
       "      <td>Footwear</td>\n",
       "      <td>Shoes</td>\n",
       "      <td>Flats</td>\n",
       "      <td>Gold</td>\n",
       "      <td>Carlton London Women Wedge Gold Sandal</td>\n",
       "    </tr>\n",
       "  </tbody>\n",
       "</table>\n",
       "</div>"
      ],
      "text/plain": [
       "                            file       file   usage  season    year  gender  \\\n",
       "                          parent       name                                   \n",
       "0  fashion-product-images/images  37341.jpg  Casual  Spring  2008.0    Boys   \n",
       "1  fashion-product-images/images  35531.jpg  Casual  Winter  2008.0   Girls   \n",
       "2  fashion-product-images/images  36329.jpg  Casual  Spring  2007.0     Men   \n",
       "3  fashion-product-images/images  19497.jpg  Casual    Fall  2009.0  Unisex   \n",
       "4  fashion-product-images/images   2625.jpg  Casual    Fall  2009.0   Women   \n",
       "\n",
       "  mastercategory subcategory   articletype basecolour  \\\n",
       "                                                        \n",
       "0        Apparel     Topwear       Tshirts     Orange   \n",
       "1       Footwear       Shoes  Casual Shoes        Red   \n",
       "2       Footwear       Shoes  Casual Shoes     Purple   \n",
       "3    Accessories       Socks         Socks      White   \n",
       "4       Footwear       Shoes         Flats       Gold   \n",
       "\n",
       "                                 productdisplayname  \n",
       "                                                     \n",
       "0          U.S. Polo Assn. Kids Boys Orange T-shirt  \n",
       "1              Enroute Teens Girls Red Ballet Flats  \n",
       "2                   Newfeel Men Purple Casual Shoes  \n",
       "3  Puma Kids Unisex Foundation Pack of 3 Crew Socks  \n",
       "4            Carlton London Women Wedge Gold Sandal  "
      ]
     },
     "metadata": {},
     "output_type": "display_data"
    }
   ],
   "source": [
    "(\n",
    "    DataChain.from_dataset(\"fashion-product-images\")\n",
    "    .select(\n",
    "        \"file.parent\",\n",
    "        \"file.name\",\n",
    "        \"usage\",\n",
    "        \"season\",\n",
    "        \"year\",\n",
    "        \"gender\",\n",
    "        \"mastercategory\",\n",
    "        \"subcategory\",\n",
    "        \"articletype\",\n",
    "        \"basecolour\",\n",
    "        \"productdisplayname\",\n",
    "    )\n",
    "    .filter(C(\"usage\") == \"Casual\" and C(\"season\") == \"Summer\")\n",
    "    .order_by(\"year\")\n",
    "    .group_by(\"gender\")\n",
    "    .show()\n",
    ")"
   ]
  },
  {
   "cell_type": "markdown",
   "id": "6828302f-21b7-48fc-b484-9b58fc4d6e8e",
   "metadata": {
    "papermill": {
     "duration": 0.005037,
     "end_time": "2024-07-26T13:02:36.368904",
     "exception": false,
     "start_time": "2024-07-26T13:02:36.363867",
     "status": "completed"
    },
    "tags": []
   },
   "source": [
    "The example demonstrates how to leverage basic DataChain operations to process and extract meaningful insights from a dataset.\n",
    "\n",
    "- **Select Fields**: The `.select()` method specifies which columns to include in the output. Here, it selects columns like `parent`, `name`, `usage`, `season`, `year`, and `gender`.\n",
    "  \n",
    "- **Apply Filters**: The `.filter()` method refines the dataset to include only records where both `usage` is 'Casual' and `season` is 'Summer'. This focuses the analysis on casual clothing items used during the summer.\n",
    "- **Ordering**: The `.order_by(\"year\")` method sorts the data chronologically by the `year` column, organizing the entries by their temporal context.\n",
    "- **Grouping**: The `.group_by('gender')` method groups the data by the `gender` column. This aggregation is crucial for analyzing trends and differences in clothing preferences across genders.\n",
    "- **Convert to DataFrame**: Finally, the `.to_pandas()` function converts the dataset into a Pandas DataFrame. This transformation facilitates further analysis with Python's extensive data manipulation tools.\n",
    "\n",
    "This workflow efficiently handles data extraction and preprocessing, essential for machine learning tasks, allowing quick exploration of images and associated metadata in structured fashion workflows."
   ]
  },
  {
   "cell_type": "markdown",
   "id": "3f40b688-cd6e-4805-9e38-1c224751256a",
   "metadata": {
    "papermill": {
     "duration": 0.005272,
     "end_time": "2024-07-26T13:02:36.379104",
     "exception": false,
     "start_time": "2024-07-26T13:02:36.373832",
     "status": "completed"
    },
    "tags": []
   },
   "source": [
    "## Add signals (columns) with `map()` method\n",
    "\n",
    "- The `map()` method applies a function to each row to create new signals.  It returns a chain itself with new signals.\n",
    "- The mapping function should return a new object for each row.\n",
    "\n",
    "An example below demonstrates how to create `prod_name_lengh` column using `.map()` and a lambda function applied to the `name` column"
   ]
  },
  {
   "cell_type": "code",
   "execution_count": 4,
   "id": "df95dd93-3db6-4d11-81df-bd282a6b7a9e",
   "metadata": {
    "execution": {
     "iopub.execute_input": "2024-07-26T13:02:36.389700Z",
     "iopub.status.busy": "2024-07-26T13:02:36.389575Z",
     "iopub.status.idle": "2024-07-26T13:02:37.232591Z",
     "shell.execute_reply": "2024-07-26T13:02:37.232300Z"
    },
    "papermill": {
     "duration": 0.849359,
     "end_time": "2024-07-26T13:02:37.233425",
     "exception": false,
     "start_time": "2024-07-26T13:02:36.384066",
     "status": "completed"
    },
    "scrolled": true,
    "tags": []
   },
   "outputs": [
    {
     "name": "stderr",
     "output_type": "stream",
     "text": [
      "\r",
      "Processed: 0 rows [00:00, ? rows/s]"
     ]
    },
    {
     "name": "stderr",
     "output_type": "stream",
     "text": [
      "\r",
      "Processed: 10001 rows [00:00, 69544.17 rows/s]"
     ]
    },
    {
     "name": "stderr",
     "output_type": "stream",
     "text": [
      "\r",
      "Processed: 20001 rows [00:00, 69171.02 rows/s]"
     ]
    },
    {
     "name": "stderr",
     "output_type": "stream",
     "text": [
      "\r",
      "Processed: 29313 rows [00:00, 77973.49 rows/s]"
     ]
    },
    {
     "name": "stderr",
     "output_type": "stream",
     "text": [
      "\r",
      "Processed: 37324 rows [00:00, 71612.10 rows/s]"
     ]
    },
    {
     "name": "stderr",
     "output_type": "stream",
     "text": [
      "\r",
      "Processed: 44439 rows [00:00, 63318.39 rows/s]"
     ]
    },
    {
     "name": "stderr",
     "output_type": "stream",
     "text": [
      "\n"
     ]
    },
    {
     "data": {
      "text/html": [
       "<div>\n",
       "<style scoped>\n",
       "    .dataframe tbody tr th:only-of-type {\n",
       "        vertical-align: middle;\n",
       "    }\n",
       "\n",
       "    .dataframe tbody tr th {\n",
       "        vertical-align: top;\n",
       "    }\n",
       "\n",
       "    .dataframe thead tr th {\n",
       "        text-align: left;\n",
       "    }\n",
       "</style>\n",
       "<table border=\"1\" class=\"dataframe\">\n",
       "  <thead>\n",
       "    <tr>\n",
       "      <th></th>\n",
       "      <th>file</th>\n",
       "      <th>file</th>\n",
       "      <th>file</th>\n",
       "      <th>file</th>\n",
       "      <th>file</th>\n",
       "      <th>file</th>\n",
       "      <th>file</th>\n",
       "      <th>file</th>\n",
       "      <th>file</th>\n",
       "      <th>file</th>\n",
       "      <th>gender</th>\n",
       "      <th>mastercategory</th>\n",
       "      <th>subcategory</th>\n",
       "      <th>articletype</th>\n",
       "      <th>basecolour</th>\n",
       "      <th>season</th>\n",
       "      <th>year</th>\n",
       "      <th>usage</th>\n",
       "      <th>productdisplayname</th>\n",
       "      <th>filename</th>\n",
       "      <th>prod_name_length</th>\n",
       "    </tr>\n",
       "    <tr>\n",
       "      <th></th>\n",
       "      <th>source</th>\n",
       "      <th>parent</th>\n",
       "      <th>name</th>\n",
       "      <th>size</th>\n",
       "      <th>version</th>\n",
       "      <th>etag</th>\n",
       "      <th>is_latest</th>\n",
       "      <th>last_modified</th>\n",
       "      <th>location</th>\n",
       "      <th>vtype</th>\n",
       "      <th></th>\n",
       "      <th></th>\n",
       "      <th></th>\n",
       "      <th></th>\n",
       "      <th></th>\n",
       "      <th></th>\n",
       "      <th></th>\n",
       "      <th></th>\n",
       "      <th></th>\n",
       "      <th></th>\n",
       "      <th></th>\n",
       "    </tr>\n",
       "  </thead>\n",
       "  <tbody>\n",
       "    <tr>\n",
       "      <th>0</th>\n",
       "      <td>gs://datachain-demo</td>\n",
       "      <td>fashion-product-images/images</td>\n",
       "      <td>10000.jpg</td>\n",
       "      <td>1030</td>\n",
       "      <td>1719489653370876</td>\n",
       "      <td>CPzf74/e+4YDEAE=</td>\n",
       "      <td>1</td>\n",
       "      <td>2024-06-27 12:00:53.421000+00:00</td>\n",
       "      <td>None</td>\n",
       "      <td></td>\n",
       "      <td>Women</td>\n",
       "      <td>Apparel</td>\n",
       "      <td>Bottomwear</td>\n",
       "      <td>Skirts</td>\n",
       "      <td>White</td>\n",
       "      <td>Summer</td>\n",
       "      <td>2011.0</td>\n",
       "      <td>Casual</td>\n",
       "      <td>Palm Tree Girls Sp Jace Sko White Skirts</td>\n",
       "      <td>10000.jpg</td>\n",
       "      <td>9</td>\n",
       "    </tr>\n",
       "    <tr>\n",
       "      <th>1</th>\n",
       "      <td>gs://datachain-demo</td>\n",
       "      <td>fashion-product-images/images</td>\n",
       "      <td>10001.jpg</td>\n",
       "      <td>1210</td>\n",
       "      <td>1719489640006438</td>\n",
       "      <td>CKaGwIne+4YDEAE=</td>\n",
       "      <td>1</td>\n",
       "      <td>2024-06-27 12:00:40.056000+00:00</td>\n",
       "      <td>None</td>\n",
       "      <td></td>\n",
       "      <td>Women</td>\n",
       "      <td>Apparel</td>\n",
       "      <td>Bottomwear</td>\n",
       "      <td>Skirts</td>\n",
       "      <td>Blue</td>\n",
       "      <td>Summer</td>\n",
       "      <td>2011.0</td>\n",
       "      <td>Casual</td>\n",
       "      <td>Palm Tree Kids Girls Sp Jema Skt Blue Skirts</td>\n",
       "      <td>10001.jpg</td>\n",
       "      <td>9</td>\n",
       "    </tr>\n",
       "    <tr>\n",
       "      <th>2</th>\n",
       "      <td>gs://datachain-demo</td>\n",
       "      <td>fashion-product-images/images</td>\n",
       "      <td>10002.jpg</td>\n",
       "      <td>807</td>\n",
       "      <td>1719489670015780</td>\n",
       "      <td>CKTW55fe+4YDEAE=</td>\n",
       "      <td>1</td>\n",
       "      <td>2024-06-27 12:01:10.067000+00:00</td>\n",
       "      <td>None</td>\n",
       "      <td></td>\n",
       "      <td>Women</td>\n",
       "      <td>Apparel</td>\n",
       "      <td>Bottomwear</td>\n",
       "      <td>Skirts</td>\n",
       "      <td>Blue</td>\n",
       "      <td>Summer</td>\n",
       "      <td>2011.0</td>\n",
       "      <td>Casual</td>\n",
       "      <td>Palm Tree Kids Sp Jema Skt Blue Skirts</td>\n",
       "      <td>10002.jpg</td>\n",
       "      <td>9</td>\n",
       "    </tr>\n",
       "  </tbody>\n",
       "</table>\n",
       "</div>"
      ],
      "text/plain": [
       "                  file                           file       file  file  \\\n",
       "                source                         parent       name  size   \n",
       "0  gs://datachain-demo  fashion-product-images/images  10000.jpg  1030   \n",
       "1  gs://datachain-demo  fashion-product-images/images  10001.jpg  1210   \n",
       "2  gs://datachain-demo  fashion-product-images/images  10002.jpg   807   \n",
       "\n",
       "               file              file      file  \\\n",
       "            version              etag is_latest   \n",
       "0  1719489653370876  CPzf74/e+4YDEAE=         1   \n",
       "1  1719489640006438  CKaGwIne+4YDEAE=         1   \n",
       "2  1719489670015780  CKTW55fe+4YDEAE=         1   \n",
       "\n",
       "                              file     file  file gender mastercategory  \\\n",
       "                     last_modified location vtype                         \n",
       "0 2024-06-27 12:00:53.421000+00:00     None        Women        Apparel   \n",
       "1 2024-06-27 12:00:40.056000+00:00     None        Women        Apparel   \n",
       "2 2024-06-27 12:01:10.067000+00:00     None        Women        Apparel   \n",
       "\n",
       "  subcategory articletype basecolour  season    year   usage  \\\n",
       "                                                               \n",
       "0  Bottomwear      Skirts      White  Summer  2011.0  Casual   \n",
       "1  Bottomwear      Skirts       Blue  Summer  2011.0  Casual   \n",
       "2  Bottomwear      Skirts       Blue  Summer  2011.0  Casual   \n",
       "\n",
       "                             productdisplayname   filename prod_name_length  \n",
       "                                                                             \n",
       "0      Palm Tree Girls Sp Jace Sko White Skirts  10000.jpg                9  \n",
       "1  Palm Tree Kids Girls Sp Jema Skt Blue Skirts  10001.jpg                9  \n",
       "2        Palm Tree Kids Sp Jema Skt Blue Skirts  10002.jpg                9  "
      ]
     },
     "metadata": {},
     "output_type": "display_data"
    },
    {
     "name": "stdout",
     "output_type": "stream",
     "text": [
      "\n",
      "[Limited by 3 rows]\n"
     ]
    }
   ],
   "source": [
    "(\n",
    "    DataChain.from_dataset(\"fashion-product-images\")\n",
    "    .map(prod_name_length=lambda name: len(name), params=[\"file.name\"], output=int)\n",
    "    .show(3)\n",
    ")\n"
   ]
  },
  {
   "cell_type": "markdown",
   "id": "0e49e1ef-a179-401e-b141-0540d322b144",
   "metadata": {
    "papermill": {
     "duration": 0.005615,
     "end_time": "2024-07-26T13:02:37.244763",
     "exception": false,
     "start_time": "2024-07-26T13:02:37.239148",
     "status": "completed"
    },
    "tags": []
   },
   "source": [
    "## Saving and Versioning Datasets\n",
    "\n",
    "DataChain supports versioning of datasets. You can save a dataset as a new version and load specific versions:\n",
    "\n",
    "You can load a specific version by specifying the `version` parameter."
   ]
  },
  {
   "cell_type": "markdown",
   "id": "22a6a7a2-7e67-4f16-be89-213f119c13b1",
   "metadata": {
    "papermill": {
     "duration": 0.005487,
     "end_time": "2024-07-26T13:02:37.255593",
     "exception": false,
     "start_time": "2024-07-26T13:02:37.250106",
     "status": "completed"
    },
    "tags": []
   },
   "source": [
    "### Save a dataset (version)\n",
    "\n",
    "- Let's add a column and save a new version of the dataset"
   ]
  },
  {
   "cell_type": "code",
   "execution_count": 5,
   "id": "adb5beda-4a5d-4bad-b5a5-6e4fe9cbc8a4",
   "metadata": {
    "execution": {
     "iopub.execute_input": "2024-07-26T13:02:37.267015Z",
     "iopub.status.busy": "2024-07-26T13:02:37.266825Z",
     "iopub.status.idle": "2024-07-26T13:02:37.640446Z",
     "shell.execute_reply": "2024-07-26T13:02:37.640151Z"
    },
    "papermill": {
     "duration": 0.380763,
     "end_time": "2024-07-26T13:02:37.641767",
     "exception": false,
     "start_time": "2024-07-26T13:02:37.261004",
     "status": "completed"
    },
    "tags": []
   },
   "outputs": [
    {
     "name": "stderr",
     "output_type": "stream",
     "text": [
      "\r",
      "Processed: 0 rows [00:00, ? rows/s]"
     ]
    },
    {
     "name": "stderr",
     "output_type": "stream",
     "text": [
      "\r",
      "Processed: 10001 rows [00:00, 70423.69 rows/s]"
     ]
    },
    {
     "name": "stderr",
     "output_type": "stream",
     "text": [
      "\r",
      "Processed: 15401 rows [00:00, 60646.79 rows/s]"
     ]
    },
    {
     "name": "stderr",
     "output_type": "stream",
     "text": [
      "\n"
     ]
    },
    {
     "data": {
      "text/html": [
       "<div>\n",
       "<style scoped>\n",
       "    .dataframe tbody tr th:only-of-type {\n",
       "        vertical-align: middle;\n",
       "    }\n",
       "\n",
       "    .dataframe tbody tr th {\n",
       "        vertical-align: top;\n",
       "    }\n",
       "\n",
       "    .dataframe thead tr th {\n",
       "        text-align: left;\n",
       "    }\n",
       "</style>\n",
       "<table border=\"1\" class=\"dataframe\">\n",
       "  <thead>\n",
       "    <tr>\n",
       "      <th></th>\n",
       "      <th>file</th>\n",
       "      <th>file</th>\n",
       "      <th>file</th>\n",
       "      <th>file</th>\n",
       "      <th>file</th>\n",
       "      <th>file</th>\n",
       "      <th>file</th>\n",
       "      <th>file</th>\n",
       "      <th>file</th>\n",
       "      <th>file</th>\n",
       "      <th>gender</th>\n",
       "      <th>mastercategory</th>\n",
       "      <th>subcategory</th>\n",
       "      <th>articletype</th>\n",
       "      <th>basecolour</th>\n",
       "      <th>season</th>\n",
       "      <th>year</th>\n",
       "      <th>usage</th>\n",
       "      <th>productdisplayname</th>\n",
       "      <th>filename</th>\n",
       "      <th>prod_name_length</th>\n",
       "    </tr>\n",
       "    <tr>\n",
       "      <th></th>\n",
       "      <th>source</th>\n",
       "      <th>parent</th>\n",
       "      <th>name</th>\n",
       "      <th>size</th>\n",
       "      <th>version</th>\n",
       "      <th>etag</th>\n",
       "      <th>is_latest</th>\n",
       "      <th>last_modified</th>\n",
       "      <th>location</th>\n",
       "      <th>vtype</th>\n",
       "      <th></th>\n",
       "      <th></th>\n",
       "      <th></th>\n",
       "      <th></th>\n",
       "      <th></th>\n",
       "      <th></th>\n",
       "      <th></th>\n",
       "      <th></th>\n",
       "      <th></th>\n",
       "      <th></th>\n",
       "      <th></th>\n",
       "    </tr>\n",
       "  </thead>\n",
       "  <tbody>\n",
       "    <tr>\n",
       "      <th>0</th>\n",
       "      <td>gs://datachain-demo</td>\n",
       "      <td>fashion-product-images/images</td>\n",
       "      <td>10003.jpg</td>\n",
       "      <td>11564</td>\n",
       "      <td>1719489683599343</td>\n",
       "      <td>CO/fpJ7e+4YDEAE=</td>\n",
       "      <td>1</td>\n",
       "      <td>2024-06-27 12:01:23.651000+00:00</td>\n",
       "      <td>None</td>\n",
       "      <td></td>\n",
       "      <td>Women</td>\n",
       "      <td>Apparel</td>\n",
       "      <td>Topwear</td>\n",
       "      <td>Tshirts</td>\n",
       "      <td>White</td>\n",
       "      <td>Fall</td>\n",
       "      <td>2011.0</td>\n",
       "      <td>Sports</td>\n",
       "      <td>Nike Women As Nike Eleme White T-Shirt</td>\n",
       "      <td>10003.jpg</td>\n",
       "      <td>9</td>\n",
       "    </tr>\n",
       "    <tr>\n",
       "      <th>1</th>\n",
       "      <td>gs://datachain-demo</td>\n",
       "      <td>fashion-product-images/images</td>\n",
       "      <td>10005.jpg</td>\n",
       "      <td>16677</td>\n",
       "      <td>1719489744441124</td>\n",
       "      <td>CKSeprve+4YDEAE=</td>\n",
       "      <td>1</td>\n",
       "      <td>2024-06-27 12:02:24.500000+00:00</td>\n",
       "      <td>None</td>\n",
       "      <td></td>\n",
       "      <td>Men</td>\n",
       "      <td>Apparel</td>\n",
       "      <td>Topwear</td>\n",
       "      <td>Tshirts</td>\n",
       "      <td>Blue</td>\n",
       "      <td>Fall</td>\n",
       "      <td>2011.0</td>\n",
       "      <td>Sports</td>\n",
       "      <td>Nike Men As Ss Trainin Blue T-Shirts</td>\n",
       "      <td>10005.jpg</td>\n",
       "      <td>9</td>\n",
       "    </tr>\n",
       "    <tr>\n",
       "      <th>2</th>\n",
       "      <td>gs://datachain-demo</td>\n",
       "      <td>fashion-product-images/images</td>\n",
       "      <td>10006.jpg</td>\n",
       "      <td>2146</td>\n",
       "      <td>1719489713329967</td>\n",
       "      <td>CK+uu6ze+4YDEAE=</td>\n",
       "      <td>1</td>\n",
       "      <td>2024-06-27 12:01:53.379000+00:00</td>\n",
       "      <td>None</td>\n",
       "      <td></td>\n",
       "      <td>Men</td>\n",
       "      <td>Apparel</td>\n",
       "      <td>Topwear</td>\n",
       "      <td>Tshirts</td>\n",
       "      <td>Black</td>\n",
       "      <td>Fall</td>\n",
       "      <td>2011.0</td>\n",
       "      <td>Sports</td>\n",
       "      <td>Nike Men AS T90 Black Tshirts</td>\n",
       "      <td>10006.jpg</td>\n",
       "      <td>9</td>\n",
       "    </tr>\n",
       "  </tbody>\n",
       "</table>\n",
       "</div>"
      ],
      "text/plain": [
       "                  file                           file       file   file  \\\n",
       "                source                         parent       name   size   \n",
       "0  gs://datachain-demo  fashion-product-images/images  10003.jpg  11564   \n",
       "1  gs://datachain-demo  fashion-product-images/images  10005.jpg  16677   \n",
       "2  gs://datachain-demo  fashion-product-images/images  10006.jpg   2146   \n",
       "\n",
       "               file              file      file  \\\n",
       "            version              etag is_latest   \n",
       "0  1719489683599343  CO/fpJ7e+4YDEAE=         1   \n",
       "1  1719489744441124  CKSeprve+4YDEAE=         1   \n",
       "2  1719489713329967  CK+uu6ze+4YDEAE=         1   \n",
       "\n",
       "                              file     file  file gender mastercategory  \\\n",
       "                     last_modified location vtype                         \n",
       "0 2024-06-27 12:01:23.651000+00:00     None        Women        Apparel   \n",
       "1 2024-06-27 12:02:24.500000+00:00     None          Men        Apparel   \n",
       "2 2024-06-27 12:01:53.379000+00:00     None          Men        Apparel   \n",
       "\n",
       "  subcategory articletype basecolour season    year   usage  \\\n",
       "                                                              \n",
       "0     Topwear     Tshirts      White   Fall  2011.0  Sports   \n",
       "1     Topwear     Tshirts       Blue   Fall  2011.0  Sports   \n",
       "2     Topwear     Tshirts      Black   Fall  2011.0  Sports   \n",
       "\n",
       "                       productdisplayname   filename prod_name_length  \n",
       "                                                                       \n",
       "0  Nike Women As Nike Eleme White T-Shirt  10003.jpg                9  \n",
       "1    Nike Men As Ss Trainin Blue T-Shirts  10005.jpg                9  \n",
       "2           Nike Men AS T90 Black Tshirts  10006.jpg                9  "
      ]
     },
     "metadata": {},
     "output_type": "display_data"
    },
    {
     "name": "stdout",
     "output_type": "stream",
     "text": [
      "\n",
      "[Limited by 3 rows]\n",
      "dataset version is 11\n"
     ]
    }
   ],
   "source": [
    "dc_v1 = (\n",
    "    DataChain.from_dataset(name=\"fashion-topwear\")\n",
    "    .map(prod_name_length=lambda name: len(name), params=[\"file.name\"], output=int)\n",
    "    .save(\"fashion-tmp\")\n",
    ")\n",
    "dc_v1.show(3)\n",
    "print(f\"dataset version is {dc_v1.version}\")"
   ]
  },
  {
   "cell_type": "markdown",
   "id": "7150c58a-dd3f-4e1c-a1cf-c496b65c67f2",
   "metadata": {
    "papermill": {
     "duration": 0.005677,
     "end_time": "2024-07-26T13:02:37.653327",
     "exception": false,
     "start_time": "2024-07-26T13:02:37.647650",
     "status": "completed"
    },
    "tags": []
   },
   "source": [
    "### Save a new version "
   ]
  },
  {
   "cell_type": "code",
   "execution_count": 6,
   "id": "93638895-85df-4252-beb8-1e5e71b269c8",
   "metadata": {
    "execution": {
     "iopub.execute_input": "2024-07-26T13:02:37.665473Z",
     "iopub.status.busy": "2024-07-26T13:02:37.665259Z",
     "iopub.status.idle": "2024-07-26T13:02:38.026674Z",
     "shell.execute_reply": "2024-07-26T13:02:38.026387Z"
    },
    "papermill": {
     "duration": 0.368549,
     "end_time": "2024-07-26T13:02:38.027558",
     "exception": false,
     "start_time": "2024-07-26T13:02:37.659009",
     "status": "completed"
    },
    "scrolled": true,
    "tags": []
   },
   "outputs": [
    {
     "name": "stderr",
     "output_type": "stream",
     "text": [
      "\r",
      "Processed: 0 rows [00:00, ? rows/s]"
     ]
    },
    {
     "name": "stderr",
     "output_type": "stream",
     "text": [
      "\r",
      "Processed: 10001 rows [00:00, 69104.46 rows/s]"
     ]
    },
    {
     "name": "stderr",
     "output_type": "stream",
     "text": [
      "\r",
      "Processed: 15401 rows [00:00, 59185.07 rows/s]"
     ]
    },
    {
     "name": "stdout",
     "output_type": "stream",
     "text": [
      "dataset version is 12\n"
     ]
    },
    {
     "name": "stderr",
     "output_type": "stream",
     "text": [
      "\n"
     ]
    }
   ],
   "source": [
    "dc_v2 = (\n",
    "    DataChain(name=\"fashion-topwear\")\n",
    "    .map(prod_name_length_2=lambda name: len(name), params=[\"file.name\"], output=int)\n",
    "    .save(\"fashion-tmp\")\n",
    ")\n",
    "print(f\"dataset version is {dc_v2.version}\")"
   ]
  },
  {
   "cell_type": "code",
   "execution_count": 7,
   "id": "558525be-bea3-44ff-86e5-3895c65deaf7",
   "metadata": {
    "execution": {
     "iopub.execute_input": "2024-07-26T13:02:38.040026Z",
     "iopub.status.busy": "2024-07-26T13:02:38.039932Z",
     "iopub.status.idle": "2024-07-26T13:02:38.064928Z",
     "shell.execute_reply": "2024-07-26T13:02:38.064687Z"
    },
    "papermill": {
     "duration": 0.032059,
     "end_time": "2024-07-26T13:02:38.065777",
     "exception": false,
     "start_time": "2024-07-26T13:02:38.033718",
     "status": "completed"
    },
    "scrolled": true,
    "tags": []
   },
   "outputs": [
    {
     "data": {
      "text/html": [
       "<div>\n",
       "<style scoped>\n",
       "    .dataframe tbody tr th:only-of-type {\n",
       "        vertical-align: middle;\n",
       "    }\n",
       "\n",
       "    .dataframe tbody tr th {\n",
       "        vertical-align: top;\n",
       "    }\n",
       "\n",
       "    .dataframe thead tr th {\n",
       "        text-align: left;\n",
       "    }\n",
       "</style>\n",
       "<table border=\"1\" class=\"dataframe\">\n",
       "  <thead>\n",
       "    <tr>\n",
       "      <th></th>\n",
       "      <th>file</th>\n",
       "      <th>file</th>\n",
       "      <th>file</th>\n",
       "      <th>file</th>\n",
       "      <th>file</th>\n",
       "      <th>file</th>\n",
       "      <th>file</th>\n",
       "      <th>file</th>\n",
       "      <th>file</th>\n",
       "      <th>file</th>\n",
       "      <th>gender</th>\n",
       "      <th>mastercategory</th>\n",
       "      <th>subcategory</th>\n",
       "      <th>articletype</th>\n",
       "      <th>basecolour</th>\n",
       "      <th>season</th>\n",
       "      <th>year</th>\n",
       "      <th>usage</th>\n",
       "      <th>productdisplayname</th>\n",
       "      <th>filename</th>\n",
       "      <th>prod_name_length_2</th>\n",
       "    </tr>\n",
       "    <tr>\n",
       "      <th></th>\n",
       "      <th>source</th>\n",
       "      <th>parent</th>\n",
       "      <th>name</th>\n",
       "      <th>size</th>\n",
       "      <th>version</th>\n",
       "      <th>etag</th>\n",
       "      <th>is_latest</th>\n",
       "      <th>last_modified</th>\n",
       "      <th>location</th>\n",
       "      <th>vtype</th>\n",
       "      <th></th>\n",
       "      <th></th>\n",
       "      <th></th>\n",
       "      <th></th>\n",
       "      <th></th>\n",
       "      <th></th>\n",
       "      <th></th>\n",
       "      <th></th>\n",
       "      <th></th>\n",
       "      <th></th>\n",
       "      <th></th>\n",
       "    </tr>\n",
       "  </thead>\n",
       "  <tbody>\n",
       "    <tr>\n",
       "      <th>0</th>\n",
       "      <td>gs://datachain-demo</td>\n",
       "      <td>fashion-product-images/images</td>\n",
       "      <td>10003.jpg</td>\n",
       "      <td>11564</td>\n",
       "      <td>1719489683599343</td>\n",
       "      <td>CO/fpJ7e+4YDEAE=</td>\n",
       "      <td>1</td>\n",
       "      <td>2024-06-27 12:01:23.651000+00:00</td>\n",
       "      <td>None</td>\n",
       "      <td></td>\n",
       "      <td>Women</td>\n",
       "      <td>Apparel</td>\n",
       "      <td>Topwear</td>\n",
       "      <td>Tshirts</td>\n",
       "      <td>White</td>\n",
       "      <td>Fall</td>\n",
       "      <td>2011.0</td>\n",
       "      <td>Sports</td>\n",
       "      <td>Nike Women As Nike Eleme White T-Shirt</td>\n",
       "      <td>10003.jpg</td>\n",
       "      <td>9</td>\n",
       "    </tr>\n",
       "    <tr>\n",
       "      <th>1</th>\n",
       "      <td>gs://datachain-demo</td>\n",
       "      <td>fashion-product-images/images</td>\n",
       "      <td>10005.jpg</td>\n",
       "      <td>16677</td>\n",
       "      <td>1719489744441124</td>\n",
       "      <td>CKSeprve+4YDEAE=</td>\n",
       "      <td>1</td>\n",
       "      <td>2024-06-27 12:02:24.500000+00:00</td>\n",
       "      <td>None</td>\n",
       "      <td></td>\n",
       "      <td>Men</td>\n",
       "      <td>Apparel</td>\n",
       "      <td>Topwear</td>\n",
       "      <td>Tshirts</td>\n",
       "      <td>Blue</td>\n",
       "      <td>Fall</td>\n",
       "      <td>2011.0</td>\n",
       "      <td>Sports</td>\n",
       "      <td>Nike Men As Ss Trainin Blue T-Shirts</td>\n",
       "      <td>10005.jpg</td>\n",
       "      <td>9</td>\n",
       "    </tr>\n",
       "    <tr>\n",
       "      <th>2</th>\n",
       "      <td>gs://datachain-demo</td>\n",
       "      <td>fashion-product-images/images</td>\n",
       "      <td>10006.jpg</td>\n",
       "      <td>2146</td>\n",
       "      <td>1719489713329967</td>\n",
       "      <td>CK+uu6ze+4YDEAE=</td>\n",
       "      <td>1</td>\n",
       "      <td>2024-06-27 12:01:53.379000+00:00</td>\n",
       "      <td>None</td>\n",
       "      <td></td>\n",
       "      <td>Men</td>\n",
       "      <td>Apparel</td>\n",
       "      <td>Topwear</td>\n",
       "      <td>Tshirts</td>\n",
       "      <td>Black</td>\n",
       "      <td>Fall</td>\n",
       "      <td>2011.0</td>\n",
       "      <td>Sports</td>\n",
       "      <td>Nike Men AS T90 Black Tshirts</td>\n",
       "      <td>10006.jpg</td>\n",
       "      <td>9</td>\n",
       "    </tr>\n",
       "  </tbody>\n",
       "</table>\n",
       "</div>"
      ],
      "text/plain": [
       "                  file                           file       file   file  \\\n",
       "                source                         parent       name   size   \n",
       "0  gs://datachain-demo  fashion-product-images/images  10003.jpg  11564   \n",
       "1  gs://datachain-demo  fashion-product-images/images  10005.jpg  16677   \n",
       "2  gs://datachain-demo  fashion-product-images/images  10006.jpg   2146   \n",
       "\n",
       "               file              file      file  \\\n",
       "            version              etag is_latest   \n",
       "0  1719489683599343  CO/fpJ7e+4YDEAE=         1   \n",
       "1  1719489744441124  CKSeprve+4YDEAE=         1   \n",
       "2  1719489713329967  CK+uu6ze+4YDEAE=         1   \n",
       "\n",
       "                              file     file  file gender mastercategory  \\\n",
       "                     last_modified location vtype                         \n",
       "0 2024-06-27 12:01:23.651000+00:00     None        Women        Apparel   \n",
       "1 2024-06-27 12:02:24.500000+00:00     None          Men        Apparel   \n",
       "2 2024-06-27 12:01:53.379000+00:00     None          Men        Apparel   \n",
       "\n",
       "  subcategory articletype basecolour season    year   usage  \\\n",
       "                                                              \n",
       "0     Topwear     Tshirts      White   Fall  2011.0  Sports   \n",
       "1     Topwear     Tshirts       Blue   Fall  2011.0  Sports   \n",
       "2     Topwear     Tshirts      Black   Fall  2011.0  Sports   \n",
       "\n",
       "                       productdisplayname   filename prod_name_length_2  \n",
       "                                                                         \n",
       "0  Nike Women As Nike Eleme White T-Shirt  10003.jpg                  9  \n",
       "1    Nike Men As Ss Trainin Blue T-Shirts  10005.jpg                  9  \n",
       "2           Nike Men AS T90 Black Tshirts  10006.jpg                  9  "
      ]
     },
     "metadata": {},
     "output_type": "display_data"
    },
    {
     "name": "stdout",
     "output_type": "stream",
     "text": [
      "\n",
      "[Limited by 3 rows]\n"
     ]
    }
   ],
   "source": [
    "# Load the latest version\n",
    "\n",
    "DataChain(name=\"fashion-tmp\").show(3)"
   ]
  },
  {
   "cell_type": "markdown",
   "id": "c3969f7b-4d4e-47ce-8d5e-500f22848dcf",
   "metadata": {
    "papermill": {
     "duration": 0.005865,
     "end_time": "2024-07-26T13:02:38.077684",
     "exception": false,
     "start_time": "2024-07-26T13:02:38.071819",
     "status": "completed"
    },
    "tags": []
   },
   "source": [
    "### Load a specific version of the dataset"
   ]
  },
  {
   "cell_type": "code",
   "execution_count": 8,
   "id": "0a183369-8ba4-425d-a2a2-f546bd1e27f8",
   "metadata": {
    "execution": {
     "iopub.execute_input": "2024-07-26T13:02:38.089731Z",
     "iopub.status.busy": "2024-07-26T13:02:38.089637Z",
     "iopub.status.idle": "2024-07-26T13:02:38.096900Z",
     "shell.execute_reply": "2024-07-26T13:02:38.096704Z"
    },
    "papermill": {
     "duration": 0.014242,
     "end_time": "2024-07-26T13:02:38.097656",
     "exception": false,
     "start_time": "2024-07-26T13:02:38.083414",
     "status": "completed"
    },
    "scrolled": true,
    "tags": []
   },
   "outputs": [],
   "source": [
    "# Load a specific version of the dataset\n",
    "\n",
    "# DataChain(name=\"fashion-tmp\", version=1).show(3)"
   ]
  },
  {
   "cell_type": "markdown",
   "id": "156fe72c-aabb-4e3c-99c7-f74c0a4382fb",
   "metadata": {
    "papermill": {
     "duration": 0.006076,
     "end_time": "2024-07-26T13:02:38.109744",
     "exception": false,
     "start_time": "2024-07-26T13:02:38.103668",
     "status": "completed"
    },
    "tags": []
   },
   "source": [
    "### Delete the first dataset version "
   ]
  },
  {
   "cell_type": "code",
   "execution_count": 9,
   "id": "57284102-1160-4d43-8f57-8ef9d37520e4",
   "metadata": {
    "execution": {
     "iopub.execute_input": "2024-07-26T13:02:38.122506Z",
     "iopub.status.busy": "2024-07-26T13:02:38.122398Z",
     "iopub.status.idle": "2024-07-26T13:02:38.130149Z",
     "shell.execute_reply": "2024-07-26T13:02:38.129889Z"
    },
    "papermill": {
     "duration": 0.015141,
     "end_time": "2024-07-26T13:02:38.130991",
     "exception": false,
     "start_time": "2024-07-26T13:02:38.115850",
     "status": "completed"
    },
    "tags": []
   },
   "outputs": [],
   "source": [
    "# DataChain.delete(\"fashion-tmp\", version=1)"
   ]
  },
  {
   "cell_type": "code",
   "execution_count": 10,
   "id": "0ff9ae0d-d3b5-4baa-b360-a65b1be804eb",
   "metadata": {
    "execution": {
     "iopub.execute_input": "2024-07-26T13:02:38.143964Z",
     "iopub.status.busy": "2024-07-26T13:02:38.143844Z",
     "iopub.status.idle": "2024-07-26T13:02:38.153260Z",
     "shell.execute_reply": "2024-07-26T13:02:38.153025Z"
    },
    "papermill": {
     "duration": 0.016728,
     "end_time": "2024-07-26T13:02:38.154061",
     "exception": false,
     "start_time": "2024-07-26T13:02:38.137333",
     "status": "completed"
    },
    "scrolled": true,
    "tags": []
   },
   "outputs": [],
   "source": [
    "# Expected error: Dataset fashion-tmp does not have that many versions\n",
    "\n",
    "# DataChain(name=\"fashion-tmp\", version=200000000000000).show(3)"
   ]
  },
  {
   "cell_type": "markdown",
   "id": "3892c8ad-61ed-4ad6-8672-6a5d3fddf342",
   "metadata": {
    "papermill": {
     "duration": 0.006068,
     "end_time": "2024-07-26T13:02:38.166236",
     "exception": false,
     "start_time": "2024-07-26T13:02:38.160168",
     "status": "completed"
    },
    "tags": []
   },
   "source": [
    "# 🧩 Split train/test/val"
   ]
  },
  {
   "cell_type": "markdown",
   "id": "721f7eb5-9407-43a9-9760-81c112b4c097",
   "metadata": {
    "papermill": {
     "duration": 0.006157,
     "end_time": "2024-07-26T13:02:38.178331",
     "exception": false,
     "start_time": "2024-07-26T13:02:38.172174",
     "status": "completed"
    },
    "tags": []
   },
   "source": [
    "In this example, we define a `train_test_split` function to randomly split the dataset into the train, test, and validation sets. \n",
    "\n",
    "The workflow:\n",
    "- Create a function that generates a random label (`\"train\"`, `\"test\"`, or `\"val\"`)\n",
    "- Use the `map()` method to apply the function to each row\n",
    "- Use the `filter()` and `save()` methods to save split datasets"
   ]
  },
  {
   "cell_type": "markdown",
   "id": "61b18166-ede5-4fa8-9ef2-812d90b06dd6",
   "metadata": {
    "papermill": {
     "duration": 0.005916,
     "end_time": "2024-07-26T13:02:38.190140",
     "exception": false,
     "start_time": "2024-07-26T13:02:38.184224",
     "status": "completed"
    },
    "tags": []
   },
   "source": [
    "## Define `train_test_split` function\n",
    "\n",
    "- The function randomly chooses one of the labels (`\"train\"`, `\"test\"`, or `\"val\"`) using `random.choices` with the specified weights (`0.7`, `0.2`, and `0.1`, respectively)."
   ]
  },
  {
   "cell_type": "code",
   "execution_count": 11,
   "id": "7c8bbbe0-af83-4193-a971-172218f331d0",
   "metadata": {
    "execution": {
     "iopub.execute_input": "2024-07-26T13:02:38.202703Z",
     "iopub.status.busy": "2024-07-26T13:02:38.202579Z",
     "iopub.status.idle": "2024-07-26T13:02:38.211201Z",
     "shell.execute_reply": "2024-07-26T13:02:38.210945Z"
    },
    "papermill": {
     "duration": 0.015815,
     "end_time": "2024-07-26T13:02:38.211964",
     "exception": false,
     "start_time": "2024-07-26T13:02:38.196149",
     "status": "completed"
    },
    "tags": []
   },
   "outputs": [],
   "source": [
    "def train_test_split(name) -> str:\n",
    "    import random\n",
    "    labels = [\"train\", \"test\", \"val\"]\n",
    "    return random.choices(labels, weights = [0.7, 0.2, 0.1])[0]"
   ]
  },
  {
   "cell_type": "markdown",
   "id": "d20648cb-a626-4ba7-9db7-759e69352e82",
   "metadata": {
    "papermill": {
     "duration": 0.005902,
     "end_time": "2024-07-26T13:02:38.223752",
     "exception": false,
     "start_time": "2024-07-26T13:02:38.217850",
     "status": "completed"
    },
    "tags": []
   },
   "source": [
    "## Add a signal (`split`)\n",
    "\n",
    "- This code loads the `fashion-product-images` dataset.\n",
    "- It then applies the batched UDF `train_test_split_batch` to the dataset, adding a new column `\"split\"` with the randomly assigned labels.\n",
    "- Finally, it converts the dataset to a Pandas DataFrame and displays the first few rows using `head()`."
   ]
  },
  {
   "cell_type": "code",
   "execution_count": 12,
   "id": "127bd21b-5a79-4633-b70b-57bfe99eda31",
   "metadata": {
    "execution": {
     "iopub.execute_input": "2024-07-26T13:02:38.236022Z",
     "iopub.status.busy": "2024-07-26T13:02:38.235918Z",
     "iopub.status.idle": "2024-07-26T13:02:38.641011Z",
     "shell.execute_reply": "2024-07-26T13:02:38.640730Z"
    },
    "papermill": {
     "duration": 0.41275,
     "end_time": "2024-07-26T13:02:38.642460",
     "exception": false,
     "start_time": "2024-07-26T13:02:38.229710",
     "status": "completed"
    },
    "scrolled": true,
    "tags": []
   },
   "outputs": [
    {
     "name": "stderr",
     "output_type": "stream",
     "text": [
      "\r",
      "Processed: 0 rows [00:00, ? rows/s]"
     ]
    },
    {
     "name": "stderr",
     "output_type": "stream",
     "text": [
      "\r",
      "Processed: 10001 rows [00:00, 63347.94 rows/s]"
     ]
    },
    {
     "name": "stderr",
     "output_type": "stream",
     "text": [
      "\r",
      "Processed: 15401 rows [00:00, 52480.21 rows/s]"
     ]
    },
    {
     "name": "stderr",
     "output_type": "stream",
     "text": [
      "\n"
     ]
    },
    {
     "data": {
      "text/html": [
       "<div>\n",
       "<style scoped>\n",
       "    .dataframe tbody tr th:only-of-type {\n",
       "        vertical-align: middle;\n",
       "    }\n",
       "\n",
       "    .dataframe tbody tr th {\n",
       "        vertical-align: top;\n",
       "    }\n",
       "\n",
       "    .dataframe thead tr th {\n",
       "        text-align: left;\n",
       "    }\n",
       "</style>\n",
       "<table border=\"1\" class=\"dataframe\">\n",
       "  <thead>\n",
       "    <tr>\n",
       "      <th></th>\n",
       "      <th>file</th>\n",
       "      <th>file</th>\n",
       "      <th>file</th>\n",
       "      <th>file</th>\n",
       "      <th>file</th>\n",
       "      <th>file</th>\n",
       "      <th>file</th>\n",
       "      <th>file</th>\n",
       "      <th>file</th>\n",
       "      <th>file</th>\n",
       "      <th>gender</th>\n",
       "      <th>mastercategory</th>\n",
       "      <th>subcategory</th>\n",
       "      <th>articletype</th>\n",
       "      <th>basecolour</th>\n",
       "      <th>season</th>\n",
       "      <th>year</th>\n",
       "      <th>usage</th>\n",
       "      <th>productdisplayname</th>\n",
       "      <th>filename</th>\n",
       "      <th>split</th>\n",
       "    </tr>\n",
       "    <tr>\n",
       "      <th></th>\n",
       "      <th>source</th>\n",
       "      <th>parent</th>\n",
       "      <th>name</th>\n",
       "      <th>size</th>\n",
       "      <th>version</th>\n",
       "      <th>etag</th>\n",
       "      <th>is_latest</th>\n",
       "      <th>last_modified</th>\n",
       "      <th>location</th>\n",
       "      <th>vtype</th>\n",
       "      <th></th>\n",
       "      <th></th>\n",
       "      <th></th>\n",
       "      <th></th>\n",
       "      <th></th>\n",
       "      <th></th>\n",
       "      <th></th>\n",
       "      <th></th>\n",
       "      <th></th>\n",
       "      <th></th>\n",
       "      <th></th>\n",
       "    </tr>\n",
       "  </thead>\n",
       "  <tbody>\n",
       "    <tr>\n",
       "      <th>0</th>\n",
       "      <td>gs://datachain-demo</td>\n",
       "      <td>fashion-product-images/images</td>\n",
       "      <td>10003.jpg</td>\n",
       "      <td>11564</td>\n",
       "      <td>1719489683599343</td>\n",
       "      <td>CO/fpJ7e+4YDEAE=</td>\n",
       "      <td>1</td>\n",
       "      <td>2024-06-27 12:01:23.651000+00:00</td>\n",
       "      <td>None</td>\n",
       "      <td></td>\n",
       "      <td>Women</td>\n",
       "      <td>Apparel</td>\n",
       "      <td>Topwear</td>\n",
       "      <td>Tshirts</td>\n",
       "      <td>White</td>\n",
       "      <td>Fall</td>\n",
       "      <td>2011.0</td>\n",
       "      <td>Sports</td>\n",
       "      <td>Nike Women As Nike Eleme White T-Shirt</td>\n",
       "      <td>10003.jpg</td>\n",
       "      <td>train</td>\n",
       "    </tr>\n",
       "    <tr>\n",
       "      <th>1</th>\n",
       "      <td>gs://datachain-demo</td>\n",
       "      <td>fashion-product-images/images</td>\n",
       "      <td>10005.jpg</td>\n",
       "      <td>16677</td>\n",
       "      <td>1719489744441124</td>\n",
       "      <td>CKSeprve+4YDEAE=</td>\n",
       "      <td>1</td>\n",
       "      <td>2024-06-27 12:02:24.500000+00:00</td>\n",
       "      <td>None</td>\n",
       "      <td></td>\n",
       "      <td>Men</td>\n",
       "      <td>Apparel</td>\n",
       "      <td>Topwear</td>\n",
       "      <td>Tshirts</td>\n",
       "      <td>Blue</td>\n",
       "      <td>Fall</td>\n",
       "      <td>2011.0</td>\n",
       "      <td>Sports</td>\n",
       "      <td>Nike Men As Ss Trainin Blue T-Shirts</td>\n",
       "      <td>10005.jpg</td>\n",
       "      <td>train</td>\n",
       "    </tr>\n",
       "    <tr>\n",
       "      <th>2</th>\n",
       "      <td>gs://datachain-demo</td>\n",
       "      <td>fashion-product-images/images</td>\n",
       "      <td>10006.jpg</td>\n",
       "      <td>2146</td>\n",
       "      <td>1719489713329967</td>\n",
       "      <td>CK+uu6ze+4YDEAE=</td>\n",
       "      <td>1</td>\n",
       "      <td>2024-06-27 12:01:53.379000+00:00</td>\n",
       "      <td>None</td>\n",
       "      <td></td>\n",
       "      <td>Men</td>\n",
       "      <td>Apparel</td>\n",
       "      <td>Topwear</td>\n",
       "      <td>Tshirts</td>\n",
       "      <td>Black</td>\n",
       "      <td>Fall</td>\n",
       "      <td>2011.0</td>\n",
       "      <td>Sports</td>\n",
       "      <td>Nike Men AS T90 Black Tshirts</td>\n",
       "      <td>10006.jpg</td>\n",
       "      <td>train</td>\n",
       "    </tr>\n",
       "  </tbody>\n",
       "</table>\n",
       "</div>"
      ],
      "text/plain": [
       "                  file                           file       file   file  \\\n",
       "                source                         parent       name   size   \n",
       "0  gs://datachain-demo  fashion-product-images/images  10003.jpg  11564   \n",
       "1  gs://datachain-demo  fashion-product-images/images  10005.jpg  16677   \n",
       "2  gs://datachain-demo  fashion-product-images/images  10006.jpg   2146   \n",
       "\n",
       "               file              file      file  \\\n",
       "            version              etag is_latest   \n",
       "0  1719489683599343  CO/fpJ7e+4YDEAE=         1   \n",
       "1  1719489744441124  CKSeprve+4YDEAE=         1   \n",
       "2  1719489713329967  CK+uu6ze+4YDEAE=         1   \n",
       "\n",
       "                              file     file  file gender mastercategory  \\\n",
       "                     last_modified location vtype                         \n",
       "0 2024-06-27 12:01:23.651000+00:00     None        Women        Apparel   \n",
       "1 2024-06-27 12:02:24.500000+00:00     None          Men        Apparel   \n",
       "2 2024-06-27 12:01:53.379000+00:00     None          Men        Apparel   \n",
       "\n",
       "  subcategory articletype basecolour season    year   usage  \\\n",
       "                                                              \n",
       "0     Topwear     Tshirts      White   Fall  2011.0  Sports   \n",
       "1     Topwear     Tshirts       Blue   Fall  2011.0  Sports   \n",
       "2     Topwear     Tshirts      Black   Fall  2011.0  Sports   \n",
       "\n",
       "                       productdisplayname   filename  split  \n",
       "                                                             \n",
       "0  Nike Women As Nike Eleme White T-Shirt  10003.jpg  train  \n",
       "1    Nike Men As Ss Trainin Blue T-Shirts  10005.jpg  train  \n",
       "2           Nike Men AS T90 Black Tshirts  10006.jpg  train  "
      ]
     },
     "metadata": {},
     "output_type": "display_data"
    },
    {
     "name": "stdout",
     "output_type": "stream",
     "text": [
      "\n",
      "[Limited by 3 rows]\n"
     ]
    }
   ],
   "source": [
    "# Add signal\n",
    "\n",
    "dc = (\n",
    "    DataChain.from_dataset(\"fashion-product-images\")\n",
    "    .filter((C(\"masterCategory\") == \"Apparel\") & (C(\"subCategory\") == \"Topwear\"))\n",
    "    .map(split=train_test_split, params=[\"file.name\"], output=str)\n",
    "    .save()\n",
    ")\n",
    "\n",
    "dc.show(3)"
   ]
  },
  {
   "cell_type": "markdown",
   "id": "2e134303-5e77-4a78-8015-cf72abd105c7",
   "metadata": {
    "papermill": {
     "duration": 0.006219,
     "end_time": "2024-07-26T13:02:38.655280",
     "exception": false,
     "start_time": "2024-07-26T13:02:38.649061",
     "status": "completed"
    },
    "tags": []
   },
   "source": [
    "By running this code, you'll get a Pandas DataFrame with a new column `split` containing the labels `\"train\", \"test\", or \"val\"` randomly assigned to each row based on the specified weights."
   ]
  },
  {
   "cell_type": "code",
   "execution_count": 13,
   "id": "57767332-9aaf-4f45-846f-2eeab1ed1c9d",
   "metadata": {
    "execution": {
     "iopub.execute_input": "2024-07-26T13:02:38.668819Z",
     "iopub.status.busy": "2024-07-26T13:02:38.668703Z",
     "iopub.status.idle": "2024-07-26T13:02:38.807741Z",
     "shell.execute_reply": "2024-07-26T13:02:38.807329Z"
    },
    "papermill": {
     "duration": 0.147081,
     "end_time": "2024-07-26T13:02:38.808674",
     "exception": false,
     "start_time": "2024-07-26T13:02:38.661593",
     "status": "completed"
    },
    "scrolled": true,
    "tags": []
   },
   "outputs": [
    {
     "data": {
      "text/plain": [
       "split\n",
       "train    10799\n",
       "test      3079\n",
       "val       1523\n",
       "Name: count, dtype: int64"
      ]
     },
     "execution_count": 13,
     "metadata": {},
     "output_type": "execute_result"
    }
   ],
   "source": [
    "dc.to_pandas()[\"split\"].value_counts(normalize=False)"
   ]
  },
  {
   "cell_type": "markdown",
   "id": "a8604cca-f201-4f53-a6be-3fb34e82962d",
   "metadata": {
    "execution": {
     "iopub.execute_input": "2024-06-04T14:27:23.611752Z",
     "iopub.status.busy": "2024-06-04T14:27:23.611260Z",
     "iopub.status.idle": "2024-06-04T14:27:23.647486Z",
     "shell.execute_reply": "2024-06-04T14:27:23.646779Z",
     "shell.execute_reply.started": "2024-06-04T14:27:23.611723Z"
    },
    "papermill": {
     "duration": 0.006548,
     "end_time": "2024-07-26T13:02:38.821984",
     "exception": false,
     "start_time": "2024-07-26T13:02:38.815436",
     "status": "completed"
    },
    "tags": []
   },
   "source": [
    "## Save `train`, `test` and `val` datasets"
   ]
  },
  {
   "cell_type": "code",
   "execution_count": 14,
   "id": "c4e7f5b2-f89a-4c1c-8207-8a1a825b36dd",
   "metadata": {
    "execution": {
     "iopub.execute_input": "2024-07-26T13:02:38.835846Z",
     "iopub.status.busy": "2024-07-26T13:02:38.835734Z",
     "iopub.status.idle": "2024-07-26T13:02:38.940817Z",
     "shell.execute_reply": "2024-07-26T13:02:38.940559Z"
    },
    "papermill": {
     "duration": 0.11326,
     "end_time": "2024-07-26T13:02:38.941801",
     "exception": false,
     "start_time": "2024-07-26T13:02:38.828541",
     "status": "completed"
    },
    "tags": []
   },
   "outputs": [],
   "source": [
    "dc_train = dc.filter(C(\"split\") == \"train\").save(\"fashion-train\")\n",
    "dc_test = dc.filter(C(\"split\") == \"test\").save(\"fashion-test\")\n",
    "dc_val = dc.filter(C(\"split\") == \"val\").save(\"fashion-val\")\n"
   ]
  },
  {
   "cell_type": "markdown",
   "id": "4d24233e-356e-4103-94a9-32bf98cfd512",
   "metadata": {
    "papermill": {
     "duration": 0.006164,
     "end_time": "2024-07-26T13:02:38.954378",
     "exception": false,
     "start_time": "2024-07-26T13:02:38.948214",
     "status": "completed"
    },
    "tags": []
   },
   "source": [
    "After running this code, you'll have three separate datasets:\n",
    "\n",
    "1. `fashion-train`: Contains the rows from the original dataset where `split` is `'train'`.\n",
    "2. `fashion-test`: Contains the rows from the original dataset where `split` is `'test'`.\n",
    "3. `fashion-val`: Contains the rows from the original dataset where `split` is `'val'`.\n",
    "\n",
    "You can now use these datasets for training, testing, and validating your machine learning models, respectively."
   ]
  },
  {
   "cell_type": "markdown",
   "id": "12b1d75c-ce36-4fbe-8698-c0093ba202d0",
   "metadata": {
    "papermill": {
     "duration": 0.006154,
     "end_time": "2024-07-26T13:02:38.966919",
     "exception": false,
     "start_time": "2024-07-26T13:02:38.960765",
     "status": "completed"
    },
    "tags": []
   },
   "source": [
    "# 🎨 Generating & Managing Embeddings"
   ]
  },
  {
   "cell_type": "markdown",
   "id": "6f7624ff-ec19-4876-97fa-7bed89c47932",
   "metadata": {
    "papermill": {
     "duration": 0.006602,
     "end_time": "2024-07-26T13:02:38.979602",
     "exception": false,
     "start_time": "2024-07-26T13:02:38.973000",
     "status": "completed"
    },
    "tags": []
   },
   "source": [
    "This section demonstrates how to compute and save image embeddings with the pre-trained `ResNet50` model in PyTorch. \n",
    "\n",
    "DataChain helps to compute and manage embeddings, it prepares the data for downstream machine learning models or comparative analysis, integrating complex data transformations seamlessly into the overall data management workflow."
   ]
  },
  {
   "cell_type": "code",
   "execution_count": 15,
   "id": "f7458a40-02e0-442f-b810-5e99cef24649",
   "metadata": {
    "execution": {
     "iopub.execute_input": "2024-07-26T13:02:38.993150Z",
     "iopub.status.busy": "2024-07-26T13:02:38.993037Z",
     "iopub.status.idle": "2024-07-26T13:02:39.973245Z",
     "shell.execute_reply": "2024-07-26T13:02:39.972881Z"
    },
    "papermill": {
     "duration": 0.988272,
     "end_time": "2024-07-26T13:02:39.974304",
     "exception": false,
     "start_time": "2024-07-26T13:02:38.986032",
     "status": "completed"
    },
    "scrolled": true,
    "tags": []
   },
   "outputs": [],
   "source": [
    "import torch\n",
    "from torchvision import transforms\n",
    "from torchvision.models import resnet50\n",
    "from tqdm import tqdm\n",
    "from typing import List\n",
    "\n",
    "from datachain.lib.image import convert_image"
   ]
  },
  {
   "cell_type": "markdown",
   "id": "10afb63c-7c72-4e83-b374-fa00b8c305b0",
   "metadata": {
    "papermill": {
     "duration": 0.006308,
     "end_time": "2024-07-26T13:02:39.987413",
     "exception": false,
     "start_time": "2024-07-26T13:02:39.981105",
     "status": "completed"
    },
    "tags": []
   },
   "source": [
    "## Define `embeddings_processor` function"
   ]
  },
  {
   "cell_type": "markdown",
   "id": "013a6fd7-6dc8-48d4-9f1d-5ce2c7fecdcd",
   "metadata": {
    "execution": {
     "iopub.execute_input": "2024-06-26T13:21:57.275195Z",
     "iopub.status.busy": "2024-06-26T13:21:57.274282Z",
     "iopub.status.idle": "2024-06-26T13:21:57.312958Z",
     "shell.execute_reply": "2024-06-26T13:21:57.312305Z",
     "shell.execute_reply.started": "2024-06-26T13:21:57.275164Z"
    },
    "papermill": {
     "duration": 0.006214,
     "end_time": "2024-07-26T13:02:39.999813",
     "exception": false,
     "start_time": "2024-07-26T13:02:39.993599",
     "status": "completed"
    },
    "tags": []
   },
   "source": [
    "The embeddings processor function works as following: \n",
    "\n",
    "- Reads the raw image data and applies the transformation \n",
    "- Passes the image through the model to get embeddings\n",
    "- Returns the embeddings as a list of floats"
   ]
  },
  {
   "cell_type": "code",
   "execution_count": 16,
   "id": "51f80a09-7dcc-456f-843e-e2157ab73ab0",
   "metadata": {
    "execution": {
     "iopub.execute_input": "2024-07-26T13:02:40.013093Z",
     "iopub.status.busy": "2024-07-26T13:02:40.012911Z",
     "iopub.status.idle": "2024-07-26T13:02:40.338850Z",
     "shell.execute_reply": "2024-07-26T13:02:40.338545Z"
    },
    "papermill": {
     "duration": 0.334065,
     "end_time": "2024-07-26T13:02:40.339926",
     "exception": false,
     "start_time": "2024-07-26T13:02:40.005861",
     "status": "completed"
    },
    "tags": []
   },
   "outputs": [
    {
     "name": "stderr",
     "output_type": "stream",
     "text": [
      "/Users/mikhailrozhkov/dev/datachain/datachain/examples/computer_vision/fashion_product_images/.venv/lib/python3.11/site-packages/torchvision/models/_utils.py:208: UserWarning: The parameter 'pretrained' is deprecated since 0.13 and may be removed in the future, please use 'weights' instead.\n",
      "  warnings.warn(\n",
      "/Users/mikhailrozhkov/dev/datachain/datachain/examples/computer_vision/fashion_product_images/.venv/lib/python3.11/site-packages/torchvision/models/_utils.py:223: UserWarning: Arguments other than a weight enum or `None` for 'weights' are deprecated since 0.13 and may be removed in the future. The current behavior is equivalent to passing `weights=ResNet50_Weights.IMAGENET1K_V1`. You can also use `weights=ResNet50_Weights.DEFAULT` to get the most up-to-date weights.\n",
      "  warnings.warn(msg)\n"
     ]
    }
   ],
   "source": [
    "# Helpers\n",
    "transformer = transforms.Compose([\n",
    "    transforms.Resize((224, 224)),\n",
    "    transforms.ToTensor(),\n",
    "    transforms.Normalize(mean=[0.485, 0.456, 0.406], std=[0.229, 0.224, 0.225])\n",
    "    ])\n",
    "model = resnet50(pretrained=True).eval()\n",
    "\n",
    "# Embeddings processor function\n",
    "def embeddings_processor(file) -> list[float]:\n",
    "\n",
    "    img_raw = file.read()\n",
    "    img = convert_image(img_raw, transform=transformer).unsqueeze(0)\n",
    "    with torch.no_grad():\n",
    "        emb = model(img)\n",
    "\n",
    "    return emb[0].tolist()\n"
   ]
  },
  {
   "cell_type": "markdown",
   "id": "0d7945ed-6d3c-4e91-99c5-ff8a5b5828b5",
   "metadata": {
    "papermill": {
     "duration": 0.006867,
     "end_time": "2024-07-26T13:02:40.353846",
     "exception": false,
     "start_time": "2024-07-26T13:02:40.346979",
     "status": "completed"
    },
    "tags": []
   },
   "source": [
    "## Compute and Save Embeddings"
   ]
  },
  {
   "cell_type": "markdown",
   "id": "085f4856-4cb6-493f-b54e-d1f2bbe292d1",
   "metadata": {
    "papermill": {
     "duration": 0.006438,
     "end_time": "2024-07-26T13:02:40.366950",
     "exception": false,
     "start_time": "2024-07-26T13:02:40.360512",
     "status": "completed"
    },
    "tags": []
   },
   "source": [
    "Run calculation on `fashion-test` dataset and save a new `fashion-embeddings` dataset \n",
    "\n",
    "- Load the `fashion-test` dataset.\n",
    "- Use `.map` method to apply the `embeddings_processor` function to calculate embeddings for each image.\n",
    "- Save the resulting dataset with embeddings as `fashion-embeddings`"
   ]
  },
  {
   "cell_type": "code",
   "execution_count": 17,
   "id": "52ad8daf-d9e2-4eca-8582-050736cd7359",
   "metadata": {
    "execution": {
     "iopub.execute_input": "2024-07-26T13:02:40.380703Z",
     "iopub.status.busy": "2024-07-26T13:02:40.380584Z",
     "iopub.status.idle": "2024-07-26T13:02:55.729871Z",
     "shell.execute_reply": "2024-07-26T13:02:55.729429Z"
    },
    "papermill": {
     "duration": 15.357459,
     "end_time": "2024-07-26T13:02:55.730872",
     "exception": false,
     "start_time": "2024-07-26T13:02:40.373413",
     "status": "completed"
    },
    "scrolled": true,
    "tags": []
   },
   "outputs": [
    {
     "name": "stderr",
     "output_type": "stream",
     "text": [
      "/Users/mikhailrozhkov/dev/datachain/datachain/examples/computer_vision/fashion_product_images/.venv/lib/python3.11/site-packages/torch/storage.py:414: FutureWarning: You are using `torch.load` with `weights_only=False` (the current default value), which uses the default pickle module implicitly. It is possible to construct malicious pickle data which will execute arbitrary code during unpickling (See https://github.com/pytorch/pytorch/blob/main/SECURITY.md#untrusted-models for more details). In a future release, the default value for `weights_only` will be flipped to `True`. This limits the functions that could be executed during unpickling. Arbitrary objects will no longer be allowed to be loaded via this mode unless they are explicitly allowlisted by the user via `torch.serialization.add_safe_globals`. We recommend you start setting `weights_only=True` for any use case where you don't have full control of the loaded file. Please open an issue on GitHub for any issues related to this experimental feature.\n",
      "  return torch.load(io.BytesIO(b))\n"
     ]
    },
    {
     "name": "stderr",
     "output_type": "stream",
     "text": [
      "/Users/mikhailrozhkov/dev/datachain/datachain/examples/computer_vision/fashion_product_images/.venv/lib/python3.11/site-packages/torch/storage.py:414: FutureWarning: You are using `torch.load` with `weights_only=False` (the current default value), which uses the default pickle module implicitly. It is possible to construct malicious pickle data which will execute arbitrary code during unpickling (See https://github.com/pytorch/pytorch/blob/main/SECURITY.md#untrusted-models for more details). In a future release, the default value for `weights_only` will be flipped to `True`. This limits the functions that could be executed during unpickling. Arbitrary objects will no longer be allowed to be loaded via this mode unless they are explicitly allowlisted by the user via `torch.serialization.add_safe_globals`. We recommend you start setting `weights_only=True` for any use case where you don't have full control of the loaded file. Please open an issue on GitHub for any issues related to this experimental feature.\n",
      "  return torch.load(io.BytesIO(b))\n"
     ]
    },
    {
     "name": "stderr",
     "output_type": "stream",
     "text": [
      "/Users/mikhailrozhkov/dev/datachain/datachain/examples/computer_vision/fashion_product_images/.venv/lib/python3.11/site-packages/torch/storage.py:414: FutureWarning: You are using `torch.load` with `weights_only=False` (the current default value), which uses the default pickle module implicitly. It is possible to construct malicious pickle data which will execute arbitrary code during unpickling (See https://github.com/pytorch/pytorch/blob/main/SECURITY.md#untrusted-models for more details). In a future release, the default value for `weights_only` will be flipped to `True`. This limits the functions that could be executed during unpickling. Arbitrary objects will no longer be allowed to be loaded via this mode unless they are explicitly allowlisted by the user via `torch.serialization.add_safe_globals`. We recommend you start setting `weights_only=True` for any use case where you don't have full control of the loaded file. Please open an issue on GitHub for any issues related to this experimental feature.\n",
      "  return torch.load(io.BytesIO(b))\n"
     ]
    },
    {
     "name": "stderr",
     "output_type": "stream",
     "text": [
      "/Users/mikhailrozhkov/dev/datachain/datachain/examples/computer_vision/fashion_product_images/.venv/lib/python3.11/site-packages/torch/storage.py:414: FutureWarning: You are using `torch.load` with `weights_only=False` (the current default value), which uses the default pickle module implicitly. It is possible to construct malicious pickle data which will execute arbitrary code during unpickling (See https://github.com/pytorch/pytorch/blob/main/SECURITY.md#untrusted-models for more details). In a future release, the default value for `weights_only` will be flipped to `True`. This limits the functions that could be executed during unpickling. Arbitrary objects will no longer be allowed to be loaded via this mode unless they are explicitly allowlisted by the user via `torch.serialization.add_safe_globals`. We recommend you start setting `weights_only=True` for any use case where you don't have full control of the loaded file. Please open an issue on GitHub for any issues related to this experimental feature.\n",
      "  return torch.load(io.BytesIO(b))\n"
     ]
    },
    {
     "name": "stderr",
     "output_type": "stream",
     "text": [
      "/Users/mikhailrozhkov/dev/datachain/datachain/examples/computer_vision/fashion_product_images/.venv/lib/python3.11/site-packages/torch/storage.py:414: FutureWarning: You are using `torch.load` with `weights_only=False` (the current default value), which uses the default pickle module implicitly. It is possible to construct malicious pickle data which will execute arbitrary code during unpickling (See https://github.com/pytorch/pytorch/blob/main/SECURITY.md#untrusted-models for more details). In a future release, the default value for `weights_only` will be flipped to `True`. This limits the functions that could be executed during unpickling. Arbitrary objects will no longer be allowed to be loaded via this mode unless they are explicitly allowlisted by the user via `torch.serialization.add_safe_globals`. We recommend you start setting `weights_only=True` for any use case where you don't have full control of the loaded file. Please open an issue on GitHub for any issues related to this experimental feature.\n",
      "  return torch.load(io.BytesIO(b))\n"
     ]
    },
    {
     "name": "stderr",
     "output_type": "stream",
     "text": [
      "/Users/mikhailrozhkov/dev/datachain/datachain/examples/computer_vision/fashion_product_images/.venv/lib/python3.11/site-packages/torch/storage.py:414: FutureWarning: You are using `torch.load` with `weights_only=False` (the current default value), which uses the default pickle module implicitly. It is possible to construct malicious pickle data which will execute arbitrary code during unpickling (See https://github.com/pytorch/pytorch/blob/main/SECURITY.md#untrusted-models for more details). In a future release, the default value for `weights_only` will be flipped to `True`. This limits the functions that could be executed during unpickling. Arbitrary objects will no longer be allowed to be loaded via this mode unless they are explicitly allowlisted by the user via `torch.serialization.add_safe_globals`. We recommend you start setting `weights_only=True` for any use case where you don't have full control of the loaded file. Please open an issue on GitHub for any issues related to this experimental feature.\n",
      "  return torch.load(io.BytesIO(b))\n"
     ]
    },
    {
     "name": "stderr",
     "output_type": "stream",
     "text": [
      "/Users/mikhailrozhkov/dev/datachain/datachain/examples/computer_vision/fashion_product_images/.venv/lib/python3.11/site-packages/torch/storage.py:414: FutureWarning: You are using `torch.load` with `weights_only=False` (the current default value), which uses the default pickle module implicitly. It is possible to construct malicious pickle data which will execute arbitrary code during unpickling (See https://github.com/pytorch/pytorch/blob/main/SECURITY.md#untrusted-models for more details). In a future release, the default value for `weights_only` will be flipped to `True`. This limits the functions that could be executed during unpickling. Arbitrary objects will no longer be allowed to be loaded via this mode unless they are explicitly allowlisted by the user via `torch.serialization.add_safe_globals`. We recommend you start setting `weights_only=True` for any use case where you don't have full control of the loaded file. Please open an issue on GitHub for any issues related to this experimental feature.\n",
      "  return torch.load(io.BytesIO(b))\n"
     ]
    },
    {
     "name": "stderr",
     "output_type": "stream",
     "text": [
      "/Users/mikhailrozhkov/dev/datachain/datachain/examples/computer_vision/fashion_product_images/.venv/lib/python3.11/site-packages/torch/storage.py:414: FutureWarning: You are using `torch.load` with `weights_only=False` (the current default value), which uses the default pickle module implicitly. It is possible to construct malicious pickle data which will execute arbitrary code during unpickling (See https://github.com/pytorch/pytorch/blob/main/SECURITY.md#untrusted-models for more details). In a future release, the default value for `weights_only` will be flipped to `True`. This limits the functions that could be executed during unpickling. Arbitrary objects will no longer be allowed to be loaded via this mode unless they are explicitly allowlisted by the user via `torch.serialization.add_safe_globals`. We recommend you start setting `weights_only=True` for any use case where you don't have full control of the loaded file. Please open an issue on GitHub for any issues related to this experimental feature.\n",
      "  return torch.load(io.BytesIO(b))\n"
     ]
    },
    {
     "name": "stderr",
     "output_type": "stream",
     "text": [
      "/Users/mikhailrozhkov/dev/datachain/datachain/examples/computer_vision/fashion_product_images/.venv/lib/python3.11/site-packages/torch/storage.py:414: FutureWarning: You are using `torch.load` with `weights_only=False` (the current default value), which uses the default pickle module implicitly. It is possible to construct malicious pickle data which will execute arbitrary code during unpickling (See https://github.com/pytorch/pytorch/blob/main/SECURITY.md#untrusted-models for more details). In a future release, the default value for `weights_only` will be flipped to `True`. This limits the functions that could be executed during unpickling. Arbitrary objects will no longer be allowed to be loaded via this mode unless they are explicitly allowlisted by the user via `torch.serialization.add_safe_globals`. We recommend you start setting `weights_only=True` for any use case where you don't have full control of the loaded file. Please open an issue on GitHub for any issues related to this experimental feature.\n",
      "  return torch.load(io.BytesIO(b))\n"
     ]
    },
    {
     "name": "stderr",
     "output_type": "stream",
     "text": [
      "/Users/mikhailrozhkov/dev/datachain/datachain/examples/computer_vision/fashion_product_images/.venv/lib/python3.11/site-packages/torch/storage.py:414: FutureWarning: You are using `torch.load` with `weights_only=False` (the current default value), which uses the default pickle module implicitly. It is possible to construct malicious pickle data which will execute arbitrary code during unpickling (See https://github.com/pytorch/pytorch/blob/main/SECURITY.md#untrusted-models for more details). In a future release, the default value for `weights_only` will be flipped to `True`. This limits the functions that could be executed during unpickling. Arbitrary objects will no longer be allowed to be loaded via this mode unless they are explicitly allowlisted by the user via `torch.serialization.add_safe_globals`. We recommend you start setting `weights_only=True` for any use case where you don't have full control of the loaded file. Please open an issue on GitHub for any issues related to this experimental feature.\n",
      "  return torch.load(io.BytesIO(b))\n"
     ]
    },
    {
     "name": "stderr",
     "output_type": "stream",
     "text": [
      "/Users/mikhailrozhkov/dev/datachain/datachain/examples/computer_vision/fashion_product_images/.venv/lib/python3.11/site-packages/torch/storage.py:414: FutureWarning: You are using `torch.load` with `weights_only=False` (the current default value), which uses the default pickle module implicitly. It is possible to construct malicious pickle data which will execute arbitrary code during unpickling (See https://github.com/pytorch/pytorch/blob/main/SECURITY.md#untrusted-models for more details). In a future release, the default value for `weights_only` will be flipped to `True`. This limits the functions that could be executed during unpickling. Arbitrary objects will no longer be allowed to be loaded via this mode unless they are explicitly allowlisted by the user via `torch.serialization.add_safe_globals`. We recommend you start setting `weights_only=True` for any use case where you don't have full control of the loaded file. Please open an issue on GitHub for any issues related to this experimental feature.\n",
      "  return torch.load(io.BytesIO(b))\n"
     ]
    },
    {
     "name": "stderr",
     "output_type": "stream",
     "text": [
      "/Users/mikhailrozhkov/dev/datachain/datachain/examples/computer_vision/fashion_product_images/.venv/lib/python3.11/site-packages/torch/storage.py:414: FutureWarning: You are using `torch.load` with `weights_only=False` (the current default value), which uses the default pickle module implicitly. It is possible to construct malicious pickle data which will execute arbitrary code during unpickling (See https://github.com/pytorch/pytorch/blob/main/SECURITY.md#untrusted-models for more details). In a future release, the default value for `weights_only` will be flipped to `True`. This limits the functions that could be executed during unpickling. Arbitrary objects will no longer be allowed to be loaded via this mode unless they are explicitly allowlisted by the user via `torch.serialization.add_safe_globals`. We recommend you start setting `weights_only=True` for any use case where you don't have full control of the loaded file. Please open an issue on GitHub for any issues related to this experimental feature.\n",
      "  return torch.load(io.BytesIO(b))\n"
     ]
    },
    {
     "name": "stderr",
     "output_type": "stream",
     "text": [
      "\r",
      "Download: 0.00B [00:00, ?B/s]/Users/mikhailrozhkov/dev/datachain/datachain/examples/computer_vision/fashion_product_images/.venv/lib/python3.11/site-packages/torch/storage.py:414: FutureWarning: You are using `torch.load` with `weights_only=False` (the current default value), which uses the default pickle module implicitly. It is possible to construct malicious pickle data which will execute arbitrary code during unpickling (See https://github.com/pytorch/pytorch/blob/main/SECURITY.md#untrusted-models for more details). In a future release, the default value for `weights_only` will be flipped to `True`. This limits the functions that could be executed during unpickling. Arbitrary objects will no longer be allowed to be loaded via this mode unless they are explicitly allowlisted by the user via `torch.serialization.add_safe_globals`. We recommend you start setting `weights_only=True` for any use case where you don't have full control of the loaded file. Please open an issue on GitHub for any issues related to this experimental feature.\n",
      "  return torch.load(io.BytesIO(b))\n",
      "\r",
      "Download: 12.0kB [00:00, 97.6kB/s]"
     ]
    },
    {
     "name": "stderr",
     "output_type": "stream",
     "text": [
      "\r",
      "Download: 37.8kB [00:00, 122kB/s] \n",
      "\r",
      "Processed: 0 rows [00:00, ? rows/s]\u001b[A"
     ]
    },
    {
     "name": "stderr",
     "output_type": "stream",
     "text": [
      "\n",
      "\r",
      "Processed: 4 rows [00:00, 36.34 rows/s]\u001b[A"
     ]
    },
    {
     "name": "stderr",
     "output_type": "stream",
     "text": [
      "\n",
      "\r",
      "Processed: 11 rows [00:00, 30.34 rows/s]\u001b[A\r",
      "Download: 51.2kB [00:00, 54.5kB/s]\r",
      "Download: 67.5kB [00:00, 73.3kB/s]\n",
      "\r",
      "Processed: 15 rows [00:00, 27.16 rows/s]\u001b[A"
     ]
    },
    {
     "name": "stderr",
     "output_type": "stream",
     "text": [
      "\n",
      "\r",
      "Processed: 19 rows [00:00, 30.53 rows/s]\u001b[A\r",
      "Download: 115kB [00:01, 135kB/s]  \n",
      "\r",
      "Processed: 23 rows [00:00, 31.18 rows/s]\u001b[A"
     ]
    },
    {
     "name": "stderr",
     "output_type": "stream",
     "text": [
      "\r",
      "Download: 133kB [00:01, 110kB/s]\n",
      "\r",
      "Processed: 27 rows [00:00, 25.24 rows/s]\u001b[A\r",
      "Download: 190kB [00:01, 186kB/s]\n",
      "\r",
      "Processed: 33 rows [00:01, 29.78 rows/s]\u001b[A"
     ]
    },
    {
     "name": "stderr",
     "output_type": "stream",
     "text": [
      "\r",
      "Download: 219kB [00:01, 168kB/s]\n",
      "\r",
      "Processed: 37 rows [00:01, 25.72 rows/s]\u001b[A\r",
      "Download: 255kB [00:01, 191kB/s]\n",
      "\r",
      "Processed: 44 rows [00:01, 33.10 rows/s]\u001b[A"
     ]
    },
    {
     "name": "stderr",
     "output_type": "stream",
     "text": [
      "\n",
      "\r",
      "Processed: 48 rows [00:01, 29.80 rows/s]\u001b[A\r",
      "Download: 278kB [00:02, 144kB/s]\n",
      "\r",
      "Processed: 52 rows [00:01, 27.73 rows/s]\u001b[A"
     ]
    },
    {
     "name": "stderr",
     "output_type": "stream",
     "text": [
      "\n",
      "\r",
      "Processed: 57 rows [00:01, 32.31 rows/s]\u001b[A\r",
      "Download: 296kB [00:02, 103kB/s]\n",
      "\r",
      "Processed: 61 rows [00:02, 27.82 rows/s]\u001b[A"
     ]
    },
    {
     "name": "stderr",
     "output_type": "stream",
     "text": [
      "\r",
      "Download: 329kB [00:02, 134kB/s]\n",
      "\r",
      "Processed: 65 rows [00:02, 28.48 rows/s]\u001b[A\r",
      "Download: 357kB [00:02, 157kB/s]\n",
      "\r",
      "Processed: 71 rows [00:02, 32.06 rows/s]\u001b[A"
     ]
    },
    {
     "name": "stderr",
     "output_type": "stream",
     "text": [
      "\n",
      "\r",
      "Processed: 75 rows [00:02, 28.53 rows/s]\u001b[A\n",
      "\r",
      "Processed: 79 rows [00:02, 30.23 rows/s]\u001b[A"
     ]
    },
    {
     "name": "stderr",
     "output_type": "stream",
     "text": [
      "\n",
      "\r",
      "Processed: 84 rows [00:02, 32.02 rows/s]\u001b[A\r",
      "Download: 379kB [00:03, 91.8kB/s]\n",
      "\r",
      "Processed: 88 rows [00:02, 30.49 rows/s]\u001b[A"
     ]
    },
    {
     "name": "stderr",
     "output_type": "stream",
     "text": [
      "\r",
      "Download: 402kB [00:03, 94.6kB/s]\n",
      "\r",
      "Processed: 92 rows [00:03, 28.62 rows/s]\u001b[A\r",
      "Download: 426kB [00:03, 114kB/s] "
     ]
    },
    {
     "name": "stderr",
     "output_type": "stream",
     "text": [
      "\r",
      "Download: 493kB [00:03, 204kB/s]\n",
      "\r",
      "Processed: 95 rows [00:03, 19.43 rows/s]\u001b[A"
     ]
    },
    {
     "name": "stderr",
     "output_type": "stream",
     "text": [
      "\n",
      "\r",
      "Processed: 98 rows [00:03, 18.83 rows/s]\u001b[A"
     ]
    },
    {
     "name": "stderr",
     "output_type": "stream",
     "text": [
      "\r",
      "Download: 511kB [00:04, 111kB/s]\n",
      "\r",
      "Processed: 100 rows [00:04, 23.46 rows/s]\n"
     ]
    }
   ],
   "source": [
    "%%capture\n",
    "\n",
    "dc_emb = (\n",
    "    DataChain(name=\"fashion-test\")\n",
    "    .limit(100)\n",
    "    .settings(parallel=-1)\n",
    "    .map(embeddings=embeddings_processor)\n",
    "    .save(\"fashion-embeddings\")\n",
    ")"
   ]
  },
  {
   "cell_type": "code",
   "execution_count": 18,
   "id": "1f4c217c-b1cf-4388-80c4-c2239976e28f",
   "metadata": {
    "execution": {
     "iopub.execute_input": "2024-07-26T13:02:55.746035Z",
     "iopub.status.busy": "2024-07-26T13:02:55.745837Z",
     "iopub.status.idle": "2024-07-26T13:02:55.791975Z",
     "shell.execute_reply": "2024-07-26T13:02:55.791725Z"
    },
    "papermill": {
     "duration": 0.054511,
     "end_time": "2024-07-26T13:02:55.792773",
     "exception": false,
     "start_time": "2024-07-26T13:02:55.738262",
     "status": "completed"
    },
    "scrolled": true,
    "tags": []
   },
   "outputs": [
    {
     "data": {
      "text/html": [
       "<div>\n",
       "<style scoped>\n",
       "    .dataframe tbody tr th:only-of-type {\n",
       "        vertical-align: middle;\n",
       "    }\n",
       "\n",
       "    .dataframe tbody tr th {\n",
       "        vertical-align: top;\n",
       "    }\n",
       "\n",
       "    .dataframe thead tr th {\n",
       "        text-align: left;\n",
       "    }\n",
       "</style>\n",
       "<table border=\"1\" class=\"dataframe\">\n",
       "  <thead>\n",
       "    <tr>\n",
       "      <th></th>\n",
       "      <th>file</th>\n",
       "      <th>file</th>\n",
       "      <th>file</th>\n",
       "      <th>file</th>\n",
       "      <th>file</th>\n",
       "      <th>file</th>\n",
       "      <th>file</th>\n",
       "      <th>file</th>\n",
       "      <th>file</th>\n",
       "      <th>file</th>\n",
       "      <th>gender</th>\n",
       "      <th>mastercategory</th>\n",
       "      <th>subcategory</th>\n",
       "      <th>articletype</th>\n",
       "      <th>basecolour</th>\n",
       "      <th>season</th>\n",
       "      <th>year</th>\n",
       "      <th>usage</th>\n",
       "      <th>productdisplayname</th>\n",
       "      <th>filename</th>\n",
       "      <th>split</th>\n",
       "      <th>embeddings</th>\n",
       "    </tr>\n",
       "    <tr>\n",
       "      <th></th>\n",
       "      <th>source</th>\n",
       "      <th>parent</th>\n",
       "      <th>name</th>\n",
       "      <th>size</th>\n",
       "      <th>version</th>\n",
       "      <th>etag</th>\n",
       "      <th>is_latest</th>\n",
       "      <th>last_modified</th>\n",
       "      <th>location</th>\n",
       "      <th>vtype</th>\n",
       "      <th></th>\n",
       "      <th></th>\n",
       "      <th></th>\n",
       "      <th></th>\n",
       "      <th></th>\n",
       "      <th></th>\n",
       "      <th></th>\n",
       "      <th></th>\n",
       "      <th></th>\n",
       "      <th></th>\n",
       "      <th></th>\n",
       "      <th></th>\n",
       "    </tr>\n",
       "  </thead>\n",
       "  <tbody>\n",
       "    <tr>\n",
       "      <th>0</th>\n",
       "      <td>gs://datachain-demo</td>\n",
       "      <td>fashion-product-images/images</td>\n",
       "      <td>10031.jpg</td>\n",
       "      <td>14140</td>\n",
       "      <td>1719489606425471</td>\n",
       "      <td>CP+2vvnd+4YDEAE=</td>\n",
       "      <td>1</td>\n",
       "      <td>2024-06-27 12:00:06.484000+00:00</td>\n",
       "      <td>None</td>\n",
       "      <td></td>\n",
       "      <td>Men</td>\n",
       "      <td>Apparel</td>\n",
       "      <td>Topwear</td>\n",
       "      <td>Tshirts</td>\n",
       "      <td>Navy Blue</td>\n",
       "      <td>Fall</td>\n",
       "      <td>2011.0</td>\n",
       "      <td>Sports</td>\n",
       "      <td>Nike Men As Arsenal Co Navy Blue T-Shirts</td>\n",
       "      <td>10031.jpg</td>\n",
       "      <td>test</td>\n",
       "      <td>[2.7547712326049805, 0.6360965967178345, -2.07...</td>\n",
       "    </tr>\n",
       "    <tr>\n",
       "      <th>1</th>\n",
       "      <td>gs://datachain-demo</td>\n",
       "      <td>fashion-product-images/images</td>\n",
       "      <td>10041.jpg</td>\n",
       "      <td>14903</td>\n",
       "      <td>1719489431875380</td>\n",
       "      <td>CLTeoKbd+4YDEAE=</td>\n",
       "      <td>1</td>\n",
       "      <td>2024-06-27 11:57:11.923000+00:00</td>\n",
       "      <td>None</td>\n",
       "      <td></td>\n",
       "      <td>Women</td>\n",
       "      <td>Apparel</td>\n",
       "      <td>Topwear</td>\n",
       "      <td>Tshirts</td>\n",
       "      <td>Brown</td>\n",
       "      <td>Fall</td>\n",
       "      <td>2011.0</td>\n",
       "      <td>Sports</td>\n",
       "      <td>Nike Women Brown Polo T-shirt</td>\n",
       "      <td>10041.jpg</td>\n",
       "      <td>test</td>\n",
       "      <td>[3.038275718688965, -0.5758943557739258, -1.88...</td>\n",
       "    </tr>\n",
       "    <tr>\n",
       "      <th>2</th>\n",
       "      <td>gs://datachain-demo</td>\n",
       "      <td>fashion-product-images/images</td>\n",
       "      <td>10046.jpg</td>\n",
       "      <td>2167</td>\n",
       "      <td>1719489475747404</td>\n",
       "      <td>CMy8lrvd+4YDEAE=</td>\n",
       "      <td>1</td>\n",
       "      <td>2024-06-27 11:57:55.797000+00:00</td>\n",
       "      <td>None</td>\n",
       "      <td></td>\n",
       "      <td>Men</td>\n",
       "      <td>Apparel</td>\n",
       "      <td>Topwear</td>\n",
       "      <td>Tshirts</td>\n",
       "      <td>Green</td>\n",
       "      <td>Fall</td>\n",
       "      <td>2011.0</td>\n",
       "      <td>Casual</td>\n",
       "      <td>Puma Men Heroes Graphic Green Tshirts</td>\n",
       "      <td>10046.jpg</td>\n",
       "      <td>test</td>\n",
       "      <td>[0.7890118360519409, -1.0600147247314453, -1.9...</td>\n",
       "    </tr>\n",
       "  </tbody>\n",
       "</table>\n",
       "</div>"
      ],
      "text/plain": [
       "                  file                           file       file   file  \\\n",
       "                source                         parent       name   size   \n",
       "0  gs://datachain-demo  fashion-product-images/images  10031.jpg  14140   \n",
       "1  gs://datachain-demo  fashion-product-images/images  10041.jpg  14903   \n",
       "2  gs://datachain-demo  fashion-product-images/images  10046.jpg   2167   \n",
       "\n",
       "               file              file      file  \\\n",
       "            version              etag is_latest   \n",
       "0  1719489606425471  CP+2vvnd+4YDEAE=         1   \n",
       "1  1719489431875380  CLTeoKbd+4YDEAE=         1   \n",
       "2  1719489475747404  CMy8lrvd+4YDEAE=         1   \n",
       "\n",
       "                              file     file  file gender mastercategory  \\\n",
       "                     last_modified location vtype                         \n",
       "0 2024-06-27 12:00:06.484000+00:00     None          Men        Apparel   \n",
       "1 2024-06-27 11:57:11.923000+00:00     None        Women        Apparel   \n",
       "2 2024-06-27 11:57:55.797000+00:00     None          Men        Apparel   \n",
       "\n",
       "  subcategory articletype basecolour season    year   usage  \\\n",
       "                                                              \n",
       "0     Topwear     Tshirts  Navy Blue   Fall  2011.0  Sports   \n",
       "1     Topwear     Tshirts      Brown   Fall  2011.0  Sports   \n",
       "2     Topwear     Tshirts      Green   Fall  2011.0  Casual   \n",
       "\n",
       "                          productdisplayname   filename split  \\\n",
       "                                                                \n",
       "0  Nike Men As Arsenal Co Navy Blue T-Shirts  10031.jpg  test   \n",
       "1              Nike Women Brown Polo T-shirt  10041.jpg  test   \n",
       "2      Puma Men Heroes Graphic Green Tshirts  10046.jpg  test   \n",
       "\n",
       "                                          embeddings  \n",
       "                                                      \n",
       "0  [2.7547712326049805, 0.6360965967178345, -2.07...  \n",
       "1  [3.038275718688965, -0.5758943557739258, -1.88...  \n",
       "2  [0.7890118360519409, -1.0600147247314453, -1.9...  "
      ]
     },
     "metadata": {},
     "output_type": "display_data"
    },
    {
     "name": "stdout",
     "output_type": "stream",
     "text": [
      "\n",
      "[Limited by 3 rows]\n"
     ]
    }
   ],
   "source": [
    "dc_emb.show(3)"
   ]
  },
  {
   "cell_type": "markdown",
   "id": "21ad4b5a-b3eb-408a-b5c6-ed40cc2053e5",
   "metadata": {
    "papermill": {
     "duration": 0.007171,
     "end_time": "2024-07-26T13:02:55.807100",
     "exception": false,
     "start_time": "2024-07-26T13:02:55.799929",
     "status": "completed"
    },
    "tags": []
   },
   "source": [
    "🚀🖼️ By using DataChain's `.map()` method, you can efficiently process each image in the dataset and compute its embeddings. The resulting dataset will contain a pointer to the original image and the computed embeddings, which can be used for various downstream tasks such as similarity search, clustering, or as input features for other machine learning models.\n",
    "\n",
    "This approach leverages DataChain's powerful data processing capabilities along with PyTorch's pre-trained models to create a scalable and efficient pipeline for computing image embeddings. \n",
    "\n",
    "**Notes:**\n",
    "- You can use these embeddings for various downstream tasks, such as image classification, clustering, or retrieval.\n",
    "- Every time you run the cell above, it will calculate embeddings and save a new version of it (incremented by 1)"
   ]
  },
  {
   "cell_type": "markdown",
   "id": "c5e8add2-376b-4cfd-b8ea-ea225fc0b364",
   "metadata": {
    "papermill": {
     "duration": 0.007095,
     "end_time": "2024-07-26T13:02:55.821168",
     "exception": false,
     "start_time": "2024-07-26T13:02:55.814073",
     "status": "completed"
    },
    "tags": []
   },
   "source": [
    "# 🕵️‍♀️ Similarity Search \n",
    "\n",
    "This example demonstrates how to perform similarity search using the embeddings calculated in the previous step"
   ]
  },
  {
   "cell_type": "code",
   "execution_count": 19,
   "id": "77da187c",
   "metadata": {
    "execution": {
     "iopub.execute_input": "2024-07-26T13:02:55.835906Z",
     "iopub.status.busy": "2024-07-26T13:02:55.835813Z",
     "iopub.status.idle": "2024-07-26T13:02:55.847292Z",
     "shell.execute_reply": "2024-07-26T13:02:55.847087Z"
    },
    "papermill": {
     "duration": 0.019732,
     "end_time": "2024-07-26T13:02:55.848031",
     "exception": false,
     "start_time": "2024-07-26T13:02:55.828299",
     "status": "completed"
    },
    "scrolled": true,
    "tags": []
   },
   "outputs": [],
   "source": [
    "# %pip install matplotlib seaborn"
   ]
  },
  {
   "cell_type": "code",
   "execution_count": 20,
   "id": "0801c361-a63a-4f7b-bbeb-b3f5f44bdad8",
   "metadata": {
    "execution": {
     "iopub.execute_input": "2024-07-26T13:02:55.862638Z",
     "iopub.status.busy": "2024-07-26T13:02:55.862547Z",
     "iopub.status.idle": "2024-07-26T13:02:56.019312Z",
     "shell.execute_reply": "2024-07-26T13:02:56.018967Z"
    },
    "papermill": {
     "duration": 0.165195,
     "end_time": "2024-07-26T13:02:56.020339",
     "exception": false,
     "start_time": "2024-07-26T13:02:55.855144",
     "status": "completed"
    },
    "scrolled": true,
    "tags": []
   },
   "outputs": [],
   "source": [
    "import matplotlib.pyplot as plt\n",
    "from sqlalchemy import tuple_\n",
    "\n",
    "from datachain.sql.functions.array import cosine_distance, euclidean_distance\n"
   ]
  },
  {
   "cell_type": "markdown",
   "id": "b78bcb67-9eb5-466b-83a4-c33f255aced5",
   "metadata": {
    "papermill": {
     "duration": 0.00724,
     "end_time": "2024-07-26T13:02:56.034890",
     "exception": false,
     "start_time": "2024-07-26T13:02:56.027650",
     "status": "completed"
    },
    "tags": []
   },
   "source": [
    "## Select `target` image\n",
    "\n",
    "- Select the first image from the `fashion-embeddings` dataset as the target image for similarity search.\n",
    "- Print the source, parent, name, and the first 5 elements of the embeddings for the target image"
   ]
  },
  {
   "cell_type": "code",
   "execution_count": 21,
   "id": "6aaaff90-d618-4520-9706-5627bdd7bd87",
   "metadata": {
    "execution": {
     "iopub.execute_input": "2024-07-26T13:02:56.049915Z",
     "iopub.status.busy": "2024-07-26T13:02:56.049735Z",
     "iopub.status.idle": "2024-07-26T13:02:56.129948Z",
     "shell.execute_reply": "2024-07-26T13:02:56.129702Z"
    },
    "papermill": {
     "duration": 0.088758,
     "end_time": "2024-07-26T13:02:56.130800",
     "exception": false,
     "start_time": "2024-07-26T13:02:56.042042",
     "status": "completed"
    },
    "scrolled": true,
    "tags": []
   },
   "outputs": [
    {
     "data": {
      "text/plain": [
       "('10031.jpg',\n",
       " [2.7547712326049805,\n",
       "  0.6360965967178345,\n",
       "  -2.0773658752441406,\n",
       "  -2.940145254135132,\n",
       "  -0.5041192770004272])"
      ]
     },
     "execution_count": 21,
     "metadata": {},
     "output_type": "execute_result"
    }
   ],
   "source": [
    "# Get a \"target\" image for a similarity search\n",
    "\n",
    "TARGET_NAME, TARGET_EMB =  (\n",
    "    DataChain.from_dataset(\"fashion-embeddings\")\n",
    "    .select(\"file.name\", \"embeddings\" )\n",
    "    .results()[0]                   # <- Select the first item\n",
    ")\n",
    "\n",
    "TARGET_NAME, TARGET_EMB[:5]"
   ]
  },
  {
   "cell_type": "code",
   "execution_count": 22,
   "id": "62ca6be5-de7d-40f5-9080-e079944929c4",
   "metadata": {
    "execution": {
     "iopub.execute_input": "2024-07-26T13:02:56.145839Z",
     "iopub.status.busy": "2024-07-26T13:02:56.145742Z",
     "iopub.status.idle": "2024-07-26T13:02:57.275610Z",
     "shell.execute_reply": "2024-07-26T13:02:57.275142Z"
    },
    "papermill": {
     "duration": 1.138775,
     "end_time": "2024-07-26T13:02:57.276958",
     "exception": false,
     "start_time": "2024-07-26T13:02:56.138183",
     "status": "completed"
    },
    "scrolled": true,
    "tags": []
   },
   "outputs": [
    {
     "data": {
      "image/jpeg": "[encoded data removed]",
      "image/png": "[encoded data removed]",
      "text/plain": [
       "<PIL.JpegImagePlugin.JpegImageFile image mode=RGB size=60x80>"
      ]
     },
     "execution_count": 22,
     "metadata": {},
     "output_type": "execute_result"
    }
   ],
   "source": [
    "# Preview the target image\n",
    "\n",
    "sample = DataChain.from_dataset(\"fashion-embeddings\").filter(C(\"file.name\") == TARGET_NAME).save()\n",
    "img = next(sample.collect(\"file\")).read()\n",
    "img"
   ]
  },
  {
   "cell_type": "markdown",
   "id": "3d17c4ff-f224-4f09-82bf-ed0bbda1414d",
   "metadata": {
    "papermill": {
     "duration": 0.011287,
     "end_time": "2024-07-26T13:02:57.301466",
     "exception": false,
     "start_time": "2024-07-26T13:02:57.290179",
     "status": "completed"
    },
    "tags": []
   },
   "source": [
    "## Calculate similarity\n",
    "\n",
    "- Calculate the cosine and Euclidean distances between the embeddings of each image and the target image's embeddings using built-in `cosine_distance` and `euclidean_distance` functions."
   ]
  },
  {
   "cell_type": "code",
   "execution_count": 23,
   "id": "1aaa40b1-576e-49cb-8643-3dfa5a6ea1b4",
   "metadata": {
    "execution": {
     "iopub.execute_input": "2024-07-26T13:02:57.322462Z",
     "iopub.status.busy": "2024-07-26T13:02:57.322130Z",
     "iopub.status.idle": "2024-07-26T13:02:57.704343Z",
     "shell.execute_reply": "2024-07-26T13:02:57.704067Z"
    },
    "papermill": {
     "duration": 0.393485,
     "end_time": "2024-07-26T13:02:57.705180",
     "exception": false,
     "start_time": "2024-07-26T13:02:57.311695",
     "status": "completed"
    },
    "scrolled": true,
    "tags": []
   },
   "outputs": [
    {
     "data": {
      "text/html": [
       "<div>\n",
       "<style scoped>\n",
       "    .dataframe tbody tr th:only-of-type {\n",
       "        vertical-align: middle;\n",
       "    }\n",
       "\n",
       "    .dataframe tbody tr th {\n",
       "        vertical-align: top;\n",
       "    }\n",
       "\n",
       "    .dataframe thead tr th {\n",
       "        text-align: left;\n",
       "    }\n",
       "</style>\n",
       "<table border=\"1\" class=\"dataframe\">\n",
       "  <thead>\n",
       "    <tr>\n",
       "      <th></th>\n",
       "      <th>file</th>\n",
       "      <th>cos_dist</th>\n",
       "      <th>eucl_dist</th>\n",
       "    </tr>\n",
       "    <tr>\n",
       "      <th></th>\n",
       "      <th>name</th>\n",
       "      <th></th>\n",
       "      <th></th>\n",
       "    </tr>\n",
       "  </thead>\n",
       "  <tbody>\n",
       "    <tr>\n",
       "      <th>0</th>\n",
       "      <td>10031.jpg</td>\n",
       "      <td>0.000000</td>\n",
       "      <td>0.000000</td>\n",
       "    </tr>\n",
       "    <tr>\n",
       "      <th>1</th>\n",
       "      <td>10041.jpg</td>\n",
       "      <td>0.050027</td>\n",
       "      <td>28.715128</td>\n",
       "    </tr>\n",
       "    <tr>\n",
       "      <th>2</th>\n",
       "      <td>10046.jpg</td>\n",
       "      <td>0.158148</td>\n",
       "      <td>49.246294</td>\n",
       "    </tr>\n",
       "  </tbody>\n",
       "</table>\n",
       "</div>"
      ],
      "text/plain": [
       "        file  cos_dist  eucl_dist\n",
       "        name                     \n",
       "0  10031.jpg  0.000000   0.000000\n",
       "1  10041.jpg  0.050027  28.715128\n",
       "2  10046.jpg  0.158148  49.246294"
      ]
     },
     "metadata": {},
     "output_type": "display_data"
    },
    {
     "name": "stdout",
     "output_type": "stream",
     "text": [
      "\n",
      "[Limited by 3 rows]\n"
     ]
    }
   ],
   "source": [
    "dc = (\n",
    "    DataChain(name=\"fashion-embeddings\")\n",
    "    .mutate(\n",
    "        cos_dist=cosine_distance(C(\"embeddings\"), TARGET_EMB),\n",
    "        eucl_dist=euclidean_distance(C(\"embeddings\"), TARGET_EMB),\n",
    "    )\n",
    "    .save(\"fashion-similarity\")\n",
    ")\n",
    "dc.select(\"file.name\", \"cos_dist\", \"eucl_dist\").show(3)"
   ]
  },
  {
   "cell_type": "markdown",
   "id": "2b5ce0b8-793e-4d6e-bd10-a93237eda73f",
   "metadata": {
    "papermill": {
     "duration": 0.007422,
     "end_time": "2024-07-26T13:02:57.720199",
     "exception": false,
     "start_time": "2024-07-26T13:02:57.712777",
     "status": "completed"
    },
    "tags": []
   },
   "source": [
    "Here's a breakdown of the code:\n",
    "- Load the `fashion-embeddings` dataset.\n",
    "- Filter out the target image.\n",
    "- Calculate the cosine and Euclidean distances between the embeddings of each image and the target image's embeddings using `cosine_distance` and `euclidean_distance` functions.\n",
    "- Exclude the `embeddings` column from the output.\n",
    "- Save the resulting dataset as `fashion-similarity`."
   ]
  },
  {
   "cell_type": "markdown",
   "id": "be6dd4d3-3124-4d7a-ad95-54cb591a1574",
   "metadata": {
    "papermill": {
     "duration": 0.007307,
     "end_time": "2024-07-26T13:02:57.734820",
     "exception": false,
     "start_time": "2024-07-26T13:02:57.727513",
     "status": "completed"
    },
    "tags": []
   },
   "source": [
    "## Visualise Similarity distances "
   ]
  },
  {
   "cell_type": "code",
   "execution_count": 24,
   "id": "57313514-6b57-40cf-8e5b-bdbe6ef8c8a1",
   "metadata": {
    "execution": {
     "iopub.execute_input": "2024-07-26T13:02:57.749844Z",
     "iopub.status.busy": "2024-07-26T13:02:57.749740Z",
     "iopub.status.idle": "2024-07-26T13:02:57.845407Z",
     "shell.execute_reply": "2024-07-26T13:02:57.845145Z"
    },
    "papermill": {
     "duration": 0.104149,
     "end_time": "2024-07-26T13:02:57.846191",
     "exception": false,
     "start_time": "2024-07-26T13:02:57.742042",
     "status": "completed"
    },
    "scrolled": true,
    "tags": []
   },
   "outputs": [
    {
     "data": {
      "text/html": [
       "<div>\n",
       "<style scoped>\n",
       "    .dataframe tbody tr th:only-of-type {\n",
       "        vertical-align: middle;\n",
       "    }\n",
       "\n",
       "    .dataframe tbody tr th {\n",
       "        vertical-align: top;\n",
       "    }\n",
       "\n",
       "    .dataframe thead tr th {\n",
       "        text-align: left;\n",
       "    }\n",
       "</style>\n",
       "<table border=\"1\" class=\"dataframe\">\n",
       "  <thead>\n",
       "    <tr>\n",
       "      <th></th>\n",
       "      <th colspan=\"10\" halign=\"left\">file</th>\n",
       "      <th>...</th>\n",
       "      <th>basecolour</th>\n",
       "      <th>season</th>\n",
       "      <th>year</th>\n",
       "      <th>usage</th>\n",
       "      <th>productdisplayname</th>\n",
       "      <th>filename</th>\n",
       "      <th>split</th>\n",
       "      <th>embeddings</th>\n",
       "      <th>cos_dist</th>\n",
       "      <th>eucl_dist</th>\n",
       "    </tr>\n",
       "    <tr>\n",
       "      <th></th>\n",
       "      <th>source</th>\n",
       "      <th>parent</th>\n",
       "      <th>name</th>\n",
       "      <th>size</th>\n",
       "      <th>version</th>\n",
       "      <th>etag</th>\n",
       "      <th>is_latest</th>\n",
       "      <th>last_modified</th>\n",
       "      <th>location</th>\n",
       "      <th>vtype</th>\n",
       "      <th>...</th>\n",
       "      <th></th>\n",
       "      <th></th>\n",
       "      <th></th>\n",
       "      <th></th>\n",
       "      <th></th>\n",
       "      <th></th>\n",
       "      <th></th>\n",
       "      <th></th>\n",
       "      <th></th>\n",
       "      <th></th>\n",
       "    </tr>\n",
       "  </thead>\n",
       "  <tbody>\n",
       "    <tr>\n",
       "      <th>0</th>\n",
       "      <td>gs://datachain-demo</td>\n",
       "      <td>fashion-product-images/images</td>\n",
       "      <td>10031.jpg</td>\n",
       "      <td>14140</td>\n",
       "      <td>1719489606425471</td>\n",
       "      <td>CP+2vvnd+4YDEAE=</td>\n",
       "      <td>1</td>\n",
       "      <td>2024-06-27 12:00:06.484000+00:00</td>\n",
       "      <td>None</td>\n",
       "      <td></td>\n",
       "      <td>...</td>\n",
       "      <td>Navy Blue</td>\n",
       "      <td>Fall</td>\n",
       "      <td>2011.0</td>\n",
       "      <td>Sports</td>\n",
       "      <td>Nike Men As Arsenal Co Navy Blue T-Shirts</td>\n",
       "      <td>10031.jpg</td>\n",
       "      <td>test</td>\n",
       "      <td>[2.7547712326049805, 0.6360965967178345, -2.07...</td>\n",
       "      <td>0.000000</td>\n",
       "      <td>0.000000</td>\n",
       "    </tr>\n",
       "    <tr>\n",
       "      <th>1</th>\n",
       "      <td>gs://datachain-demo</td>\n",
       "      <td>fashion-product-images/images</td>\n",
       "      <td>10763.jpg</td>\n",
       "      <td>2656</td>\n",
       "      <td>1719489744799056</td>\n",
       "      <td>CNCKvLve+4YDEAE=</td>\n",
       "      <td>1</td>\n",
       "      <td>2024-06-27 12:02:24.851000+00:00</td>\n",
       "      <td>None</td>\n",
       "      <td></td>\n",
       "      <td>...</td>\n",
       "      <td>Blue</td>\n",
       "      <td>Summer</td>\n",
       "      <td>2012.0</td>\n",
       "      <td>Sports</td>\n",
       "      <td>Nike Men Trainng Blue T-shirt</td>\n",
       "      <td>10763.jpg</td>\n",
       "      <td>test</td>\n",
       "      <td>[0.7373706102371216, 0.35680142045021057, -1.8...</td>\n",
       "      <td>0.048846</td>\n",
       "      <td>28.370707</td>\n",
       "    </tr>\n",
       "    <tr>\n",
       "      <th>2</th>\n",
       "      <td>gs://datachain-demo</td>\n",
       "      <td>fashion-product-images/images</td>\n",
       "      <td>10041.jpg</td>\n",
       "      <td>14903</td>\n",
       "      <td>1719489431875380</td>\n",
       "      <td>CLTeoKbd+4YDEAE=</td>\n",
       "      <td>1</td>\n",
       "      <td>2024-06-27 11:57:11.923000+00:00</td>\n",
       "      <td>None</td>\n",
       "      <td></td>\n",
       "      <td>...</td>\n",
       "      <td>Brown</td>\n",
       "      <td>Fall</td>\n",
       "      <td>2011.0</td>\n",
       "      <td>Sports</td>\n",
       "      <td>Nike Women Brown Polo T-shirt</td>\n",
       "      <td>10041.jpg</td>\n",
       "      <td>test</td>\n",
       "      <td>[3.038275718688965, -0.5758943557739258, -1.88...</td>\n",
       "      <td>0.050027</td>\n",
       "      <td>28.715128</td>\n",
       "    </tr>\n",
       "    <tr>\n",
       "      <th>3</th>\n",
       "      <td>gs://datachain-demo</td>\n",
       "      <td>fashion-product-images/images</td>\n",
       "      <td>11273.jpg</td>\n",
       "      <td>2750</td>\n",
       "      <td>1719489599959859</td>\n",
       "      <td>CLPms/bd+4YDEAE=</td>\n",
       "      <td>1</td>\n",
       "      <td>2024-06-27 12:00:00.016000+00:00</td>\n",
       "      <td>None</td>\n",
       "      <td></td>\n",
       "      <td>...</td>\n",
       "      <td>Blue</td>\n",
       "      <td>Fall</td>\n",
       "      <td>2011.0</td>\n",
       "      <td>Casual</td>\n",
       "      <td>Nike Men  Blue Jacket</td>\n",
       "      <td>11273.jpg</td>\n",
       "      <td>test</td>\n",
       "      <td>[1.6432523727416992, -0.7086354494094849, -1.2...</td>\n",
       "      <td>0.076608</td>\n",
       "      <td>36.697293</td>\n",
       "    </tr>\n",
       "    <tr>\n",
       "      <th>4</th>\n",
       "      <td>gs://datachain-demo</td>\n",
       "      <td>fashion-product-images/images</td>\n",
       "      <td>10777.jpg</td>\n",
       "      <td>2273</td>\n",
       "      <td>1719489744919361</td>\n",
       "      <td>CMG2w7ve+4YDEAE=</td>\n",
       "      <td>1</td>\n",
       "      <td>2024-06-27 12:02:24.973000+00:00</td>\n",
       "      <td>None</td>\n",
       "      <td></td>\n",
       "      <td>...</td>\n",
       "      <td>Purple</td>\n",
       "      <td>Summer</td>\n",
       "      <td>2011.0</td>\n",
       "      <td>Sports</td>\n",
       "      <td>Nike Women Hooded Purple Jacket</td>\n",
       "      <td>10777.jpg</td>\n",
       "      <td>test</td>\n",
       "      <td>[2.219156503677368, -1.0878366231918335, -2.05...</td>\n",
       "      <td>0.101914</td>\n",
       "      <td>41.495490</td>\n",
       "    </tr>\n",
       "    <tr>\n",
       "      <th>5</th>\n",
       "      <td>gs://datachain-demo</td>\n",
       "      <td>fashion-product-images/images</td>\n",
       "      <td>11026.jpg</td>\n",
       "      <td>2246</td>\n",
       "      <td>1719489873101390</td>\n",
       "      <td>CM6E0/je+4YDEAE=</td>\n",
       "      <td>1</td>\n",
       "      <td>2024-06-27 12:04:33.151000+00:00</td>\n",
       "      <td>None</td>\n",
       "      <td></td>\n",
       "      <td>...</td>\n",
       "      <td>Navy Blue</td>\n",
       "      <td>Fall</td>\n",
       "      <td>2011.0</td>\n",
       "      <td>Casual</td>\n",
       "      <td>Wrangler Women Navy Blue Top</td>\n",
       "      <td>11026.jpg</td>\n",
       "      <td>test</td>\n",
       "      <td>[1.0086146593093872, -1.5825384855270386, -1.7...</td>\n",
       "      <td>0.127555</td>\n",
       "      <td>44.440092</td>\n",
       "    </tr>\n",
       "    <tr>\n",
       "      <th>6</th>\n",
       "      <td>gs://datachain-demo</td>\n",
       "      <td>fashion-product-images/images</td>\n",
       "      <td>10072.jpg</td>\n",
       "      <td>2035</td>\n",
       "      <td>1719489864265239</td>\n",
       "      <td>CJfct/Te+4YDEAE=</td>\n",
       "      <td>1</td>\n",
       "      <td>2024-06-27 12:04:24.316000+00:00</td>\n",
       "      <td>None</td>\n",
       "      <td></td>\n",
       "      <td>...</td>\n",
       "      <td>White</td>\n",
       "      <td>Fall</td>\n",
       "      <td>2011.0</td>\n",
       "      <td>Casual</td>\n",
       "      <td>Puma Women poster tee White Tshirts</td>\n",
       "      <td>10072.jpg</td>\n",
       "      <td>test</td>\n",
       "      <td>[0.31638103723526, -2.321152925491333, -4.1152...</td>\n",
       "      <td>0.127672</td>\n",
       "      <td>45.994383</td>\n",
       "    </tr>\n",
       "    <tr>\n",
       "      <th>7</th>\n",
       "      <td>gs://datachain-demo</td>\n",
       "      <td>fashion-product-images/images</td>\n",
       "      <td>11368.jpg</td>\n",
       "      <td>17301</td>\n",
       "      <td>1719489765987870</td>\n",
       "      <td>CJ6sycXe+4YDEAE=</td>\n",
       "      <td>1</td>\n",
       "      <td>2024-06-27 12:02:46.039000+00:00</td>\n",
       "      <td>None</td>\n",
       "      <td></td>\n",
       "      <td>...</td>\n",
       "      <td>Black</td>\n",
       "      <td>Fall</td>\n",
       "      <td>2011.0</td>\n",
       "      <td>Casual</td>\n",
       "      <td>United Colors Of Benetton Women Light Winter B...</td>\n",
       "      <td>11368.jpg</td>\n",
       "      <td>test</td>\n",
       "      <td>[1.813947319984436, -2.7409236431121826, -3.80...</td>\n",
       "      <td>0.129632</td>\n",
       "      <td>46.752984</td>\n",
       "    </tr>\n",
       "    <tr>\n",
       "      <th>8</th>\n",
       "      <td>gs://datachain-demo</td>\n",
       "      <td>fashion-product-images/images</td>\n",
       "      <td>10676.jpg</td>\n",
       "      <td>2516</td>\n",
       "      <td>1719489820568448</td>\n",
       "      <td>CIDXzN/e+4YDEAE=</td>\n",
       "      <td>1</td>\n",
       "      <td>2024-06-27 12:03:40.621000+00:00</td>\n",
       "      <td>None</td>\n",
       "      <td></td>\n",
       "      <td>...</td>\n",
       "      <td>Red</td>\n",
       "      <td>Fall</td>\n",
       "      <td>2011.0</td>\n",
       "      <td>Casual</td>\n",
       "      <td>Doodle Girl Bubbles Red Tops</td>\n",
       "      <td>10676.jpg</td>\n",
       "      <td>test</td>\n",
       "      <td>[0.03944031894207001, 1.348001480102539, -1.09...</td>\n",
       "      <td>0.129913</td>\n",
       "      <td>45.554407</td>\n",
       "    </tr>\n",
       "    <tr>\n",
       "      <th>9</th>\n",
       "      <td>gs://datachain-demo</td>\n",
       "      <td>fashion-product-images/images</td>\n",
       "      <td>10577.jpg</td>\n",
       "      <td>23000</td>\n",
       "      <td>1719489704772809</td>\n",
       "      <td>CMmJsaje+4YDEAE=</td>\n",
       "      <td>1</td>\n",
       "      <td>2024-06-27 12:01:44.824000+00:00</td>\n",
       "      <td>None</td>\n",
       "      <td></td>\n",
       "      <td>...</td>\n",
       "      <td>Black</td>\n",
       "      <td>Fall</td>\n",
       "      <td>2011.0</td>\n",
       "      <td>Casual</td>\n",
       "      <td>Puma Women's Ess Black Polo Tshirts</td>\n",
       "      <td>10577.jpg</td>\n",
       "      <td>test</td>\n",
       "      <td>[1.2349650859832764, -2.1185736656188965, -2.0...</td>\n",
       "      <td>0.130718</td>\n",
       "      <td>45.721551</td>\n",
       "    </tr>\n",
       "  </tbody>\n",
       "</table>\n",
       "<p>10 rows × 24 columns</p>\n",
       "</div>"
      ],
      "text/plain": [
       "                  file                                                   \\\n",
       "                source                         parent       name   size   \n",
       "0  gs://datachain-demo  fashion-product-images/images  10031.jpg  14140   \n",
       "1  gs://datachain-demo  fashion-product-images/images  10763.jpg   2656   \n",
       "2  gs://datachain-demo  fashion-product-images/images  10041.jpg  14903   \n",
       "3  gs://datachain-demo  fashion-product-images/images  11273.jpg   2750   \n",
       "4  gs://datachain-demo  fashion-product-images/images  10777.jpg   2273   \n",
       "5  gs://datachain-demo  fashion-product-images/images  11026.jpg   2246   \n",
       "6  gs://datachain-demo  fashion-product-images/images  10072.jpg   2035   \n",
       "7  gs://datachain-demo  fashion-product-images/images  11368.jpg  17301   \n",
       "8  gs://datachain-demo  fashion-product-images/images  10676.jpg   2516   \n",
       "9  gs://datachain-demo  fashion-product-images/images  10577.jpg  23000   \n",
       "\n",
       "                                                 \\\n",
       "            version              etag is_latest   \n",
       "0  1719489606425471  CP+2vvnd+4YDEAE=         1   \n",
       "1  1719489744799056  CNCKvLve+4YDEAE=         1   \n",
       "2  1719489431875380  CLTeoKbd+4YDEAE=         1   \n",
       "3  1719489599959859  CLPms/bd+4YDEAE=         1   \n",
       "4  1719489744919361  CMG2w7ve+4YDEAE=         1   \n",
       "5  1719489873101390  CM6E0/je+4YDEAE=         1   \n",
       "6  1719489864265239  CJfct/Te+4YDEAE=         1   \n",
       "7  1719489765987870  CJ6sycXe+4YDEAE=         1   \n",
       "8  1719489820568448  CIDXzN/e+4YDEAE=         1   \n",
       "9  1719489704772809  CMmJsaje+4YDEAE=         1   \n",
       "\n",
       "                                                   ... basecolour  season  \\\n",
       "                     last_modified location vtype  ...                      \n",
       "0 2024-06-27 12:00:06.484000+00:00     None        ...  Navy Blue    Fall   \n",
       "1 2024-06-27 12:02:24.851000+00:00     None        ...       Blue  Summer   \n",
       "2 2024-06-27 11:57:11.923000+00:00     None        ...      Brown    Fall   \n",
       "3 2024-06-27 12:00:00.016000+00:00     None        ...       Blue    Fall   \n",
       "4 2024-06-27 12:02:24.973000+00:00     None        ...     Purple  Summer   \n",
       "5 2024-06-27 12:04:33.151000+00:00     None        ...  Navy Blue    Fall   \n",
       "6 2024-06-27 12:04:24.316000+00:00     None        ...      White    Fall   \n",
       "7 2024-06-27 12:02:46.039000+00:00     None        ...      Black    Fall   \n",
       "8 2024-06-27 12:03:40.621000+00:00     None        ...        Red    Fall   \n",
       "9 2024-06-27 12:01:44.824000+00:00     None        ...      Black    Fall   \n",
       "\n",
       "     year   usage                                 productdisplayname  \\\n",
       "                                                                       \n",
       "0  2011.0  Sports          Nike Men As Arsenal Co Navy Blue T-Shirts   \n",
       "1  2012.0  Sports                      Nike Men Trainng Blue T-shirt   \n",
       "2  2011.0  Sports                      Nike Women Brown Polo T-shirt   \n",
       "3  2011.0  Casual                              Nike Men  Blue Jacket   \n",
       "4  2011.0  Sports                    Nike Women Hooded Purple Jacket   \n",
       "5  2011.0  Casual                       Wrangler Women Navy Blue Top   \n",
       "6  2011.0  Casual                Puma Women poster tee White Tshirts   \n",
       "7  2011.0  Casual  United Colors Of Benetton Women Light Winter B...   \n",
       "8  2011.0  Casual                       Doodle Girl Bubbles Red Tops   \n",
       "9  2011.0  Casual                Puma Women's Ess Black Polo Tshirts   \n",
       "\n",
       "    filename split                                         embeddings  \\\n",
       "                                                                        \n",
       "0  10031.jpg  test  [2.7547712326049805, 0.6360965967178345, -2.07...   \n",
       "1  10763.jpg  test  [0.7373706102371216, 0.35680142045021057, -1.8...   \n",
       "2  10041.jpg  test  [3.038275718688965, -0.5758943557739258, -1.88...   \n",
       "3  11273.jpg  test  [1.6432523727416992, -0.7086354494094849, -1.2...   \n",
       "4  10777.jpg  test  [2.219156503677368, -1.0878366231918335, -2.05...   \n",
       "5  11026.jpg  test  [1.0086146593093872, -1.5825384855270386, -1.7...   \n",
       "6  10072.jpg  test  [0.31638103723526, -2.321152925491333, -4.1152...   \n",
       "7  11368.jpg  test  [1.813947319984436, -2.7409236431121826, -3.80...   \n",
       "8  10676.jpg  test  [0.03944031894207001, 1.348001480102539, -1.09...   \n",
       "9  10577.jpg  test  [1.2349650859832764, -2.1185736656188965, -2.0...   \n",
       "\n",
       "   cos_dist  eucl_dist  \n",
       "                        \n",
       "0  0.000000   0.000000  \n",
       "1  0.048846  28.370707  \n",
       "2  0.050027  28.715128  \n",
       "3  0.076608  36.697293  \n",
       "4  0.101914  41.495490  \n",
       "5  0.127555  44.440092  \n",
       "6  0.127672  45.994383  \n",
       "7  0.129632  46.752984  \n",
       "8  0.129913  45.554407  \n",
       "9  0.130718  45.721551  \n",
       "\n",
       "[10 rows x 24 columns]"
      ]
     },
     "execution_count": 24,
     "metadata": {},
     "output_type": "execute_result"
    }
   ],
   "source": [
    "# Preview results\n",
    "\n",
    "dist = DataChain.from_dataset(\"fashion-similarity\").order_by(\"cos_dist\").to_pandas()\n",
    "dist.head(10)"
   ]
  },
  {
   "cell_type": "code",
   "execution_count": 25,
   "id": "9c723005-8d3c-4afd-846e-e440b7aff10f",
   "metadata": {
    "execution": {
     "iopub.execute_input": "2024-07-26T13:02:57.861890Z",
     "iopub.status.busy": "2024-07-26T13:02:57.861801Z",
     "iopub.status.idle": "2024-07-26T13:02:58.292556Z",
     "shell.execute_reply": "2024-07-26T13:02:58.292241Z"
    },
    "papermill": {
     "duration": 0.439513,
     "end_time": "2024-07-26T13:02:58.293388",
     "exception": false,
     "start_time": "2024-07-26T13:02:57.853875",
     "status": "completed"
    },
    "tags": []
   },
   "outputs": [
    {
     "data": {
      "image/png": "[encoded data removed]",
      "text/plain": [
       "<Figure size 600x400 with 1 Axes>"
      ]
     },
     "metadata": {},
     "output_type": "display_data"
    },
    {
     "data": {
      "image/png": "[encoded data removed]",
      "text/plain": [
       "<Figure size 600x400 with 1 Axes>"
      ]
     },
     "metadata": {},
     "output_type": "display_data"
    }
   ],
   "source": [
    "import matplotlib.pyplot as plt\n",
    "import seaborn as sns\n",
    "\n",
    "# Histogram and Density Plot for Cosine Distance\n",
    "plt.figure(figsize=(6, 4))\n",
    "sns.histplot(dist[\"cos_dist\"], color=\"blue\", label=\"Cosine Distance\", kde=True)\n",
    "plt.title(\"Histogram and Density Plot of Cosine Distance\")\n",
    "plt.xlabel(\"Cosine Distance\")\n",
    "plt.ylabel(\"Frequency\")\n",
    "plt.legend()\n",
    "plt.show()\n",
    "\n",
    "# Histogram and Density Plot for Euclidean Distance\n",
    "plt.figure(figsize=(6, 4))\n",
    "sns.histplot(dist[\"eucl_dist\"], color=\"red\", label=\"Euclidean Distance\", kde=True)\n",
    "plt.title(\"Histogram and Density Plot of Euclidean Distance\")\n",
    "plt.xlabel(\"Euclidean Distance\")\n",
    "plt.ylabel(\"Frequency\")\n",
    "plt.legend()\n",
    "plt.show()"
   ]
  },
  {
   "cell_type": "markdown",
   "id": "c70f492d-9837-485c-b8e2-affde7625cd0",
   "metadata": {
    "execution": {
     "iopub.execute_input": "2024-05-09T13:45:31.525826Z",
     "iopub.status.busy": "2024-05-09T13:45:31.525510Z",
     "iopub.status.idle": "2024-05-09T13:45:31.529986Z",
     "shell.execute_reply": "2024-05-09T13:45:31.529527Z",
     "shell.execute_reply.started": "2024-05-09T13:45:31.525804Z"
    },
    "papermill": {
     "duration": 0.007833,
     "end_time": "2024-07-26T13:02:58.309291",
     "exception": false,
     "start_time": "2024-07-26T13:02:58.301458",
     "status": "completed"
    },
    "tags": []
   },
   "source": [
    "## Visualize the most and the least similar images "
   ]
  },
  {
   "cell_type": "code",
   "execution_count": 26,
   "id": "fd5e7edb-a6ed-485b-9de6-0b76984a75c1",
   "metadata": {
    "execution": {
     "iopub.execute_input": "2024-07-26T13:02:58.325527Z",
     "iopub.status.busy": "2024-07-26T13:02:58.325356Z",
     "iopub.status.idle": "2024-07-26T13:02:58.427855Z",
     "shell.execute_reply": "2024-07-26T13:02:58.427588Z"
    },
    "papermill": {
     "duration": 0.111623,
     "end_time": "2024-07-26T13:02:58.428657",
     "exception": false,
     "start_time": "2024-07-26T13:02:58.317034",
     "status": "completed"
    },
    "scrolled": true,
    "tags": []
   },
   "outputs": [
    {
     "data": {
      "text/html": [
       "<div>\n",
       "<style scoped>\n",
       "    .dataframe tbody tr th:only-of-type {\n",
       "        vertical-align: middle;\n",
       "    }\n",
       "\n",
       "    .dataframe tbody tr th {\n",
       "        vertical-align: top;\n",
       "    }\n",
       "\n",
       "    .dataframe thead tr th {\n",
       "        text-align: left;\n",
       "    }\n",
       "</style>\n",
       "<table border=\"1\" class=\"dataframe\">\n",
       "  <thead>\n",
       "    <tr>\n",
       "      <th></th>\n",
       "      <th colspan=\"10\" halign=\"left\">file</th>\n",
       "      <th>...</th>\n",
       "      <th>basecolour</th>\n",
       "      <th>season</th>\n",
       "      <th>year</th>\n",
       "      <th>usage</th>\n",
       "      <th>productdisplayname</th>\n",
       "      <th>filename</th>\n",
       "      <th>split</th>\n",
       "      <th>embeddings</th>\n",
       "      <th>cos_dist</th>\n",
       "      <th>eucl_dist</th>\n",
       "    </tr>\n",
       "    <tr>\n",
       "      <th></th>\n",
       "      <th>source</th>\n",
       "      <th>parent</th>\n",
       "      <th>name</th>\n",
       "      <th>size</th>\n",
       "      <th>version</th>\n",
       "      <th>etag</th>\n",
       "      <th>is_latest</th>\n",
       "      <th>last_modified</th>\n",
       "      <th>location</th>\n",
       "      <th>vtype</th>\n",
       "      <th>...</th>\n",
       "      <th></th>\n",
       "      <th></th>\n",
       "      <th></th>\n",
       "      <th></th>\n",
       "      <th></th>\n",
       "      <th></th>\n",
       "      <th></th>\n",
       "      <th></th>\n",
       "      <th></th>\n",
       "      <th></th>\n",
       "    </tr>\n",
       "  </thead>\n",
       "  <tbody>\n",
       "    <tr>\n",
       "      <th>0</th>\n",
       "      <td>gs://datachain-demo</td>\n",
       "      <td>fashion-product-images/images</td>\n",
       "      <td>10031.jpg</td>\n",
       "      <td>14140</td>\n",
       "      <td>1719489606425471</td>\n",
       "      <td>CP+2vvnd+4YDEAE=</td>\n",
       "      <td>1</td>\n",
       "      <td>2024-06-27 12:00:06.484000+00:00</td>\n",
       "      <td>None</td>\n",
       "      <td></td>\n",
       "      <td>...</td>\n",
       "      <td>Navy Blue</td>\n",
       "      <td>Fall</td>\n",
       "      <td>2011.0</td>\n",
       "      <td>Sports</td>\n",
       "      <td>Nike Men As Arsenal Co Navy Blue T-Shirts</td>\n",
       "      <td>10031.jpg</td>\n",
       "      <td>test</td>\n",
       "      <td>[2.7547712326049805, 0.6360965967178345, -2.07...</td>\n",
       "      <td>0.000000</td>\n",
       "      <td>0.000000</td>\n",
       "    </tr>\n",
       "    <tr>\n",
       "      <th>1</th>\n",
       "      <td>gs://datachain-demo</td>\n",
       "      <td>fashion-product-images/images</td>\n",
       "      <td>10763.jpg</td>\n",
       "      <td>2656</td>\n",
       "      <td>1719489744799056</td>\n",
       "      <td>CNCKvLve+4YDEAE=</td>\n",
       "      <td>1</td>\n",
       "      <td>2024-06-27 12:02:24.851000+00:00</td>\n",
       "      <td>None</td>\n",
       "      <td></td>\n",
       "      <td>...</td>\n",
       "      <td>Blue</td>\n",
       "      <td>Summer</td>\n",
       "      <td>2012.0</td>\n",
       "      <td>Sports</td>\n",
       "      <td>Nike Men Trainng Blue T-shirt</td>\n",
       "      <td>10763.jpg</td>\n",
       "      <td>test</td>\n",
       "      <td>[0.7373706102371216, 0.35680142045021057, -1.8...</td>\n",
       "      <td>0.048846</td>\n",
       "      <td>28.370707</td>\n",
       "    </tr>\n",
       "    <tr>\n",
       "      <th>2</th>\n",
       "      <td>gs://datachain-demo</td>\n",
       "      <td>fashion-product-images/images</td>\n",
       "      <td>10041.jpg</td>\n",
       "      <td>14903</td>\n",
       "      <td>1719489431875380</td>\n",
       "      <td>CLTeoKbd+4YDEAE=</td>\n",
       "      <td>1</td>\n",
       "      <td>2024-06-27 11:57:11.923000+00:00</td>\n",
       "      <td>None</td>\n",
       "      <td></td>\n",
       "      <td>...</td>\n",
       "      <td>Brown</td>\n",
       "      <td>Fall</td>\n",
       "      <td>2011.0</td>\n",
       "      <td>Sports</td>\n",
       "      <td>Nike Women Brown Polo T-shirt</td>\n",
       "      <td>10041.jpg</td>\n",
       "      <td>test</td>\n",
       "      <td>[3.038275718688965, -0.5758943557739258, -1.88...</td>\n",
       "      <td>0.050027</td>\n",
       "      <td>28.715128</td>\n",
       "    </tr>\n",
       "    <tr>\n",
       "      <th>3</th>\n",
       "      <td>gs://datachain-demo</td>\n",
       "      <td>fashion-product-images/images</td>\n",
       "      <td>11273.jpg</td>\n",
       "      <td>2750</td>\n",
       "      <td>1719489599959859</td>\n",
       "      <td>CLPms/bd+4YDEAE=</td>\n",
       "      <td>1</td>\n",
       "      <td>2024-06-27 12:00:00.016000+00:00</td>\n",
       "      <td>None</td>\n",
       "      <td></td>\n",
       "      <td>...</td>\n",
       "      <td>Blue</td>\n",
       "      <td>Fall</td>\n",
       "      <td>2011.0</td>\n",
       "      <td>Casual</td>\n",
       "      <td>Nike Men  Blue Jacket</td>\n",
       "      <td>11273.jpg</td>\n",
       "      <td>test</td>\n",
       "      <td>[1.6432523727416992, -0.7086354494094849, -1.2...</td>\n",
       "      <td>0.076608</td>\n",
       "      <td>36.697293</td>\n",
       "    </tr>\n",
       "    <tr>\n",
       "      <th>4</th>\n",
       "      <td>gs://datachain-demo</td>\n",
       "      <td>fashion-product-images/images</td>\n",
       "      <td>10777.jpg</td>\n",
       "      <td>2273</td>\n",
       "      <td>1719489744919361</td>\n",
       "      <td>CMG2w7ve+4YDEAE=</td>\n",
       "      <td>1</td>\n",
       "      <td>2024-06-27 12:02:24.973000+00:00</td>\n",
       "      <td>None</td>\n",
       "      <td></td>\n",
       "      <td>...</td>\n",
       "      <td>Purple</td>\n",
       "      <td>Summer</td>\n",
       "      <td>2011.0</td>\n",
       "      <td>Sports</td>\n",
       "      <td>Nike Women Hooded Purple Jacket</td>\n",
       "      <td>10777.jpg</td>\n",
       "      <td>test</td>\n",
       "      <td>[2.219156503677368, -1.0878366231918335, -2.05...</td>\n",
       "      <td>0.101914</td>\n",
       "      <td>41.495490</td>\n",
       "    </tr>\n",
       "    <tr>\n",
       "      <th>5</th>\n",
       "      <td>gs://datachain-demo</td>\n",
       "      <td>fashion-product-images/images</td>\n",
       "      <td>11026.jpg</td>\n",
       "      <td>2246</td>\n",
       "      <td>1719489873101390</td>\n",
       "      <td>CM6E0/je+4YDEAE=</td>\n",
       "      <td>1</td>\n",
       "      <td>2024-06-27 12:04:33.151000+00:00</td>\n",
       "      <td>None</td>\n",
       "      <td></td>\n",
       "      <td>...</td>\n",
       "      <td>Navy Blue</td>\n",
       "      <td>Fall</td>\n",
       "      <td>2011.0</td>\n",
       "      <td>Casual</td>\n",
       "      <td>Wrangler Women Navy Blue Top</td>\n",
       "      <td>11026.jpg</td>\n",
       "      <td>test</td>\n",
       "      <td>[1.0086146593093872, -1.5825384855270386, -1.7...</td>\n",
       "      <td>0.127555</td>\n",
       "      <td>44.440092</td>\n",
       "    </tr>\n",
       "    <tr>\n",
       "      <th>6</th>\n",
       "      <td>gs://datachain-demo</td>\n",
       "      <td>fashion-product-images/images</td>\n",
       "      <td>10072.jpg</td>\n",
       "      <td>2035</td>\n",
       "      <td>1719489864265239</td>\n",
       "      <td>CJfct/Te+4YDEAE=</td>\n",
       "      <td>1</td>\n",
       "      <td>2024-06-27 12:04:24.316000+00:00</td>\n",
       "      <td>None</td>\n",
       "      <td></td>\n",
       "      <td>...</td>\n",
       "      <td>White</td>\n",
       "      <td>Fall</td>\n",
       "      <td>2011.0</td>\n",
       "      <td>Casual</td>\n",
       "      <td>Puma Women poster tee White Tshirts</td>\n",
       "      <td>10072.jpg</td>\n",
       "      <td>test</td>\n",
       "      <td>[0.31638103723526, -2.321152925491333, -4.1152...</td>\n",
       "      <td>0.127672</td>\n",
       "      <td>45.994383</td>\n",
       "    </tr>\n",
       "    <tr>\n",
       "      <th>7</th>\n",
       "      <td>gs://datachain-demo</td>\n",
       "      <td>fashion-product-images/images</td>\n",
       "      <td>11368.jpg</td>\n",
       "      <td>17301</td>\n",
       "      <td>1719489765987870</td>\n",
       "      <td>CJ6sycXe+4YDEAE=</td>\n",
       "      <td>1</td>\n",
       "      <td>2024-06-27 12:02:46.039000+00:00</td>\n",
       "      <td>None</td>\n",
       "      <td></td>\n",
       "      <td>...</td>\n",
       "      <td>Black</td>\n",
       "      <td>Fall</td>\n",
       "      <td>2011.0</td>\n",
       "      <td>Casual</td>\n",
       "      <td>United Colors Of Benetton Women Light Winter B...</td>\n",
       "      <td>11368.jpg</td>\n",
       "      <td>test</td>\n",
       "      <td>[1.813947319984436, -2.7409236431121826, -3.80...</td>\n",
       "      <td>0.129632</td>\n",
       "      <td>46.752984</td>\n",
       "    </tr>\n",
       "    <tr>\n",
       "      <th>8</th>\n",
       "      <td>gs://datachain-demo</td>\n",
       "      <td>fashion-product-images/images</td>\n",
       "      <td>10676.jpg</td>\n",
       "      <td>2516</td>\n",
       "      <td>1719489820568448</td>\n",
       "      <td>CIDXzN/e+4YDEAE=</td>\n",
       "      <td>1</td>\n",
       "      <td>2024-06-27 12:03:40.621000+00:00</td>\n",
       "      <td>None</td>\n",
       "      <td></td>\n",
       "      <td>...</td>\n",
       "      <td>Red</td>\n",
       "      <td>Fall</td>\n",
       "      <td>2011.0</td>\n",
       "      <td>Casual</td>\n",
       "      <td>Doodle Girl Bubbles Red Tops</td>\n",
       "      <td>10676.jpg</td>\n",
       "      <td>test</td>\n",
       "      <td>[0.03944031894207001, 1.348001480102539, -1.09...</td>\n",
       "      <td>0.129913</td>\n",
       "      <td>45.554407</td>\n",
       "    </tr>\n",
       "    <tr>\n",
       "      <th>9</th>\n",
       "      <td>gs://datachain-demo</td>\n",
       "      <td>fashion-product-images/images</td>\n",
       "      <td>10577.jpg</td>\n",
       "      <td>23000</td>\n",
       "      <td>1719489704772809</td>\n",
       "      <td>CMmJsaje+4YDEAE=</td>\n",
       "      <td>1</td>\n",
       "      <td>2024-06-27 12:01:44.824000+00:00</td>\n",
       "      <td>None</td>\n",
       "      <td></td>\n",
       "      <td>...</td>\n",
       "      <td>Black</td>\n",
       "      <td>Fall</td>\n",
       "      <td>2011.0</td>\n",
       "      <td>Casual</td>\n",
       "      <td>Puma Women's Ess Black Polo Tshirts</td>\n",
       "      <td>10577.jpg</td>\n",
       "      <td>test</td>\n",
       "      <td>[1.2349650859832764, -2.1185736656188965, -2.0...</td>\n",
       "      <td>0.130718</td>\n",
       "      <td>45.721551</td>\n",
       "    </tr>\n",
       "  </tbody>\n",
       "</table>\n",
       "<p>10 rows × 24 columns</p>\n",
       "</div>"
      ],
      "text/plain": [
       "                  file                                                   \\\n",
       "                source                         parent       name   size   \n",
       "0  gs://datachain-demo  fashion-product-images/images  10031.jpg  14140   \n",
       "1  gs://datachain-demo  fashion-product-images/images  10763.jpg   2656   \n",
       "2  gs://datachain-demo  fashion-product-images/images  10041.jpg  14903   \n",
       "3  gs://datachain-demo  fashion-product-images/images  11273.jpg   2750   \n",
       "4  gs://datachain-demo  fashion-product-images/images  10777.jpg   2273   \n",
       "5  gs://datachain-demo  fashion-product-images/images  11026.jpg   2246   \n",
       "6  gs://datachain-demo  fashion-product-images/images  10072.jpg   2035   \n",
       "7  gs://datachain-demo  fashion-product-images/images  11368.jpg  17301   \n",
       "8  gs://datachain-demo  fashion-product-images/images  10676.jpg   2516   \n",
       "9  gs://datachain-demo  fashion-product-images/images  10577.jpg  23000   \n",
       "\n",
       "                                                 \\\n",
       "            version              etag is_latest   \n",
       "0  1719489606425471  CP+2vvnd+4YDEAE=         1   \n",
       "1  1719489744799056  CNCKvLve+4YDEAE=         1   \n",
       "2  1719489431875380  CLTeoKbd+4YDEAE=         1   \n",
       "3  1719489599959859  CLPms/bd+4YDEAE=         1   \n",
       "4  1719489744919361  CMG2w7ve+4YDEAE=         1   \n",
       "5  1719489873101390  CM6E0/je+4YDEAE=         1   \n",
       "6  1719489864265239  CJfct/Te+4YDEAE=         1   \n",
       "7  1719489765987870  CJ6sycXe+4YDEAE=         1   \n",
       "8  1719489820568448  CIDXzN/e+4YDEAE=         1   \n",
       "9  1719489704772809  CMmJsaje+4YDEAE=         1   \n",
       "\n",
       "                                                   ... basecolour  season  \\\n",
       "                     last_modified location vtype  ...                      \n",
       "0 2024-06-27 12:00:06.484000+00:00     None        ...  Navy Blue    Fall   \n",
       "1 2024-06-27 12:02:24.851000+00:00     None        ...       Blue  Summer   \n",
       "2 2024-06-27 11:57:11.923000+00:00     None        ...      Brown    Fall   \n",
       "3 2024-06-27 12:00:00.016000+00:00     None        ...       Blue    Fall   \n",
       "4 2024-06-27 12:02:24.973000+00:00     None        ...     Purple  Summer   \n",
       "5 2024-06-27 12:04:33.151000+00:00     None        ...  Navy Blue    Fall   \n",
       "6 2024-06-27 12:04:24.316000+00:00     None        ...      White    Fall   \n",
       "7 2024-06-27 12:02:46.039000+00:00     None        ...      Black    Fall   \n",
       "8 2024-06-27 12:03:40.621000+00:00     None        ...        Red    Fall   \n",
       "9 2024-06-27 12:01:44.824000+00:00     None        ...      Black    Fall   \n",
       "\n",
       "     year   usage                                 productdisplayname  \\\n",
       "                                                                       \n",
       "0  2011.0  Sports          Nike Men As Arsenal Co Navy Blue T-Shirts   \n",
       "1  2012.0  Sports                      Nike Men Trainng Blue T-shirt   \n",
       "2  2011.0  Sports                      Nike Women Brown Polo T-shirt   \n",
       "3  2011.0  Casual                              Nike Men  Blue Jacket   \n",
       "4  2011.0  Sports                    Nike Women Hooded Purple Jacket   \n",
       "5  2011.0  Casual                       Wrangler Women Navy Blue Top   \n",
       "6  2011.0  Casual                Puma Women poster tee White Tshirts   \n",
       "7  2011.0  Casual  United Colors Of Benetton Women Light Winter B...   \n",
       "8  2011.0  Casual                       Doodle Girl Bubbles Red Tops   \n",
       "9  2011.0  Casual                Puma Women's Ess Black Polo Tshirts   \n",
       "\n",
       "    filename split                                         embeddings  \\\n",
       "                                                                        \n",
       "0  10031.jpg  test  [2.7547712326049805, 0.6360965967178345, -2.07...   \n",
       "1  10763.jpg  test  [0.7373706102371216, 0.35680142045021057, -1.8...   \n",
       "2  10041.jpg  test  [3.038275718688965, -0.5758943557739258, -1.88...   \n",
       "3  11273.jpg  test  [1.6432523727416992, -0.7086354494094849, -1.2...   \n",
       "4  10777.jpg  test  [2.219156503677368, -1.0878366231918335, -2.05...   \n",
       "5  11026.jpg  test  [1.0086146593093872, -1.5825384855270386, -1.7...   \n",
       "6  10072.jpg  test  [0.31638103723526, -2.321152925491333, -4.1152...   \n",
       "7  11368.jpg  test  [1.813947319984436, -2.7409236431121826, -3.80...   \n",
       "8  10676.jpg  test  [0.03944031894207001, 1.348001480102539, -1.09...   \n",
       "9  10577.jpg  test  [1.2349650859832764, -2.1185736656188965, -2.0...   \n",
       "\n",
       "   cos_dist  eucl_dist  \n",
       "                        \n",
       "0  0.000000   0.000000  \n",
       "1  0.048846  28.370707  \n",
       "2  0.050027  28.715128  \n",
       "3  0.076608  36.697293  \n",
       "4  0.101914  41.495490  \n",
       "5  0.127555  44.440092  \n",
       "6  0.127672  45.994383  \n",
       "7  0.129632  46.752984  \n",
       "8  0.129913  45.554407  \n",
       "9  0.130718  45.721551  \n",
       "\n",
       "[10 rows x 24 columns]"
      ]
     },
     "execution_count": 26,
     "metadata": {},
     "output_type": "execute_result"
    }
   ],
   "source": [
    "sim_ds = DataChain.from_dataset(\"fashion-similarity\").order_by(\"cos_dist\")\n",
    "sim = sim_ds.to_pandas()\n",
    "sim.head(10)"
   ]
  },
  {
   "cell_type": "code",
   "execution_count": 27,
   "id": "3a7732f1-1689-4dce-bd4e-5672c01143cc",
   "metadata": {
    "execution": {
     "iopub.execute_input": "2024-07-26T13:02:58.445695Z",
     "iopub.status.busy": "2024-07-26T13:02:58.445583Z",
     "iopub.status.idle": "2024-07-26T13:02:59.593753Z",
     "shell.execute_reply": "2024-07-26T13:02:59.593381Z"
    },
    "papermill": {
     "duration": 1.157744,
     "end_time": "2024-07-26T13:02:59.594802",
     "exception": false,
     "start_time": "2024-07-26T13:02:58.437058",
     "status": "completed"
    },
    "tags": []
   },
   "outputs": [
    {
     "name": "stdout",
     "output_type": "stream",
     "text": [
      "10031.jpg\n"
     ]
    },
    {
     "data": {
      "image/jpeg": "[encoded data removed]",
      "image/png": "[encoded data removed]",
      "text/plain": [
       "<PIL.JpegImagePlugin.JpegImageFile image mode=RGB size=60x80>"
      ]
     },
     "metadata": {},
     "output_type": "display_data"
    },
    {
     "name": "stdout",
     "output_type": "stream",
     "text": [
      "10763.jpg\n"
     ]
    },
    {
     "data": {
      "image/jpeg": "[encoded data removed]",
      "image/png": "[encoded data removed]",
      "text/plain": [
       "<PIL.JpegImagePlugin.JpegImageFile image mode=RGB size=60x80>"
      ]
     },
     "metadata": {},
     "output_type": "display_data"
    },
    {
     "name": "stdout",
     "output_type": "stream",
     "text": [
      "10364.jpg\n"
     ]
    },
    {
     "data": {
      "image/jpeg": "[encoded data removed]",
      "image/png": "[encoded data removed]",
      "text/plain": [
       "<PIL.JpegImagePlugin.JpegImageFile image mode=RGB size=60x80>"
      ]
     },
     "metadata": {},
     "output_type": "display_data"
    }
   ],
   "source": [
    "# Select images to display: target image, the most similar and the least similar \n",
    "img_names = [\n",
    "    TARGET_NAME,\n",
    "    sim.file.name[1], # Most Similar\n",
    "    sim.file.name.iloc[-1] # Least Similar\n",
    "]\n",
    "\n",
    "# Save images in local temporary files\n",
    "images = []\n",
    "for name in img_names:\n",
    "    print(name)\n",
    "    try:\n",
    "        sample = sim_ds.filter(C(\"file.name\") == name).save()\n",
    "        img = next(sample.collect(\"file\")).read()\n",
    "        images.append({name: img})\n",
    "        display(img)\n",
    "    except:  # noqa: E722\n",
    "        print(\"Stop: \", name)\n"
   ]
  },
  {
   "cell_type": "code",
   "execution_count": 28,
   "id": "3262ad65-1b89-4bff-914e-75ce450c6327",
   "metadata": {
    "execution": {
     "iopub.execute_input": "2024-07-26T13:02:59.613253Z",
     "iopub.status.busy": "2024-07-26T13:02:59.613120Z",
     "iopub.status.idle": "2024-07-26T13:02:59.724050Z",
     "shell.execute_reply": "2024-07-26T13:02:59.723811Z"
    },
    "papermill": {
     "duration": 0.120724,
     "end_time": "2024-07-26T13:02:59.724934",
     "exception": false,
     "start_time": "2024-07-26T13:02:59.604210",
     "status": "completed"
    },
    "tags": []
   },
   "outputs": [
    {
     "data": {
      "image/png": "[encoded data removed]",
      "text/plain": [
       "<Figure size 600x400 with 3 Axes>"
      ]
     },
     "metadata": {},
     "output_type": "display_data"
    }
   ],
   "source": [
    "# Create subplots\n",
    "\n",
    "f, ax_arr = plt.subplots(1, len(img_names), figsize=(6, 4))\n",
    "title = \"Displaying images matrix\"\n",
    "f.suptitle(title, fontsize=16)\n",
    "\n",
    "# Plot images\n",
    "for i, ax in enumerate(ax_arr):\n",
    "    name = next(iter(images[i].keys()))\n",
    "    img = images[i][name]\n",
    "    ax.imshow(img) # Read & show image from a temporary file\n",
    "    ax.set_title(name)\n",
    "plt.show()\n"
   ]
  },
  {
   "cell_type": "markdown",
   "id": "f0a6a7f7-82d7-4b2a-9fa2-c691326ac08f",
   "metadata": {
    "papermill": {
     "duration": 0.008743,
     "end_time": "2024-07-26T13:02:59.742462",
     "exception": false,
     "start_time": "2024-07-26T13:02:59.733719",
     "status": "completed"
    },
    "tags": []
   },
   "source": [
    "# 🧹 Finding and Removing Redundant Images\n",
    "\n",
    "In this tutorial, you'll learn how to use DataChain to minimize redundant images in a dataset by selecting a diverse subset of images. \n",
    "\n",
    "- This is particularly useful when working with multiple product images captured from different angles\n",
    "- It helps speed up computations and cut the costs \n",
    "\n",
    "Following these steps, you can effectively minimize redundant images in your dataset by selecting a diverse subset of images using DataChain and the `select_diverse_elements()` function.\n",
    "\n",
    "**Note:**\n",
    "- Make sure to implement (or import) the `select_diverse_elements()` function in the `src.clustering` module for this code to work."
   ]
  },
  {
   "cell_type": "code",
   "execution_count": 29,
   "id": "364fbd27-e33a-48d7-bb23-06d990a08ea4",
   "metadata": {
    "execution": {
     "iopub.execute_input": "2024-07-26T13:02:59.760259Z",
     "iopub.status.busy": "2024-07-26T13:02:59.760168Z",
     "iopub.status.idle": "2024-07-26T13:02:59.775803Z",
     "shell.execute_reply": "2024-07-26T13:02:59.775546Z"
    },
    "papermill": {
     "duration": 0.025494,
     "end_time": "2024-07-26T13:02:59.776609",
     "exception": false,
     "start_time": "2024-07-26T13:02:59.751115",
     "status": "completed"
    },
    "scrolled": true,
    "tags": []
   },
   "outputs": [],
   "source": [
    "# %pip install umap-learn"
   ]
  },
  {
   "cell_type": "code",
   "execution_count": 30,
   "id": "74ae0cb5-1fd0-4a84-8ccf-6aee411769a2",
   "metadata": {
    "execution": {
     "iopub.execute_input": "2024-07-26T13:02:59.794907Z",
     "iopub.status.busy": "2024-07-26T13:02:59.794820Z",
     "iopub.status.idle": "2024-07-26T13:03:01.689912Z",
     "shell.execute_reply": "2024-07-26T13:03:01.689531Z"
    },
    "papermill": {
     "duration": 1.905381,
     "end_time": "2024-07-26T13:03:01.690926",
     "exception": false,
     "start_time": "2024-07-26T13:02:59.785545",
     "status": "completed"
    },
    "tags": []
   },
   "outputs": [
    {
     "name": "stderr",
     "output_type": "stream",
     "text": [
      "/Users/mikhailrozhkov/dev/datachain/datachain/examples/computer_vision/fashion_product_images/.venv/lib/python3.11/site-packages/tqdm/auto.py:21: TqdmWarning: IProgress not found. Please update jupyter and ipywidgets. See https://ipywidgets.readthedocs.io/en/stable/user_install.html\n",
      "  from .autonotebook import tqdm as notebook_tqdm\n"
     ]
    }
   ],
   "source": [
    "import matplotlib.pyplot as plt\n",
    "import os\n",
    "import random\n",
    "\n",
    "from matplotlib.offsetbox import AnnotationBbox, OffsetImage\n",
    "from PIL import Image\n",
    "from umap import UMAP\n",
    "from src.clustering import select_diverse_elements"
   ]
  },
  {
   "cell_type": "markdown",
   "id": "63b66761-b696-46bd-bf0e-694291e8406e",
   "metadata": {
    "papermill": {
     "duration": 0.008723,
     "end_time": "2024-07-26T13:03:01.708512",
     "exception": false,
     "start_time": "2024-07-26T13:03:01.699789",
     "status": "completed"
    },
    "tags": []
   },
   "source": [
    "## Select groups to remove redundant images "
   ]
  },
  {
   "cell_type": "code",
   "execution_count": 31,
   "id": "00874c0b-880e-4144-80f2-71f76e47c1e1",
   "metadata": {
    "execution": {
     "iopub.execute_input": "2024-07-26T13:03:01.726509Z",
     "iopub.status.busy": "2024-07-26T13:03:01.726288Z",
     "iopub.status.idle": "2024-07-26T13:03:01.799808Z",
     "shell.execute_reply": "2024-07-26T13:03:01.799550Z"
    },
    "papermill": {
     "duration": 0.08343,
     "end_time": "2024-07-26T13:03:01.800661",
     "exception": false,
     "start_time": "2024-07-26T13:03:01.717231",
     "status": "completed"
    },
    "scrolled": true,
    "tags": []
   },
   "outputs": [
    {
     "data": {
      "text/html": [
       "<div>\n",
       "<style scoped>\n",
       "    .dataframe tbody tr th:only-of-type {\n",
       "        vertical-align: middle;\n",
       "    }\n",
       "\n",
       "    .dataframe tbody tr th {\n",
       "        vertical-align: top;\n",
       "    }\n",
       "\n",
       "    .dataframe thead tr th {\n",
       "        text-align: left;\n",
       "    }\n",
       "</style>\n",
       "<table border=\"1\" class=\"dataframe\">\n",
       "  <thead>\n",
       "    <tr>\n",
       "      <th></th>\n",
       "      <th>file</th>\n",
       "      <th>file</th>\n",
       "      <th>file</th>\n",
       "      <th>file</th>\n",
       "      <th>file</th>\n",
       "      <th>file</th>\n",
       "      <th>file</th>\n",
       "      <th>file</th>\n",
       "      <th>file</th>\n",
       "      <th>file</th>\n",
       "      <th>gender</th>\n",
       "      <th>mastercategory</th>\n",
       "      <th>subcategory</th>\n",
       "      <th>articletype</th>\n",
       "      <th>basecolour</th>\n",
       "      <th>season</th>\n",
       "      <th>year</th>\n",
       "      <th>usage</th>\n",
       "      <th>productdisplayname</th>\n",
       "      <th>filename</th>\n",
       "      <th>split</th>\n",
       "      <th>embeddings</th>\n",
       "    </tr>\n",
       "    <tr>\n",
       "      <th></th>\n",
       "      <th>source</th>\n",
       "      <th>parent</th>\n",
       "      <th>name</th>\n",
       "      <th>size</th>\n",
       "      <th>version</th>\n",
       "      <th>etag</th>\n",
       "      <th>is_latest</th>\n",
       "      <th>last_modified</th>\n",
       "      <th>location</th>\n",
       "      <th>vtype</th>\n",
       "      <th></th>\n",
       "      <th></th>\n",
       "      <th></th>\n",
       "      <th></th>\n",
       "      <th></th>\n",
       "      <th></th>\n",
       "      <th></th>\n",
       "      <th></th>\n",
       "      <th></th>\n",
       "      <th></th>\n",
       "      <th></th>\n",
       "      <th></th>\n",
       "    </tr>\n",
       "  </thead>\n",
       "  <tbody>\n",
       "    <tr>\n",
       "      <th>0</th>\n",
       "      <td>gs://datachain-demo</td>\n",
       "      <td>fashion-product-images/images</td>\n",
       "      <td>10031.jpg</td>\n",
       "      <td>14140</td>\n",
       "      <td>1719489606425471</td>\n",
       "      <td>CP+2vvnd+4YDEAE=</td>\n",
       "      <td>1</td>\n",
       "      <td>2024-06-27 12:00:06.484000+00:00</td>\n",
       "      <td>None</td>\n",
       "      <td></td>\n",
       "      <td>Men</td>\n",
       "      <td>Apparel</td>\n",
       "      <td>Topwear</td>\n",
       "      <td>Tshirts</td>\n",
       "      <td>Navy Blue</td>\n",
       "      <td>Fall</td>\n",
       "      <td>2011.0</td>\n",
       "      <td>Sports</td>\n",
       "      <td>Nike Men As Arsenal Co Navy Blue T-Shirts</td>\n",
       "      <td>10031.jpg</td>\n",
       "      <td>test</td>\n",
       "      <td>[2.7547712326049805, 0.6360965967178345, -2.07...</td>\n",
       "    </tr>\n",
       "    <tr>\n",
       "      <th>1</th>\n",
       "      <td>gs://datachain-demo</td>\n",
       "      <td>fashion-product-images/images</td>\n",
       "      <td>10041.jpg</td>\n",
       "      <td>14903</td>\n",
       "      <td>1719489431875380</td>\n",
       "      <td>CLTeoKbd+4YDEAE=</td>\n",
       "      <td>1</td>\n",
       "      <td>2024-06-27 11:57:11.923000+00:00</td>\n",
       "      <td>None</td>\n",
       "      <td></td>\n",
       "      <td>Women</td>\n",
       "      <td>Apparel</td>\n",
       "      <td>Topwear</td>\n",
       "      <td>Tshirts</td>\n",
       "      <td>Brown</td>\n",
       "      <td>Fall</td>\n",
       "      <td>2011.0</td>\n",
       "      <td>Sports</td>\n",
       "      <td>Nike Women Brown Polo T-shirt</td>\n",
       "      <td>10041.jpg</td>\n",
       "      <td>test</td>\n",
       "      <td>[3.038275718688965, -0.5758943557739258, -1.88...</td>\n",
       "    </tr>\n",
       "    <tr>\n",
       "      <th>2</th>\n",
       "      <td>gs://datachain-demo</td>\n",
       "      <td>fashion-product-images/images</td>\n",
       "      <td>10046.jpg</td>\n",
       "      <td>2167</td>\n",
       "      <td>1719489475747404</td>\n",
       "      <td>CMy8lrvd+4YDEAE=</td>\n",
       "      <td>1</td>\n",
       "      <td>2024-06-27 11:57:55.797000+00:00</td>\n",
       "      <td>None</td>\n",
       "      <td></td>\n",
       "      <td>Men</td>\n",
       "      <td>Apparel</td>\n",
       "      <td>Topwear</td>\n",
       "      <td>Tshirts</td>\n",
       "      <td>Green</td>\n",
       "      <td>Fall</td>\n",
       "      <td>2011.0</td>\n",
       "      <td>Casual</td>\n",
       "      <td>Puma Men Heroes Graphic Green Tshirts</td>\n",
       "      <td>10046.jpg</td>\n",
       "      <td>test</td>\n",
       "      <td>[0.7890118360519409, -1.0600147247314453, -1.9...</td>\n",
       "    </tr>\n",
       "  </tbody>\n",
       "</table>\n",
       "</div>"
      ],
      "text/plain": [
       "                  file                           file       file   file  \\\n",
       "                source                         parent       name   size   \n",
       "0  gs://datachain-demo  fashion-product-images/images  10031.jpg  14140   \n",
       "1  gs://datachain-demo  fashion-product-images/images  10041.jpg  14903   \n",
       "2  gs://datachain-demo  fashion-product-images/images  10046.jpg   2167   \n",
       "\n",
       "               file              file      file  \\\n",
       "            version              etag is_latest   \n",
       "0  1719489606425471  CP+2vvnd+4YDEAE=         1   \n",
       "1  1719489431875380  CLTeoKbd+4YDEAE=         1   \n",
       "2  1719489475747404  CMy8lrvd+4YDEAE=         1   \n",
       "\n",
       "                              file     file  file gender mastercategory  \\\n",
       "                     last_modified location vtype                         \n",
       "0 2024-06-27 12:00:06.484000+00:00     None          Men        Apparel   \n",
       "1 2024-06-27 11:57:11.923000+00:00     None        Women        Apparel   \n",
       "2 2024-06-27 11:57:55.797000+00:00     None          Men        Apparel   \n",
       "\n",
       "  subcategory articletype basecolour season    year   usage  \\\n",
       "                                                              \n",
       "0     Topwear     Tshirts  Navy Blue   Fall  2011.0  Sports   \n",
       "1     Topwear     Tshirts      Brown   Fall  2011.0  Sports   \n",
       "2     Topwear     Tshirts      Green   Fall  2011.0  Casual   \n",
       "\n",
       "                          productdisplayname   filename split  \\\n",
       "                                                                \n",
       "0  Nike Men As Arsenal Co Navy Blue T-Shirts  10031.jpg  test   \n",
       "1              Nike Women Brown Polo T-shirt  10041.jpg  test   \n",
       "2      Puma Men Heroes Graphic Green Tshirts  10046.jpg  test   \n",
       "\n",
       "                                          embeddings  \n",
       "                                                      \n",
       "0  [2.7547712326049805, 0.6360965967178345, -2.07...  \n",
       "1  [3.038275718688965, -0.5758943557739258, -1.88...  \n",
       "2  [0.7890118360519409, -1.0600147247314453, -1.9...  "
      ]
     },
     "metadata": {},
     "output_type": "display_data"
    },
    {
     "name": "stdout",
     "output_type": "stream",
     "text": [
      "\n",
      "[Limited by 3 rows]\n"
     ]
    }
   ],
   "source": [
    "# Select GROUPS to remove redundant images\n",
    "\n",
    "dc_source = DataChain.from_dataset(\"fashion-embeddings\")\n",
    "dc_source.show(3)"
   ]
  },
  {
   "cell_type": "code",
   "execution_count": 32,
   "id": "14c8f342-1563-43ac-b7f8-be1a14c34c42",
   "metadata": {
    "execution": {
     "iopub.execute_input": "2024-07-26T13:03:01.819228Z",
     "iopub.status.busy": "2024-07-26T13:03:01.819124Z",
     "iopub.status.idle": "2024-07-26T13:03:01.876042Z",
     "shell.execute_reply": "2024-07-26T13:03:01.875792Z"
    },
    "papermill": {
     "duration": 0.067021,
     "end_time": "2024-07-26T13:03:01.876868",
     "exception": false,
     "start_time": "2024-07-26T13:03:01.809847",
     "status": "completed"
    },
    "tags": []
   },
   "outputs": [
    {
     "data": {
      "text/plain": [
       "articletype\n",
       "Tshirts    42\n",
       "Shirts     35\n",
       "Tops       15\n",
       "Name: count, dtype: int64"
      ]
     },
     "execution_count": 32,
     "metadata": {},
     "output_type": "execute_result"
    }
   ],
   "source": [
    "# Select groups with large number of images (>100)\n",
    "\n",
    "df = dc_source.to_pandas()\n",
    "grouped = df.groupby(\"articletype\").filter(lambda x: len(x) > 10)\n",
    "grouped.articletype.value_counts()"
   ]
  },
  {
   "cell_type": "code",
   "execution_count": 33,
   "id": "74977f0e-9cd2-4367-aa6f-a9cdb8f66f3d",
   "metadata": {
    "execution": {
     "iopub.execute_input": "2024-07-26T13:03:01.895395Z",
     "iopub.status.busy": "2024-07-26T13:03:01.895302Z",
     "iopub.status.idle": "2024-07-26T13:03:01.914918Z",
     "shell.execute_reply": "2024-07-26T13:03:01.914646Z"
    },
    "papermill": {
     "duration": 0.02998,
     "end_time": "2024-07-26T13:03:01.915788",
     "exception": false,
     "start_time": "2024-07-26T13:03:01.885808",
     "status": "completed"
    },
    "tags": []
   },
   "outputs": [
    {
     "data": {
      "text/plain": [
       "['Tshirts', 'Shirts', 'Tops']"
      ]
     },
     "execution_count": 33,
     "metadata": {},
     "output_type": "execute_result"
    }
   ],
   "source": [
    "# Get the list of  groups to remove redundant images\n",
    "\n",
    "GROUPS = grouped[\"articletype\"].unique().tolist()\n",
    "GROUPS"
   ]
  },
  {
   "cell_type": "markdown",
   "id": "392c4f24-d661-437b-9821-95cae3232de9",
   "metadata": {
    "papermill": {
     "duration": 0.00914,
     "end_time": "2024-07-26T13:03:01.934222",
     "exception": false,
     "start_time": "2024-07-26T13:03:01.925082",
     "status": "completed"
    },
    "tags": []
   },
   "source": [
    "## Set the parameters for selecting diverse images"
   ]
  },
  {
   "cell_type": "code",
   "execution_count": 34,
   "id": "d9eb58ce-8623-4285-beba-9404bbe25e10",
   "metadata": {
    "execution": {
     "iopub.execute_input": "2024-07-26T13:03:01.952880Z",
     "iopub.status.busy": "2024-07-26T13:03:01.952793Z",
     "iopub.status.idle": "2024-07-26T13:03:01.971402Z",
     "shell.execute_reply": "2024-07-26T13:03:01.971117Z"
    },
    "papermill": {
     "duration": 0.028936,
     "end_time": "2024-07-26T13:03:01.972239",
     "exception": false,
     "start_time": "2024-07-26T13:03:01.943303",
     "status": "completed"
    },
    "tags": []
   },
   "outputs": [],
   "source": [
    "num_clusters = 6                 # Expected number of clusters\n",
    "top_d = 10                       # Number of images from each cluster\n",
    "tot_num = num_clusters * top_d   # Expected max number for diverse images"
   ]
  },
  {
   "cell_type": "markdown",
   "id": "ee01adb0-a8c6-4d1b-bfa6-4abcbdf9c2ce",
   "metadata": {
    "papermill": {
     "duration": 0.009021,
     "end_time": "2024-07-26T13:03:01.990360",
     "exception": false,
     "start_time": "2024-07-26T13:03:01.981339",
     "status": "completed"
    },
    "tags": []
   },
   "source": [
    "## Select `top_d` diverse images for each value in `UPC`"
   ]
  },
  {
   "cell_type": "code",
   "execution_count": 35,
   "id": "777a8e0e-ba13-4de9-beab-4fb1e0d63096",
   "metadata": {
    "execution": {
     "iopub.execute_input": "2024-07-26T13:03:02.008709Z",
     "iopub.status.busy": "2024-07-26T13:03:02.008619Z",
     "iopub.status.idle": "2024-07-26T13:03:02.159265Z",
     "shell.execute_reply": "2024-07-26T13:03:02.158855Z"
    },
    "papermill": {
     "duration": 0.161299,
     "end_time": "2024-07-26T13:03:02.160518",
     "exception": false,
     "start_time": "2024-07-26T13:03:01.999219",
     "status": "completed"
    },
    "scrolled": true,
    "tags": []
   },
   "outputs": [
    {
     "name": "stdout",
     "output_type": "stream",
     "text": [
      "Tshirts\n",
      "Indices of the most diverse elements: [np.int64(7), np.int64(10), np.int64(23), np.int64(21), np.int64(20), np.int64(17), np.int64(8), np.int64(13), np.int64(27), np.int64(18), np.int64(9), np.int64(14), np.int64(37), np.int64(31), np.int64(4), np.int64(30), np.int64(35), np.int64(34), np.int64(11), np.int64(3), np.int64(41), np.int64(40), np.int64(24), np.int64(25), np.int64(28), np.int64(0), np.int64(1), np.int64(29)]\n",
      "Shirts\n",
      "Indices of the most diverse elements: [np.int64(18), np.int64(15), np.int64(7), np.int64(12), np.int64(14), np.int64(6), np.int64(11), np.int64(16), np.int64(3), np.int64(19), np.int64(23), np.int64(26), np.int64(0), np.int64(24), np.int64(25), np.int64(22), np.int64(10), np.int64(28), np.int64(33), np.int64(13), np.int64(29), np.int64(9), np.int64(17), np.int64(32), np.int64(8), np.int64(27), np.int64(5), np.int64(31), np.int64(1), np.int64(30), np.int64(34)]\n",
      "Tops\n",
      "Indices of the most diverse elements: [np.int64(8), np.int64(11), np.int64(12), np.int64(4), np.int64(1), np.int64(10), np.int64(9), np.int64(14), np.int64(2), np.int64(6), np.int64(5), np.int64(13), np.int64(7), np.int64(0), np.int64(3)]\n"
     ]
    }
   ],
   "source": [
    "# Select top_d diverse images for each DUP group\n",
    "\n",
    "diverse_ids = []                # IDs in DataChain dataset\n",
    "\n",
    "for IMAGE_GROUP in GROUPS:\n",
    "    print(IMAGE_GROUP)\n",
    "\n",
    "    # Load Dataset\n",
    "    ds_dup = (\n",
    "        dc_source\n",
    "        .filter(C(\"articleType\") == IMAGE_GROUP)\n",
    "    )\n",
    "\n",
    "    # Get embeddings\n",
    "    emb_all = ds_dup.select(\"embeddings\").results() # -> list(tuple)\n",
    "\n",
    "    # Select diverse images\n",
    "    diverse_elements_indices = select_diverse_elements(emb_all, num_clusters, top_d)\n",
    "    diverse_ids.extend(diverse_elements_indices)\n",
    "    print(\"Indices of the most diverse elements:\", diverse_elements_indices)\n"
   ]
  },
  {
   "cell_type": "markdown",
   "id": "7d7d4ca7-7c4c-4d77-a5e0-d070bbd84538",
   "metadata": {
    "papermill": {
     "duration": 0.009361,
     "end_time": "2024-07-26T13:03:02.179544",
     "exception": false,
     "start_time": "2024-07-26T13:03:02.170183",
     "status": "completed"
    },
    "tags": []
   },
   "source": [
    "## Create a new dataset with the selected diverse images\n",
    "\n",
    "- The `fashion-embeddings` dataset is filtered to include only the selected diverse images\n",
    "- The resulting dataset is saved as `fashion-curated`"
   ]
  },
  {
   "cell_type": "code",
   "execution_count": 36,
   "id": "eefb85b5-9692-4af0-8b3c-f1b90e356527",
   "metadata": {
    "execution": {
     "iopub.execute_input": "2024-07-26T13:03:02.199241Z",
     "iopub.status.busy": "2024-07-26T13:03:02.199115Z",
     "iopub.status.idle": "2024-07-26T13:03:02.562640Z",
     "shell.execute_reply": "2024-07-26T13:03:02.562344Z"
    },
    "papermill": {
     "duration": 0.374657,
     "end_time": "2024-07-26T13:03:02.563509",
     "exception": false,
     "start_time": "2024-07-26T13:03:02.188852",
     "status": "completed"
    },
    "tags": []
   },
   "outputs": [
    {
     "name": "stdout",
     "output_type": "stream",
     "text": [
      "(100, 22)\n",
      "(38, 22)\n"
     ]
    }
   ],
   "source": [
    "# Select diverse items\n",
    "\n",
    "(\n",
    "    dc_source\n",
    "    .filter(C(\"sys.id\").in_(diverse_ids))\n",
    "    .save(\"fashion-curated\")\n",
    ")\n",
    "\n",
    "print(DataChain.from_dataset(\"fashion-embeddings\").to_pandas().shape)\n",
    "print(DataChain.from_dataset(\"fashion-curated\").to_pandas().shape)"
   ]
  },
  {
   "cell_type": "markdown",
   "id": "b87ae7cc-2efc-461a-a6c4-0d722c6a2322",
   "metadata": {
    "papermill": {
     "duration": 0.009063,
     "end_time": "2024-07-26T13:03:02.582254",
     "exception": false,
     "start_time": "2024-07-26T13:03:02.573191",
     "status": "completed"
    },
    "tags": []
   },
   "source": [
    "## Visualize Clusters\n",
    "\n",
    "This section demonstrates how to visualize image clusters using UMAP (Uniform Manifold Approximation and Projection) and matplotlib. \n",
    "Let's break it down:\n",
    "- 🔍 UMAP reduces high-dimensional embeddings to 2D for visualization.\n",
    "- 🎭 Random sampling (k_samples) ensures a diverse representation of images.\n",
    "- 🖼️ Image thumbnails are added to each point in the scatter plot.\n",
    "- 🎨 The plot uses a colorbar to differentiate clusters."
   ]
  },
  {
   "cell_type": "code",
   "execution_count": 37,
   "id": "56e9a51e-cfe6-40f3-9be5-668ca46c66d3",
   "metadata": {
    "execution": {
     "iopub.execute_input": "2024-07-26T13:03:02.600971Z",
     "iopub.status.busy": "2024-07-26T13:03:02.600864Z",
     "iopub.status.idle": "2024-07-26T13:03:02.676440Z",
     "shell.execute_reply": "2024-07-26T13:03:02.676038Z"
    },
    "papermill": {
     "duration": 0.086057,
     "end_time": "2024-07-26T13:03:02.677471",
     "exception": false,
     "start_time": "2024-07-26T13:03:02.591414",
     "status": "completed"
    },
    "scrolled": true,
    "tags": []
   },
   "outputs": [],
   "source": [
    "# Extract image paths and embeddings from the \"fashion-curated\" dataset\n",
    "\n",
    "image_paths = []\n",
    "image_embeddings = []\n",
    "\n",
    "for row in (\n",
    "    DataChain.from_dataset(\"fashion-curated\")\n",
    "    .select(\"file.source\", \"file.parent\", \"file.name\", \"embeddings\")\n",
    "    .collect()\n",
    "):\n",
    "    image_paths.append(os.path.join(row[0], row[1], row[2]))\n",
    "    image_embeddings.append(row[3])\n"
   ]
  },
  {
   "cell_type": "code",
   "execution_count": 38,
   "id": "8679d878-a80a-43f4-b74a-98f8a8078f63",
   "metadata": {
    "execution": {
     "iopub.execute_input": "2024-07-26T13:03:02.696537Z",
     "iopub.status.busy": "2024-07-26T13:03:02.696426Z",
     "iopub.status.idle": "2024-07-26T13:03:02.719420Z",
     "shell.execute_reply": "2024-07-26T13:03:02.719050Z"
    },
    "papermill": {
     "duration": 0.033667,
     "end_time": "2024-07-26T13:03:02.720519",
     "exception": false,
     "start_time": "2024-07-26T13:03:02.686852",
     "status": "completed"
    },
    "tags": []
   },
   "outputs": [],
   "source": [
    "def reduce_dimensions_umap(features, n_neighbors=15, n_components=2, metric=\"euclidean\"):\n",
    "    # This function uses UMAP to reduce the high-dimensional embeddings to 2D for visualization\n",
    "    reducer = UMAP(n_neighbors, n_components, metric)\n",
    "    embedding = reducer.fit_transform(features)\n",
    "    return embedding\n",
    "\n",
    "def plot_embeddings(ds: DataChain, embeddings: list, image_paths: list, k_samples=30):\n",
    "    # This function creates a scatter plot of the reduced embeddings and adds image thumbnails at each point.\n",
    "\n",
    "    # Ensure n_display does not exceed the number of image paths\n",
    "    k_samples = min(k_samples, len(image_paths))\n",
    "\n",
    "    # Generate random indexes\n",
    "    indexes = np.random.choice(len(image_paths), k_samples, replace=False)\n",
    "    selected_images = [image_paths[i] for i in indexes]\n",
    "    selected_embs = [embeddings[i] for i in indexes]\n",
    "    filenames = [os.path.basename(img_path) for img_path in selected_images]\n",
    "\n",
    "    # Extract (X,Y) values\n",
    "    x_values = [emb[0] for emb in selected_embs]\n",
    "    y_values = [emb[1] for emb in selected_embs]\n",
    "\n",
    "    # Configure the plot\n",
    "    plt.figure(figsize=(16, 8))\n",
    "    plt.scatter(x_values, y_values, s=5)\n",
    "    plt.gca().set_aspect(\"equal\", \"datalim\")\n",
    "    plt.colorbar(boundaries=np.arange(11)-0.5).set_ticks(np.arange(10))\n",
    "    plt.title(\"UMAP projection of the Image Dataset\", fontsize=24)\n",
    "    ax = plt.gca()\n",
    "\n",
    "    # Add image thumbnails at the points  \n",
    "    for i, name in enumerate(filenames):\n",
    "\n",
    "        # Extract image from DataChain\n",
    "        sample = ds.filter(C(\"file.name\") == name).save()\n",
    "        img = next(sample.collect(\"file\")).read()\n",
    "\n",
    "        # Attach thumbnail to the point\n",
    "        img.thumbnail((50, 50), Image.Resampling.LANCZOS)  # Updated line here\n",
    "        imagebox = OffsetImage(img, zoom=0.5)\n",
    "        ab = AnnotationBbox(imagebox, (x_values[i], y_values[i]), frameon=False)\n",
    "        ax.add_artist(ab)\n",
    "\n",
    "    plt.show()\n",
    "\n"
   ]
  },
  {
   "cell_type": "code",
   "execution_count": 39,
   "id": "46ae853a-41c4-47a6-a256-a30c2fc783f6",
   "metadata": {
    "execution": {
     "iopub.execute_input": "2024-07-26T13:03:02.740250Z",
     "iopub.status.busy": "2024-07-26T13:03:02.740146Z",
     "iopub.status.idle": "2024-07-26T13:03:05.277199Z",
     "shell.execute_reply": "2024-07-26T13:03:05.276787Z"
    },
    "papermill": {
     "duration": 2.548137,
     "end_time": "2024-07-26T13:03:05.278589",
     "exception": false,
     "start_time": "2024-07-26T13:03:02.730452",
     "status": "completed"
    },
    "scrolled": true,
    "tags": []
   },
   "outputs": [
    {
     "name": "stderr",
     "output_type": "stream",
     "text": [
      "OMP: Info #276: omp_set_nested routine deprecated, please use omp_set_max_active_levels instead.\n"
     ]
    },
    {
     "data": {
      "text/plain": [
       "array([[ 9.371945,  7.357095],\n",
       "       [ 9.618788,  6.844482],\n",
       "       [11.324745,  8.50208 ]], dtype=float32)"
      ]
     },
     "execution_count": 39,
     "metadata": {},
     "output_type": "execute_result"
    }
   ],
   "source": [
    "# Apply UMAP to reduce embeddings dimensions\n",
    "\n",
    "umap_v = reduce_dimensions_umap(\n",
    "    image_embeddings,\n",
    "    n_neighbors=15,\n",
    "    n_components=2,\n",
    "    metric=\"euclidean\",\n",
    ")\n",
    "\n",
    "umap_v[:3]"
   ]
  },
  {
   "cell_type": "code",
   "execution_count": 40,
   "id": "14966fe5-ff81-4458-8aee-73f6d265ce60",
   "metadata": {
    "execution": {
     "iopub.execute_input": "2024-07-26T13:03:05.298575Z",
     "iopub.status.busy": "2024-07-26T13:03:05.298449Z",
     "iopub.status.idle": "2024-07-26T13:03:20.473542Z",
     "shell.execute_reply": "2024-07-26T13:03:20.473257Z"
    },
    "papermill": {
     "duration": 15.186002,
     "end_time": "2024-07-26T13:03:20.474382",
     "exception": false,
     "start_time": "2024-07-26T13:03:05.288380",
     "status": "completed"
    },
    "tags": []
   },
   "outputs": [
    {
     "data": {
      "image/png": "[encoded data removed]",
      "text/plain": [
       "<Figure size 1600x800 with 2 Axes>"
      ]
     },
     "metadata": {},
     "output_type": "display_data"
    }
   ],
   "source": [
    "# Plot embeddings projection with image thumbnails\n",
    "\n",
    "plot_embeddings(\n",
    "    DataChain.from_dataset(\"fashion-curated\"),\n",
    "    umap_v,\n",
    "    image_paths,\n",
    "    k_samples=100)"
   ]
  },
  {
   "cell_type": "markdown",
   "id": "3228a4e8-cd03-4e1b-98b5-94caaa87850e",
   "metadata": {
    "papermill": {
     "duration": 0.009421,
     "end_time": "2024-07-26T13:03:20.493503",
     "exception": false,
     "start_time": "2024-07-26T13:03:20.484082",
     "status": "completed"
    },
    "tags": []
   },
   "source": [
    "# ☁️ Run in Studio (SaaS)\n",
    "\n",
    "<a href=\"https://datachain.ai/\">\n",
    "    <img src=\"static/images/studio.png\" alt=\"DataChain Studio SaaS\" style=\"width: 600px;\"/>\n",
    "</a>"
   ]
  },
  {
   "cell_type": "markdown",
   "id": "409740b0-1104-479f-b28b-06644cc5ffd0",
   "metadata": {
    "papermill": {
     "duration": 0.009376,
     "end_time": "2024-07-26T13:03:20.512188",
     "exception": false,
     "start_time": "2024-07-26T13:03:20.502812",
     "status": "completed"
    },
    "tags": []
   },
   "source": [
    "To run these examples in Studio, follow the guide\n",
    "\n",
    "1. Open Studio / YOUR_TEAM / `datasets` workspace\n",
    "2. Create a new Python Script\n",
    "3. Copy/past a script from (split into few smaller scripts for convenience only)\n",
    "   - `scripts/2-basic-operations.py`\n",
    "   - `scripts/2-embeddings.py`\n",
    "   - `scripts/2-similarity-search.py`\n",
    "   - `scripts/2-remove-redundant-images.py`\n",
    "5. Click the Run button\n"
   ]
  },
  {
   "cell_type": "markdown",
   "id": "0e4c4c97-e1c4-4d34-af2b-c563305eb678",
   "metadata": {
    "execution": {
     "iopub.execute_input": "2024-06-14T15:49:22.107073Z",
     "iopub.status.busy": "2024-06-14T15:49:22.106747Z",
     "iopub.status.idle": "2024-06-14T15:49:22.175240Z",
     "shell.execute_reply": "2024-06-14T15:49:22.174751Z",
     "shell.execute_reply.started": "2024-06-14T15:49:22.107050Z"
    },
    "papermill": {
     "duration": 0.009703,
     "end_time": "2024-07-26T13:03:20.531119",
     "exception": false,
     "start_time": "2024-07-26T13:03:20.521416",
     "status": "completed"
    },
    "tags": []
   },
   "source": [
    "# 🎉 Summary \n",
    "\n",
    "**🌟 Congratulations! You've Mastered Advanced Image DataChain Techniques! 🌟**\n",
    "\n",
    "In this tutorial, you've gained a wealth of knowledge and skills that will elevate your computer vision projects to new heights. Let's recap the key topics covered:\n",
    "\n",
    "- 🔍 **Basic Operations:** Connecting to image catalogs, filtering, sorting, annotating, and versioning datasets.\n",
    "- 🧩 **Splitting Datasets:** Dividing datasets into train, test, and validation subsets using the `train_test_split` UDF.\n",
    "- 🎨 **Generating & Managing Embeddings:** Calculating and saving image embeddings for advanced analysis.\n",
    "- 🔍 **Similarity Search:** Finding visually similar images and visualizing similarity distances.\n",
    "- 🧹 **Minimizing Redundant Images:** Identifying and removing redundant images for dataset optimization.\n",
    "- 🔍 **Visualizing Clusters:** Gaining insights into dataset structure through cluster visualization.\n",
    "\n",
    "## What's Next?\n",
    "\n",
    "Keep exploring, experimenting, and pushing the boundaries of what's possible in computer vision.  Check out the next parts of our tutorial series:\n",
    "- 🧠 Training Models\n",
    "- 🔮 Running Inference and Saving Predictions\n",
    "- 📊 Analyzing Predictions\n",
    "\n",
    "By mastering these techniques, you'll be well on your way to building powerful and efficient computer vision pipelines with DataChain.\n",
    "\n",
    "## Get Involved\n",
    "\n",
    "We'd love to have you join our growing community of DataChain users and contributors! Here's how you can get involved:\n",
    "- ⭐ Give us a star on [GitHub](https://github.com/iterative/datachain) to show your support\n",
    "- 🌐 Visit the [datachain.ai website](https://datachain.ai/) to learn more about our products and services\n",
    "- 📞 Contact us to discuss how DataChain can help streamline your company's ML workflows\n",
    "- 🙌 Follow us on social media for the latest updates and insights\n",
    "\n",
    "Thanks for choosing DataChain, and happy coding! 😄"
   ]
  },
  {
   "cell_type": "code",
   "execution_count": null,
   "id": "de3c0676-7d70-4f32-87bd-baa8ebdb226b",
   "metadata": {
    "papermill": {
     "duration": 0.009412,
     "end_time": "2024-07-26T13:03:20.550011",
     "exception": false,
     "start_time": "2024-07-26T13:03:20.540599",
     "status": "completed"
    },
    "tags": []
   },
   "outputs": [],
   "source": []
  }
 ],
 "metadata": {
  "kernelspec": {
   "display_name": "Python 3 (ipykernel)",
   "language": "python",
   "name": "python3"
  },
  "language_info": {
   "codemirror_mode": {
    "name": "ipython",
    "version": 3
   },
   "file_extension": ".py",
   "mimetype": "text/x-python",
   "name": "python",
   "nbconvert_exporter": "python",
   "pygments_lexer": "ipython3",
   "version": "3.11.6"
  },
  "papermill": {
   "default_parameters": {},
   "duration": 46.577315,
   "end_time": "2024-07-26T13:03:21.482708",
   "environment_variables": {},
   "exception": null,
   "input_path": "2-working-with-image-datachains.ipynb",
   "output_path": "2-working-with-image-datachains.ipynb",
   "parameters": {},
   "start_time": "2024-07-26T13:02:34.905393",
   "version": "2.6.0"
  }
 },
 "nbformat": 4,
 "nbformat_minor": 5
}
