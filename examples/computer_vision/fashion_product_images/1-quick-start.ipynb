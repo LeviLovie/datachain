{
 "cells": [
  {
   "cell_type": "markdown",
   "id": "cd9bdbec",
   "metadata": {
    "papermill": {
     "duration": 0.011556,
     "end_time": "2024-07-26T13:02:16.987329",
     "exception": false,
     "start_time": "2024-07-26T13:02:16.975773",
     "status": "completed"
    },
    "tags": []
   },
   "source": [
    "# 🚀 Getting Started with DataChain\n",
    "\n",
    "<img src=\"static/images/datachain-overview.png\" alt=\"DataChain Overview\" style=\"width: 600px;\"/>\n",
    "\n",
    "DataChain is a powerful tool for managing datasets and ML workflows. This tutorial explores how **[Datachain](https://github.com/iterative/datachain)** helps Computer Vision projects:\n",
    "- 🗂️ **Manage and version datasets and annotations** effectively.\n",
    "- 🔍 **Handle large-scale operations**, applying complex filters and transformations to millions of data entries.\n",
    "- ⏰ **Save valuable time and resources** by avoiding redundant computations for previously processed samples.\n",
    "- 🌊 **Directly stream curated data into PyTorch**, eliminating the need for intermediate resharing.\n",
    "\n",
    "## 📋 Agenda\n",
    "\n",
    "- 🖼️ Create a `fashion-product-images` dataset from an image directory\n",
    "- 📂 Load the dataset\n",
    "- 🔍 Explore filtering techniques\n",
    "  \n",
    "## 🛠 Prerequisites\n",
    "\n",
    "Before you begin, ensure you have:\n",
    "- **[Datachain](https://github.com/iterative/datachain)** is installed in your environment (follow the instructions in `examples/fashion-product-images/README.md`)\n",
    "- The necessary dependencies installed, including PyTorch and the required libraries (see `requirements.txt`)."
   ]
  },
  {
   "cell_type": "markdown",
   "id": "8463ea57-80a1-45a8-9611-2f43a4c84c1a",
   "metadata": {
    "papermill": {
     "duration": 0.005837,
     "end_time": "2024-07-26T13:02:17.000241",
     "exception": false,
     "start_time": "2024-07-26T13:02:16.994404",
     "status": "completed"
    },
    "tags": []
   },
   "source": [
    "## Imports"
   ]
  },
  {
   "cell_type": "code",
   "execution_count": 1,
   "id": "74f03f34-ae13-4289-951d-555f7d14d3f3",
   "metadata": {
    "execution": {
     "iopub.execute_input": "2024-07-26T13:02:17.010641Z",
     "iopub.status.busy": "2024-07-26T13:02:17.010460Z",
     "iopub.status.idle": "2024-07-26T13:02:17.457390Z",
     "shell.execute_reply": "2024-07-26T13:02:17.457005Z"
    },
    "papermill": {
     "duration": 0.453476,
     "end_time": "2024-07-26T13:02:17.458448",
     "exception": false,
     "start_time": "2024-07-26T13:02:17.004972",
     "status": "completed"
    },
    "scrolled": true,
    "tags": []
   },
   "outputs": [],
   "source": [
    "%load_ext autoreload\n",
    "%autoreload 2\n",
    "\n",
    "import pandas as pd\n",
    "\n",
    "# Import datachain\n",
    "from datachain import C, DataChain\n"
   ]
  },
  {
   "cell_type": "markdown",
   "id": "3de7923c-5fc8-4fb9-a62f-3c6990ad4d3a",
   "metadata": {
    "papermill": {
     "duration": 0.002764,
     "end_time": "2024-07-26T13:02:17.464244",
     "exception": false,
     "start_time": "2024-07-26T13:02:17.461480",
     "status": "completed"
    },
    "tags": []
   },
   "source": [
    "# 🆕 Create a DataChain\n",
    "\n",
    "There are multiple ways of creating of DataChain and persisting it as a dataset. First, import the necessary modules and load your dataset using a `DataChain` class. \n",
    "\n",
    "- From cloud storages (AWS S3, GCP, Azure...) or local directory\n",
    "- From previously saved dataset version\n",
    "- From values \n",
    "\n",
    "Here are a few examples: \n",
    "\n",
    "```python\n",
    "# from cloud storages as S3, gs or Azure: \n",
    "DataChain.from_storage(\"s3://my-bucket/my-dir/\")\n",
    "\n",
    "# from previously saved dataset: \n",
    "DataChain.from_dataset(\"name\", version=1)\n",
    "\n",
    "# from values: \n",
    "DataChain.from_values(fib=[1, 2, 3, 5, 8])\n",
    "```\n",
    "\n",
    "Data in DataChain is presented as Python classes with an arbitrary set of fields,\n",
    "including nested classes. The data classes have to inherit from `DataModel` class based on `Pydantic`\n",
    "\n",
    "<img src=\"static/images/dataset-1.png\" alt=\"Dataset\" style=\"width: 600px;\"/>\n",
    "\n",
    "**Note:** The DataChain represents file samples as pointers to their respective storage locations. This means a newly created dataset version does not duplicate files in storage, and storage remains the single source of truth for the original samples"
   ]
  },
  {
   "cell_type": "markdown",
   "id": "2b863f3d-4fe7-42a0-ac17-3f37c4e70529",
   "metadata": {
    "papermill": {
     "duration": 0.002698,
     "end_time": "2024-07-26T13:02:17.470043",
     "exception": false,
     "start_time": "2024-07-26T13:02:17.467345",
     "status": "completed"
    },
    "tags": []
   },
   "source": [
    "## Create a DataChain from a GCP bucket"
   ]
  },
  {
   "cell_type": "code",
   "execution_count": 2,
   "id": "34c53875-a886-41b3-9611-4c800d009d1e",
   "metadata": {
    "execution": {
     "iopub.execute_input": "2024-07-26T13:02:17.476378Z",
     "iopub.status.busy": "2024-07-26T13:02:17.476144Z",
     "iopub.status.idle": "2024-07-26T13:02:19.861971Z",
     "shell.execute_reply": "2024-07-26T13:02:19.861647Z"
    },
    "papermill": {
     "duration": 2.390065,
     "end_time": "2024-07-26T13:02:19.862843",
     "exception": false,
     "start_time": "2024-07-26T13:02:17.472778",
     "status": "completed"
    },
    "scrolled": true,
    "tags": []
   },
   "outputs": [
    {
     "name": "stderr",
     "output_type": "stream",
     "text": [
      "\r",
      "Processed: 0 rows [00:00, ? rows/s]"
     ]
    },
    {
     "name": "stderr",
     "output_type": "stream",
     "text": [
      "\r",
      "Processed: 3756 rows [00:00, 37550.55 rows/s]"
     ]
    },
    {
     "name": "stderr",
     "output_type": "stream",
     "text": [
      "\r",
      "Processed: 7619 rows [00:00, 38183.87 rows/s]"
     ]
    },
    {
     "name": "stderr",
     "output_type": "stream",
     "text": [
      "\r",
      "Processed: 11438 rows [00:00, 25893.53 rows/s]"
     ]
    },
    {
     "name": "stderr",
     "output_type": "stream",
     "text": [
      "\r",
      "Processed: 14981 rows [00:00, 28816.44 rows/s]"
     ]
    },
    {
     "name": "stderr",
     "output_type": "stream",
     "text": [
      "\r",
      "Processed: 18384 rows [00:00, 30402.85 rows/s]"
     ]
    },
    {
     "name": "stderr",
     "output_type": "stream",
     "text": [
      "\r",
      "Processed: 21639 rows [00:00, 24550.95 rows/s]"
     ]
    },
    {
     "name": "stderr",
     "output_type": "stream",
     "text": [
      "\r",
      "Processed: 25397 rows [00:00, 27873.41 rows/s]"
     ]
    },
    {
     "name": "stderr",
     "output_type": "stream",
     "text": [
      "\r",
      "Processed: 28643 rows [00:00, 29097.76 rows/s]"
     ]
    },
    {
     "name": "stderr",
     "output_type": "stream",
     "text": [
      "\r",
      "Processed: 31771 rows [00:01, 23617.61 rows/s]"
     ]
    },
    {
     "name": "stderr",
     "output_type": "stream",
     "text": [
      "\r",
      "Processed: 35588 rows [00:01, 27091.73 rows/s]"
     ]
    },
    {
     "name": "stderr",
     "output_type": "stream",
     "text": [
      "\r",
      "Processed: 39175 rows [00:01, 29323.48 rows/s]"
     ]
    },
    {
     "name": "stderr",
     "output_type": "stream",
     "text": [
      "\r",
      "Processed: 42365 rows [00:01, 24258.89 rows/s]"
     ]
    },
    {
     "name": "stderr",
     "output_type": "stream",
     "text": [
      "\r",
      "Processed: 44441 rows [00:01, 25908.96 rows/s]"
     ]
    },
    {
     "name": "stderr",
     "output_type": "stream",
     "text": [
      "\n"
     ]
    }
   ],
   "source": [
    "# Create a DataChain\n",
    "\n",
    "dc = (\n",
    "    DataChain.from_storage(\n",
    "        \"gs://datachain-demo/fashion-product-images/\", type=\"image\", anon=True\n",
    "    )\n",
    "    .filter(C(\"file.name\").glob(\"*.jpg\"))\n",
    "    .save()\n",
    ")\n"
   ]
  },
  {
   "cell_type": "markdown",
   "id": "a7fcde1f-54bf-438b-bc11-6e3ab6fda937",
   "metadata": {
    "papermill": {
     "duration": 0.003163,
     "end_time": "2024-07-26T13:02:19.869568",
     "exception": false,
     "start_time": "2024-07-26T13:02:19.866405",
     "status": "completed"
    },
    "tags": []
   },
   "source": [
    "## Create a DataChain from a local directory of images"
   ]
  },
  {
   "cell_type": "markdown",
   "id": "c9e60cca-2400-4676-9396-31c930b04549",
   "metadata": {
    "papermill": {
     "duration": 0.003319,
     "end_time": "2024-07-26T13:02:19.875931",
     "exception": false,
     "start_time": "2024-07-26T13:02:19.872612",
     "status": "completed"
    },
    "tags": []
   },
   "source": [
    "**(OPTIONAL) You may skip this and work with data in our public dataset.**\n",
    "\n",
    "You may create a DataChain from a directory if images are stored locally. Download data from Kaggle to follow the example. \n",
    "\n",
    "**Manually**\n",
    "- Download the Fashion Product Images (Small) dataset from kaggle.com: [Fashion Product Images (Small) dataset from Kaggle.com](https://www.kaggle.com/datasets/paramaggarwal/fashion-product-images-small/data) dataset contributed by Param Aggarwal.\n",
    "- Unzip data into the (`data`) directory in `examples/fashion-product-images`\n",
    "\n",
    "**Using a script below:**\n",
    "1. Obtain your Kaggle credentials file (`kaggle.json`) and save it to the (`~/.kaggle`) directory so that it's available at (`~/.kaggle/kaggle.json`).\n",
    "2. Download the desired dataset from Kaggle.\n",
    "3. Unzip the downloaded data into the (`data`) directory."
   ]
  },
  {
   "cell_type": "code",
   "execution_count": 3,
   "id": "2306fec4-cc54-4355-9bd9-668ca6eef980",
   "metadata": {
    "execution": {
     "iopub.execute_input": "2024-07-26T13:02:19.883040Z",
     "iopub.status.busy": "2024-07-26T13:02:19.882836Z",
     "iopub.status.idle": "2024-07-26T13:02:19.893035Z",
     "shell.execute_reply": "2024-07-26T13:02:19.892823Z"
    },
    "papermill": {
     "duration": 0.014634,
     "end_time": "2024-07-26T13:02:19.893810",
     "exception": false,
     "start_time": "2024-07-26T13:02:19.879176",
     "status": "completed"
    },
    "tags": []
   },
   "outputs": [],
   "source": [
    "# Prepare credentials\n",
    "# !mkdir -p ~/.kaggle\n",
    "# !cp kaggle.json ~/.kaggle/\n",
    "# !chmod 600 ~/.kaggle/kaggle.json\n",
    "\n",
    "## Download data\n",
    "# !pip install -q kaggle\n",
    "# !kaggle datasets download -d paramaggarwal/fashion-product-images-small\n",
    "\n",
    "## Unzip files\n",
    "# unzip fashion-product-images-small.zip \"images/*\" -d data2\n",
    "# unzip fashion-product-images-small.zip \"styles.csv\" -d data2\n",
    "\n",
    "## (optional) Remove unnecessary redundant directory in the source data\n",
    "# ![ -d \"data/myntradataset\" ] && rm -r \"data/myntradataset\""
   ]
  },
  {
   "cell_type": "code",
   "execution_count": 4,
   "id": "09dc9b12-9a02-40be-b158-0da7b2552b8a",
   "metadata": {
    "execution": {
     "iopub.execute_input": "2024-07-26T13:02:19.900608Z",
     "iopub.status.busy": "2024-07-26T13:02:19.900523Z",
     "iopub.status.idle": "2024-07-26T13:02:19.908344Z",
     "shell.execute_reply": "2024-07-26T13:02:19.908127Z"
    },
    "papermill": {
     "duration": 0.012011,
     "end_time": "2024-07-26T13:02:19.909098",
     "exception": false,
     "start_time": "2024-07-26T13:02:19.897087",
     "status": "completed"
    },
    "tags": []
   },
   "outputs": [],
   "source": [
    "# Create a DataChain\n",
    "\n",
    "# DATA_PATH = \"data/images\"\n",
    "\n",
    "# dc = (\n",
    "#     DataChain.from_storage(DATA_PATH, type=\"image\")\n",
    "#     .filter(C(\"file.name\").glob(\"*.jpg\"))\n",
    "# )"
   ]
  },
  {
   "cell_type": "markdown",
   "id": "487cc386-5c70-4662-b56e-9f6c7016fd14",
   "metadata": {
    "papermill": {
     "duration": 0.003164,
     "end_time": "2024-07-26T13:02:19.915606",
     "exception": false,
     "start_time": "2024-07-26T13:02:19.912442",
     "status": "completed"
    },
    "tags": []
   },
   "source": [
    "## Preview DataChain content"
   ]
  },
  {
   "cell_type": "code",
   "execution_count": 5,
   "id": "a5235e62-cba6-409f-ab3e-8ef469895b74",
   "metadata": {
    "execution": {
     "iopub.execute_input": "2024-07-26T13:02:19.922339Z",
     "iopub.status.busy": "2024-07-26T13:02:19.922240Z",
     "iopub.status.idle": "2024-07-26T13:02:19.939669Z",
     "shell.execute_reply": "2024-07-26T13:02:19.939371Z"
    },
    "papermill": {
     "duration": 0.021726,
     "end_time": "2024-07-26T13:02:19.940488",
     "exception": false,
     "start_time": "2024-07-26T13:02:19.918762",
     "status": "completed"
    },
    "scrolled": true,
    "tags": []
   },
   "outputs": [
    {
     "data": {
      "text/html": [
       "<div>\n",
       "<style scoped>\n",
       "    .dataframe tbody tr th:only-of-type {\n",
       "        vertical-align: middle;\n",
       "    }\n",
       "\n",
       "    .dataframe tbody tr th {\n",
       "        vertical-align: top;\n",
       "    }\n",
       "\n",
       "    .dataframe thead tr th {\n",
       "        text-align: left;\n",
       "    }\n",
       "</style>\n",
       "<table border=\"1\" class=\"dataframe\">\n",
       "  <thead>\n",
       "    <tr>\n",
       "      <th></th>\n",
       "      <th>file</th>\n",
       "      <th>file</th>\n",
       "      <th>file</th>\n",
       "      <th>file</th>\n",
       "      <th>file</th>\n",
       "      <th>file</th>\n",
       "      <th>file</th>\n",
       "      <th>file</th>\n",
       "      <th>file</th>\n",
       "      <th>file</th>\n",
       "    </tr>\n",
       "    <tr>\n",
       "      <th></th>\n",
       "      <th>source</th>\n",
       "      <th>parent</th>\n",
       "      <th>name</th>\n",
       "      <th>size</th>\n",
       "      <th>version</th>\n",
       "      <th>etag</th>\n",
       "      <th>is_latest</th>\n",
       "      <th>last_modified</th>\n",
       "      <th>location</th>\n",
       "      <th>vtype</th>\n",
       "    </tr>\n",
       "  </thead>\n",
       "  <tbody>\n",
       "    <tr>\n",
       "      <th>0</th>\n",
       "      <td>gs://datachain-demo</td>\n",
       "      <td>fashion-product-images/images</td>\n",
       "      <td>10000.jpg</td>\n",
       "      <td>1030</td>\n",
       "      <td>1719489653370876</td>\n",
       "      <td>CPzf74/e+4YDEAE=</td>\n",
       "      <td>1</td>\n",
       "      <td>2024-06-27 12:00:53.421000+00:00</td>\n",
       "      <td>None</td>\n",
       "      <td></td>\n",
       "    </tr>\n",
       "    <tr>\n",
       "      <th>1</th>\n",
       "      <td>gs://datachain-demo</td>\n",
       "      <td>fashion-product-images/images</td>\n",
       "      <td>10001.jpg</td>\n",
       "      <td>1210</td>\n",
       "      <td>1719489640006438</td>\n",
       "      <td>CKaGwIne+4YDEAE=</td>\n",
       "      <td>1</td>\n",
       "      <td>2024-06-27 12:00:40.056000+00:00</td>\n",
       "      <td>None</td>\n",
       "      <td></td>\n",
       "    </tr>\n",
       "    <tr>\n",
       "      <th>2</th>\n",
       "      <td>gs://datachain-demo</td>\n",
       "      <td>fashion-product-images/images</td>\n",
       "      <td>10002.jpg</td>\n",
       "      <td>807</td>\n",
       "      <td>1719489670015780</td>\n",
       "      <td>CKTW55fe+4YDEAE=</td>\n",
       "      <td>1</td>\n",
       "      <td>2024-06-27 12:01:10.067000+00:00</td>\n",
       "      <td>None</td>\n",
       "      <td></td>\n",
       "    </tr>\n",
       "  </tbody>\n",
       "</table>\n",
       "</div>"
      ],
      "text/plain": [
       "                  file                           file       file  file  \\\n",
       "                source                         parent       name  size   \n",
       "0  gs://datachain-demo  fashion-product-images/images  10000.jpg  1030   \n",
       "1  gs://datachain-demo  fashion-product-images/images  10001.jpg  1210   \n",
       "2  gs://datachain-demo  fashion-product-images/images  10002.jpg   807   \n",
       "\n",
       "               file              file      file  \\\n",
       "            version              etag is_latest   \n",
       "0  1719489653370876  CPzf74/e+4YDEAE=         1   \n",
       "1  1719489640006438  CKaGwIne+4YDEAE=         1   \n",
       "2  1719489670015780  CKTW55fe+4YDEAE=         1   \n",
       "\n",
       "                              file     file  file  \n",
       "                     last_modified location vtype  \n",
       "0 2024-06-27 12:00:53.421000+00:00     None        \n",
       "1 2024-06-27 12:00:40.056000+00:00     None        \n",
       "2 2024-06-27 12:01:10.067000+00:00     None        "
      ]
     },
     "metadata": {},
     "output_type": "display_data"
    },
    {
     "name": "stdout",
     "output_type": "stream",
     "text": [
      "\n",
      "[Limited by 3 rows]\n"
     ]
    }
   ],
   "source": [
    "# Preview with `.show()`\n",
    "\n",
    "dc.show(3)"
   ]
  },
  {
   "cell_type": "code",
   "execution_count": 6,
   "id": "1e083a61-fa92-4f47-8d17-4d303faf7622",
   "metadata": {
    "execution": {
     "iopub.execute_input": "2024-07-26T13:02:19.948024Z",
     "iopub.status.busy": "2024-07-26T13:02:19.947927Z",
     "iopub.status.idle": "2024-07-26T13:02:20.166098Z",
     "shell.execute_reply": "2024-07-26T13:02:20.165821Z"
    },
    "papermill": {
     "duration": 0.22277,
     "end_time": "2024-07-26T13:02:20.166984",
     "exception": false,
     "start_time": "2024-07-26T13:02:19.944214",
     "status": "completed"
    },
    "scrolled": true,
    "tags": []
   },
   "outputs": [
    {
     "name": "stdout",
     "output_type": "stream",
     "text": [
      "(44439, 10)\n"
     ]
    },
    {
     "data": {
      "text/html": [
       "<div>\n",
       "<style scoped>\n",
       "    .dataframe tbody tr th:only-of-type {\n",
       "        vertical-align: middle;\n",
       "    }\n",
       "\n",
       "    .dataframe tbody tr th {\n",
       "        vertical-align: top;\n",
       "    }\n",
       "\n",
       "    .dataframe thead tr th {\n",
       "        text-align: left;\n",
       "    }\n",
       "</style>\n",
       "<table border=\"1\" class=\"dataframe\">\n",
       "  <thead>\n",
       "    <tr>\n",
       "      <th></th>\n",
       "      <th colspan=\"10\" halign=\"left\">file</th>\n",
       "    </tr>\n",
       "    <tr>\n",
       "      <th></th>\n",
       "      <th>source</th>\n",
       "      <th>parent</th>\n",
       "      <th>name</th>\n",
       "      <th>size</th>\n",
       "      <th>version</th>\n",
       "      <th>etag</th>\n",
       "      <th>is_latest</th>\n",
       "      <th>last_modified</th>\n",
       "      <th>location</th>\n",
       "      <th>vtype</th>\n",
       "    </tr>\n",
       "  </thead>\n",
       "  <tbody>\n",
       "    <tr>\n",
       "      <th>0</th>\n",
       "      <td>gs://datachain-demo</td>\n",
       "      <td>fashion-product-images/images</td>\n",
       "      <td>10000.jpg</td>\n",
       "      <td>1030</td>\n",
       "      <td>1719489653370876</td>\n",
       "      <td>CPzf74/e+4YDEAE=</td>\n",
       "      <td>1</td>\n",
       "      <td>2024-06-27 12:00:53.421000+00:00</td>\n",
       "      <td>None</td>\n",
       "      <td></td>\n",
       "    </tr>\n",
       "    <tr>\n",
       "      <th>1</th>\n",
       "      <td>gs://datachain-demo</td>\n",
       "      <td>fashion-product-images/images</td>\n",
       "      <td>10001.jpg</td>\n",
       "      <td>1210</td>\n",
       "      <td>1719489640006438</td>\n",
       "      <td>CKaGwIne+4YDEAE=</td>\n",
       "      <td>1</td>\n",
       "      <td>2024-06-27 12:00:40.056000+00:00</td>\n",
       "      <td>None</td>\n",
       "      <td></td>\n",
       "    </tr>\n",
       "    <tr>\n",
       "      <th>2</th>\n",
       "      <td>gs://datachain-demo</td>\n",
       "      <td>fashion-product-images/images</td>\n",
       "      <td>10002.jpg</td>\n",
       "      <td>807</td>\n",
       "      <td>1719489670015780</td>\n",
       "      <td>CKTW55fe+4YDEAE=</td>\n",
       "      <td>1</td>\n",
       "      <td>2024-06-27 12:01:10.067000+00:00</td>\n",
       "      <td>None</td>\n",
       "      <td></td>\n",
       "    </tr>\n",
       "    <tr>\n",
       "      <th>3</th>\n",
       "      <td>gs://datachain-demo</td>\n",
       "      <td>fashion-product-images/images</td>\n",
       "      <td>10003.jpg</td>\n",
       "      <td>11564</td>\n",
       "      <td>1719489683599343</td>\n",
       "      <td>CO/fpJ7e+4YDEAE=</td>\n",
       "      <td>1</td>\n",
       "      <td>2024-06-27 12:01:23.651000+00:00</td>\n",
       "      <td>None</td>\n",
       "      <td></td>\n",
       "    </tr>\n",
       "    <tr>\n",
       "      <th>4</th>\n",
       "      <td>gs://datachain-demo</td>\n",
       "      <td>fashion-product-images/images</td>\n",
       "      <td>10004.jpg</td>\n",
       "      <td>20647</td>\n",
       "      <td>1719489733765952</td>\n",
       "      <td>CMDWmrbe+4YDEAE=</td>\n",
       "      <td>1</td>\n",
       "      <td>2024-06-27 12:02:13.818000+00:00</td>\n",
       "      <td>None</td>\n",
       "      <td></td>\n",
       "    </tr>\n",
       "  </tbody>\n",
       "</table>\n",
       "</div>"
      ],
      "text/plain": [
       "                  file                                                   \\\n",
       "                source                         parent       name   size   \n",
       "0  gs://datachain-demo  fashion-product-images/images  10000.jpg   1030   \n",
       "1  gs://datachain-demo  fashion-product-images/images  10001.jpg   1210   \n",
       "2  gs://datachain-demo  fashion-product-images/images  10002.jpg    807   \n",
       "3  gs://datachain-demo  fashion-product-images/images  10003.jpg  11564   \n",
       "4  gs://datachain-demo  fashion-product-images/images  10004.jpg  20647   \n",
       "\n",
       "                                                 \\\n",
       "            version              etag is_latest   \n",
       "0  1719489653370876  CPzf74/e+4YDEAE=         1   \n",
       "1  1719489640006438  CKaGwIne+4YDEAE=         1   \n",
       "2  1719489670015780  CKTW55fe+4YDEAE=         1   \n",
       "3  1719489683599343  CO/fpJ7e+4YDEAE=         1   \n",
       "4  1719489733765952  CMDWmrbe+4YDEAE=         1   \n",
       "\n",
       "                                                   \n",
       "                     last_modified location vtype  \n",
       "0 2024-06-27 12:00:53.421000+00:00     None        \n",
       "1 2024-06-27 12:00:40.056000+00:00     None        \n",
       "2 2024-06-27 12:01:10.067000+00:00     None        \n",
       "3 2024-06-27 12:01:23.651000+00:00     None        \n",
       "4 2024-06-27 12:02:13.818000+00:00     None        "
      ]
     },
     "execution_count": 6,
     "metadata": {},
     "output_type": "execute_result"
    }
   ],
   "source": [
    "# Preview with Pandas\n",
    "\n",
    "df = dc.to_pandas()\n",
    "\n",
    "print(df.shape)\n",
    "df.head()"
   ]
  },
  {
   "cell_type": "markdown",
   "id": "db3f982f-ea1a-4ad9-8b59-9b1f586136e3",
   "metadata": {
    "papermill": {
     "duration": 0.003541,
     "end_time": "2024-07-26T13:02:20.174289",
     "exception": false,
     "start_time": "2024-07-26T13:02:20.170748",
     "status": "completed"
    },
    "tags": []
   },
   "source": [
    "# 🏷️ Add Metadata\n",
    "\n",
    "In DataChain, you can add annotations and attributes to files.  In the following steps, you'll add metadata from a CSV file. Here's how you can do it:\n",
    "1. Load/prepare annotations\n",
    "2. Define a mapping function or UDF\n",
    "3. Apply the function to generate new columns\n",
    "4. Save an annotated dataset\n",
    "\n",
    "<img src=\"static/images/dataset-2.png\" alt=\"Dataset\" style=\"width: 600px;\"/>"
   ]
  },
  {
   "cell_type": "markdown",
   "id": "bcfc530f-dd71-404d-9b1e-d8fc8d05bbf2",
   "metadata": {
    "papermill": {
     "duration": 0.003419,
     "end_time": "2024-07-26T13:02:20.181074",
     "exception": false,
     "start_time": "2024-07-26T13:02:20.177655",
     "status": "completed"
    },
    "tags": []
   },
   "source": [
    "## Load metadata from CSV in GCP\n",
    "\n",
    "- With Datachain, you can create a chain from a single CSV, JSON, or Parquet file or parse multiple files at once\n",
    "The example below shows how to parse a single CSV file of metadata using `from_csv()` method."
   ]
  },
  {
   "cell_type": "code",
   "execution_count": 7,
   "id": "02adaac4-1bdc-4360-812e-fd46ee0b452c",
   "metadata": {
    "execution": {
     "iopub.execute_input": "2024-07-26T13:02:20.188241Z",
     "iopub.status.busy": "2024-07-26T13:02:20.188141Z",
     "iopub.status.idle": "2024-07-26T13:02:32.663087Z",
     "shell.execute_reply": "2024-07-26T13:02:32.662812Z"
    },
    "papermill": {
     "duration": 12.479504,
     "end_time": "2024-07-26T13:02:32.663920",
     "exception": false,
     "start_time": "2024-07-26T13:02:20.184416",
     "status": "completed"
    },
    "scrolled": true,
    "tags": []
   },
   "outputs": [
    {
     "name": "stderr",
     "output_type": "stream",
     "text": [
      "\r",
      "Processed: 0 rows [00:00, ? rows/s]"
     ]
    },
    {
     "name": "stderr",
     "output_type": "stream",
     "text": [
      "\r",
      "Processed: 1 rows [00:00, 1217.86 rows/s]"
     ]
    },
    {
     "name": "stderr",
     "output_type": "stream",
     "text": [
      "\n"
     ]
    },
    {
     "name": "stderr",
     "output_type": "stream",
     "text": [
      "\r",
      "Processed: 0 rows [00:00, ? rows/s]"
     ]
    },
    {
     "name": "stderr",
     "output_type": "stream",
     "text": [
      "\r",
      "Processed: 1 rows [00:00, 1111.07 rows/s]"
     ]
    },
    {
     "name": "stderr",
     "output_type": "stream",
     "text": [
      "\n"
     ]
    },
    {
     "name": "stderr",
     "output_type": "stream",
     "text": [
      "\r",
      "Parsed by pyarrow: 0 rows [00:00, ? rows/s]"
     ]
    },
    {
     "name": "stderr",
     "output_type": "stream",
     "text": [
      "\r",
      "Parsed by pyarrow: 10136 rows [00:04, 2044.27 rows/s]"
     ]
    },
    {
     "name": "stderr",
     "output_type": "stream",
     "text": [
      "\r",
      "Parsed by pyarrow: 20275 rows [00:05, 4794.75 rows/s]"
     ]
    },
    {
     "name": "stderr",
     "output_type": "stream",
     "text": [
      "\r",
      "Parsed by pyarrow: 30403 rows [00:05, 8413.10 rows/s]"
     ]
    },
    {
     "name": "stderr",
     "output_type": "stream",
     "text": [
      "\r",
      "Parsed by pyarrow: 40550 rows [00:05, 13035.14 rows/s]"
     ]
    },
    {
     "name": "stderr",
     "output_type": "stream",
     "text": [
      "\r",
      "Parsed by pyarrow: 44446 rows [00:05, 8270.19 rows/s] "
     ]
    },
    {
     "name": "stderr",
     "output_type": "stream",
     "text": [
      "\n"
     ]
    },
    {
     "name": "stderr",
     "output_type": "stream",
     "text": [
      "\r",
      "Processed: 0 rows [00:00, ? rows/s]"
     ]
    },
    {
     "name": "stderr",
     "output_type": "stream",
     "text": [
      "\n"
     ]
    },
    {
     "name": "stderr",
     "output_type": "stream",
     "text": [
      "\r",
      "Generated: 0 rows [00:00, ? rows/s]"
     ]
    },
    {
     "name": "stderr",
     "output_type": "stream",
     "text": [
      "\u001b[A"
     ]
    },
    {
     "name": "stderr",
     "output_type": "stream",
     "text": [
      "\n"
     ]
    },
    {
     "name": "stderr",
     "output_type": "stream",
     "text": [
      "\r",
      "Generated: 10001 rows [00:00, 39980.82 rows/s]"
     ]
    },
    {
     "name": "stderr",
     "output_type": "stream",
     "text": [
      "\u001b[A"
     ]
    },
    {
     "name": "stderr",
     "output_type": "stream",
     "text": [
      "\n"
     ]
    },
    {
     "name": "stderr",
     "output_type": "stream",
     "text": [
      "\r",
      "Generated: 20001 rows [00:00, 39562.33 rows/s]"
     ]
    },
    {
     "name": "stderr",
     "output_type": "stream",
     "text": [
      "\u001b[A"
     ]
    },
    {
     "name": "stderr",
     "output_type": "stream",
     "text": [
      "\n"
     ]
    },
    {
     "name": "stderr",
     "output_type": "stream",
     "text": [
      "\r",
      "Generated: 30001 rows [00:00, 39007.87 rows/s]"
     ]
    },
    {
     "name": "stderr",
     "output_type": "stream",
     "text": [
      "\u001b[A"
     ]
    },
    {
     "name": "stderr",
     "output_type": "stream",
     "text": [
      "\n"
     ]
    },
    {
     "name": "stderr",
     "output_type": "stream",
     "text": [
      "\r",
      "Generated: 40001 rows [00:01, 38961.21 rows/s]"
     ]
    },
    {
     "name": "stderr",
     "output_type": "stream",
     "text": [
      "\u001b[A"
     ]
    },
    {
     "name": "stderr",
     "output_type": "stream",
     "text": [
      "\r",
      "Processed: 1 rows [00:01,  1.14s/ rows]"
     ]
    },
    {
     "name": "stderr",
     "output_type": "stream",
     "text": [
      "\n",
      "\r",
      "Generated: 44446 rows [00:01, 38901.28 rows/s]"
     ]
    },
    {
     "name": "stderr",
     "output_type": "stream",
     "text": [
      "\n"
     ]
    },
    {
     "data": {
      "text/html": [
       "<div>\n",
       "<style scoped>\n",
       "    .dataframe tbody tr th:only-of-type {\n",
       "        vertical-align: middle;\n",
       "    }\n",
       "\n",
       "    .dataframe tbody tr th {\n",
       "        vertical-align: top;\n",
       "    }\n",
       "\n",
       "    .dataframe thead th {\n",
       "        text-align: right;\n",
       "    }\n",
       "</style>\n",
       "<table border=\"1\" class=\"dataframe\">\n",
       "  <thead>\n",
       "    <tr style=\"text-align: right;\">\n",
       "      <th></th>\n",
       "      <th>gender</th>\n",
       "      <th>mastercategory</th>\n",
       "      <th>subcategory</th>\n",
       "      <th>articletype</th>\n",
       "      <th>basecolour</th>\n",
       "      <th>season</th>\n",
       "      <th>year</th>\n",
       "      <th>usage</th>\n",
       "      <th>productdisplayname</th>\n",
       "      <th>filename</th>\n",
       "    </tr>\n",
       "  </thead>\n",
       "  <tbody>\n",
       "    <tr>\n",
       "      <th>0</th>\n",
       "      <td>Men</td>\n",
       "      <td>Apparel</td>\n",
       "      <td>Topwear</td>\n",
       "      <td>Shirts</td>\n",
       "      <td>Navy Blue</td>\n",
       "      <td>Fall</td>\n",
       "      <td>2011.0</td>\n",
       "      <td>Casual</td>\n",
       "      <td>Turtle Check Men Navy Blue Shirt</td>\n",
       "      <td>15970.jpg</td>\n",
       "    </tr>\n",
       "    <tr>\n",
       "      <th>1</th>\n",
       "      <td>Men</td>\n",
       "      <td>Apparel</td>\n",
       "      <td>Bottomwear</td>\n",
       "      <td>Jeans</td>\n",
       "      <td>Blue</td>\n",
       "      <td>Summer</td>\n",
       "      <td>2012.0</td>\n",
       "      <td>Casual</td>\n",
       "      <td>Peter England Men Party Blue Jeans</td>\n",
       "      <td>39386.jpg</td>\n",
       "    </tr>\n",
       "    <tr>\n",
       "      <th>2</th>\n",
       "      <td>Women</td>\n",
       "      <td>Accessories</td>\n",
       "      <td>Watches</td>\n",
       "      <td>Watches</td>\n",
       "      <td>Silver</td>\n",
       "      <td>Winter</td>\n",
       "      <td>2016.0</td>\n",
       "      <td>Casual</td>\n",
       "      <td>Titan Women Silver Watch</td>\n",
       "      <td>59263.jpg</td>\n",
       "    </tr>\n",
       "  </tbody>\n",
       "</table>\n",
       "</div>"
      ],
      "text/plain": [
       "  gender mastercategory subcategory articletype basecolour  season    year  \\\n",
       "0    Men        Apparel     Topwear      Shirts  Navy Blue    Fall  2011.0   \n",
       "1    Men        Apparel  Bottomwear       Jeans       Blue  Summer  2012.0   \n",
       "2  Women    Accessories     Watches     Watches     Silver  Winter  2016.0   \n",
       "\n",
       "    usage                  productdisplayname   filename  \n",
       "0  Casual    Turtle Check Men Navy Blue Shirt  15970.jpg  \n",
       "1  Casual  Peter England Men Party Blue Jeans  39386.jpg  \n",
       "2  Casual            Titan Women Silver Watch  59263.jpg  "
      ]
     },
     "metadata": {},
     "output_type": "display_data"
    },
    {
     "name": "stdout",
     "output_type": "stream",
     "text": [
      "\n",
      "[Limited by 3 rows]\n"
     ]
    }
   ],
   "source": [
    "# Load metadata from CSV\n",
    "dc_meta = (\n",
    "    DataChain.from_csv(\"gs://datachain-demo/fashion-product-images/styles_clean.csv\")\n",
    "    .select_except(\"source\") # remove technical columns\n",
    "    .save()\n",
    ")\n",
    "\n",
    "dc_meta.show(3)"
   ]
  },
  {
   "cell_type": "markdown",
   "id": "a68d7a64-a1ea-4a81-89f5-2ab365a32aeb",
   "metadata": {
    "papermill": {
     "duration": 0.004274,
     "end_time": "2024-07-26T13:02:32.672870",
     "exception": false,
     "start_time": "2024-07-26T13:02:32.668596",
     "status": "completed"
    },
    "tags": []
   },
   "source": [
    "## Load metadata from a local CSV file\n",
    "\n",
    "**(OPTIONAL) You may skip this and work with data in our public dataset.**\n",
    "\n",
    "- In this example, you load the metadata from a CSV file and prepare a annotations \n",
    "- Use an image `filename` to map each image file to its corresponding metadata"
   ]
  },
  {
   "cell_type": "code",
   "execution_count": 8,
   "id": "5d113b14-42a4-4120-8ef3-e4fe42b80c50",
   "metadata": {
    "execution": {
     "iopub.execute_input": "2024-07-26T13:02:32.682432Z",
     "iopub.status.busy": "2024-07-26T13:02:32.682319Z",
     "iopub.status.idle": "2024-07-26T13:02:32.692820Z",
     "shell.execute_reply": "2024-07-26T13:02:32.692605Z"
    },
    "papermill": {
     "duration": 0.016221,
     "end_time": "2024-07-26T13:02:32.693633",
     "exception": false,
     "start_time": "2024-07-26T13:02:32.677412",
     "status": "completed"
    },
    "scrolled": true,
    "tags": []
   },
   "outputs": [],
   "source": [
    "# # Load Annotations from 'data/styles.csv'\n",
    "\n",
    "# ANNOTATIONS_PATH = \"data/styles.csv\"\n",
    "\n",
    "# annotations = pd.read_csv(\n",
    "#     ANNOTATIONS_PATH,\n",
    "#     usecols=[\"id\", \"gender\", \"mastercategory\", \"subcategory\", \"articletype\", \"basecolour\", \"season\", \"year\", \"usage\", \"productdisplayname\"],\n",
    "# )\n",
    "\n",
    "# annotations.head(3)"
   ]
  },
  {
   "cell_type": "code",
   "execution_count": 9,
   "id": "147ebcc6-0089-40dd-9e8b-6677ac9617a6",
   "metadata": {
    "execution": {
     "iopub.execute_input": "2024-07-26T13:02:32.702855Z",
     "iopub.status.busy": "2024-07-26T13:02:32.702765Z",
     "iopub.status.idle": "2024-07-26T13:02:32.710911Z",
     "shell.execute_reply": "2024-07-26T13:02:32.710690Z"
    },
    "papermill": {
     "duration": 0.013753,
     "end_time": "2024-07-26T13:02:32.711826",
     "exception": false,
     "start_time": "2024-07-26T13:02:32.698073",
     "status": "completed"
    },
    "scrolled": true,
    "tags": []
   },
   "outputs": [],
   "source": [
    "# # Preprocess columns\n",
    "# annotations[\"basecolour\"] = annotations[\"basecolour\"].fillna('')\n",
    "# annotations[\"season\"] = annotations[\"season\"].fillna('')\n",
    "# annotations[\"usage\"] = annotations[\"usage\"].fillna('')\n",
    "# annotations[\"productdisplayname\"] = annotations[\"productdisplayname\"].fillna('')\n",
    "\n",
    "# # Add 'filename' column for each image\n",
    "# annotations[\"filename\"] = annotations[\"id\"].apply(lambda s: str(s) + \".jpg\")\n",
    "# annotations = annotations.drop(\"id\", axis=1)"
   ]
  },
  {
   "cell_type": "code",
   "execution_count": 10,
   "id": "ac6468d7-0a7c-4653-9cde-cc60dfd02c4a",
   "metadata": {
    "execution": {
     "iopub.execute_input": "2024-07-26T13:02:32.721352Z",
     "iopub.status.busy": "2024-07-26T13:02:32.721264Z",
     "iopub.status.idle": "2024-07-26T13:02:32.729701Z",
     "shell.execute_reply": "2024-07-26T13:02:32.729442Z"
    },
    "papermill": {
     "duration": 0.01407,
     "end_time": "2024-07-26T13:02:32.730491",
     "exception": false,
     "start_time": "2024-07-26T13:02:32.716421",
     "status": "completed"
    },
    "scrolled": true,
    "tags": []
   },
   "outputs": [],
   "source": [
    "# ### Create a metadata Datachain allows to generate a chain from Pandas DataFrame\n",
    "\n",
    "# ds_meta = DataChain.from_pandas(annotations)\n",
    "# ds_meta.show(3)"
   ]
  },
  {
   "cell_type": "markdown",
   "id": "a45dfe51-064f-46d9-a347-ef2b01691a62",
   "metadata": {
    "papermill": {
     "duration": 0.004366,
     "end_time": "2024-07-26T13:02:32.739247",
     "exception": false,
     "start_time": "2024-07-26T13:02:32.734881",
     "status": "completed"
    },
    "tags": []
   },
   "source": [
    "## Merge the original image and metadata datachains\n",
    "\n",
    "- The `merge` method merges two chains based on the specified criteria\n",
    "- Parameters:\n",
    "  - `right_ds`: Chain to join with.\n",
    "  - `on`: Predicate or list of Predicates to join on. If both chains have the same predicates then this predicate is enough for the join. Otherwise, `right_on` parameter has to specify the predicates for the other chain.\n",
    "  - `right_on`: Optional predicate or list of Predicates for the `right_ds` to join.\n",
    "  - `inner`: Whether to run inner join or outer join. Default is False.\n",
    "  - `rname`: name prefix for conflicting signal names. Default: \"{name}_right\""
   ]
  },
  {
   "cell_type": "code",
   "execution_count": 11,
   "id": "7f164604-eb7a-4f6a-b1a4-f8270af4fe36",
   "metadata": {
    "execution": {
     "iopub.execute_input": "2024-07-26T13:02:32.748638Z",
     "iopub.status.busy": "2024-07-26T13:02:32.748509Z",
     "iopub.status.idle": "2024-07-26T13:02:32.813567Z",
     "shell.execute_reply": "2024-07-26T13:02:32.813303Z"
    },
    "papermill": {
     "duration": 0.070662,
     "end_time": "2024-07-26T13:02:32.814419",
     "exception": false,
     "start_time": "2024-07-26T13:02:32.743757",
     "status": "completed"
    },
    "scrolled": true,
    "tags": []
   },
   "outputs": [
    {
     "data": {
      "text/html": [
       "<div>\n",
       "<style scoped>\n",
       "    .dataframe tbody tr th:only-of-type {\n",
       "        vertical-align: middle;\n",
       "    }\n",
       "\n",
       "    .dataframe tbody tr th {\n",
       "        vertical-align: top;\n",
       "    }\n",
       "\n",
       "    .dataframe thead tr th {\n",
       "        text-align: left;\n",
       "    }\n",
       "</style>\n",
       "<table border=\"1\" class=\"dataframe\">\n",
       "  <thead>\n",
       "    <tr>\n",
       "      <th></th>\n",
       "      <th>file</th>\n",
       "      <th>file</th>\n",
       "      <th>file</th>\n",
       "      <th>file</th>\n",
       "      <th>file</th>\n",
       "      <th>file</th>\n",
       "      <th>file</th>\n",
       "      <th>file</th>\n",
       "      <th>file</th>\n",
       "      <th>file</th>\n",
       "      <th>gender</th>\n",
       "      <th>mastercategory</th>\n",
       "      <th>subcategory</th>\n",
       "      <th>articletype</th>\n",
       "      <th>basecolour</th>\n",
       "      <th>season</th>\n",
       "      <th>year</th>\n",
       "      <th>usage</th>\n",
       "      <th>productdisplayname</th>\n",
       "      <th>filename</th>\n",
       "    </tr>\n",
       "    <tr>\n",
       "      <th></th>\n",
       "      <th>source</th>\n",
       "      <th>parent</th>\n",
       "      <th>name</th>\n",
       "      <th>size</th>\n",
       "      <th>version</th>\n",
       "      <th>etag</th>\n",
       "      <th>is_latest</th>\n",
       "      <th>last_modified</th>\n",
       "      <th>location</th>\n",
       "      <th>vtype</th>\n",
       "      <th></th>\n",
       "      <th></th>\n",
       "      <th></th>\n",
       "      <th></th>\n",
       "      <th></th>\n",
       "      <th></th>\n",
       "      <th></th>\n",
       "      <th></th>\n",
       "      <th></th>\n",
       "      <th></th>\n",
       "    </tr>\n",
       "  </thead>\n",
       "  <tbody>\n",
       "    <tr>\n",
       "      <th>0</th>\n",
       "      <td>gs://datachain-demo</td>\n",
       "      <td>fashion-product-images/images</td>\n",
       "      <td>10000.jpg</td>\n",
       "      <td>1030</td>\n",
       "      <td>1719489653370876</td>\n",
       "      <td>CPzf74/e+4YDEAE=</td>\n",
       "      <td>1</td>\n",
       "      <td>2024-06-27 12:00:53.421000+00:00</td>\n",
       "      <td>None</td>\n",
       "      <td></td>\n",
       "      <td>Women</td>\n",
       "      <td>Apparel</td>\n",
       "      <td>Bottomwear</td>\n",
       "      <td>Skirts</td>\n",
       "      <td>White</td>\n",
       "      <td>Summer</td>\n",
       "      <td>2011.0</td>\n",
       "      <td>Casual</td>\n",
       "      <td>Palm Tree Girls Sp Jace Sko White Skirts</td>\n",
       "      <td>10000.jpg</td>\n",
       "    </tr>\n",
       "    <tr>\n",
       "      <th>1</th>\n",
       "      <td>gs://datachain-demo</td>\n",
       "      <td>fashion-product-images/images</td>\n",
       "      <td>10001.jpg</td>\n",
       "      <td>1210</td>\n",
       "      <td>1719489640006438</td>\n",
       "      <td>CKaGwIne+4YDEAE=</td>\n",
       "      <td>1</td>\n",
       "      <td>2024-06-27 12:00:40.056000+00:00</td>\n",
       "      <td>None</td>\n",
       "      <td></td>\n",
       "      <td>Women</td>\n",
       "      <td>Apparel</td>\n",
       "      <td>Bottomwear</td>\n",
       "      <td>Skirts</td>\n",
       "      <td>Blue</td>\n",
       "      <td>Summer</td>\n",
       "      <td>2011.0</td>\n",
       "      <td>Casual</td>\n",
       "      <td>Palm Tree Kids Girls Sp Jema Skt Blue Skirts</td>\n",
       "      <td>10001.jpg</td>\n",
       "    </tr>\n",
       "    <tr>\n",
       "      <th>2</th>\n",
       "      <td>gs://datachain-demo</td>\n",
       "      <td>fashion-product-images/images</td>\n",
       "      <td>10002.jpg</td>\n",
       "      <td>807</td>\n",
       "      <td>1719489670015780</td>\n",
       "      <td>CKTW55fe+4YDEAE=</td>\n",
       "      <td>1</td>\n",
       "      <td>2024-06-27 12:01:10.067000+00:00</td>\n",
       "      <td>None</td>\n",
       "      <td></td>\n",
       "      <td>Women</td>\n",
       "      <td>Apparel</td>\n",
       "      <td>Bottomwear</td>\n",
       "      <td>Skirts</td>\n",
       "      <td>Blue</td>\n",
       "      <td>Summer</td>\n",
       "      <td>2011.0</td>\n",
       "      <td>Casual</td>\n",
       "      <td>Palm Tree Kids Sp Jema Skt Blue Skirts</td>\n",
       "      <td>10002.jpg</td>\n",
       "    </tr>\n",
       "  </tbody>\n",
       "</table>\n",
       "</div>"
      ],
      "text/plain": [
       "                  file                           file       file  file  \\\n",
       "                source                         parent       name  size   \n",
       "0  gs://datachain-demo  fashion-product-images/images  10000.jpg  1030   \n",
       "1  gs://datachain-demo  fashion-product-images/images  10001.jpg  1210   \n",
       "2  gs://datachain-demo  fashion-product-images/images  10002.jpg   807   \n",
       "\n",
       "               file              file      file  \\\n",
       "            version              etag is_latest   \n",
       "0  1719489653370876  CPzf74/e+4YDEAE=         1   \n",
       "1  1719489640006438  CKaGwIne+4YDEAE=         1   \n",
       "2  1719489670015780  CKTW55fe+4YDEAE=         1   \n",
       "\n",
       "                              file     file  file gender mastercategory  \\\n",
       "                     last_modified location vtype                         \n",
       "0 2024-06-27 12:00:53.421000+00:00     None        Women        Apparel   \n",
       "1 2024-06-27 12:00:40.056000+00:00     None        Women        Apparel   \n",
       "2 2024-06-27 12:01:10.067000+00:00     None        Women        Apparel   \n",
       "\n",
       "  subcategory articletype basecolour  season    year   usage  \\\n",
       "                                                               \n",
       "0  Bottomwear      Skirts      White  Summer  2011.0  Casual   \n",
       "1  Bottomwear      Skirts       Blue  Summer  2011.0  Casual   \n",
       "2  Bottomwear      Skirts       Blue  Summer  2011.0  Casual   \n",
       "\n",
       "                             productdisplayname   filename  \n",
       "                                                            \n",
       "0      Palm Tree Girls Sp Jace Sko White Skirts  10000.jpg  \n",
       "1  Palm Tree Kids Girls Sp Jema Skt Blue Skirts  10001.jpg  \n",
       "2        Palm Tree Kids Sp Jema Skt Blue Skirts  10002.jpg  "
      ]
     },
     "metadata": {},
     "output_type": "display_data"
    },
    {
     "name": "stdout",
     "output_type": "stream",
     "text": [
      "\n",
      "[Limited by 3 rows]\n"
     ]
    }
   ],
   "source": [
    "dc_annotated = dc.merge(dc_meta, on=\"file.name\", right_on=\"filename\")\n",
    "dc_annotated.show(3)"
   ]
  },
  {
   "cell_type": "markdown",
   "id": "2ea1ec3a-7e35-4b19-a241-65fc8723770e",
   "metadata": {
    "papermill": {
     "duration": 0.004462,
     "end_time": "2024-07-26T13:02:32.823752",
     "exception": false,
     "start_time": "2024-07-26T13:02:32.819290",
     "status": "completed"
    },
    "tags": []
   },
   "source": [
    "# 💾 Save Dataset\n",
    "\n",
    "Saving datasets in DataChain allows you to:\n",
    "\n",
    "- Persist the dataset and its metadata for future use\n",
    "- Version the dataset to track changes over time\n",
    "- Share the dataset with others in your team or organization\n",
    "- Easily load the dataset in other DataChain workflows or notebooks\n",
    "\n",
    "By saving the annotated dataset, you ensure the metadata is stored alongside the image data, making it convenient to access and use the enriched dataset in your DataChain projects.\n",
    "\n",
    "To save the annotated dataset in DataChain, you can use the `.save()` method on the ds_annotated dataset object. \n",
    "\n",
    "<img src=\"static/images/dataset-3.png\" alt=\"Dataset\" style=\"width: 600px;\"/>"
   ]
  },
  {
   "cell_type": "code",
   "execution_count": 12,
   "id": "93c328f7-5a67-4207-a9fb-c8c35d7904c0",
   "metadata": {
    "execution": {
     "iopub.execute_input": "2024-07-26T13:02:32.833482Z",
     "iopub.status.busy": "2024-07-26T13:02:32.833356Z",
     "iopub.status.idle": "2024-07-26T13:02:32.975386Z",
     "shell.execute_reply": "2024-07-26T13:02:32.975121Z"
    },
    "papermill": {
     "duration": 0.147709,
     "end_time": "2024-07-26T13:02:32.976173",
     "exception": false,
     "start_time": "2024-07-26T13:02:32.828464",
     "status": "completed"
    },
    "scrolled": true,
    "tags": []
   },
   "outputs": [
    {
     "data": {
      "text/plain": [
       "<datachain.lib.dc.DataChain at 0x13859ed50>"
      ]
     },
     "execution_count": 12,
     "metadata": {},
     "output_type": "execute_result"
    }
   ],
   "source": [
    "dc_annotated.save(\"fashion-product-images\")"
   ]
  },
  {
   "cell_type": "markdown",
   "id": "77221bd7-43aa-40a3-96b9-db09f65b5182",
   "metadata": {
    "execution": {
     "iopub.execute_input": "2024-06-14T12:11:45.499458Z",
     "iopub.status.busy": "2024-06-14T12:11:45.499239Z",
     "iopub.status.idle": "2024-06-14T12:11:45.515159Z",
     "shell.execute_reply": "2024-06-14T12:11:45.514534Z",
     "shell.execute_reply.started": "2024-06-14T12:11:45.499444Z"
    },
    "papermill": {
     "duration": 0.004457,
     "end_time": "2024-07-26T13:02:32.985470",
     "exception": false,
     "start_time": "2024-07-26T13:02:32.981013",
     "status": "completed"
    },
    "tags": []
   },
   "source": [
    "This line of code saves the `ds_annotated` dataset as a new dataset named \"fashion-product-images\" in DataChain.\n",
    "\n",
    "The `.save()` method takes the name of the dataset as a parameter and creates a new dataset with that name in DataChain. The saved dataset will include all the data and metadata from the original dataset, as well as the newly added metadata signals from the `ImageMetadata` UDF.\n",
    "\n",
    "After executing this code, you will have a new dataset named \"fashion-product-images\" in your DataChain workspace, which contains the annotated image data. You can later load this dataset using `DataChain.from_dataset(\"fashion-product-images\")` to access the annotated data in your DataChain workflows."
   ]
  },
  {
   "cell_type": "markdown",
   "id": "b439c177-646f-4f32-9d3c-8af033d1648a",
   "metadata": {
    "papermill": {
     "duration": 0.004818,
     "end_time": "2024-07-26T13:02:32.995401",
     "exception": false,
     "start_time": "2024-07-26T13:02:32.990583",
     "status": "completed"
    },
    "tags": []
   },
   "source": [
    "# 🔍 Explore Data"
   ]
  },
  {
   "attachments": {},
   "cell_type": "markdown",
   "id": "32a56f12-61a5-49c1-b74b-5dadf9491c37",
   "metadata": {
    "papermill": {
     "duration": 0.004561,
     "end_time": "2024-07-26T13:02:33.004425",
     "exception": false,
     "start_time": "2024-07-26T13:02:32.999864",
     "status": "completed"
    },
    "tags": []
   },
   "source": [
    "The dataset contains metadata about the images. We can view this metadata in two ways: \n",
    "- using `.show()` \n",
    "- using the `.to_pandas()` method to review as a Pandas DataFrame "
   ]
  },
  {
   "cell_type": "code",
   "execution_count": 13,
   "id": "002bba93-992a-43ff-8983-db58169d0238",
   "metadata": {
    "execution": {
     "iopub.execute_input": "2024-07-26T13:02:33.014178Z",
     "iopub.status.busy": "2024-07-26T13:02:33.014062Z",
     "iopub.status.idle": "2024-07-26T13:02:33.031855Z",
     "shell.execute_reply": "2024-07-26T13:02:33.031588Z"
    },
    "papermill": {
     "duration": 0.023768,
     "end_time": "2024-07-26T13:02:33.032786",
     "exception": false,
     "start_time": "2024-07-26T13:02:33.009018",
     "status": "completed"
    },
    "scrolled": true,
    "tags": []
   },
   "outputs": [],
   "source": [
    "# Load Image Catalog\n",
    "\n",
    "dc = DataChain.from_dataset(name=\"fashion-product-images\")"
   ]
  },
  {
   "cell_type": "markdown",
   "id": "4cbf10f1-6c0a-4277-b4db-bdfcecd705a1",
   "metadata": {
    "execution": {
     "iopub.execute_input": "2024-06-04T11:37:19.946871Z",
     "iopub.status.busy": "2024-06-04T11:37:19.946216Z",
     "iopub.status.idle": "2024-06-04T11:37:19.976279Z",
     "shell.execute_reply": "2024-06-04T11:37:19.975561Z",
     "shell.execute_reply.started": "2024-06-04T11:37:19.946820Z"
    },
    "papermill": {
     "duration": 0.004608,
     "end_time": "2024-07-26T13:02:33.042092",
     "exception": false,
     "start_time": "2024-07-26T13:02:33.037484",
     "status": "completed"
    },
    "tags": []
   },
   "source": [
    "This line creates a DataChain object named `ds` that refers to previously saved dataset named `fashion-product-images`."
   ]
  },
  {
   "cell_type": "markdown",
   "id": "e60a11b9-d0e9-424c-a264-29ee61a91f92",
   "metadata": {
    "papermill": {
     "duration": 0.00448,
     "end_time": "2024-07-26T13:02:33.051109",
     "exception": false,
     "start_time": "2024-07-26T13:02:33.046629",
     "status": "completed"
    },
    "tags": []
   },
   "source": [
    "## Use DataChain API `show()`"
   ]
  },
  {
   "cell_type": "code",
   "execution_count": 14,
   "id": "0e5915e6-7562-49c8-99aa-c002d9320388",
   "metadata": {
    "execution": {
     "iopub.execute_input": "2024-07-26T13:02:33.060531Z",
     "iopub.status.busy": "2024-07-26T13:02:33.060436Z",
     "iopub.status.idle": "2024-07-26T13:02:33.078251Z",
     "shell.execute_reply": "2024-07-26T13:02:33.077990Z"
    },
    "papermill": {
     "duration": 0.023625,
     "end_time": "2024-07-26T13:02:33.079126",
     "exception": false,
     "start_time": "2024-07-26T13:02:33.055501",
     "status": "completed"
    },
    "scrolled": true,
    "tags": []
   },
   "outputs": [
    {
     "data": {
      "text/html": [
       "<div>\n",
       "<style scoped>\n",
       "    .dataframe tbody tr th:only-of-type {\n",
       "        vertical-align: middle;\n",
       "    }\n",
       "\n",
       "    .dataframe tbody tr th {\n",
       "        vertical-align: top;\n",
       "    }\n",
       "\n",
       "    .dataframe thead tr th {\n",
       "        text-align: left;\n",
       "    }\n",
       "</style>\n",
       "<table border=\"1\" class=\"dataframe\">\n",
       "  <thead>\n",
       "    <tr>\n",
       "      <th></th>\n",
       "      <th>file</th>\n",
       "      <th>file</th>\n",
       "      <th>file</th>\n",
       "      <th>file</th>\n",
       "      <th>file</th>\n",
       "      <th>file</th>\n",
       "      <th>file</th>\n",
       "      <th>file</th>\n",
       "      <th>file</th>\n",
       "      <th>file</th>\n",
       "      <th>gender</th>\n",
       "      <th>mastercategory</th>\n",
       "      <th>subcategory</th>\n",
       "      <th>articletype</th>\n",
       "      <th>basecolour</th>\n",
       "      <th>season</th>\n",
       "      <th>year</th>\n",
       "      <th>usage</th>\n",
       "      <th>productdisplayname</th>\n",
       "      <th>filename</th>\n",
       "    </tr>\n",
       "    <tr>\n",
       "      <th></th>\n",
       "      <th>source</th>\n",
       "      <th>parent</th>\n",
       "      <th>name</th>\n",
       "      <th>size</th>\n",
       "      <th>version</th>\n",
       "      <th>etag</th>\n",
       "      <th>is_latest</th>\n",
       "      <th>last_modified</th>\n",
       "      <th>location</th>\n",
       "      <th>vtype</th>\n",
       "      <th></th>\n",
       "      <th></th>\n",
       "      <th></th>\n",
       "      <th></th>\n",
       "      <th></th>\n",
       "      <th></th>\n",
       "      <th></th>\n",
       "      <th></th>\n",
       "      <th></th>\n",
       "      <th></th>\n",
       "    </tr>\n",
       "  </thead>\n",
       "  <tbody>\n",
       "    <tr>\n",
       "      <th>0</th>\n",
       "      <td>gs://datachain-demo</td>\n",
       "      <td>fashion-product-images/images</td>\n",
       "      <td>10000.jpg</td>\n",
       "      <td>1030</td>\n",
       "      <td>1719489653370876</td>\n",
       "      <td>CPzf74/e+4YDEAE=</td>\n",
       "      <td>1</td>\n",
       "      <td>2024-06-27 12:00:53.421000+00:00</td>\n",
       "      <td>None</td>\n",
       "      <td></td>\n",
       "      <td>Women</td>\n",
       "      <td>Apparel</td>\n",
       "      <td>Bottomwear</td>\n",
       "      <td>Skirts</td>\n",
       "      <td>White</td>\n",
       "      <td>Summer</td>\n",
       "      <td>2011.0</td>\n",
       "      <td>Casual</td>\n",
       "      <td>Palm Tree Girls Sp Jace Sko White Skirts</td>\n",
       "      <td>10000.jpg</td>\n",
       "    </tr>\n",
       "    <tr>\n",
       "      <th>1</th>\n",
       "      <td>gs://datachain-demo</td>\n",
       "      <td>fashion-product-images/images</td>\n",
       "      <td>10001.jpg</td>\n",
       "      <td>1210</td>\n",
       "      <td>1719489640006438</td>\n",
       "      <td>CKaGwIne+4YDEAE=</td>\n",
       "      <td>1</td>\n",
       "      <td>2024-06-27 12:00:40.056000+00:00</td>\n",
       "      <td>None</td>\n",
       "      <td></td>\n",
       "      <td>Women</td>\n",
       "      <td>Apparel</td>\n",
       "      <td>Bottomwear</td>\n",
       "      <td>Skirts</td>\n",
       "      <td>Blue</td>\n",
       "      <td>Summer</td>\n",
       "      <td>2011.0</td>\n",
       "      <td>Casual</td>\n",
       "      <td>Palm Tree Kids Girls Sp Jema Skt Blue Skirts</td>\n",
       "      <td>10001.jpg</td>\n",
       "    </tr>\n",
       "    <tr>\n",
       "      <th>2</th>\n",
       "      <td>gs://datachain-demo</td>\n",
       "      <td>fashion-product-images/images</td>\n",
       "      <td>10002.jpg</td>\n",
       "      <td>807</td>\n",
       "      <td>1719489670015780</td>\n",
       "      <td>CKTW55fe+4YDEAE=</td>\n",
       "      <td>1</td>\n",
       "      <td>2024-06-27 12:01:10.067000+00:00</td>\n",
       "      <td>None</td>\n",
       "      <td></td>\n",
       "      <td>Women</td>\n",
       "      <td>Apparel</td>\n",
       "      <td>Bottomwear</td>\n",
       "      <td>Skirts</td>\n",
       "      <td>Blue</td>\n",
       "      <td>Summer</td>\n",
       "      <td>2011.0</td>\n",
       "      <td>Casual</td>\n",
       "      <td>Palm Tree Kids Sp Jema Skt Blue Skirts</td>\n",
       "      <td>10002.jpg</td>\n",
       "    </tr>\n",
       "  </tbody>\n",
       "</table>\n",
       "</div>"
      ],
      "text/plain": [
       "                  file                           file       file  file  \\\n",
       "                source                         parent       name  size   \n",
       "0  gs://datachain-demo  fashion-product-images/images  10000.jpg  1030   \n",
       "1  gs://datachain-demo  fashion-product-images/images  10001.jpg  1210   \n",
       "2  gs://datachain-demo  fashion-product-images/images  10002.jpg   807   \n",
       "\n",
       "               file              file      file  \\\n",
       "            version              etag is_latest   \n",
       "0  1719489653370876  CPzf74/e+4YDEAE=         1   \n",
       "1  1719489640006438  CKaGwIne+4YDEAE=         1   \n",
       "2  1719489670015780  CKTW55fe+4YDEAE=         1   \n",
       "\n",
       "                              file     file  file gender mastercategory  \\\n",
       "                     last_modified location vtype                         \n",
       "0 2024-06-27 12:00:53.421000+00:00     None        Women        Apparel   \n",
       "1 2024-06-27 12:00:40.056000+00:00     None        Women        Apparel   \n",
       "2 2024-06-27 12:01:10.067000+00:00     None        Women        Apparel   \n",
       "\n",
       "  subcategory articletype basecolour  season    year   usage  \\\n",
       "                                                               \n",
       "0  Bottomwear      Skirts      White  Summer  2011.0  Casual   \n",
       "1  Bottomwear      Skirts       Blue  Summer  2011.0  Casual   \n",
       "2  Bottomwear      Skirts       Blue  Summer  2011.0  Casual   \n",
       "\n",
       "                             productdisplayname   filename  \n",
       "                                                            \n",
       "0      Palm Tree Girls Sp Jace Sko White Skirts  10000.jpg  \n",
       "1  Palm Tree Kids Girls Sp Jema Skt Blue Skirts  10001.jpg  \n",
       "2        Palm Tree Kids Sp Jema Skt Blue Skirts  10002.jpg  "
      ]
     },
     "metadata": {},
     "output_type": "display_data"
    },
    {
     "name": "stdout",
     "output_type": "stream",
     "text": [
      "\n",
      "[Limited by 3 rows]\n"
     ]
    }
   ],
   "source": [
    "dc.show(3)"
   ]
  },
  {
   "cell_type": "markdown",
   "id": "a8f7bac1-9dc3-423a-bd7c-6bdd80ee8523",
   "metadata": {
    "papermill": {
     "duration": 0.004956,
     "end_time": "2024-07-26T13:02:33.089262",
     "exception": false,
     "start_time": "2024-07-26T13:02:33.084306",
     "status": "completed"
    },
    "tags": []
   },
   "source": [
    "## Convert to Pandas DataFrame\n",
    "\n",
    "This line converts the DataChain dataset (`ds`) into a pandas DataFrame (`df`), making it easier to explore the data using familiar pandas functionalities.\n",
    "- For example, review of the distribution of values in these columns"
   ]
  },
  {
   "cell_type": "code",
   "execution_count": 15,
   "id": "631cb803-695a-4312-8da4-55b854fef85b",
   "metadata": {
    "execution": {
     "iopub.execute_input": "2024-07-26T13:02:33.099267Z",
     "iopub.status.busy": "2024-07-26T13:02:33.099165Z",
     "iopub.status.idle": "2024-07-26T13:02:33.497787Z",
     "shell.execute_reply": "2024-07-26T13:02:33.497483Z"
    },
    "papermill": {
     "duration": 0.404648,
     "end_time": "2024-07-26T13:02:33.498667",
     "exception": false,
     "start_time": "2024-07-26T13:02:33.094019",
     "status": "completed"
    },
    "tags": []
   },
   "outputs": [
    {
     "name": "stdout",
     "output_type": "stream",
     "text": [
      "(44439, 20)\n"
     ]
    },
    {
     "data": {
      "text/html": [
       "<div>\n",
       "<style scoped>\n",
       "    .dataframe tbody tr th:only-of-type {\n",
       "        vertical-align: middle;\n",
       "    }\n",
       "\n",
       "    .dataframe tbody tr th {\n",
       "        vertical-align: top;\n",
       "    }\n",
       "\n",
       "    .dataframe thead tr th {\n",
       "        text-align: left;\n",
       "    }\n",
       "</style>\n",
       "<table border=\"1\" class=\"dataframe\">\n",
       "  <thead>\n",
       "    <tr>\n",
       "      <th></th>\n",
       "      <th colspan=\"10\" halign=\"left\">file</th>\n",
       "      <th>gender</th>\n",
       "      <th>mastercategory</th>\n",
       "      <th>subcategory</th>\n",
       "      <th>articletype</th>\n",
       "      <th>basecolour</th>\n",
       "      <th>season</th>\n",
       "      <th>year</th>\n",
       "      <th>usage</th>\n",
       "      <th>productdisplayname</th>\n",
       "      <th>filename</th>\n",
       "    </tr>\n",
       "    <tr>\n",
       "      <th></th>\n",
       "      <th>source</th>\n",
       "      <th>parent</th>\n",
       "      <th>name</th>\n",
       "      <th>size</th>\n",
       "      <th>version</th>\n",
       "      <th>etag</th>\n",
       "      <th>is_latest</th>\n",
       "      <th>last_modified</th>\n",
       "      <th>location</th>\n",
       "      <th>vtype</th>\n",
       "      <th></th>\n",
       "      <th></th>\n",
       "      <th></th>\n",
       "      <th></th>\n",
       "      <th></th>\n",
       "      <th></th>\n",
       "      <th></th>\n",
       "      <th></th>\n",
       "      <th></th>\n",
       "      <th></th>\n",
       "    </tr>\n",
       "  </thead>\n",
       "  <tbody>\n",
       "    <tr>\n",
       "      <th>0</th>\n",
       "      <td>gs://datachain-demo</td>\n",
       "      <td>fashion-product-images/images</td>\n",
       "      <td>10000.jpg</td>\n",
       "      <td>1030</td>\n",
       "      <td>1719489653370876</td>\n",
       "      <td>CPzf74/e+4YDEAE=</td>\n",
       "      <td>1</td>\n",
       "      <td>2024-06-27 12:00:53.421000+00:00</td>\n",
       "      <td>None</td>\n",
       "      <td></td>\n",
       "      <td>Women</td>\n",
       "      <td>Apparel</td>\n",
       "      <td>Bottomwear</td>\n",
       "      <td>Skirts</td>\n",
       "      <td>White</td>\n",
       "      <td>Summer</td>\n",
       "      <td>2011.0</td>\n",
       "      <td>Casual</td>\n",
       "      <td>Palm Tree Girls Sp Jace Sko White Skirts</td>\n",
       "      <td>10000.jpg</td>\n",
       "    </tr>\n",
       "    <tr>\n",
       "      <th>1</th>\n",
       "      <td>gs://datachain-demo</td>\n",
       "      <td>fashion-product-images/images</td>\n",
       "      <td>10001.jpg</td>\n",
       "      <td>1210</td>\n",
       "      <td>1719489640006438</td>\n",
       "      <td>CKaGwIne+4YDEAE=</td>\n",
       "      <td>1</td>\n",
       "      <td>2024-06-27 12:00:40.056000+00:00</td>\n",
       "      <td>None</td>\n",
       "      <td></td>\n",
       "      <td>Women</td>\n",
       "      <td>Apparel</td>\n",
       "      <td>Bottomwear</td>\n",
       "      <td>Skirts</td>\n",
       "      <td>Blue</td>\n",
       "      <td>Summer</td>\n",
       "      <td>2011.0</td>\n",
       "      <td>Casual</td>\n",
       "      <td>Palm Tree Kids Girls Sp Jema Skt Blue Skirts</td>\n",
       "      <td>10001.jpg</td>\n",
       "    </tr>\n",
       "    <tr>\n",
       "      <th>2</th>\n",
       "      <td>gs://datachain-demo</td>\n",
       "      <td>fashion-product-images/images</td>\n",
       "      <td>10002.jpg</td>\n",
       "      <td>807</td>\n",
       "      <td>1719489670015780</td>\n",
       "      <td>CKTW55fe+4YDEAE=</td>\n",
       "      <td>1</td>\n",
       "      <td>2024-06-27 12:01:10.067000+00:00</td>\n",
       "      <td>None</td>\n",
       "      <td></td>\n",
       "      <td>Women</td>\n",
       "      <td>Apparel</td>\n",
       "      <td>Bottomwear</td>\n",
       "      <td>Skirts</td>\n",
       "      <td>Blue</td>\n",
       "      <td>Summer</td>\n",
       "      <td>2011.0</td>\n",
       "      <td>Casual</td>\n",
       "      <td>Palm Tree Kids Sp Jema Skt Blue Skirts</td>\n",
       "      <td>10002.jpg</td>\n",
       "    </tr>\n",
       "  </tbody>\n",
       "</table>\n",
       "</div>"
      ],
      "text/plain": [
       "                  file                                                  \\\n",
       "                source                         parent       name  size   \n",
       "0  gs://datachain-demo  fashion-product-images/images  10000.jpg  1030   \n",
       "1  gs://datachain-demo  fashion-product-images/images  10001.jpg  1210   \n",
       "2  gs://datachain-demo  fashion-product-images/images  10002.jpg   807   \n",
       "\n",
       "                                                 \\\n",
       "            version              etag is_latest   \n",
       "0  1719489653370876  CPzf74/e+4YDEAE=         1   \n",
       "1  1719489640006438  CKaGwIne+4YDEAE=         1   \n",
       "2  1719489670015780  CKTW55fe+4YDEAE=         1   \n",
       "\n",
       "                                                  gender mastercategory  \\\n",
       "                     last_modified location vtype                         \n",
       "0 2024-06-27 12:00:53.421000+00:00     None        Women        Apparel   \n",
       "1 2024-06-27 12:00:40.056000+00:00     None        Women        Apparel   \n",
       "2 2024-06-27 12:01:10.067000+00:00     None        Women        Apparel   \n",
       "\n",
       "  subcategory articletype basecolour  season    year   usage  \\\n",
       "                                                               \n",
       "0  Bottomwear      Skirts      White  Summer  2011.0  Casual   \n",
       "1  Bottomwear      Skirts       Blue  Summer  2011.0  Casual   \n",
       "2  Bottomwear      Skirts       Blue  Summer  2011.0  Casual   \n",
       "\n",
       "                             productdisplayname   filename  \n",
       "                                                            \n",
       "0      Palm Tree Girls Sp Jace Sko White Skirts  10000.jpg  \n",
       "1  Palm Tree Kids Girls Sp Jema Skt Blue Skirts  10001.jpg  \n",
       "2        Palm Tree Kids Sp Jema Skt Blue Skirts  10002.jpg  "
      ]
     },
     "execution_count": 15,
     "metadata": {},
     "output_type": "execute_result"
    }
   ],
   "source": [
    "df = dc.to_pandas()\n",
    "\n",
    "print(df.shape)\n",
    "df.head(3)"
   ]
  },
  {
   "cell_type": "code",
   "execution_count": 16,
   "id": "cada1e20-6dc5-42c8-b8fd-555fd046e473",
   "metadata": {
    "execution": {
     "iopub.execute_input": "2024-07-26T13:02:33.509678Z",
     "iopub.status.busy": "2024-07-26T13:02:33.509553Z",
     "iopub.status.idle": "2024-07-26T13:02:33.552817Z",
     "shell.execute_reply": "2024-07-26T13:02:33.552439Z"
    },
    "papermill": {
     "duration": 0.049986,
     "end_time": "2024-07-26T13:02:33.554010",
     "exception": false,
     "start_time": "2024-07-26T13:02:33.504024",
     "status": "completed"
    },
    "scrolled": true,
    "tags": []
   },
   "outputs": [
    {
     "name": "stdout",
     "output_type": "stream",
     "text": [
      "mastercategory\n",
      "Apparel           21395\n",
      "Accessories       11288\n",
      "Footwear           9221\n",
      "Personal Care      2404\n",
      "Free Items          105\n",
      "Sporting Goods       25\n",
      "Home                  1\n",
      "Name: count, dtype: int64\n",
      "subcategory\n",
      "Topwear                     15401\n",
      "Shoes                        7344\n",
      "Bags                         3055\n",
      "Bottomwear                   2693\n",
      "Watches                      2542\n",
      "Innerwear                    1808\n",
      "Jewellery                    1080\n",
      "Eyewear                      1073\n",
      "Fragrance                    1012\n",
      "Sandal                        962\n",
      "Wallets                       933\n",
      "Flip Flops                    915\n",
      "Belts                         811\n",
      "Socks                         698\n",
      "Lips                          527\n",
      "Dress                         478\n",
      "Loungewear and Nightwear      470\n",
      "Saree                         427\n",
      "Nails                         329\n",
      "Makeup                        307\n",
      "Headwear                      293\n",
      "Ties                          258\n",
      "Accessories                   142\n",
      "Scarves                       118\n",
      "Cufflinks                     108\n",
      "Apparel Set                   106\n",
      "Free Gifts                    104\n",
      "Stoles                         90\n",
      "Skin Care                      77\n",
      "Skin                           69\n",
      "Eyes                           43\n",
      "Mufflers                       38\n",
      "Shoe Accessories               24\n",
      "Sports Equipment               21\n",
      "Gloves                         20\n",
      "Hair                           19\n",
      "Bath and Body                  12\n",
      "Water Bottle                    7\n",
      "Perfumes                        6\n",
      "Umbrellas                       6\n",
      "Wristbands                      4\n",
      "Beauty Accessories              4\n",
      "Sports Accessories              3\n",
      "Vouchers                        1\n",
      "Home Furnishing                 1\n",
      "Name: count, dtype: int64\n"
     ]
    }
   ],
   "source": [
    "print(df.mastercategory.value_counts())\n",
    "print(df.subcategory.value_counts())"
   ]
  },
  {
   "cell_type": "markdown",
   "id": "53029906-c9dd-4e89-bce0-80a4c6c98bca",
   "metadata": {
    "execution": {
     "iopub.execute_input": "2024-06-04T11:40:37.618594Z",
     "iopub.status.busy": "2024-06-04T11:40:37.618110Z",
     "iopub.status.idle": "2024-06-04T11:40:37.647602Z",
     "shell.execute_reply": "2024-06-04T11:40:37.647056Z",
     "shell.execute_reply.started": "2024-06-04T11:40:37.618566Z"
    },
    "papermill": {
     "duration": 0.004985,
     "end_time": "2024-07-26T13:02:33.564340",
     "exception": false,
     "start_time": "2024-07-26T13:02:33.559355",
     "status": "completed"
    },
    "tags": []
   },
   "source": [
    "This code snippet demonstrates how to leverage DataChain to load and get a basic understanding of your dataset using `pandas`.\n",
    "\n",
    "**Note**: DataChain offers functionalities beyond pandas conversion. Explore the documentation for more advanced data manipulation techniques!"
   ]
  },
  {
   "cell_type": "markdown",
   "id": "7740441a-c97b-4457-ba68-1f9763d677cf",
   "metadata": {
    "papermill": {
     "duration": 0.004783,
     "end_time": "2024-07-26T13:02:33.574249",
     "exception": false,
     "start_time": "2024-07-26T13:02:33.569466",
     "status": "completed"
    },
    "tags": []
   },
   "source": [
    "# 🕵️‍♀️ Filtering Data\n",
    "\n",
    "DataChain allows you to filter the dataset based on specific conditions.\n",
    "- `.filter()` method applies querying expressions to columns  \n",
    "- use a `C` object to refer to the dataset column by names like `C(\"NAME\")` (e.g. `C(\"mastercategory\")`)"
   ]
  },
  {
   "cell_type": "markdown",
   "id": "17e09b5a-ce01-429e-aaa5-700ea86c6f3e",
   "metadata": {
    "execution": {
     "iopub.execute_input": "2024-05-21T12:33:59.874849Z",
     "iopub.status.busy": "2024-05-21T12:33:59.874075Z",
     "iopub.status.idle": "2024-05-21T12:33:59.888412Z",
     "shell.execute_reply": "2024-05-21T12:33:59.887852Z",
     "shell.execute_reply.started": "2024-05-21T12:33:59.874797Z"
    },
    "papermill": {
     "duration": 0.004891,
     "end_time": "2024-07-26T13:02:33.584542",
     "exception": false,
     "start_time": "2024-07-26T13:02:33.579651",
     "status": "completed"
    },
    "tags": []
   },
   "source": [
    "## Show only images with `Apparel` category"
   ]
  },
  {
   "cell_type": "code",
   "execution_count": 17,
   "id": "0957ec7f-ea03-42bf-bed5-933d21f91077",
   "metadata": {
    "execution": {
     "iopub.execute_input": "2024-07-26T13:02:33.595412Z",
     "iopub.status.busy": "2024-07-26T13:02:33.595174Z",
     "iopub.status.idle": "2024-07-26T13:02:33.614219Z",
     "shell.execute_reply": "2024-07-26T13:02:33.613958Z"
    },
    "papermill": {
     "duration": 0.025285,
     "end_time": "2024-07-26T13:02:33.615032",
     "exception": false,
     "start_time": "2024-07-26T13:02:33.589747",
     "status": "completed"
    },
    "scrolled": true,
    "tags": []
   },
   "outputs": [
    {
     "data": {
      "text/html": [
       "<div>\n",
       "<style scoped>\n",
       "    .dataframe tbody tr th:only-of-type {\n",
       "        vertical-align: middle;\n",
       "    }\n",
       "\n",
       "    .dataframe tbody tr th {\n",
       "        vertical-align: top;\n",
       "    }\n",
       "\n",
       "    .dataframe thead tr th {\n",
       "        text-align: left;\n",
       "    }\n",
       "</style>\n",
       "<table border=\"1\" class=\"dataframe\">\n",
       "  <thead>\n",
       "    <tr>\n",
       "      <th></th>\n",
       "      <th>file</th>\n",
       "      <th>file</th>\n",
       "      <th>file</th>\n",
       "      <th>file</th>\n",
       "      <th>file</th>\n",
       "      <th>file</th>\n",
       "      <th>file</th>\n",
       "      <th>file</th>\n",
       "      <th>file</th>\n",
       "      <th>file</th>\n",
       "      <th>gender</th>\n",
       "      <th>mastercategory</th>\n",
       "      <th>subcategory</th>\n",
       "      <th>articletype</th>\n",
       "      <th>basecolour</th>\n",
       "      <th>season</th>\n",
       "      <th>year</th>\n",
       "      <th>usage</th>\n",
       "      <th>productdisplayname</th>\n",
       "      <th>filename</th>\n",
       "    </tr>\n",
       "    <tr>\n",
       "      <th></th>\n",
       "      <th>source</th>\n",
       "      <th>parent</th>\n",
       "      <th>name</th>\n",
       "      <th>size</th>\n",
       "      <th>version</th>\n",
       "      <th>etag</th>\n",
       "      <th>is_latest</th>\n",
       "      <th>last_modified</th>\n",
       "      <th>location</th>\n",
       "      <th>vtype</th>\n",
       "      <th></th>\n",
       "      <th></th>\n",
       "      <th></th>\n",
       "      <th></th>\n",
       "      <th></th>\n",
       "      <th></th>\n",
       "      <th></th>\n",
       "      <th></th>\n",
       "      <th></th>\n",
       "      <th></th>\n",
       "    </tr>\n",
       "  </thead>\n",
       "  <tbody>\n",
       "    <tr>\n",
       "      <th>0</th>\n",
       "      <td>gs://datachain-demo</td>\n",
       "      <td>fashion-product-images/images</td>\n",
       "      <td>10000.jpg</td>\n",
       "      <td>1030</td>\n",
       "      <td>1719489653370876</td>\n",
       "      <td>CPzf74/e+4YDEAE=</td>\n",
       "      <td>1</td>\n",
       "      <td>2024-06-27 12:00:53.421000+00:00</td>\n",
       "      <td>None</td>\n",
       "      <td></td>\n",
       "      <td>Women</td>\n",
       "      <td>Apparel</td>\n",
       "      <td>Bottomwear</td>\n",
       "      <td>Skirts</td>\n",
       "      <td>White</td>\n",
       "      <td>Summer</td>\n",
       "      <td>2011.0</td>\n",
       "      <td>Casual</td>\n",
       "      <td>Palm Tree Girls Sp Jace Sko White Skirts</td>\n",
       "      <td>10000.jpg</td>\n",
       "    </tr>\n",
       "    <tr>\n",
       "      <th>1</th>\n",
       "      <td>gs://datachain-demo</td>\n",
       "      <td>fashion-product-images/images</td>\n",
       "      <td>10001.jpg</td>\n",
       "      <td>1210</td>\n",
       "      <td>1719489640006438</td>\n",
       "      <td>CKaGwIne+4YDEAE=</td>\n",
       "      <td>1</td>\n",
       "      <td>2024-06-27 12:00:40.056000+00:00</td>\n",
       "      <td>None</td>\n",
       "      <td></td>\n",
       "      <td>Women</td>\n",
       "      <td>Apparel</td>\n",
       "      <td>Bottomwear</td>\n",
       "      <td>Skirts</td>\n",
       "      <td>Blue</td>\n",
       "      <td>Summer</td>\n",
       "      <td>2011.0</td>\n",
       "      <td>Casual</td>\n",
       "      <td>Palm Tree Kids Girls Sp Jema Skt Blue Skirts</td>\n",
       "      <td>10001.jpg</td>\n",
       "    </tr>\n",
       "    <tr>\n",
       "      <th>2</th>\n",
       "      <td>gs://datachain-demo</td>\n",
       "      <td>fashion-product-images/images</td>\n",
       "      <td>10002.jpg</td>\n",
       "      <td>807</td>\n",
       "      <td>1719489670015780</td>\n",
       "      <td>CKTW55fe+4YDEAE=</td>\n",
       "      <td>1</td>\n",
       "      <td>2024-06-27 12:01:10.067000+00:00</td>\n",
       "      <td>None</td>\n",
       "      <td></td>\n",
       "      <td>Women</td>\n",
       "      <td>Apparel</td>\n",
       "      <td>Bottomwear</td>\n",
       "      <td>Skirts</td>\n",
       "      <td>Blue</td>\n",
       "      <td>Summer</td>\n",
       "      <td>2011.0</td>\n",
       "      <td>Casual</td>\n",
       "      <td>Palm Tree Kids Sp Jema Skt Blue Skirts</td>\n",
       "      <td>10002.jpg</td>\n",
       "    </tr>\n",
       "  </tbody>\n",
       "</table>\n",
       "</div>"
      ],
      "text/plain": [
       "                  file                           file       file  file  \\\n",
       "                source                         parent       name  size   \n",
       "0  gs://datachain-demo  fashion-product-images/images  10000.jpg  1030   \n",
       "1  gs://datachain-demo  fashion-product-images/images  10001.jpg  1210   \n",
       "2  gs://datachain-demo  fashion-product-images/images  10002.jpg   807   \n",
       "\n",
       "               file              file      file  \\\n",
       "            version              etag is_latest   \n",
       "0  1719489653370876  CPzf74/e+4YDEAE=         1   \n",
       "1  1719489640006438  CKaGwIne+4YDEAE=         1   \n",
       "2  1719489670015780  CKTW55fe+4YDEAE=         1   \n",
       "\n",
       "                              file     file  file gender mastercategory  \\\n",
       "                     last_modified location vtype                         \n",
       "0 2024-06-27 12:00:53.421000+00:00     None        Women        Apparel   \n",
       "1 2024-06-27 12:00:40.056000+00:00     None        Women        Apparel   \n",
       "2 2024-06-27 12:01:10.067000+00:00     None        Women        Apparel   \n",
       "\n",
       "  subcategory articletype basecolour  season    year   usage  \\\n",
       "                                                               \n",
       "0  Bottomwear      Skirts      White  Summer  2011.0  Casual   \n",
       "1  Bottomwear      Skirts       Blue  Summer  2011.0  Casual   \n",
       "2  Bottomwear      Skirts       Blue  Summer  2011.0  Casual   \n",
       "\n",
       "                             productdisplayname   filename  \n",
       "                                                            \n",
       "0      Palm Tree Girls Sp Jace Sko White Skirts  10000.jpg  \n",
       "1  Palm Tree Kids Girls Sp Jema Skt Blue Skirts  10001.jpg  \n",
       "2        Palm Tree Kids Sp Jema Skt Blue Skirts  10002.jpg  "
      ]
     },
     "metadata": {},
     "output_type": "display_data"
    },
    {
     "name": "stdout",
     "output_type": "stream",
     "text": [
      "\n",
      "[Limited by 3 rows]\n"
     ]
    }
   ],
   "source": [
    "(\n",
    "    dc.filter(C(\"mastercategory\") == \"Apparel\").show(3)\n",
    ")\n"
   ]
  },
  {
   "cell_type": "markdown",
   "id": "494a4005-dcec-4b6c-896b-4adf549179b1",
   "metadata": {
    "execution": {
     "iopub.execute_input": "2024-05-21T12:34:01.475478Z",
     "iopub.status.busy": "2024-05-21T12:34:01.474991Z",
     "iopub.status.idle": "2024-05-21T12:34:01.479369Z",
     "shell.execute_reply": "2024-05-21T12:34:01.478754Z",
     "shell.execute_reply.started": "2024-05-21T12:34:01.475450Z"
    },
    "papermill": {
     "duration": 0.00531,
     "end_time": "2024-07-26T13:02:33.625986",
     "exception": false,
     "start_time": "2024-07-26T13:02:33.620676",
     "status": "completed"
    },
    "tags": []
   },
   "source": [
    "## Show only `Topwear` products"
   ]
  },
  {
   "cell_type": "code",
   "execution_count": 18,
   "id": "38f45264-1394-4585-a748-abdcc2233b55",
   "metadata": {
    "execution": {
     "iopub.execute_input": "2024-07-26T13:02:33.637325Z",
     "iopub.status.busy": "2024-07-26T13:02:33.637151Z",
     "iopub.status.idle": "2024-07-26T13:02:33.654074Z",
     "shell.execute_reply": "2024-07-26T13:02:33.653851Z"
    },
    "papermill": {
     "duration": 0.023331,
     "end_time": "2024-07-26T13:02:33.654853",
     "exception": false,
     "start_time": "2024-07-26T13:02:33.631522",
     "status": "completed"
    },
    "scrolled": true,
    "tags": []
   },
   "outputs": [
    {
     "data": {
      "text/html": [
       "<div>\n",
       "<style scoped>\n",
       "    .dataframe tbody tr th:only-of-type {\n",
       "        vertical-align: middle;\n",
       "    }\n",
       "\n",
       "    .dataframe tbody tr th {\n",
       "        vertical-align: top;\n",
       "    }\n",
       "\n",
       "    .dataframe thead tr th {\n",
       "        text-align: left;\n",
       "    }\n",
       "</style>\n",
       "<table border=\"1\" class=\"dataframe\">\n",
       "  <thead>\n",
       "    <tr>\n",
       "      <th></th>\n",
       "      <th>file</th>\n",
       "      <th>file</th>\n",
       "      <th>file</th>\n",
       "      <th>file</th>\n",
       "      <th>file</th>\n",
       "      <th>file</th>\n",
       "      <th>file</th>\n",
       "      <th>file</th>\n",
       "      <th>file</th>\n",
       "      <th>file</th>\n",
       "      <th>gender</th>\n",
       "      <th>mastercategory</th>\n",
       "      <th>subcategory</th>\n",
       "      <th>articletype</th>\n",
       "      <th>basecolour</th>\n",
       "      <th>season</th>\n",
       "      <th>year</th>\n",
       "      <th>usage</th>\n",
       "      <th>productdisplayname</th>\n",
       "      <th>filename</th>\n",
       "    </tr>\n",
       "    <tr>\n",
       "      <th></th>\n",
       "      <th>source</th>\n",
       "      <th>parent</th>\n",
       "      <th>name</th>\n",
       "      <th>size</th>\n",
       "      <th>version</th>\n",
       "      <th>etag</th>\n",
       "      <th>is_latest</th>\n",
       "      <th>last_modified</th>\n",
       "      <th>location</th>\n",
       "      <th>vtype</th>\n",
       "      <th></th>\n",
       "      <th></th>\n",
       "      <th></th>\n",
       "      <th></th>\n",
       "      <th></th>\n",
       "      <th></th>\n",
       "      <th></th>\n",
       "      <th></th>\n",
       "      <th></th>\n",
       "      <th></th>\n",
       "    </tr>\n",
       "  </thead>\n",
       "  <tbody>\n",
       "    <tr>\n",
       "      <th>0</th>\n",
       "      <td>gs://datachain-demo</td>\n",
       "      <td>fashion-product-images/images</td>\n",
       "      <td>10003.jpg</td>\n",
       "      <td>11564</td>\n",
       "      <td>1719489683599343</td>\n",
       "      <td>CO/fpJ7e+4YDEAE=</td>\n",
       "      <td>1</td>\n",
       "      <td>2024-06-27 12:01:23.651000+00:00</td>\n",
       "      <td>None</td>\n",
       "      <td></td>\n",
       "      <td>Women</td>\n",
       "      <td>Apparel</td>\n",
       "      <td>Topwear</td>\n",
       "      <td>Tshirts</td>\n",
       "      <td>White</td>\n",
       "      <td>Fall</td>\n",
       "      <td>2011.0</td>\n",
       "      <td>Sports</td>\n",
       "      <td>Nike Women As Nike Eleme White T-Shirt</td>\n",
       "      <td>10003.jpg</td>\n",
       "    </tr>\n",
       "    <tr>\n",
       "      <th>1</th>\n",
       "      <td>gs://datachain-demo</td>\n",
       "      <td>fashion-product-images/images</td>\n",
       "      <td>10005.jpg</td>\n",
       "      <td>16677</td>\n",
       "      <td>1719489744441124</td>\n",
       "      <td>CKSeprve+4YDEAE=</td>\n",
       "      <td>1</td>\n",
       "      <td>2024-06-27 12:02:24.500000+00:00</td>\n",
       "      <td>None</td>\n",
       "      <td></td>\n",
       "      <td>Men</td>\n",
       "      <td>Apparel</td>\n",
       "      <td>Topwear</td>\n",
       "      <td>Tshirts</td>\n",
       "      <td>Blue</td>\n",
       "      <td>Fall</td>\n",
       "      <td>2011.0</td>\n",
       "      <td>Sports</td>\n",
       "      <td>Nike Men As Ss Trainin Blue T-Shirts</td>\n",
       "      <td>10005.jpg</td>\n",
       "    </tr>\n",
       "    <tr>\n",
       "      <th>2</th>\n",
       "      <td>gs://datachain-demo</td>\n",
       "      <td>fashion-product-images/images</td>\n",
       "      <td>10006.jpg</td>\n",
       "      <td>2146</td>\n",
       "      <td>1719489713329967</td>\n",
       "      <td>CK+uu6ze+4YDEAE=</td>\n",
       "      <td>1</td>\n",
       "      <td>2024-06-27 12:01:53.379000+00:00</td>\n",
       "      <td>None</td>\n",
       "      <td></td>\n",
       "      <td>Men</td>\n",
       "      <td>Apparel</td>\n",
       "      <td>Topwear</td>\n",
       "      <td>Tshirts</td>\n",
       "      <td>Black</td>\n",
       "      <td>Fall</td>\n",
       "      <td>2011.0</td>\n",
       "      <td>Sports</td>\n",
       "      <td>Nike Men AS T90 Black Tshirts</td>\n",
       "      <td>10006.jpg</td>\n",
       "    </tr>\n",
       "  </tbody>\n",
       "</table>\n",
       "</div>"
      ],
      "text/plain": [
       "                  file                           file       file   file  \\\n",
       "                source                         parent       name   size   \n",
       "0  gs://datachain-demo  fashion-product-images/images  10003.jpg  11564   \n",
       "1  gs://datachain-demo  fashion-product-images/images  10005.jpg  16677   \n",
       "2  gs://datachain-demo  fashion-product-images/images  10006.jpg   2146   \n",
       "\n",
       "               file              file      file  \\\n",
       "            version              etag is_latest   \n",
       "0  1719489683599343  CO/fpJ7e+4YDEAE=         1   \n",
       "1  1719489744441124  CKSeprve+4YDEAE=         1   \n",
       "2  1719489713329967  CK+uu6ze+4YDEAE=         1   \n",
       "\n",
       "                              file     file  file gender mastercategory  \\\n",
       "                     last_modified location vtype                         \n",
       "0 2024-06-27 12:01:23.651000+00:00     None        Women        Apparel   \n",
       "1 2024-06-27 12:02:24.500000+00:00     None          Men        Apparel   \n",
       "2 2024-06-27 12:01:53.379000+00:00     None          Men        Apparel   \n",
       "\n",
       "  subcategory articletype basecolour season    year   usage  \\\n",
       "                                                              \n",
       "0     Topwear     Tshirts      White   Fall  2011.0  Sports   \n",
       "1     Topwear     Tshirts       Blue   Fall  2011.0  Sports   \n",
       "2     Topwear     Tshirts      Black   Fall  2011.0  Sports   \n",
       "\n",
       "                       productdisplayname   filename  \n",
       "                                                      \n",
       "0  Nike Women As Nike Eleme White T-Shirt  10003.jpg  \n",
       "1    Nike Men As Ss Trainin Blue T-Shirts  10005.jpg  \n",
       "2           Nike Men AS T90 Black Tshirts  10006.jpg  "
      ]
     },
     "metadata": {},
     "output_type": "display_data"
    },
    {
     "name": "stdout",
     "output_type": "stream",
     "text": [
      "\n",
      "[Limited by 3 rows]\n"
     ]
    }
   ],
   "source": [
    "(\n",
    "    dc.filter(C(\"subcategory\") == \"Topwear\").show(3)\n",
    ")"
   ]
  },
  {
   "cell_type": "markdown",
   "id": "647a0473-dc40-4afe-8359-f6663cc68c9e",
   "metadata": {
    "execution": {
     "iopub.execute_input": "2024-05-09T10:22:13.226793Z",
     "iopub.status.busy": "2024-05-09T10:22:13.226290Z",
     "iopub.status.idle": "2024-05-09T10:22:13.231593Z",
     "shell.execute_reply": "2024-05-09T10:22:13.230415Z",
     "shell.execute_reply.started": "2024-05-09T10:22:13.226764Z"
    },
    "papermill": {
     "duration": 0.005183,
     "end_time": "2024-07-26T13:02:33.665757",
     "exception": false,
     "start_time": "2024-07-26T13:02:33.660574",
     "status": "completed"
    },
    "tags": []
   },
   "source": [
    "## Chain multiple filters together\n",
    "\n",
    "Show only 'Topwear' apparel products for a 'Summer' season"
   ]
  },
  {
   "cell_type": "code",
   "execution_count": 19,
   "id": "35f0a631-5081-4616-813c-c258ed397b6b",
   "metadata": {
    "execution": {
     "iopub.execute_input": "2024-07-26T13:02:33.676767Z",
     "iopub.status.busy": "2024-07-26T13:02:33.676674Z",
     "iopub.status.idle": "2024-07-26T13:02:33.757204Z",
     "shell.execute_reply": "2024-07-26T13:02:33.756908Z"
    },
    "papermill": {
     "duration": 0.086989,
     "end_time": "2024-07-26T13:02:33.758049",
     "exception": false,
     "start_time": "2024-07-26T13:02:33.671060",
     "status": "completed"
    },
    "tags": []
   },
   "outputs": [
    {
     "data": {
      "text/plain": [
       "(8830, 20)"
      ]
     },
     "execution_count": 19,
     "metadata": {},
     "output_type": "execute_result"
    }
   ],
   "source": [
    "(\n",
    "    dc\n",
    "    .filter(C(\"mastercategory\") == \"Apparel\")\n",
    "    .filter(C(\"subcategory\") == \"Topwear\")\n",
    "    .filter(C(\"season\") == \"Summer\")\n",
    "    .to_pandas().shape\n",
    "    # .show(3)\n",
    " )"
   ]
  },
  {
   "cell_type": "markdown",
   "id": "6c0b99fa-8820-405b-b2fd-70527992c3c3",
   "metadata": {
    "execution": {
     "iopub.execute_input": "2024-06-26T12:44:11.299947Z",
     "iopub.status.busy": "2024-06-26T12:44:11.299464Z",
     "iopub.status.idle": "2024-06-26T12:44:11.325798Z",
     "shell.execute_reply": "2024-06-26T12:44:11.325135Z",
     "shell.execute_reply.started": "2024-06-26T12:44:11.299918Z"
    },
    "papermill": {
     "duration": 0.00535,
     "end_time": "2024-07-26T13:02:33.769083",
     "exception": false,
     "start_time": "2024-07-26T13:02:33.763733",
     "status": "completed"
    },
    "tags": []
   },
   "source": [
    "You may use one line filter with multiple expressions joined with logical operators like `&` (AND) and  `|` (OR)"
   ]
  },
  {
   "cell_type": "code",
   "execution_count": 20,
   "id": "9b0f8a23-3de8-4ba4-a986-8a7a08bb3342",
   "metadata": {
    "execution": {
     "iopub.execute_input": "2024-07-26T13:02:33.780222Z",
     "iopub.status.busy": "2024-07-26T13:02:33.780116Z",
     "iopub.status.idle": "2024-07-26T13:02:33.863209Z",
     "shell.execute_reply": "2024-07-26T13:02:33.862950Z"
    },
    "papermill": {
     "duration": 0.089813,
     "end_time": "2024-07-26T13:02:33.864063",
     "exception": false,
     "start_time": "2024-07-26T13:02:33.774250",
     "status": "completed"
    },
    "tags": []
   },
   "outputs": [
    {
     "data": {
      "text/plain": [
       "(8830, 20)"
      ]
     },
     "execution_count": 20,
     "metadata": {},
     "output_type": "execute_result"
    }
   ],
   "source": [
    "(\n",
    "    dc\n",
    "    .filter((C(\"mastercategory\") == \"Apparel\") & (C(\"subcategory\") == \"Topwear\") & (C(\"season\") == \"Summer\"))\n",
    "    .to_pandas().shape\n",
    "    # .show(3)\n",
    " )"
   ]
  },
  {
   "cell_type": "markdown",
   "id": "ae12c167-b9d7-4751-9c36-4d8eb45a5a1a",
   "metadata": {
    "papermill": {
     "duration": 0.005219,
     "end_time": "2024-07-26T13:02:33.874690",
     "exception": false,
     "start_time": "2024-07-26T13:02:33.869471",
     "status": "completed"
    },
    "tags": []
   },
   "source": [
    "## Save Dataset\n",
    "\n",
    "Let's save \"fashion-topwear\" to make it version and reusable"
   ]
  },
  {
   "cell_type": "code",
   "execution_count": 21,
   "id": "2d782294-28fd-4b96-9f8a-91fe6dfa35cc",
   "metadata": {
    "execution": {
     "iopub.execute_input": "2024-07-26T13:02:33.886403Z",
     "iopub.status.busy": "2024-07-26T13:02:33.886276Z",
     "iopub.status.idle": "2024-07-26T13:02:34.061041Z",
     "shell.execute_reply": "2024-07-26T13:02:34.060750Z"
    },
    "papermill": {
     "duration": 0.181749,
     "end_time": "2024-07-26T13:02:34.061959",
     "exception": false,
     "start_time": "2024-07-26T13:02:33.880210",
     "status": "completed"
    },
    "tags": []
   },
   "outputs": [
    {
     "data": {
      "text/plain": [
       "(15401, 20)"
      ]
     },
     "execution_count": 21,
     "metadata": {},
     "output_type": "execute_result"
    }
   ],
   "source": [
    "(\n",
    "    DataChain(name=\"fashion-product-images\")\n",
    "    .filter((C(\"mastercategory\") == \"Apparel\") & (C(\"subcategory\") == \"Topwear\"))\n",
    "    .save(\"fashion-topwear\")\n",
    "    .to_pandas()\n",
    "    .shape\n",
    ")\n"
   ]
  },
  {
   "cell_type": "markdown",
   "id": "eb74d319-10db-4fde-980b-5d6bfd7560e3",
   "metadata": {
    "papermill": {
     "duration": 0.005172,
     "end_time": "2024-07-26T13:02:34.072590",
     "exception": false,
     "start_time": "2024-07-26T13:02:34.067418",
     "status": "completed"
    },
    "tags": []
   },
   "source": [
    "# ☁️ Run in Studio (SaaS)\n",
    "\n",
    "<a href=\"https://datachain.ai/\">\n",
    "    <img src=\"static/images/studio.png\" alt=\"DataChain Studio SaaS\" style=\"width: 600px;\"/>\n",
    "</a>"
   ]
  },
  {
   "cell_type": "markdown",
   "id": "530dd9f7-7dc8-4365-b93b-6d7bd18c5e8b",
   "metadata": {
    "papermill": {
     "duration": 0.005339,
     "end_time": "2024-07-26T13:02:34.083182",
     "exception": false,
     "start_time": "2024-07-26T13:02:34.077843",
     "status": "completed"
    },
    "tags": []
   },
   "source": [
    "To run these examples in Studio, follow the quide\n",
    "\n",
    "1. Open Studio / YOUR_TEAM / `datasets` workspace\n",
    "2. Create a new Python Script\n",
    "3. Copy/past a script from `scripts/1-quick-start.py`\n",
    "4. Click the Run button\n"
   ]
  },
  {
   "cell_type": "markdown",
   "id": "94fd11d6",
   "metadata": {
    "papermill": {
     "duration": 0.005593,
     "end_time": "2024-07-26T13:02:34.094334",
     "exception": false,
     "start_time": "2024-07-26T13:02:34.088741",
     "status": "completed"
    },
    "tags": []
   },
   "source": [
    "# 🎉 Summary \n",
    "\n",
    "👏 **Congratulations on completing this tutorial! You're a DataChain superstar! 🌟** You've taken the first steps in harnessing the power of DataChain for your computer vision projects. In this tutorial, we covered:\n",
    "- Creating the `fashion-product-images` dataset from existing images\n",
    "- Filtering the dataset based on specific conditions\n",
    "- Essential DataChain methods:\n",
    "    - `.show()` for displaying dataset samples\n",
    "    - `.to_pandas()` for converting datasets to Pandas DataFrames\n",
    "    - `.filter()` for applying custom filters to datasets\n",
    "    - `.merge()` for attaching metadata to images\n",
    "\n",
    "But this is just the beginning! DataChain offers many features for streamlining your ML workflows, including data transformations, versioning, and much more. 🚀\n",
    "\n",
    "## What's Next?\n",
    "\n",
    "Excited to learn more? Check out the next parts of our tutorial series:\n",
    "- 📂 Saving and Versioning Datasets \n",
    "- 🧩 Splitting Datasets for Training, Validation, and Testing\n",
    "- 🎨 Generating and Managing Embeddings\n",
    "- 🔍 Performing Similarity Search\n",
    "- 🧹 Finding and Removing Redundant Images\n",
    "- 🧠 Training Models\n",
    "- 🔮 Running Inference and Saving Predictions\n",
    "- 📊 Analyzing Predictions\n",
    "\n",
    "By mastering these techniques, you'll be well on your way to building powerful and efficient computer vision pipelines with DataChain.\n",
    "\n",
    "## 🤝 Get Involved\n",
    "\n",
    "We'd love to have you join our growing community of DataChain users and contributors! Here's how you can get involved:\n",
    "\n",
    "- ⭐ Give us a star on [GitHub](https://github.com/iterative/datachain) to show your support\n",
    "- 🌐 Visit the [datachain.ai website](https://datachain.ai/) to learn more about our products and services\n",
    "- 📞 Contact us to discuss on scaling 🚀 DataChain for your project!\n",
    "- 🙌 Follow us on [LinkedIn](https://www.linkedin.com/company/dvc-ai/) and [Twitter](https://x.com/DVCorg) for the latest updates and insights\n",
    "\n",
    "Thanks for choosing DataChain, and happy coding! 😄"
   ]
  }
 ],
 "metadata": {
  "kernelspec": {
   "display_name": "Python 3 (ipykernel)",
   "language": "python",
   "name": "python3"
  },
  "language_info": {
   "codemirror_mode": {
    "name": "ipython",
    "version": 3
   },
   "file_extension": ".py",
   "mimetype": "text/x-python",
   "name": "python",
   "nbconvert_exporter": "python",
   "pygments_lexer": "ipython3",
   "version": "3.11.6"
  },
  "papermill": {
   "default_parameters": {},
   "duration": 18.259133,
   "end_time": "2024-07-26T13:02:34.417186",
   "environment_variables": {},
   "exception": null,
   "input_path": "1-quick-start.ipynb",
   "output_path": "1-quick-start.ipynb",
   "parameters": {},
   "start_time": "2024-07-26T13:02:16.158053",
   "version": "2.6.0"
  }
 },
 "nbformat": 4,
 "nbformat_minor": 5
}